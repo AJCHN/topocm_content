{
 "metadata": {
  "name": ""
 },
 "nbformat": 3,
 "nbformat_minor": 0,
 "worksheets": [
  {
   "cells": [
    {
     "cell_type": "markdown",
     "metadata": {},
     "source": [
      "## Quantum Hall effect on a lattice and the Dirac Hamiltonian\n",
      "* Pairs of chiral edges in a 1D wire\n",
      "* Coupling wires and QHE without field\n",
      "* Dirac equation at the phase transition"
     ]
    },
    {
     "cell_type": "heading",
     "level": 1,
     "metadata": {},
     "source": [
      "Pairs of chiral edges in a 1D wire"
     ]
    },
    {
     "cell_type": "markdown",
     "metadata": {},
     "source": [
      "## General strategy to construct a lattice model for the Quantum Hall Effect\n",
      "\n",
      "Last week, we started by a phenomenological description of the quantum Hall effect. We learned that one way to get a quantum Hall state would be to place electrons in an external magnetic field. \n",
      "\n",
      "However, we still don't have a simple lattice Hamiltonian describing this effect like the Kitaev model. Such a lattice model, in its simplest incarnation would not have an external magnetic field. If we can construct such lattice models showing the quantum Hall effect without a magnetic field, which are also referred to as Chern insulators, then we would also have a model for a material that could host the amazing properties of the quantum Hall effect without having to put it in a strong magnetic field. F. D. M. Haldane, from who we will hear in the next section constructed the first such model for a Chern insulator. However, in this section, we will use a more natural route that fits better into the context of our course so far.\n",
      "\n",
      "What we will do to get a model for a Chern insulator is to follow the \"domino prescription\" as we did to get the Kitaev model in week 1. To follow this strategy we need to identify two key aspects of the bulk-boundary correspondence (a) the unique property of the quantum Hall edge that cannot exit in isolation (in analogy to the Majorana modes) and (b) we need to find a one dimensional system that can host pairs of these edges (in analogy to the 0D superconducting quantum dot). From last week it is clear that the \"chiral edge state\" is the unique property in the bulk edge correspondence for the quantum Hall effect. If we can satisfy (b), then we can follow the domino prescription and couple the edges in pairs as we did with Majorana modes and be left with a pair of separated chiral edge states as in the Hall case. Voila - just like with the Kitaev chain, we have a model for 2D quantum hall state.\n",
      "\n",
      "* TO DO: figure of array of 1D edges coupled into a 2D system."
     ]
    },
    {
     "cell_type": "markdown",
     "metadata": {},
     "source": [
      "## Getting a one dimensional wire with a pair of edge states\n",
      "\n",
      "Let's leave this latter aspect for the next section and focus on finding a one dimensional system with a pair of edge states.\n",
      "\n",
      "You might guess that the easiest way to get a pair of edge states moving in opposite direction is to take usual one dimensional electrons  with an effective mass. Such a system has a parabolic dispersion and the low energy excitations at a finite fermi wave-vector $k=\\pm k_F$ move in opposite directions. The catch is that this pair of states occur at different momenta and it is tricky (though not impossible) to deal with momentum conservation when pairing the edges. So we will avoid this approach.\n",
      "\n",
      "The next guess we make is based on a model that we have already encountered, which has a pair of opposite propagating chiral states, i.e. the Dirac model $H= k \\tau_y\\Delta$, which  the Kitaev chain at the topological phase transition. More specifically, we wrote the Kitaev Hamiltonian in momentum space in week 1 as $H(k)=-(2 t\\cos{k}+\\mu)\\tau_z+\\Delta \\sin{k}\\tau_y.$ At the critical point $\\mu=-2t$, we found that the Kitaev Hamiltonian to be \n",
      "\n",
      "$$H=-2t(1-\\cos{k})\\tau_z+\\Delta\\sin{k}\\tau_y.$$\n",
      "\n",
      "Considering the phase transition point of a lower dimensional model turns out to be a fairly generic strategy to construct higher dimensional topological model.\n",
      "\n",
      "Looking at $H$ we see that we now have a pair of chiral edges one for each value of $\\tau_y=\\pm 1$ that the matrix $\\tau_y$ may take. So all we have to do is to \"couple\" the $\\tau_y=-1$ branch of one wire to the $\\tau_y=+1$ branch of the wire on the left  and we will have a quantum Hall state. The term $(2 t\\cos{k}+\\mu)\\tau_z$ which is already in the 1D Hamiltonian couples the branches on the same edge and is not what we are interested in. You might also worry at this point that the Kitaev model has superconductivity. But this is not an issue because we can interpret $\\tau_{x,y,z}$ as a lattice degree of freedom instead of the actual particle-hole degree of freedom, similar to what we did with the SSH model in assignments of week 1."
     ]
    },
    {
     "cell_type": "heading",
     "level": 1,
     "metadata": {},
     "source": [
      "QHE without a magnetic  field"
     ]
    },
    {
     "cell_type": "markdown",
     "metadata": {},
     "source": [
      "## Deriving the model Hamiltonian\n",
      "Let us now couple the wires to get quantum Hall system as promised. The idea is the same as the domino principle we used for Majoranas. We tune each 1D wire to the phase transition so that there are a pair of chiral modes one going left ($\\tau_y=+1$) and one going to the right ($\\tau_y=-1$). We then take an array of wires and pair them on the inside. If we take a large (ideally infinite) array we have a true two dimensional system.\n",
      "\n",
      "Now let us make this formal by first labeling the wires by an index $n_y$, which takes integer values. Let us also replace $k\\rightarrow k_x$ to denote the wave-vector along the wire with a Hamiltonian $\\Delta \\sin{k_x}\\tau_y|n_y\\rangle\\langle n_y|$. \n",
      "Following the domino principle, we pair the left-going state $|n_y,\\tau_y=+1\\rangle$ on wire $n_y$ with $|n_y+1,\\tau_y=-1\\rangle$ on the wire $n_y+1$ with a Hamiltonian\n",
      "\n",
      "$$H=\\Delta \\sin{k_x}\\tau_y|n_y\\rangle\\langle n_y|+\\gamma[|n_y,\\tau_y=+1\\rangle\\langle n_y+1,\\tau_y=-1|+h.c].$$\n",
      "\n",
      "This Hamiltonian should in principle suffice to produce a quantum Hall state. The operator $|n_y,\\tau_y=+1\\rangle\\langle n_y+1,\\tau_y=-1|$ can be written more explicitly in terms of $\\tau$ matrices as a tensor product $|n_y\\rangle\\langle n_y+1|\\otimes (\\tau_z+i\\tau_x)$. Plugging this in our Hamiltonian has the more explicit form $H=[-(\\mu+2t\\cos{k_x})\\tau_z+\\Delta\\sin{k_x}\\tau_y]|n_y\\rangle\\langle n_y|+\\gamma[|n_y\\rangle\\langle n_y+1|\\otimes (\\tau_z+i\\tau_x)+h.c].$ \n",
      "\n"
     ]
    },
    {
     "cell_type": "markdown",
     "metadata": {},
     "source": [
      "## Gap and edge states\n",
      "It's easy to  check that near $k_x\\sim 0$ the above Hamiltonian has edge eigenstates $|n_y=0,\\tau_y=+1\\rangle$ with eigenvalue $\\Delta\\sin{k_x}$ (which moves to the left) and at the other edge one has an eigenstate  $|n_y=N,\\tau_y=-1\\rangle$ with eigenvalue $-\\Delta\\sin{k_x}$ which moves in the other direction.\n",
      "\n",
      "The next thing we need to check is if the system is really gapped in the bulk of the two dimensional bulk.  To see this, let us calculate the bandstructure using Bloch's theorem (i.e. replacing $|n_y\\rangle\\rightarrow e^{i k_y n_y}$. This leads us to the 2D Bloch Hamiltonian \n",
      "\n",
      "$$H(k_x,k_y)=[-(\\mu+2t\\cos{k_x})\\tau_z+\\Delta\\sin{k_x}\\tau_y]+\\gamma[e^{i k_y}(\\tau_z+i\\tau_x)+h.c].$$ \n",
      "\n",
      "This can be rewritten as $H(k_x,k_y)=[-(\\mu+2t\\cos{k_x})\\tau_z+\\Delta\\sin{k_x}\\tau_y]+2\\gamma[\\cos{k_y}\\tau_z+\\sin{k_y}\\tau_x].$ Since this Hamiltonian is a sum of three Pauli matrices, the energy spectrum can be written down as \n",
      "\n",
      "$$E(k_x,k_y)=\\pm\\sqrt{\\Delta^2\\sin{k_x}^2+(2\\gamma\\cos{k_y}-(\\mu+2t\\cos{k_x}))^2+4\\gamma^2\\sin^2{k_y}}.$$ \n",
      "\n",
      "The spectrum is clearly gapped since the only way the energy could go to zero would be for $k_x=k_y=0$ (from the $\\tau_{x,y}$ terms), but at this point the coefficient of $\\tau_z$ is non-zero.\n",
      "\n",
      "* TO DO: Plot bandstructure $E(k_x,k_y)$ and show gap.\n",
      "\n",
      " So we have a gapped model which for $\\mu=-2t$ has localized quantum hall edge states near $k_x\\sim 0$. But unlike last week there is no magnetic field. As a result our dispersion is not flat as in the case of Landau levels. While details such as the bulk spectrum are different from the magnetic field case, the bulk-edge correspondence tells us that the edge states are robust.\n",
      "\n",
      "* TO DO: plot edge state spectrum for $N$ chains and show it is chiral."
     ]
    },
    {
     "cell_type": "heading",
     "level": 1,
     "metadata": {},
     "source": [
      "Dirac equation at the phase transition"
     ]
    },
    {
     "cell_type": "markdown",
     "metadata": {},
     "source": [
      "Back in week 1, we saw with the Kitaev chain that the \"domino argument\" led to two distinct phases. One is the phase with $\\mu=-2t$ and a non-zero value of $\\gamma\\neq 0$, which as we just saw above had chiral edge states. The other phase with $\\gamma=0$, but $\\mu> -2 t$ is even easier to understand. It is just the trivial phase obtained by stacking a bunch of gapped 1D chains next to each other without any tunneling between them. This is a trivial phase with no edge states. So now we know two phases one topological and the other trivial for this coupled Kitaev chain model.\n",
      "\n",
      "As we have seen quite a few times by now (0D systems, Kitaev wires and semiconductor wires), the topological phase must be separated from the trivial phase by a phase transition where the gap closes. Looking at the expression for $E(k_x,k_y)$ if we assume the wires are coupled by a non-zero $\\gamma$ then the gap $E(k_x,k_y)$ can become zero only at $k_x\\sim k_y\\sim 0,\\pi$. For simplicity let us assume $t=-\\gamma>0$ and that $\\mu<0$ so that the gap can only close near $k_x,k_y\\sim 0$. If we zoom into this interesting region, the Hamiltonian takes a familiar form of a Dirac Hamiltonian \n",
      "\n",
      "$$H_{Dirac}(k_x,k_y)=[-(\\mu+2t-2\\gamma)\\tau_z+\\Delta k_x\\tau_y]+2\\gamma k_y\\tau_x],$$ \n",
      "\n",
      "where we have (as with the Kitaev wire) linearized around $k_x\\sim k_y\\sim 0$. \n",
      "\n",
      "The combination $m=2t+\\mu-2\\gamma$ serves as the 'mass' in this Dirac model. Again as before, we see that the gapless phase transition point at $m=0$ is described by a massless Dirac theory. The phase transition separates the topological from the trivial phase, so we can guess that one of $m<0$ or $m>0$ must be the topological phase and the other the trivial phase.\n",
      "\n",
      "To figure out which is which, we look back at the first part of this unit and remember that $\\mu=-2t$ and $\\gamma<0$ is the topological phase. Clear that $m=\\mu+2t-2\\gamma>0$ (in the regime we are focusing on) is the topological phase while the other parameter regime is the non-topological phase. Don't worry that at this point, we can't establish the full phase diagram. \n",
      "\n",
      "As with Kitaev chains, the Dirac model gives us another way to construct chiral edge states at the domain wall between topological and non-topological phases. Back in week 1 we saw that a mass $m$ domain wall in a one dimensional Dirac model supports a \n",
      "non-degenerate zero mode. Fixing  $k_y=0$, we see that the one dimensional Dirac Hamiltonian here is identical to the one we saw in week 1 where the zero mode was an eigenstate of $\\tau_x=+1$ at the domain wall between $m<0$ and $m>0$. \n",
      "\n",
      "Unlike the one-dimensional case, the zero mode is not stationary in the two dimensional case. By adding the $k_y$ term (i.e. $2\\gamma k_y\\tau_x$ as a perturbation, we see that the energy of the state increases as \n",
      "\n",
      "$$\\epsilon(k_y)\\sim \\langle \\tau_x=+1| 2 \\gamma k_y \\tau_x|\\tau_x=+1\\rangle = 2\\gamma k_y.$$\n",
      "\n",
      "The velocity of the mode is written as $v_y=\\partial_{k_y}\\epsilon=2\\gamma$, which is in a particular direction. So we see analytically how to get the chiral edge mode."
     ]
    },
    {
     "cell_type": "code",
     "collapsed": false,
     "input": [],
     "language": "python",
     "metadata": {},
     "outputs": []
    }
   ],
   "metadata": {}
  }
 ]
}