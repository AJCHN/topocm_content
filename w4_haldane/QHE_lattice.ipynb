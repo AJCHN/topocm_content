{
 "metadata": {
  "name": ""
 },
 "nbformat": 3,
 "nbformat_minor": 0,
 "worksheets": [
  {
   "cells": [
    {
     "cell_type": "markdown",
     "metadata": {},
     "source": [
      "## Quantum Hall effect on a lattice and the Dirac Hamiltonian\n",
      "* Pairs of chiral edges in a 1D wire\n",
      "* Coupling wires and QHE without field\n",
      "* Dirac equation at the phase transition"
     ]
    },
    {
     "cell_type": "heading",
     "level": 1,
     "metadata": {},
     "source": [
      "Pairs of chiral edges in a 1D wire"
     ]
    },
    {
     "cell_type": "markdown",
     "metadata": {},
     "source": [
      "* Let us now try to construct an explicit lattice model for a quantum Hall system. Last week, we saw that a chiral edge state was a unique property that could only exist in a quantum Hall system and never in isolation. We can understand this by realizing that the particles in a chiral edge state all move in the same direction. Particle conservation of course requires a stream of particles to move in the other direction as well. So,  as a matter of principle it should be possible to produce a pair of chiral edges moving in opposite direction. \n",
      "\n",
      "* Our strategy to construct the lattice model for Quantum Hall will be to follow the \"domino prescription\" for constructing isolated Majorana modes in the Kitaev chain in week 1.  By analogy, suppose we can get 1D systems with a pair of chiral edge modes. We then place an array of these 1D systems down to make a 2D system. We then pair the chiral edges between the 1D systems in a way so that we are left with chiral edges. Voila - just like with the Kitaev chain, we have a model for 2D quantum hall state.\n",
      "\n",
      "* TO DO: figure of array of 1D edges coupled into a 2D system.\n",
      "\n",
      "* You might think that the easiest way to get a pair of edge states moving in opposite direction is to take electrons in a parabolic dispersion at a finite fermi energy. The low energy excitation at $k=\\pm k_F$ do move in opposite directions. Unfortunately, they occur at different momenta - so while this can be made to work - it's tricky to deal with the momentum conservation aspect.\n",
      "\n",
      "* On the bright side, we have already encountered a model with a pair of opposite propagating chiral states - i.e. the Dirac model $H=\\Delta k \\tau_y$, which  the Kitaev chain near the topological phase transition. More specifically, the Kitaev Hamiltonian in momentum space was written as $H(k)=-(2 t\\cos{k}+\\mu)\\tau_z+\\Delta \\sin{k}\\tau_y.$ At the critical point $\\mu=-2t$, the Hamiltonian takes a form $$H=-2t(1-\\cos{k})\\tau_z+\\Delta\\sin{k}\\tau_y.$$\n",
      "\n",
      "* From the Hamiltonian it is clear that we now have a pair of chiral edges one for each value of $\\tau_y=\\pm 1$ that the matrix $\\tau_y$ may take. So all we have to do is to \"couple\" the $\\tau_y=-1$ branch of one wire to the $\\tau_y=+1$ branch of the wire on the left  and we will have a quantum Hall state. The term $(2 t\\cos{k}+\\mu)\\tau_z$ which is already in the 1D Hamiltonian couples the branches on the same edge and is not what we are interested in. You might also worry at this point that the Kitaev model has superconductivity. But this is not an issue because we can interpret $\\tau_{x,y,z}$ as a lattice degree of freedom instead of the actual particle-hole degree of freedom."
     ]
    },
    {
     "cell_type": "heading",
     "level": 1,
     "metadata": {},
     "source": [
      "Coupling wires and QHE without field"
     ]
    },
    {
     "cell_type": "markdown",
     "metadata": {},
     "source": [
      "* Let us now couple the wires as promised. To do this, let us first label the wires by an index $n_y$, which takes integer values. Let us also replace $k\\rightarrow k_x$ to denote the wave-vector along the wire. The simplest coupling term (with strength $\\gamma$) between the Hamiltonians would have the form $$H=\\Delta \\sin{k_x}\\tau_y|n_y\\rangle\\langle n_y|+\\gamma[|n_y,\\tau_y=+1\\rangle\\langle n_y+1,\\tau_y=-1|+h.c].$$ This Hamiltonian should in principle suffice to produce a quantum Hall state. The operator $|n_y,\\tau_y=+1\\rangle\\langle n_y+1,\\tau_y=-1|$ can be written more explicitly in terms of $\\tau$ matrices as a tensor product $|n_y\\rangle\\langle n_y+1|\\otimes (\\tau_z+i\\tau_x)$. Plugging this in our Hamiltonian has the more explicit form $H=[-(\\mu+2t\\cos{k_x})\\tau_z+\\Delta\\sin{k_x}\\tau_y]|n_y\\rangle\\langle n_y|+\\gamma[|n_y\\rangle\\langle n_y+1|\\otimes (\\tau_z+i\\tau_x)+h.c].$ \n",
      "\n",
      "* One can easily check that near $k_x\\sim 0$ the above Hamiltonian has edge eigenstates $|n_y=0,\\tau_y=+1\\rangle$ with eigenvalue $\\Delta\\sin{k_x}$ (which moves to the left) and at the other edge one has an eigenstate  $|n_y=N,\\tau_y=-1\\rangle$ with eigenvalue $-\\Delta\\sin{k_x}$ which moves in the other direction.\n",
      "\n",
      "* One might now worry about whether we really have an insulator (with a gap) to begin with. To see this, let us calculate the bandstructure using Bloch's theorem (i.e. replacing $|n_y\\rangle\\rightarrow e^{i k_y n_y}$. This leads us to the 2D Bloch Hamiltonian   $$H(k_x,k_y)=[-(\\mu+2t\\cos{k_x})\\tau_z+\\Delta\\sin{k_x}\\tau_y]+\\gamma[e^{i k_y}(\\tau_z+i\\tau_x)+h.c].$$ This can be rewritten as $H(k_x,k_y)=[-(\\mu+2t\\cos{k_x})\\tau_z+\\Delta\\sin{k_x}\\tau_y]+2\\gamma[\\cos{k_y}\\tau_z+\\sin{k_y}\\tau_x].$ The energy spectrum $$E(k_x,k_y)=\\pm\\sqrt{\\Delta^2\\sin{k_x}^2+(2\\gamma-(\\mu+2t\\cos{k_x}))^2+4\\gamma^2\\sin^2{k_y}}.$$ The spectrum is clearly gapped.\n",
      "\n",
      "* TO DO: Plot bandstructure $E(k_x,k_y)$ and show gap.\n",
      "\n",
      "* So we have a gapped model which for $\\mu=2t$ has localized quantum hall edge states near $k_x\\sim 0$. But unlike last week there is no magnetic field. As a result our dispersion is not flat as in the case of Landau levels. While details such as the bulk spectrum are different from the magnetic field case, the bulk-edge correspondence tells us that the edge states are robust.\n",
      "\n",
      "* TO DO: plot edge state spectrum for $N$ chains and show it is chiral."
     ]
    },
    {
     "cell_type": "heading",
     "level": 1,
     "metadata": {},
     "source": [
      "Dirac equation at the phase transition"
     ]
    },
    {
     "cell_type": "markdown",
     "metadata": {},
     "source": [
      "* As with the Kitaev chain we expect two phases. One is the phase with $\\mu=2t$ and a non-zero value of $\\gamma\\neq 0$, which as we saw had chiral edge states. Clearly another phase with $\\gamma=0$, but $\\mu> 2 t$ is just a phase with bunch of decoupled gapped 1D chains and therefore is a trivial phase with no edge states. Therefore there is a topologically trivial and non-trivial phases.\n",
      "\n",
      "* Again as with the Kitaev model the two phases must be separated by a phase transition must be separated by a gap closure. Examining the expression for the dispersion it is clear that the gap closure can only happen at $k_x\\sim k_y\\sim 0$. The Hamiltonian takes a familiar form of a Dirac Hamiltonian $$H_{Dirac}(k_x,k_y)=[-(\\mu+2t-2\\gamma)\\tau_z+\\Delta k_x\\tau_y]+2\\gamma k_y\\tau_x],$$ when linearized around $k_x\\sim k_y\\sim 0$. From the preceding argument it is clear that $\\mu+2t-2\\gamma<0$ is the topological phase while the other parameter regime is the non-topological phase.\n",
      "\n",
      "* The parameter point $m=2t+\\mu-2\\gamma=0$ is the phase transition between the two points which is described by the massless Dirac model. Shifting the mass term $m$ to negative values leads to a topological phase, while the positive value shifts it to a gapped trivial phase.\n",
      "\n",
      "* As with Kitaev chains, the Dirac model gives us another way to construct chiral edge states at the domain wall between topological and non-topological phases. Fixing either $k_x$ or $k_y$ to zero we obtain a zero-mode at the domain wall between $m<0$ and $m>0$. Perturbation theory can be used to check that the domain wall modes are chiral and move in the correct direction. This approach has the advantage of being able to prove the existance of the chiral edge states along each of the 4 edge directions."
     ]
    },
    {
     "cell_type": "code",
     "collapsed": false,
     "input": [],
     "language": "python",
     "metadata": {},
     "outputs": []
    }
   ],
   "metadata": {}
  }
 ]
}