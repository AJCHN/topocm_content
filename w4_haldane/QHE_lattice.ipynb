{
 "metadata": {
  "name": ""
 },
 "nbformat": 3,
 "nbformat_minor": 0,
 "worksheets": [
  {
   "cells": [
    {
     "cell_type": "markdown",
     "metadata": {},
     "source": [
      "## Quantum Hall effect on a lattice and the Dirac Hamiltonian\n",
      "* Pair of chiral edges at the Majorana transition in the Kitaev model\n",
      "* Coupling chiral edges to produce isolated edge modes\n",
      "* 2D Dirac description of bulk Hamiltonian"
     ]
    },
    {
     "cell_type": "heading",
     "level": 1,
     "metadata": {},
     "source": [
      "Pairs of chiral edges in a 1D wire"
     ]
    },
    {
     "cell_type": "heading",
     "level": 1,
     "metadata": {},
     "source": [
      "Coupling wires and QHE without field"
     ]
    },
    {
     "cell_type": "heading",
     "level": 1,
     "metadata": {},
     "source": [
      "Dirac equation at the phase transition"
     ]
    }
   ],
   "metadata": {}
  }
 ]
}