{
 "metadata": {
  "name": ""
 },
 "nbformat": 3,
 "nbformat_minor": 0,
 "worksheets": [
  {
   "cells": [
    {
     "cell_type": "heading",
     "level": 1,
     "metadata": {},
     "source": [
      "Massive Dirac cones in graphene"
     ]
    },
    {
     "cell_type": "markdown",
     "metadata": {},
     "source": [
      "## Dirac cones in graphene\n",
      "\n",
      "* From the previous unit we saw that if we can get the mass of a two dimensional Dirac cone to change sign one can obtain a chiral edge state. The most well-known way to obtain Dirac cones in two dimensions is to consider electrons in a hexagonal lattice, otherwise known as Graphene. Graphene consists of a triangular lattice with a two atom per unit cell sublattice. The Bloch Hamiltonian is given by \n",
      "\n",
      "$$H(k)=t(1+e^{i k_2}+e^{i (k_1-k_2})\\sigma_++h.c,$$\n",
      "\n",
      "where $\\sigma_{x,y,z}$ are Pauli matrices where $\\sigma_z=\\pm 1$ represents the two sub-lattices. Plotting the bandstructure we see there are two Dirac cones.\n",
      "\n",
      "* TO DO: Draw graphene lattice and show band structure."
     ]
    },
    {
     "cell_type": "markdown",
     "metadata": {},
     "source": [
      "## Mass terms\n",
      "\n",
      "* The easiest way to introduce a mass term is to add an $m_0\\sigma_z$ term to the Hamiltonian. It is easy to check that this mass is non-topological i.e. the state is adiabatically connected to a state with no edge states. Lowering $t\\rightarrow 0$ we see that the  eigenstates become localized in one of the sub-lattices $A$ or $B$ and there are no edge states.\n",
      "\n",
      "* TO DO: show next nearest neighbor hopping term in graphene (Haldane mass terms)\n",
      "\n",
      "* On the other hand, if we add next nearest neighbor hoppping we can add other terms proportional to $\\sigma_z$ one produces a mass term $m_1$ which has opposite signs on the two Dirac cones. \n",
      "\n",
      "* This new mass must be topological. Since $m_1$ adds to $m_0$ on one of the Dirac cones and subtracts from the other cone, so that \n",
      "\n",
      "$$m_K=m_1+m_0,\\quad m_{\\bar{K}}=m_0-m_1.$$\n",
      "\n",
      "Adiabatically adding $m_1$ to $m_0$ produces a closing and opening of the gap, which according to the previous sub-section must produce chiral edge states at the domain wall with the trivial phase. \n",
      "\n",
      "* Therefore, the mass term $m_1$ is topological and produces chiral edge states in graphene."
     ]
    },
    {
     "cell_type": "heading",
     "level": 1,
     "metadata": {},
     "source": [
      "Chern topological invariant in two dimensions"
     ]
    },
    {
     "cell_type": "markdown",
     "metadata": {},
     "source": [
      "* Now what is the topological invariant that can tell us which of the two mass terms is topologically non-trivial. The spectrum by itself is not enough to tell us this, so we need to look at the wave-functions.\n",
      "\n",
      "* To understand the structure of the wave-functions let us look at the collection of occupied states $|u(\\bf{k})\\rangle$. One can begin to characterize the topology of the occupied states by studying the Berry phase of  $|u(\\bf{k})\\rangle$ around loops in the toroidal Brillouin zone on which $\\bf{k}$ lives. The Berry-phase around a loop can be written as a product of phases \n",
      "\n",
      "$$\\varphi(\\Gamma)=Arg[\\prod_{\\Gamma}\\langle u(\\bf{k_j}|u(\\bf{k}_{j+1})\\rangle]=\\sum_j Arg[\\langle u(\\bf{k_j}|u(\\bf{k}_{j+1})\\rangle]\\rightarrow \\oint d\\bf{k}\\cdot \\bf{a}(\\bf {k}),$$\n",
      "\n",
      "where $\\bf{a}(\\bf {k})=i\\langle u(\\bf{k})|\\bf{\\nabla}(|u(\\bf{k})\\rangle)$ is the so-called Berry connection.\n",
      "\n",
      "* The Berry connection is like the vector potential in electromagnetism. The occupied wave-functions have a natural phase redundancy i.e. if $|u(\\bf{k})\\rangle$ is an occupied wave-function then so is $|u(\\bf{k})\\rangle\\rightarrow e^{i\\Lambda(\\bf{k})}|u(\\bf{k})\\rangle$. Under this transformation the Berry connection transforms like the gauge potential i.e. $\\bf{a}(\\bf{k})\\rightarrow \\bf{a}(\\bf{k})+\\bf{\\nabla}\\Lambda(\\bf{k})$.\n",
      "\n",
      "* As usual, we are interested in the \"gauge-invariant\" magnetic field, which in this case is referred to as the Berry curvature\n",
      "\n",
      "$$\\bf{b}(\\bf{k})=\\bf{\\nabla}\\times\\bf{a}(\\bf{k}),$$\n",
      "\n",
      "which does not depend on the arbitrary phase choice of the Bloch wave-functions.\n",
      "\n",
      "* The specific structure of the Berry curvature depends on the details of the Hamiltonian. However, using Stokes theorem one can argue that the total Berry flux, which is the analog of magnetic flux through the Brillouin zone, must be quantized. To see this we note that the Berry phase around some loop $\\Gamma$ can be written in two ways as \n",
      "\n",
      "$$\\varphi(\\Gamma)=\\oint_{\\Gamma}d^2\\bf{k}\\bf{z}\\cdot \\bf{b}(\\bf{k})=-\\oint_{\\bar{\\Gamma}}d^2\\bf{k}\\bf{z}\\cdot \\bf{b}(\\bf{k})(\\textrm{ mod }2\\pi),$$\n",
      "\n",
      "where $\\bar{\\Gamma}$ is the boundary of the complementary loop on the torus. Thus the total Berry curvature \n",
      "\n",
      "$$\\Phi=\\oint d^2\\bf{k}\\bf{z}\\cdot \\bf{b}(\\bf{k}) $$\n",
      "\n",
      "is an integer multiple of $2\\pi$. \n",
      "\n",
      "> The integer Berry curvature is referred to as a Chern number and cannot be changed by any continuous deformation of the Hamiltonian. Non-zero values of the Berry curvature are topologically trivial and insulators with non-trivial number of the Chern invariant are referred to as Chern insulators."
     ]
    },
    {
     "cell_type": "heading",
     "level": 1,
     "metadata": {},
     "source": [
      "Berry curvature of Dirac cones: Haldane model versus QWZ model"
     ]
    },
    {
     "cell_type": "markdown",
     "metadata": {},
     "source": [
      "* Trying to computing the Chern number of the massive Dirac model we see that the Berry curvature is non-zero only near the Dirac points and has a sign that depends on the mass. Since a change of mass leads to a change of 1 in the Chern number, the berry flux of a massive Dirac point must be a half-integer. \n",
      "\n",
      "* For the topologically trivial mass term in graphene - the Berry fluxes from the two Dirac cones cancel. On the other hand in the \n",
      "Haldane model the Berry fluxes add.\n",
      "\n",
      "* For the QWZ model with one Dirac one half of the Berry flux is generated far from the Dirac point."
     ]
    },
    {
     "cell_type": "code",
     "collapsed": false,
     "input": [],
     "language": "python",
     "metadata": {},
     "outputs": []
    }
   ],
   "metadata": {}
  }
 ]
}