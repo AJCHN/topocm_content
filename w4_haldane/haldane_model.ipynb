{
 "metadata": {
  "name": ""
 },
 "nbformat": 3,
 "nbformat_minor": 0,
 "worksheets": [
  {
   "cells": [
    {
     "cell_type": "heading",
     "level": 1,
     "metadata": {},
     "source": [
      "Berry flux in a Dirac cone and Chern topological invariant"
     ]
    },
    {
     "cell_type": "heading",
     "level": 1,
     "metadata": {},
     "source": [
      "Dirac cones in graphene"
     ]
    },
    {
     "cell_type": "heading",
     "level": 1,
     "metadata": {},
     "source": [
      "Topological and non-topological masses"
     ]
    },
    {
     "cell_type": "heading",
     "level": 1,
     "metadata": {},
     "source": [
      "The role of two Dirac cones: comparison with QWZ model"
     ]
    }
   ],
   "metadata": {}
  }
 ]
}