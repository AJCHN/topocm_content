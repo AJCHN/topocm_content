{
 "metadata": {
  "name": ""
 },
 "nbformat": 3,
 "nbformat_minor": 0,
 "worksheets": [
  {
   "cells": [
    {
     "cell_type": "heading",
     "level": 3,
     "metadata": {},
     "source": [
      "First question"
     ]
    },
    {
     "cell_type": "markdown",
     "metadata": {},
     "source": [
      "In following"
     ]
    },
    {
     "cell_type": "markdown",
     "metadata": {},
     "source": [
      "$$\\prod_p e^{\\delta{\\bf k}_{n,p}\\cdot {\\langle u(\\bf{k}_{n,p})|\\bf{\\nabla}(|u(\\bf{k}_{n,p})\\rangle)}}\\approx \\prod_p (1+\\delta k_{n,p}\\langle u(\\bf{k}_{n,p})|\\bf{\\nabla}(|u(\\bf{k}_{n,p})\\rangle)\\approx \\prod_p \\langle u(\\bf{k}_{n,p})|u(\\bf{k}_{n,p+1})\\rangle$$"
     ]
    },
    {
     "cell_type": "markdown",
     "metadata": {},
     "source": [
      "Do I understand correctly that $\\bf{k}_{n,p}$ means value of $\\bf{k}$ at p-edge of n-th plaquet?\n",
      "\n",
      "Plaquet are suppose to be small so as point for calculating $\\bf{k}_{n,p}$ I may choose just middle of edge.\n",
      "\n",
      "I don't really understand how you get the last formula above but I can skip it for now ( I don't need to fully understand derivation to implement).\n",
      "\n",
      "And in the end $p+1$ means here next edge oriented along the integral?"
     ]
    },
    {
     "cell_type": "heading",
     "level": 3,
     "metadata": {},
     "source": [
      "Second question"
     ]
    },
    {
     "cell_type": "markdown",
     "metadata": {},
     "source": [
      "$$e^{i\\Phi_n}=\\prod_p Det[\\langle u_s(\\bf{k}_{n,p})|u_{s'}(\\bf{k}_{n,p+1})\\rangle],$$"
     ]
    },
    {
     "cell_type": "markdown",
     "metadata": {},
     "source": [
      "Determinant above is of matrix with matrix element $M_{s,s'} = \\langle u_s(\\bf{k}_{n,p})|u_{s'}(\\bf{k}_{n,p+1})\\rangle$ ?\n",
      "\n",
      "And again I don't really undestand where this formula came from :), but as previously, I can skip it for now."
     ]
    },
    {
     "cell_type": "heading",
     "level": 3,
     "metadata": {},
     "source": [
      "Third question"
     ]
    },
    {
     "cell_type": "markdown",
     "metadata": {},
     "source": [
      "Why not use\n",
      "\n",
      "$$\\Phi_n = Arg[\\prod_p\\prod_s \\langle u_s(\\bf{k}_{n,p})|u_s(\\bf{k}_{n,p+1})\\rangle]$$\n",
      "\n",
      "instead of \n",
      "\n",
      "$$\\Phi_n=Arg[\\prod_p Det[\\langle u_s(\\bf{k}_{n,p})|u_{s'}(\\bf{k}_{n,p+1})\\rangle]]$$"
     ]
    },
    {
     "cell_type": "code",
     "collapsed": false,
     "input": [],
     "language": "python",
     "metadata": {},
     "outputs": []
    }
   ],
   "metadata": {}
  }
 ]
}