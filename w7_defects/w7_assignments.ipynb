{
 "cells": [
  {
   "cell_type": "code",
   "execution_count": null,
   "metadata": {
    "collapsed": false
   },
   "outputs": [],
   "source": [
    "%run ../code/init_mooc_nb.py"
   ]
  },
  {
   "cell_type": "markdown",
   "metadata": {},
   "source": [
    "#Table of Contents\n",
    "* [Simulations: Majorana defects](#Simulations:-Majorana-defects)\n",
    "* [Review assignment](#Review-assignment)\n"
   ]
  },
  {
   "cell_type": "markdown",
   "metadata": {},
   "source": [
    "# Simulations: Majorana defects"
   ]
  },
  {
   "cell_type": "markdown",
   "metadata": {},
   "source": [
    "As usual, start by grabbing the notebooks of this week (`w7_defects`). They are once again over [here](http://tiny.cc/topocm_smc)."
   ]
  },
  {
   "cell_type": "markdown",
   "metadata": {},
   "source": [
    "## Quantum spin Hall junction\n",
    "\n",
    "This time we want to study in more detail the spectrum of a Josephson junction on the quantum spin Hall edge. As in the lecture, we can add a magnet in the middle of the junction, which adds a Zeeman energy term to the Hamiltonian.\n",
    "\n",
    "First make the said junction (the code from week 2 for making a Josephson junction may be useful).\n",
    "\n",
    "We are interested in the spectrum below the gap. There are two interesting parameters to vary: the strength of the Zeeman energy and the length of the junction. What happens to the energy levels as you make the junction length long? What if you turn off the magnet?\n",
    "\n",
    "Compare your results to the following paper, particularly its Fig.2."
   ]
  },
  {
   "cell_type": "code",
   "execution_count": null,
   "metadata": {
    "collapsed": false
   },
   "outputs": [],
   "source": [
    "display_html(PreprintReference('0804.4469', show_abstract=False))"
   ]
  },
  {
   "cell_type": "markdown",
   "metadata": {},
   "source": [
    "## Majorana in a crystalline defect\n",
    "\n",
    "Following Taylor Hughes suggestion from the summary of the lecture about crystalline defects, create an edge dislocation carrying a Majorana mode in an array of weakly coupled Kitaev chains.\n",
    "\n",
    "Then try to split the dislocation into two disclinations. What happens to the Majorana mode?\n",
    "\n",
    "Note that Kwant only supports regular lattices, so crystallographic defects can be implemented by altering some hoppings like it was done in the simulations of the lecture."
   ]
  },
  {
   "cell_type": "code",
   "execution_count": null,
   "metadata": {
    "collapsed": false
   },
   "outputs": [],
   "source": [
    "MoocSelfAssessment()"
   ]
  },
  {
   "cell_type": "markdown",
   "metadata": {},
   "source": [
    "**Now share your results:**"
   ]
  },
  {
   "cell_type": "code",
   "execution_count": null,
   "metadata": {
    "collapsed": false
   },
   "outputs": [],
   "source": [
    "MoocDiscussion('Labs', 'Topological defects')"
   ]
  },
  {
   "cell_type": "markdown",
   "metadata": {},
   "source": [
    "# Review assignment"
   ]
  },
  {
   "cell_type": "code",
   "execution_count": null,
   "metadata": {
    "collapsed": false
   },
   "outputs": [],
   "source": [
    "display_html(PreprintReference('0707.1692', description=\"In detail, how to create and manipulate Majoranas on the 3D TI surface.\"))\n",
    "display_html(PreprintReference('1112.3527', description=\"The Josephson effect on a 3D TI, in real life.\"))\n",
    "display_html(PreprintReference('1208.6303', description=\"Disclinations\"))\n",
    "display_html(PreprintReference('1105.4351', description=\"How weak is weak?\"))"
   ]
  },
  {
   "cell_type": "markdown",
   "metadata": {},
   "source": [
    "### Bonus: Find your own paper to review!\n",
    "\n",
    "Do you know of another paper that fits into the topics of this week, and you think is good?\n",
    "Then you can get bonus points by reviewing that paper instead!"
   ]
  },
  {
   "cell_type": "code",
   "execution_count": null,
   "metadata": {
    "collapsed": false
   },
   "outputs": [],
   "source": [
    "MoocPeerAssessment()"
   ]
  },
  {
   "cell_type": "markdown",
   "metadata": {},
   "source": [
    "**Do you have questions about what you read? Would you like to suggest other papers? Tell us:**"
   ]
  },
  {
   "cell_type": "code",
   "execution_count": null,
   "metadata": {
    "collapsed": false
   },
   "outputs": [],
   "source": [
    "MoocDiscussion(\"Reviews\", \"Topological defects\")"
   ]
  }
 ],
 "metadata": {
  "kernelspec": {
   "display_name": "Python 2",
   "language": "python",
   "name": "python2"
  },
  "language_info": {
   "codemirror_mode": {
    "name": "ipython",
    "version": 2
   },
   "file_extension": ".py",
   "mimetype": "text/x-python",
   "name": "python",
   "nbconvert_exporter": "python",
   "pygments_lexer": "ipython2",
   "version": "2.7.10"
  }
 },
 "nbformat": 4,
 "nbformat_minor": 0
}