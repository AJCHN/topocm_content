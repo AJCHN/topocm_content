{
 "cells": [
  {
   "cell_type": "code",
   "execution_count": null,
   "metadata": {
    "collapsed": false
   },
   "outputs": [],
   "source": [
    "import sys\n",
    "sys.path.append('../code')\n",
    "from init_mooc_nb import *\n",
    "init_notebook()\n",
    "\n",
    "import itertools\n",
    "import warnings\n",
    "warnings.simplefilter(\"ignore\", UserWarning)\n",
    "\n",
    "# Pauli matrices\n",
    "sigma0 = np.array([[1, 0], [0, 1]])\n",
    "sigmax = np.array([[0, 1], [1, 0]])\n",
    "sigmay = np.array([[0, -1j], [1j, 0]])\n",
    "sigmaz = np.array([[1, 0], [0, -1]])\n",
    "\n",
    "\n",
    "# Onsite and hoppings terms.\n",
    "# We have two model now. par.model parameter\n",
    "# Allows to choose between them. Valid models are \n",
    "# \"BHZ and \"QAH\"\n",
    "\n",
    "def onsite(site, par):\n",
    "    if par.model == \"BHZ\":\n",
    "        A, B, D, M = par.A/2, par.B, par.D, par.M\n",
    "        output = ((M - 4 * B) * np.kron(sigma0, sigmaz) - 4 * D * np.kron(sigma0, sigma0) \n",
    "                  + par.field * site.pos[1] * np.kron(sigma0, sigma0))\n",
    "    if par.model == \"QAH\":\n",
    "        B, mu = par.B, par.mu\n",
    "        output = (mu - 4*B) * sigmaz + par.field * site.pos[1] * sigma0\n",
    "    return output\n",
    "\n",
    "\n",
    "def hopx(site1, site2, par):\n",
    "    A, B, D = par.A, par.B, par.D\n",
    "    if par.model == 'BHZ':\n",
    "        output = B * np.kron(sigma0, sigmaz) + D * np.kron(sigma0, sigma0) + 1j * A/2 * np.kron(sigmaz, sigmax)\n",
    "    if par.model == 'QAH':\n",
    "        output = B * sigmaz + 1j * A/2 * sigmax\n",
    "    return output\n",
    "\n",
    "\n",
    "def hopy(site1, site2, par):\n",
    "    A, B, D = par.A, par.B, par.D\n",
    "    if par.model == 'BHZ':\n",
    "        output = B * np.kron(sigma0, sigmaz) + D * np.kron(sigma0, sigma0) - 1j * A/2 * np.kron(sigma0, sigmay)\n",
    "    if par.model == 'QAH':\n",
    "        output = B * sigmaz + 1j * A/2 * sigmay\n",
    "    return output\n",
    "\n",
    "\n",
    "def weak_hopping(site1, site2, par):\n",
    "    if par.model == 'BHZ': return par.t_inter * np.eye(4)\n",
    "    if par.model == 'QAH': return par.t_inter * np.eye(2)\n",
    "\n",
    "\n",
    "#-----------------------systems----------------------------\n",
    "def create_screw_system(L, W, H, xs=None, ys=None, ye=None, pbc=True):\n",
    "    \"\"\" Create system with screw dislocation.\n",
    "    \n",
    "    Function creates system with a screw dislocation. \n",
    "    L, W, H are dimension of scattering region.\n",
    "    L, W are dimension of cross section. \n",
    "    Leads are attached from top and bottom (0,0,1) direction.\n",
    "    \n",
    "    xs, ys, ye describes where disloaction is placed.\n",
    "    \"\"\"\n",
    "    def shape(pos):\n",
    "        (x, y, z) = pos\n",
    "        return (0 <= x < L) and (0 <= y < W) and (0 <= z < H)\n",
    "    \n",
    "    def lead_shape(pos):\n",
    "        (x, y, z) = pos\n",
    "        return (0 <= x < L) and (0 <= y < W)\n",
    "\n",
    "    # calling kwant\n",
    "    lat = kwant.lattice.general(np.identity(3))\n",
    "    sys = kwant.Builder()\n",
    "    \n",
    "    sym = kwant.TranslationalSymmetry((0, 0, 1))\n",
    "    lead = kwant.Builder(sym)\n",
    "    \n",
    "    # scattering system \n",
    "    sys[lat.shape(shape, (0,0,0))] = onsite\n",
    "    sys[kwant.HoppingKind((1,0,0), lat)] = hopx\n",
    "    sys[kwant.HoppingKind((0,1,0), lat)] = hopy\n",
    "    sys[kwant.HoppingKind((0,0,1), lat)] = weak_hopping\n",
    "    \n",
    "    # lead system\n",
    "    lead[lat.shape(lead_shape, (0,0,0))] = onsite\n",
    "    lead[kwant.HoppingKind((1,0,0), lat)] = hopx\n",
    "    lead[kwant.HoppingKind((0,1,0), lat)] = hopy\n",
    "    lead[kwant.HoppingKind((0,0,1), lat)] = weak_hopping\n",
    "    \n",
    "    # defining dislocation\n",
    "    if xs != None:\n",
    "        for y in range(ys, ye):\n",
    "            for z in range(H):\n",
    "                del sys[lat(xs+1,y,z), lat(xs,y,z)]\n",
    "                \n",
    "            del lead[lat(xs+1,y,0), lat(xs,y,0)]\n",
    "            lead[lat(xs+1,y,z+1), lat(xs,y,z)] = hopx\n",
    "            \n",
    "        for y,z in itertools.product(list(range(ys, ye)), list(range(H - 1))):\n",
    "            sys[lat(xs+1,y,z+1), lat(xs,y,z)] = hopx\n",
    "            \n",
    "    # adding periodic boundary conditions\n",
    "    if pbc:\n",
    "        for x in range(L):\n",
    "            lead[lat(x,0,0), lat(x, W-1, 0)] = hopy\n",
    "            for z in range(H):\n",
    "                sys[lat(x,0,z), lat(x, W-1, z)] = hopy\n",
    "\n",
    "        for y in range(W):\n",
    "            lead[lat(0, y, 0), lat(L-1,y,0)] = hopx\n",
    "            for z in range(H):\n",
    "                sys[lat(0, y, z), lat(L-1,y,z)] = hopx\n",
    "        \n",
    "    sys.attach_lead(lead)\n",
    "    sys.attach_lead(lead.reversed())\n",
    "\n",
    "    return sys.finalized()\n",
    "\n",
    "\n",
    "# \n",
    "def create_edge_dislocation_system(L, W, H, xs=None, ys=None, ye=None, pbc=True):\n",
    "    \"\"\" Create system with edge dislocation.\n",
    "    \n",
    "    Function creates system with an edge dislocation. \n",
    "    L, W, H are dimension of scattering region.\n",
    "    L, W are dimension of cross section. \n",
    "    Leads are attached from top and bottom (0,0,1) direction.\n",
    "    \n",
    "    xs, ys, ye describes where disloaction is placed.\n",
    "    \"\"\"    \n",
    "    def shape(pos):\n",
    "        (x, y, z) = pos\n",
    "        return (0 <= x < L) and (0 <= y < W) and (0 <= z < H)\n",
    "    \n",
    "    def lead_shape(pos):\n",
    "        (x, y, z) = pos\n",
    "        return (0 <= x < L) and (0 <= y < W)\n",
    "    \n",
    "    # Calling kwant\n",
    "    lat = kwant.lattice.general(np.identity(3))\n",
    "    sys = kwant.Builder()\n",
    "    \n",
    "    sym = kwant.TranslationalSymmetry((0, 0, 1))\n",
    "    lead = kwant.Builder(sym)\n",
    "    \n",
    "    # scattering system \n",
    "    sys[lat.shape(shape, (0,0,0))] = onsite\n",
    "    sys[kwant.HoppingKind((1,0,0), lat)] = weak_hopping\n",
    "    sys[kwant.HoppingKind((0,1,0), lat)] = hopy\n",
    "    sys[kwant.HoppingKind((0,0,1), lat)] = hopx\n",
    "    \n",
    "    # lead system\n",
    "    lead[lat.shape(lead_shape, (0,0,0))] = onsite\n",
    "    lead[kwant.HoppingKind((1,0,0), lat)] = weak_hopping\n",
    "    lead[kwant.HoppingKind((0,1,0), lat)] = hopy\n",
    "    lead[kwant.HoppingKind((0,0,1), lat)] = hopx\n",
    "    \n",
    "    # defining disclocation\n",
    "    if xs != None:\n",
    "        for y in range(ys, ye):\n",
    "            del lead[lat(xs, y, 0)]\n",
    "            lead[lat(xs+1, y, 0), lat(xs-1, y, 0)] = weak_hopping\n",
    "            \n",
    "            for z in range(H):    \n",
    "                del sys[lat(xs, y, z)]\n",
    "                sys[lat(xs+1, y, z), lat(xs-1, y, z)] = weak_hopping\n",
    "                      \n",
    "    # periodic boundary conditions   \n",
    "    if pbc:\n",
    "        for x in range(L):\n",
    "            lead[lat(x,0,0), lat(x, W-1, 0)] = hopy\n",
    "            for z in range(H):\n",
    "                sys[lat(x,0,z), lat(x, W-1, z)] = hopy\n",
    "\n",
    "        for y in range(W):\n",
    "            lead[lat(0, y, 0), lat(L-1,y,0)] = weak_hopping\n",
    "            for z in range(H):\n",
    "                sys[lat(0, y, z), lat(L-1,y,z)] = weak_hopping\n",
    "            \n",
    "    # attaching leads\n",
    "    sys.attach_lead(lead)\n",
    "    sys.attach_lead(lead.reversed())\n",
    "\n",
    "    return sys.finalized()       \n",
    "\n",
    "\n",
    "def get_densities(lead, momentum, param, sorting_mid=0.0):\n",
    "    \"\"\" Calculate calculate density of states in lead at given momentum. \"\"\"\n",
    "    coord = np.array([lead.pos(i) for i in range(lead.graph.num_nodes)])\n",
    "    xy = coord[coord[:, 2] == 0][:, :-1]\n",
    "    indxs_xy = np.lexsort(xy.T)\n",
    "    xy = xy[indxs_xy, :]\n",
    "\n",
    "    h, t = lead.cell_hamiltonian(args=[param]), lead.inter_cell_hopping(args=[param])\n",
    "    h_k = lambda k: h + t * np.exp(1j * k) + t.T.conj() * np.exp(-1j * k)\n",
    "\n",
    "    vals, vecs = np.linalg.eigh(h_k(momentum))\n",
    "    \n",
    "    \n",
    "    if param.model == 'BHZ': num_orbital = 4\n",
    "    if param.model == 'QAH': num_orbital = 2\n",
    "    \n",
    "    densities = np.linalg.norm(vecs.reshape(-1, num_orbital, len(vecs)), axis=1)**2\n",
    "\n",
    "    indxs = np.argsort(abs(vals - sorting_mid))\n",
    "    vals = vals[indxs]\n",
    "    densities = densities[:, indxs]\n",
    "    densities = densities[indxs_xy, :]\n",
    "\n",
    "    L, W = int(np.max(xy[:, 0]) + 1), int(np.max(xy[:, 1]) + 1)\n",
    "    twod_densities = np.zeros((W,L,densities.shape[1]))\n",
    "\n",
    "    for coord, val in zip(xy, densities):\n",
    "        i,j = np.array(coord, dtype=int)\n",
    "        twod_densities[j, i, :] = val\n",
    "        \n",
    "    return twod_densities, vals"
   ]
  },
  {
   "cell_type": "markdown",
   "metadata": {},
   "source": [
    "#Table of Contents\n",
    "* [Introduction: weak topological phases](#Introduction:-weak-topological-phases)\n",
    "* [Crystallographic defects and topology](#Crystallographic-defects-and-topology)\n",
    "* [The role of defect dimensionality](#The-role-of-defect-dimensionality)\n",
    "* [The defect topological invariant](#The-defect-topological-invariant)\n",
    "* [Electronic states in dislocations](#Electronic-states-in-dislocations)\n",
    "* [Conclusions](#Conclusions)\n"
   ]
  },
  {
   "cell_type": "markdown",
   "metadata": {},
   "source": [
    "# Introduction: weak topological phases"
   ]
  },
  {
   "cell_type": "markdown",
   "metadata": {},
   "source": [
    "Taylor Hughes from the University of Illinois at Urbana-Champaign will describe the interplay between defects in crystals and weak topological insulators."
   ]
  },
  {
   "cell_type": "code",
   "execution_count": null,
   "metadata": {
    "collapsed": false
   },
   "outputs": [],
   "source": [
    "MoocVideo(\"k3ZKCg7jtTs\", src_location=\"7.2-intro\")"
   ]
  },
  {
   "cell_type": "markdown",
   "metadata": {},
   "source": [
    "As you see, there is a simple and universal connection between weak topological phases and the ability of defects to carry topologically protected states. Specifically, the topological invariant of a dislocation $\\mathcal{Q}$, so the number of protected states that it carries, can be determined from the vector of weak topological invariants $\\mathbf{\\mathcal{Q}}_\\textrm{weak}$ and the Burgers vector of the dislocation $\\mathbf{B}$:\n",
    "\n",
    "$$\\mathcal{Q} = \\mathbf{\\mathcal{Q}}_\\textrm{weak}\\cdot\\mathbf{B}$$\n",
    "\n",
    "Let us now go through the main points that lead to this conclusion and try to reason why it has to be that way."
   ]
  },
  {
   "cell_type": "markdown",
   "metadata": {},
   "source": [
    "# Crystallographic defects and topology"
   ]
  },
  {
   "cell_type": "markdown",
   "metadata": {},
   "source": [
    "There are many different types of [defects in crystals](http://en.wikipedia.org/wiki/Crystallographic_defect): vacancies, substitutions, grain boundaries, dislocations, and many more.\n",
    "\n",
    "Let us first think what kinds of defects may be important for topology. Consider a vacancy for example:\n",
    "![](figures/vacancy.svg)"
   ]
  },
  {
   "cell_type": "markdown",
   "metadata": {},
   "source": [
    "To create it we need to remove a single unit atom (or all the atoms following one line). Can this type of defect carry a topologically protected state?\n",
    "\n",
    "We know already that the topological protection requires a Hamiltonian that cannot be created locally. So to create a single Majorana bound state we need to create another one elsewhere. Removing an atom or a line of atoms only changes the system locally, so the *other* topologically protected state cannot appear anywhere.\n",
    "\n",
    "Just a vacancy is therefore not interesting. What kinds of topological defects would work? The crystallographic defects leave nothing different since they leave the bulk Hamiltonian untouched far away from the defect core.\n",
    "That means we need to do something nontrivial to the crystal so that it cannot be removed locally.\n",
    "\n",
    "Examples of such defects are dislocations:"
   ]
  },
  {
   "cell_type": "markdown",
   "metadata": {},
   "source": [
    "![](figures/burgers_vectors.png)\n",
    "(By David Gabriel García Andrade (Own work) [Public domain], via Wikimedia Commons)"
   ]
  },
  {
   "cell_type": "markdown",
   "metadata": {},
   "source": [
    "In order to create a dislocation we need to cut a crystal along one plane and displace all the atoms along that plane by the *Burgers vector*. This has to be done all the way to the crystal boundary (or infinity in an infinite crystal), and so a dislocation cannot be removed locally.\n",
    "\n",
    "So, as Taylor Hughes explained, a dislocation can be detected infinitely far from its core by going around it and verifying that we don't return to the point of origin. We cannot remove a dislocation by just locally replacing some atoms. Therefore it may carry a topologically protected mode.\n",
    "\n",
    "Unsurprisingly, the crystallographic defects that cannot be removed locally are called \"topological\", and we come to the first important conclusion:\n",
    "\n",
    "> *Topological* crystallographic defects are the ones that may carry topologically protected modes.\n",
    "\n",
    "This is a non-trivial observation, even though it sounds tautological. There are two different types of topology involved: the topology of the electronic modes and topology of the crystal."
   ]
  },
  {
   "cell_type": "markdown",
   "metadata": {},
   "source": [
    "# The role of defect dimensionality"
   ]
  },
  {
   "cell_type": "markdown",
   "metadata": {},
   "source": [
    "When do topological defects carry the protected edge states?\n",
    "\n",
    "Far away from the defect the bulk is homogeneous. So the appearance of the edge state must be encoded jointly in the defect properties as well as the bulk Hamiltonian. Also of course the appearance of this state must be controlled by a topological invariant, since the protected state cannot disappear without the closing of the bulk gap.\n",
    "\n",
    "What kind of topological invariant can this be? Can a strong topological invariant create a protected edge state appearing at a defect?\n",
    "\n",
    "In a sense we already know that it does. The crystal surface is a defect that breaks translational symmetry, and so it is a crystallographic defect. The strong topological invariant is the quantity that tells us if the bulk cannot be continuously deformed into vacuum, or equivalently it tells us if the surface can be smoothly removed.\n",
    "\n",
    "In a $d$-dimensional bulk the strong invariant is responsible for appearance of a $d-1$-dimensional topologically protected state. This state can only be bound to a surface (the only $d-1$-dimensional topological defect). Defects of lower dimensionality can not be impacted by the strong invariant. (An example of such defect is precisely a dislocation as in the previous figure, which is a one-dimensional defect in a three-dimensional crystal.)\n",
    "\n",
    "That's where the weak invariants come into play.\n",
    "\n",
    "The first thing we know is the type of the protected state we can expect to appear at the defect. Its dimensionality $d_\\textrm{egde}$ must match the dimensionality of the defect. Further we already know the dimensionality of the topological invariant that controls this state; it is the topological invariant in the dimension $d_\\textrm{edge}+1$.\n",
    "\n",
    "The topological invariants with dimensionality $d_{edge}+1$ form a vector or a tensor of the weak indices. The last question we need to answer is how do these weak indices tell us about what happens at the impurity."
   ]
  },
  {
   "cell_type": "markdown",
   "metadata": {},
   "source": [
    "# The defect topological invariant"
   ]
  },
  {
   "cell_type": "markdown",
   "metadata": {},
   "source": [
    "We are almost ready to conclude the derivation of the criterion for appearance of the protected states in dislocations.\n",
    "\n",
    "To see how the weak topological invariant relates to the number of states in the dislocation we can start from deforming a weak topological insulator into a set of disconnected planes, each carrying protected states. If there is a single state approaching the dislocation, like you see in the figure below, it cannot backscatter and must therefore continue through the dislocation core."
   ]
  },
  {
   "cell_type": "markdown",
   "metadata": {},
   "source": [
    "![](figures/dislocation_helical.svg)"
   ]
  },
  {
   "cell_type": "markdown",
   "metadata": {},
   "source": [
    "(adapted from Cdang (Own work), via Wikimedia Commons, [CC BY-SA 3.0](http://creativecommons.org/licenses/by-sa/3.0).)"
   ]
  },
  {
   "cell_type": "markdown",
   "metadata": {},
   "source": [
    "Counting the number and the orientation of the crystal planes approaching the core of the dislocation is just the Burgers vector. So the number of edge states entering the dislocation core is the Burgers vector times the number of states per crystal plane, and we arrive to our final conclusion:\n",
    "\n",
    "$$\\mathcal{Q} = \\mathbf{\\mathcal{Q}}_\\textrm{weak}\\cdot\\mathbf{B}$$\n",
    "\n",
    "Let's now test this idea and see if we can observe the protected dislocation states."
   ]
  },
  {
   "cell_type": "markdown",
   "metadata": {},
   "source": [
    "# Electronic states in dislocations"
   ]
  },
  {
   "cell_type": "markdown",
   "metadata": {},
   "source": [
    "Now that we know the main concepts, let's apply them to concrete examples. Let's take two models for topological insulators that we already know and apply them to lattice systems with dislocations.\n",
    "\n",
    "We will create a 3D weak topological insulators by stacking many layers 2D topological insulators along the $z$ direction. For the single layers, we will use the BHZ model (by the way, note that the lecture of today was given by the H of BHZ!) for a time-reversal invariant insulator and the square lattice model for the quantum Hall effect that we used in week 4. In this way we can study dislocations both with and without time reversal symmetry. In both cases, we take the hoppings between different layers to be relatively weak with respect to those within the same layer.\n",
    "\n",
    "Let's start with a screw dislocation connecting two layers. The system looks like this:"
   ]
  },
  {
   "cell_type": "code",
   "execution_count": null,
   "metadata": {
    "collapsed": false
   },
   "outputs": [],
   "source": [
    "# System parameters\n",
    "L = 5+1\n",
    "W = 6+1\n",
    "ws = 3\n",
    "xs = 2\n",
    "sys = create_screw_system(L, W, 2, xs=xs, ys=0, ye=W-ws, pbc=False)\n",
    "\n",
    "\n",
    "\n",
    "\n",
    "fig = plt.figure(figsize=(8, 6))\n",
    "ax = fig.add_subplot(1, 1, 1, projection='3d')\n",
    "\n",
    "kwant.plot(sys, site_size=0.0, site_lw=0.01, hop_lw=0.025, ax=ax, num_lead_cells=0);\n",
    "\n",
    "# ax.set_xlabel('x')\n",
    "# ax.set_ylabel('y')\n",
    "ax.set_xticks(())\n",
    "ax.set_yticks(())\n",
    "ax.set_zticks(())\n",
    "ax.view_init(50,-110)\n"
   ]
  },
  {
   "cell_type": "markdown",
   "metadata": {},
   "source": [
    "The Burgers' vector is parallel to $z$ and it has unit length - the dislocation connects neighboring layers.\n",
    "\n",
    "The figure above only shows two layers, but we imagine that the system is repeated identically over the $z$ direction. Over the $x$ and $y$ directions it has periodic boundary conditions. Above we only show half of the dislocation.\n",
    "\n",
    "In this system we can study the band structure along the $z$ direction, and what is the wave function of the corresponding states. Let's look at them:"
   ]
  },
  {
   "cell_type": "code",
   "execution_count": null,
   "metadata": {
    "collapsed": false
   },
   "outputs": [],
   "source": [
    "# System parameters\n",
    "L = 10+1\n",
    "W = 20+1\n",
    "ws = 5\n",
    "xs = 4\n",
    "sys = create_screw_system(L, W, 5, xs=xs, ys=ws, ye=W-ws)\n",
    "\n",
    "# Model parameters\n",
    "parameters = {\n",
    "    'BHZ': {'A': 1.0, 'B': 1.0, 'D': 0.0, 'M': 0.8}, \n",
    "    'QAH': {'A': 1.0, 'B': 1.0, 'D': 0.0, 'mu': 0.8}}\n",
    "\n",
    "param = {}\n",
    "param['QAH'] = SimpleNamespace(model='QAH', field=.01, t_inter=-.1, **parameters['QAH'])\n",
    "param['BHZ'] = SimpleNamespace(model='BHZ', field=.005, t_inter=-.1, **parameters['BHZ'])\n",
    "models = ['QAH', 'BHZ']\n",
    "\n",
    "# Taking lead and specifing momenta\n",
    "momenta = np.linspace(np.pi - np.pi/4, np.pi + np.pi/4, 51)\n",
    "energies = {}\n",
    "\n",
    "lead = sys.leads[0]\n",
    "momentum = np.pi + .1\n",
    "densities_and_vals = {}\n",
    "\n",
    "# Calculating band structure and densities\n",
    "for model in models:\n",
    "    bands = kwant.physics.Bands(sys.leads[0], args=[param[model]])\n",
    "    energies[model] = [bands(k) for k in momenta]\n",
    "    densities_and_vals[model] = get_densities(lead, momentum, param[model], sorting_mid=.18)\n",
    "\n",
    "# plotting\n",
    "def plot(n, model='QAH'):\n",
    "    fig = plt.figure(figsize=[9.5, 4], tight_layout=True)\n",
    "    ax1 = fig.add_subplot(1, 2, 1)\n",
    "    ax2 = fig.add_subplot(1, 2, 2)\n",
    "    ax1.set_color_cycle(['k'])\n",
    "\n",
    "    densities, vals = densities_and_vals[model]\n",
    "    # Plotting\n",
    "    ax1.plot(momenta, energies[model])\n",
    "    ax1.plot([momentum], vals[n], 'ro')\n",
    "    ax1.plot([momentum, momentum], [-10, 10], '--')\n",
    "\n",
    "    ax2.plot([xs+0.5, xs+0.5],[ws-.5, W-ws-.5], 'k--', lw=2)\n",
    "    ax2.imshow(densities[:, :, n], cmap='gist_heat_r')#, interpolation='nearest')\n",
    "\n",
    "    # Labels\n",
    "    ax1.set_xlabel('$k$')\n",
    "    ax1.set_ylabel('$E$')\n",
    "\n",
    "    ax2.set_xlabel('$x$')\n",
    "    ax2.set_ylabel('$y$')\n",
    "\n",
    "    # Titles\n",
    "    ax1.set_title(\"band structure\")\n",
    "    ax2.set_title(\"$|\\psi|^2$\");\n",
    "\n",
    "    # Ticks\n",
    "    evals = [-.5, 0, .5, 1]\n",
    "    ax1.set_yticks(evals)\n",
    "    ax1.set_yticklabels([\"${0}$\".format(i) for i in evals]);\n",
    "\n",
    "    ax1.set_xticks([np.pi-np.pi/4, np.pi-np.pi/8, np.pi, np.pi+np.pi/8, np.pi+np.pi/4])\n",
    "    ax1.set_xticklabels([r'$\\pi-\\frac{\\pi}{4}$', '', r'$\\pi$', '', r'$\\pi+\\frac{\\pi}{4}$'])\n",
    "\n",
    "    evals = [0, 5, 10]\n",
    "    ax2.set_xticks(evals)\n",
    "    ax2.set_xticklabels([\"${0}$\".format(i) for i in evals]);\n",
    "\n",
    "    evals = [0, 10, 20]\n",
    "    ax2.set_yticks(evals)\n",
    "    ax2.set_yticklabels([\"${0}$\".format(i) for i in evals]);\n",
    "\n",
    "\n",
    "    # Limits\n",
    "    ax1.set_xlim(np.pi-np.pi/4, np.pi+np.pi/4)\n",
    "    ax1.set_ylim(-.6,0.95);\n",
    "\n",
    "    return fig\n",
    "\n",
    "StaticInteract(plot, n=RangeWidget(0,6), model=DropDownWidget(['BHZ', 'QAH']))"
   ]
  },
  {
   "cell_type": "markdown",
   "metadata": {},
   "source": [
    "You see that the band structure is gapless: because of the presence of the dislocation, there are states dispersing below the bulk gap along the $z$ direction.\n",
    "\n",
    "A look on their wavefunction on the right panel shows that these low-energy states are localized in the $x$-$y$ plane around the end points of the dislocation (we show the wave function corresponding to the red dot on the band structure plot). On the other hand, when you look at the wave function of states above the gap, you see that they are spread out the whole $x$-$y$ plane.\n",
    "\n",
    "The fundamental difference between the BHZ model case and the quantum anomalous Hall case is that in the former the gapless states at the dislocation are helical, in the latter they are chiral.\n",
    "\n",
    "We can also look at an edge dislocation:"
   ]
  },
  {
   "cell_type": "code",
   "execution_count": null,
   "metadata": {
    "collapsed": false
   },
   "outputs": [],
   "source": [
    "# System parameters\n",
    "L = 6+1\n",
    "W = 6+1\n",
    "ws = 3\n",
    "xs = 3\n",
    "sys = create_edge_dislocation_system(L, W, 2, xs=xs, ys=0, ye=W-ws, pbc=False)\n",
    "\n",
    "\n",
    "fig = plt.figure(figsize=(8, 6))\n",
    "ax = fig.add_subplot(1, 1, 1, projection='3d')\n",
    "\n",
    "kwant.plot(sys, site_size=0.0, site_lw=0.01, hop_lw=0.025, ax=ax, num_lead_cells=0);\n",
    "\n",
    "# ax.set_xlabel('x')\n",
    "# ax.set_ylabel('y')\n",
    "ax.set_xticks(())\n",
    "ax.set_yticks(())\n",
    "ax.set_zticks(())\n",
    "ax.view_init(50,-110)"
   ]
  },
  {
   "cell_type": "markdown",
   "metadata": {},
   "source": [
    "The Burgers vector is now along the $y$ direction, and it still has unit length. The band structure and the wave function plots show similar behavior."
   ]
  },
  {
   "cell_type": "code",
   "execution_count": null,
   "metadata": {
    "collapsed": false
   },
   "outputs": [],
   "source": [
    "# System parameters\n",
    "L = 10+1\n",
    "W = 20+1\n",
    "ws = 5\n",
    "xs = 4\n",
    "sys = create_edge_dislocation_system(L, W, 5, xs=xs, ys=ws, ye=W-ws)\n",
    "\n",
    "# Model parameters\n",
    "parameters = {\n",
    "    'BHZ'     : { 'A': 1.0, 'B': 1.0, 'D': 0.0, 'M':  0.8}, \n",
    "    'QAH'     : { 'A': 1.0, 'B': 1.0, 'D': 0.0, 'mu': 0.8}}\n",
    "\n",
    "param = {}\n",
    "param['QAH'] = SimpleNamespace(model='QAH', field=.01, t_inter=-.1, **parameters['QAH'])\n",
    "param['BHZ'] = SimpleNamespace(model='BHZ', field=.005, t_inter=-.1, **parameters['BHZ'])\n",
    "models = ['QAH','BHZ']\n",
    "\n",
    "# Taking lead and defining momenta\n",
    "momenta = np.linspace(-np.pi/4, +np.pi/4, 51)\n",
    "energies = {}\n",
    "\n",
    "lead = sys.leads[0]\n",
    "momentum = .1\n",
    "densities_and_vals = {}\n",
    "\n",
    "# Calculating band structure and densities\n",
    "for model in models:\n",
    "    bands = kwant.physics.Bands(sys.leads[0], args=[param[model]])\n",
    "    energies[model] = [bands(k) for k in momenta]\n",
    "    densities_and_vals[model] = get_densities(lead, momentum, param[model], sorting_mid=.0)\n",
    "    \n",
    "# plotting    \n",
    "def plot(n, model='QAH'):\n",
    "    fig = plt.figure(figsize=[9.5, 4], tight_layout=True)\n",
    "    ax1 = fig.add_subplot(1, 2, 1)\n",
    "    ax2 = fig.add_subplot(1, 2, 2)\n",
    "    ax1.set_color_cycle(['k'])\n",
    "\n",
    "    densities, vals = densities_and_vals[model]\n",
    "    \n",
    "    # Plotting\n",
    "    ax1.plot(momenta, energies[model])\n",
    "    ax1.plot([momentum], vals[n], 'ro')\n",
    "    ax1.plot([np.pi,np.pi], [-10,10], '--')\n",
    "\n",
    "    ax2.plot([xs+0.5, xs+0.5, xs-0.5, xs-0.5, xs+0.5],[ws-.5, W-ws-.5, W-ws-.5, ws-.5, ws-.5], 'k-', lw=2)\n",
    "    ax2.imshow(densities[:, :, n], cmap='gist_heat_r')#, interpolation='nearest')\n",
    "\n",
    "\n",
    "    # Labels\n",
    "    ax1.set_xlabel('$k$')\n",
    "    ax1.set_ylabel('$E$')\n",
    "\n",
    "    ax2.set_xlabel('$x$')\n",
    "    ax2.set_ylabel('$y$')\n",
    "\n",
    "    # Titles\n",
    "    ax1.set_title(\"band structure\")\n",
    "    ax2.set_title(\"$|\\psi|^2$\");\n",
    "\n",
    "    # Ticks\n",
    "    evals = [-.5, 0, .5, 1]\n",
    "    ax1.set_yticks(evals)\n",
    "    ax1.set_yticklabels([\"${0}$\".format(i) for i in evals]);\n",
    "\n",
    "    ax1.set_xticks([-np.pi/4, -np.pi/8, 0.0, np.pi/8, np.pi/4])\n",
    "    ax1.set_xticklabels([r'$-\\frac{\\pi}{4}$', '', r'$0$', '', r'$\\frac{\\pi}{4}$'])\n",
    "\n",
    "    evals = [0, 5, 10]\n",
    "    ax2.set_xticks(evals)\n",
    "    ax2.set_xticklabels([\"${0}$\".format(i) for i in evals]);\n",
    "\n",
    "    evals = [0, 5, 10, 15, 20]\n",
    "    ax2.set_yticks(evals)\n",
    "    ax2.set_yticklabels([\"${0}$\".format(i) for i in evals]);\n",
    "\n",
    "\n",
    "    # Limits\n",
    "    ax1.set_xlim(-np.pi/4, np.pi/4)\n",
    "    ax1.set_ylim(-.6,1.1);\n",
    "\n",
    "    return fig\n",
    "\n",
    "StaticInteract(plot, n=RangeWidget(0,6), model=DropDownWidget(['BHZ', 'QAH']))"
   ]
  },
  {
   "cell_type": "code",
   "execution_count": null,
   "metadata": {
    "collapsed": false
   },
   "outputs": [],
   "source": [
    "question = (\"What would happen if, in both the above simulations, we changed the dislocation, \"\n",
    "            \"making the Burgers vector twice as long?\")\n",
    "\n",
    "answers = [\"The wave function would just spread out a bit more because the dislocation is larger.\",\n",
    "           \"The number of gapless states would double for both models.\",\n",
    "           \"The gapless states would be gapped out for both models.\",\n",
    "           \"The dislocation would only have gapless states in the quantum anomalous Hall case, not for the BHZ model.\"]\n",
    "\n",
    "explanation = (\"Doubling the Burgers vector doubles the topological invariant in the $\\mathbb{Z}$ case, \"\n",
    "               \"and changes it from non-trivial to trivial in the $\\mathbb{Z}_2$ case.\")\n",
    "\n",
    "MoocMultipleChoiceAssessment(question=question, answers=answers, correct_answer=3, explanation=explanation)"
   ]
  },
  {
   "cell_type": "markdown",
   "metadata": {},
   "source": [
    "# Conclusions"
   ]
  },
  {
   "cell_type": "code",
   "execution_count": null,
   "metadata": {
    "collapsed": false
   },
   "outputs": [],
   "source": [
    "MoocVideo(\"MvcvJiZYSSk\", src_location=\"7.2-summary\")"
   ]
  },
  {
   "cell_type": "markdown",
   "metadata": {},
   "source": [
    "Questions about what you just learned? Ask them below!"
   ]
  },
  {
   "cell_type": "code",
   "execution_count": null,
   "metadata": {
    "collapsed": false
   },
   "outputs": [],
   "source": [
    "MoocDiscussion(\"Questions\", \"Crystalline defects\")"
   ]
  }
 ],
 "metadata": {
  "kernelspec": {
   "display_name": "Python 3",
   "language": "python",
   "name": "python3"
  },
  "language_info": {
   "codemirror_mode": {
    "name": "ipython",
    "version": 3
   },
   "file_extension": ".py",
   "mimetype": "text/x-python",
   "name": "python",
   "nbconvert_exporter": "python",
   "pygments_lexer": "ipython3"
  }
 },
 "nbformat": 4,
 "nbformat_minor": 0
}
