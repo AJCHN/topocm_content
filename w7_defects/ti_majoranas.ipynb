{
 "cells": [
  {
   "cell_type": "code",
   "execution_count": null,
   "metadata": {
    "collapsed": false
   },
   "outputs": [],
   "source": [
    "%run ../code/init_mooc_nb.ipy\n",
    "\n",
    "import scipy.sparse.linalg as sl\n",
    "import tinyarray as ta\n",
    "\n",
    "sigma0 = np.array([[1, 0], [0, 1]])\n",
    "sigmax = np.array([[0, 1], [1, 0]])\n",
    "sigmay = np.array([[0, -1j], [1j, 0]])\n",
    "sigmaz = np.array([[1, 0], [0, -1]])\n",
    "\n",
    "\n",
    "my = np.kron(sigmay,0.5*(sigma0+sigmaz))\n",
    "s0s0sz = ta.array(np.kron(np.kron(sigma0, sigma0), sigmaz))\n",
    "s0szsz = ta.array(np.kron(np.kron(sigma0, sigmaz), sigmaz))\n",
    "mysz = ta.array(np.kron(my, sigma0))\n",
    "s0s0sx = ta.array(np.kron(np.kron(sigma0, sigma0), sigmax))\n",
    "s0s0sy = ta.array(np.kron(np.kron(sigma0, sigma0), sigmay))\n",
    "szsxsz = ta.array(np.kron(np.kron(sigmaz, sigmax), sigmaz))\n",
    "s0sysz = ta.array(np.kron(np.kron(sigma0, sigmay), sigmaz))\n",
    "sxsxsz = ta.array(np.kron(np.kron(sigmax, sigmax), sigmaz))\n",
    "sysxsz = ta.array(np.kron(np.kron(sigmay, sigmax), sigmaz))\n",
    "\n",
    "class SimpleNamespace(object):\n",
    "    def __init__(self, **kwargs):\n",
    "        self.__dict__.update(kwargs)\n",
    "\n",
    "\n",
    "def make_qshe_sc(l=40, w=10, lead=False):\n",
    "    def shape(pos):\n",
    "        (x, y) = pos\n",
    "        return (1.0 * y**2 / l**2 + 1.0 * x**2 / w**2) <= 0.25\n",
    "    \n",
    "    def onsite(site, par):\n",
    "        (x, y) = site.pos\n",
    "        A, B, D, M = par.A/2, par.B, par.D, par.M\n",
    "        return (M - 4 * B) * s0szsz - 4 * D * s0s0sz + par.gaps(x, y)[1] * mysz + par.gaps(x, y)[0] * s0s0sx\n",
    "\n",
    "    def hopx(site1, site2, par):\n",
    "        A, B, D, M = par.A/2, par.B, par.D, par.M\n",
    "        return B * s0szsz + D * s0s0sz + 1j * A * szsxsz\n",
    "\n",
    "    def hopy(site1, site2, par):\n",
    "        A, B, D, M = par.A/2, par.B, par.D, par.M\n",
    "        return B * s0szsz + D * s0s0sz - 1j * A * s0sysz\n",
    "    \n",
    "    lat = kwant.lattice.square()\n",
    "    sys = kwant.Builder()\n",
    "    sys[lat.shape(shape, (0, 0))] = onsite\n",
    "    sys[kwant.HoppingKind((1, 0), lat)] = hopx\n",
    "    sys[kwant.HoppingKind((0, 1), lat)] = hopy\n",
    "    \n",
    "    if lead:\n",
    "        sym = kwant.TranslationalSymmetry((0, 1))\n",
    "        lead = kwant.Builder(sym)\n",
    "        lead[lat(0, 0)] = 1.5 * par.B * np.kron(np.kron(sigma0, sigmaz), sigmaz)\n",
    "        lead[kwant.HoppingKind((0, 1), lat)] = -par.B * np.kron(np.kron(sigma0, sigmaz), sigmaz)\n",
    "        sys.attach_lead(lead)        \n",
    "        sys.attach_lead(lead.reversed())\n",
    "    return sys.finalized()\n",
    "\n",
    "\n",
    "def make_qshe_sc_ribbon(w=3):\n",
    "    def ribbon_shape(pos):\n",
    "        (x, y) = pos\n",
    "        return (0 <= x < w)\n",
    "    \n",
    "    def onsite(site, par):\n",
    "        (x, y) = site.pos\n",
    "        A, B, D, M = par.A/2, par.B, par.D, par.M\n",
    "        return (M - 4 * B) * s0szsz - 4 * D * s0s0sz + par.gaps(x, y)[1] * mysz + par.gaps(x, y)[0] * s0s0sx\n",
    "\n",
    "    def hopx(site1, site2, par):\n",
    "        A, B, D, M = par.A/2, par.B, par.D, par.M\n",
    "        return B * s0szsz + D * s0s0sz + 1j * A * szsxsz\n",
    "\n",
    "    def hopy(site1, site2, par):\n",
    "        A, B, D, M = par.A/2, par.B, par.D, par.M\n",
    "        return B * s0szsz + D * s0s0sz - 1j * A * s0sysz\n",
    "    \n",
    "    \n",
    "    lat = kwant.lattice.square()\n",
    "    sym = kwant.TranslationalSymmetry((0, 1))\n",
    "    sys = kwant.Builder(sym)\n",
    "\n",
    "    \n",
    "    sys[lat.shape(ribbon_shape, (0, 0))] = onsite\n",
    "    sys[kwant.HoppingKind((1,0), lat)] = hopx\n",
    "    sys[kwant.HoppingKind((0,1), lat)] = hopy\n",
    "    \n",
    "    return sys.finalized()\n",
    "\n",
    "def make_2d_pwave(w, l):\n",
    "    def shape(pos):\n",
    "        (x, y) = pos\n",
    "        return (1.0 * y**2 / l**2 + 1.0 * x**2 / w**2) <= 0.25\n",
    "    \n",
    "    def hopx(site1, site2, par):\n",
    "        (x1, y1) = site1.pos\n",
    "        (x2, y2) = site2.pos\n",
    "        phi = par.phase(0.5 * (x1 + x2), 0.5 * (y1 + y2))\n",
    "        return -par.t * sigmaz + 1j * par.delta * \\\n",
    "                (np.cos(phi) * sigmax + np.sin(phi) * sigmay)\n",
    "    \n",
    "    def hopy(site1, site2, par):\n",
    "        (x1, y1) = site1.pos\n",
    "        (x2, y2) = site2.pos\n",
    "        phi = par.phase(0.5 * (x1 + x2), 0.5 * (y1 + y2))\n",
    "        return -par.t * sigmaz - 1j * par.delta * \\\n",
    "                (np.cos(np.pi/2 + phi) * sigmax + np.sin(np.pi/2 + phi) * sigmay)\n",
    "    \n",
    "    def onsite(site1, par):\n",
    "        return (4 * par.t - par.mu) * sigmaz \n",
    "    \n",
    "    lat = kwant.lattice.square()\n",
    "    sys = kwant.Builder()\n",
    "    sys[lat.shape(shape, (w/2 - 1, 0))] = onsite\n",
    "    sys[kwant.HoppingKind((1, 0), lat)] = hopx\n",
    "    sys[kwant.HoppingKind((0, 1), lat)] = hopy\n",
    "    \n",
    "    return sys.finalized()\n",
    "\n",
    "def bhz_slab(l, w, h):\n",
    "    lat = kwant.lattice.general(np.identity(3))\n",
    "    sys = kwant.Builder()\n",
    "    \n",
    "    def shape(pos):\n",
    "        (x, y, z) = pos\n",
    "        return (0 <= z < h) and (1.0 * y**2 / l**2 + 1.0 * x**2 / w**2) <= 0.25\n",
    "    \n",
    "    def onsite(site, par):\n",
    "        A1, A2, B1, B2, D1, D2, C, M, delta = par.A1, par.A2, par.B1, par.B2, par.D1, par.D2, par.C, par.M, par.delta\n",
    "        (x, y, z) = site.pos\n",
    "        phi = par.phase(x, y)\n",
    "        return (C + 2 * D1 + 4 * D2) * s0s0sz + (M + 2 * B1 + 4 * B2) * s0szsz + \\\n",
    "                delta * (np.cos(phi) * s0s0sx + np.sin(phi) * s0s0sy)\n",
    "\n",
    "    def hopx(site1, site2, par):\n",
    "        A1, A2, B1, B2, D1, D2, C, M = par.A1, par.A2, par.B1, par.B2, par.D1, par.D2, par.C, par.M\n",
    "        return - D2 * s0s0sz - B2 * s0szsz + A2 * 0.5j * sxsxsz\n",
    "\n",
    "    def hopy(site1, site2, par):\n",
    "        A1, A2, B1, B2, D1, D2, C, M = par.A1, par.A2, par.B1, par.B2, par.D1, par.D2, par.C, par.M\n",
    "        return - D2 * s0s0sz - B2 * s0szsz + A2 * 0.5j * sysxsz\n",
    "\n",
    "    def hopz(site1, site2, par):\n",
    "        A1, A2, B1, B2, D1, D2, C, M = par.A1, par.A2, par.B1, par.B2, par.D1, par.D2, par.C, par.M\n",
    "        return - D1 * s0s0sz - B1 * s0szsz + A1 * 0.5j * szsxsz\n",
    "\n",
    "    sys[lat.shape(shape, (0,0,0))] = lambda site, par: onsite(site, par) \n",
    "    sys[kwant.HoppingKind((1,0,0), lat)] = lambda site1, site2, par: hopx(site1, site2, par)\n",
    "    sys[kwant.HoppingKind((0,1,0), lat)] = lambda site1, site2, par: hopy(site1, site2, par)\n",
    "    sys[kwant.HoppingKind((0,0,1), lat)] = lambda site1, site2, par: hopz(site1, site2, par)\n",
    "        \n",
    "    return sys.finalized()"
   ]
  },
  {
   "cell_type": "markdown",
   "metadata": {},
   "source": [
    "#Table of Contents\n",
    "* [Introduction](#Introduction)\n",
    "* [Different types of bulk-edge correspondence](#Different-types-of-bulk-edge-correspondence)\n",
    "* [Turning the helical edge into a topological superconductor](#Turning-the-helical-edge-into-a-topological-superconductor)\n",
    "* [Two-dimensional $p$-wave superconductors](#Two-dimensional-$p$-wave-superconductors)\n",
    "* [Vortices in 2D p-wave superconductors](#Vortices-in-2D-p-wave-superconductors)\n",
    "* [Vortices in 3D topological insulator](#Vortices-in-3D-topological-insulator)\n",
    "* [Conclusions](#Conclusions)\n"
   ]
  },
  {
   "cell_type": "markdown",
   "metadata": {},
   "source": [
    "# Introduction"
   ]
  },
  {
   "cell_type": "markdown",
   "metadata": {},
   "source": [
    "We have a returning lecturer for the first chapter of this week's lectures: Carlo Beenakker from Leiden University, who will tell us more about different ways to create Majoranas in superconducting vortices."
   ]
  },
  {
   "cell_type": "code",
   "execution_count": null,
   "metadata": {
    "collapsed": false
   },
   "outputs": [],
   "source": [
    "MoocVideo(\"YVGlfejNH90\", src_location=\"7.1-intro\")"
   ]
  },
  {
   "cell_type": "markdown",
   "metadata": {},
   "source": [
    "# Different types of bulk-edge correspondence"
   ]
  },
  {
   "cell_type": "markdown",
   "metadata": {},
   "source": [
    "We know already that topology allows to create locally impossible Hamiltonians that cannot exist on their own by using bulk-edge correspondence and separating these subsystems from each other. So the unpaired Majorana bound states in a Kitaev chain exist because the chain separates them.\n",
    "\n",
    "The systems that we learned so far were all united by the same idea: the topologically protected states were separated by a bulk that is one dimension higher than the dimension of these states. The 0D Majorana bound states were separated by a 1D bulk of a Kitaev chain, 1D chiral modes were pulled apart by a 2D Chern insulator.\n",
    "\n",
    "The key idea of this week is that it does not need to be the case.\n",
    "\n",
    "> The dimension of the bulk does not need to be one higher than the dimension of the topologically protected edge. Any dimension higher than the dimension of the edge will work equally well.\n",
    "\n",
    "We will see that this simple insight allows to find alternative implementations of the topological states, and so provides new search directions in the hunt for the topological protection."
   ]
  },
  {
   "cell_type": "markdown",
   "metadata": {},
   "source": [
    "# Turning the helical edge into a topological superconductor"
   ]
  },
  {
   "cell_type": "markdown",
   "metadata": {},
   "source": [
    "In the past weeks, we have studied two systems in appearance very different, but where topology showed up in a very similar way.\n",
    "\n",
    "First, let's consider the quantum spin-Hall insulator. As we saw two weeks ago, it is characterized by a fermion parity pump: if you take a Corbino disk made out of a quantum spin-Hall insulator and change the flux by half of a normal flux quantum, that is by $h/2e$, one unit of fermion parity is transferred from one edge to the other of the sample.\n",
    "\n",
    "Let's now consider a one-dimensional topological superconductor, that we studied in week two and three. There, we saw that if such a system is closed into a Josephson ring, and the flux through the ring is advanced by one superconducting quantum $h/2e$, the fermion parity at the Josephson junction connecting the two ends changes from even to odd, or viceversa. This is the $4π$ Josephson effect, one of the main signatures of topological superconductivity.\n",
    "\n",
    "Note that the interesting value of flux is equal to $h/2e$ in both cases, since a superconducting flux quantum $h/2e$ is half of the normal quantum $h/e$.\n",
    "\n",
    "This suggest that once you have a quantum-spin Hall insulator, you are only one small step away from topological superconductivity and Majoranas. The only ingredient that is missing is to introduce superconducting pairing on the quantum spin-Hall edge.\n",
    "\n",
    "But this is easy to add, for instance by putting a superconductor on top of the outer edge of our quantum spin-Hall Corbino disk:"
   ]
  },
  {
   "cell_type": "markdown",
   "metadata": {},
   "source": [
    "![](figures/qsh_josephson_ring.png)"
   ]
  },
  {
   "cell_type": "markdown",
   "metadata": {},
   "source": [
    "The superconductor covers the entire quantum spin-Hall edge except for a small segment, which acts as a Josephson junction with a phase difference given by $\\phi = 2e\\Phi/\\hbar$.  We imagine that the superconductor gaps out the helical edge by proximity, meaning that Cooper pair can tunnel in and out from the superconductor into the edge. In order for this to happen a conventional $s$-wave superconductor is enough.\n",
    "\n",
    "Let's not do our pumping experiment again, increasing the flux $\\Phi$ through the ring by $h/2e$. We know that one unit of fermion parity must be transferred from the inner edge of the disk to the outer edge. However, the only place where we can find a zero-energy state is now the Josephson junction, because the rest of the edge is gapped.\n",
    "\n",
    "From the point of view of the superconducting junction, this means that advancing the phase difference by $2\\pi$, the ground state fermion parity of the junction changes. Recalling what we learned in our second and third weeks, we can say that the Josephson effect is $4\\pi$-periodic."
   ]
  },
  {
   "cell_type": "code",
   "execution_count": null,
   "metadata": {
    "collapsed": false
   },
   "outputs": [],
   "source": [
    "question = (\"What happens to the Josephson current in the setup shown above if you remove the inner edge of the Corbino disk?\")\n",
    "\n",
    "answers = [\"The pumping argument fails and the Josephson effect becomes $2\\pi$ periodic.\",\n",
    "           \"Then you cannot anymore insert a flux through the disk.\",\n",
    "           \"The Josephson effect remains $4\\pi$ periodic, but the fermion parity becomes fixed.\",\n",
    "           \"Nothing changes if the inner edge of the Corbino disk is removed.\"]\n",
    "\n",
    "explanation = (\"Josephson current is a local effect, so it cannot be affected by a removal of the inner edge. \"\n",
    "               \"When you insert a superconducting flux quantum into the ring, the fermion parity of the edge becomes odd. \"\n",
    "               \"The extra fermion comes from the gapped bulk of QSHE, which now acquires one broken \"\n",
    "               \"Kramers pair. That is allowed since there is half a normal flux quantum penetrating the bulk, \"\n",
    "               \"and the Kramers theorem doesn't apply anymore.\")\n",
    "\n",
    "MoocMultipleChoiceAssessment(question=question, answers=answers, correct_answer=3, explanation=explanation)"
   ]
  },
  {
   "cell_type": "markdown",
   "metadata": {},
   "source": [
    "## Majoranas on the quantum spin-Hall edge"
   ]
  },
  {
   "cell_type": "markdown",
   "metadata": {},
   "source": [
    "We know that the $4\\pi$-periodicity of the Josephson effect can always be associated with the presence of Majorana zero modes at the two superconducting interfaces of the Josephson junction.\n",
    "\n",
    "If you compare the system above with the Josephson ring studied in week three, however, you will notice an important difference. In that case the Josephson junction was formed by an insulating barrier, while in our case the two superconducting interfaces are connected by the quantum spin-Hall edge.\n",
    "\n",
    "This means that our Majoranas are connected by a gapless system, and therefore always strongly coupled. In order to see unpaired Majoranas, or at least weakly coupled ones, we need to gap out the segment of the edge forming the Josephson junction.\n",
    "\n",
    "Now, the new gap cannot really be another piece of superconductor, otherwise we would form two Josephson junction in series, whereas we want only one.\n",
    "\n",
    "We know that the edge modes of the quantum spin-Hall insulator are protected by time-reversal symmetry and do not care about potential barriers or impurities. To gap the edge we need to break time-reversal symmetry. This can be done by adding a local magnetic field, or a magnet, to the segment of the edge between the two superconductors:"
   ]
  },
  {
   "cell_type": "markdown",
   "metadata": {},
   "source": [
    "![](figures/qsh_majoranas.png)"
   ]
  },
  {
   "cell_type": "markdown",
   "metadata": {},
   "source": [
    "In the sketch above, you see the cartoon of two Majoranas with decaying wavefunction, each one situated at the interface between the magnet and the superconductor. As Carlo Beenakker said, these Majoranas are really similar to those we found at the ends of quantum wires.\n",
    "\n",
    "To understand them in more detail, note that the magnet and the superconductor both introduce a gap in the helical edge, but with a completely different physical mechanism. The magnet flips the spin of an incoming electron, or hole, while the superconductor turns an incoming electron with spin up into an outgoing hole with spin down. These two different types of reflection processes combine together to form a Majorana bound state.\n",
    "\n",
    "We can capture this behavior with the following Bogoliubov-de Gennes Hamiltonian for the edge:\n",
    "\n",
    "$$H_\\textrm{BdG}=(-iv\\sigma_x \\partial_x-\\mu)\\tau_z+m(x)\\,\\sigma_z+\\Delta(x)\\,\\tau_x.$$\n",
    "\n",
    "The first term is the edge Hamiltonian of the quantum spin-Hall effect, describing spin up and down electrons moving in opposite direction, together with a chemical potential $\\mu$. The matrix $\\tau_z$ acts on the particle-hole degrees of freedom, doubling the normal state Hamiltonian as usual. The second term is the Zeeman term due to the presence of the magnet. Finally, the last term is the superconducting pairing.\n",
    "\n",
    "The strength of the Zeeman field and of the pairing, $m(x)$ and $\\Delta(x)$, both depend on position. At a domain wall between the superconductor and the magnet, when the relevant gap for the edge changes between $m$ and $\\Delta$, the Hamiltonian above yields a Majorana mode."
   ]
  },
  {
   "cell_type": "markdown",
   "metadata": {},
   "source": [
    "This can be seen below in a numerical simulation of a quantum spin-Hall disk. On the left panel you see the edge state of the disk without any superconductor or magnet. To obtain two well-separated Majoranas, in the right panel we cover half of the disk by a superconductor and half by a magnet:"
   ]
  },
  {
   "cell_type": "code",
   "execution_count": null,
   "metadata": {
    "collapsed": false
   },
   "outputs": [],
   "source": [
    "l = 60\n",
    "w = 60\n",
    "sys2 = make_qshe_sc(l, w)\n",
    "num_states = 10\n",
    "\n",
    "par = SimpleNamespace(A=0.5, B=1.00, D=0.1, M=0.5, gaps=lambda x, y: np.array([(y<0)*0.0, (y>=0)*0.0]))\n",
    "ham = sys2.hamiltonian_submatrix(args=[par,], sparse=True).tocsc()\n",
    "energies0, states0 = sl.eigsh(ham, sigma=0, k=num_states)\n",
    "\n",
    "\n",
    "par = SimpleNamespace(A=0.5, B=1.00, D=0.1, M=0.5, gaps=lambda x, y: np.array([(y<0)*0.2, (y>=0)*0.3]))\n",
    "ham = sys2.hamiltonian_submatrix(args=[par,], sparse=True).tocsc()\n",
    "energies, states = sl.eigsh(ham, sigma=0, k=num_states)\n",
    "\n",
    "\n",
    "phi = np.linspace(-np.pi, np.pi, 51)\n",
    "x = (w + 0.5) / 2 * np.cos(phi)\n",
    "y = (l + 0.5) / 2 * np.sin(phi)\n",
    "\n",
    "densities = (np.linalg.norm(states.reshape(-1, 8, num_states), axis=1)**2)\n",
    "densities0 = (np.linalg.norm(states0.reshape(-1, 8, num_states), axis=1)**2)\n",
    "\n",
    "fig = plt.figure(figsize=(9, 3.5))\n",
    "ax1 = fig.add_subplot(122)\n",
    "gap_B = ax1.fill_between(x[:26], 0, y[:26], facecolor='gold', alpha=0.1)\n",
    "gap_Sc = ax1.fill_between(x[26:], 0, y[26:], facecolor='blue', alpha=0.1)\n",
    "kwant.plotter.map(sys2, densities[:,0], colorbar=False, ax=ax1, cmap='gist_heat_r')\n",
    "plt.plot(x, y, 'k-', lw=2)\n",
    "plt.annotate('$E_Z$', xytext=(-w/20, l/5), xy=(0, l/3), fontsize=16,\n",
    "            arrowprops=dict(arrowstyle=\"-\", facecolor='black', lw=0))\n",
    "plt.annotate('$\\Delta$', xytext=(-w/20, -l/4), xy=(0, -l/3), fontsize=16,\n",
    "            arrowprops=dict(arrowstyle=\"-\", facecolor='black', lw=0))\n",
    "ax1.set_yticks([])\n",
    "ax1.set_xticks([])\n",
    "ax1.set_ylim(-l/2-3, l/2+3)\n",
    "ax1.set_xlim(-w/2-3, w/2+3)\n",
    "pot = int(np.log(abs(energies0[0])) / np.log(10.0)) - 1\n",
    "fac = abs(energies0[0])*10**(-pot)\n",
    "ax1.set_title('Majoranas, $E = $' + scientific_number(abs(energies[0])) )\n",
    "\n",
    "ax0 = fig.add_subplot(121)\n",
    "kwant.plotter.map(sys2, densities0[:,0], colorbar=False, ax=ax0, cmap='gist_heat_r')\n",
    "ax0.set_yticks([])\n",
    "ax0.set_xticks([])\n",
    "ax0.set_ylim(-l/2-3, l/2+3)\n",
    "ax0.set_xlim(-w/2-3, w/2+3)\n",
    "ax0.set_title('Edge state, $E = $' + scientific_number(abs(energies0[0])))\n",
    "plt.plot(x, y, 'k-', lw=2)\n",
    "plt.show()"
   ]
  },
  {
   "cell_type": "markdown",
   "metadata": {},
   "source": [
    "The density of state plot of the lowest energy state reveals two Majorana modes at the two interfaces between the magnet and the superconductor, localized at the edge.\n",
    "\n",
    "Staring at the plot above, you see clearly how is it possible to obtain 0D topologically protected states (the Majorana modes) starting from a $2D$ bulk topological phase (the quantum spin Hall insulator) and adding some appropriate ingredients (the superconductor and the magnet)."
   ]
  },
  {
   "cell_type": "markdown",
   "metadata": {},
   "source": [
    "# Two-dimensional $p$-wave superconductors"
   ]
  },
  {
   "cell_type": "markdown",
   "metadata": {},
   "source": [
    "Let's now move on to discuss Majoranas in vortices, as discussed by Carlo Beenakker in the introductory video. We will need a model for a 2D topological superconductor. How to get it?\n",
    "\n",
    "It turns out that the idea we used to construct 2D Chern insulators, in week 4, by coupling together 1D Kitaev chains, can also be used to construct 2D topological superconductors.\n",
    "\n",
    "Not really surprised, are you? At that point, we told you to forget that the Kitaev model was really a superconductor. Now you can remember that and it won't surprise you that if we paste 1D superconductors together then we get a 2D superconductor.\n",
    "\n",
    "So let's look back at the Hamiltonian we obtained for a Chern insulator by coupling a stack of Kitaev chains: \n",
    "\n",
    "$$H_\\textrm{2D}(\\mathbf{k})=-(2t\\cos{k_x}+\\mu)\\,\\tau_z+\\Delta\\sin{k_x}\\tau_y-2\\gamma\\,(\\cos{k_y}\\tau_z+\\sin{k_y}\\,\\tau_x).$$ \n",
    "\n",
    "Those of us who want to be careful, would want to check that the above Hamiltonian is indeed a superconductor, and in particular that the terms coupling different chains that we added back then to the Kitaev chain did not spoil its particle-hole symmetry.\n",
    "\n",
    "And indeed if we consider the operator $\\mathcal{P}=\\tau_x \\mathcal{K}$ with $\\mathcal{K}$ the complex conjugation operator, we find that the Bloch Hamiltonian obeys $H_\\textrm{2D}(\\mathbf{k}) = -\\tau_x H^*_\\textrm{2D}(-\\mathbf{k}) \\tau_x$, precisely the symmetry obeyed by the Kitaev chain, extended to two dimensions (If you do not remember how to apply an anti-unitary symmetry in momentum space, you can go back to week 1 where you find the original derivation).\n",
    "\n",
    "The Hamiltonian above is quite anisotropic - it looks different in the $x$ and $y$ directions, a consequence of the way we derived it in week four. For our purposes, however, it is convenient to make it look isotropic. So we tweak the coefficients in $H$ to make it more isotropic, without closing the gap and hence without changing its topological properties.\n",
    "\n",
    "In this way we arrive at the canonical Hamiltonian of a so-called $p$-wave superconductor:\n",
    "\n",
    "$$H(k_x,k_y)=-[2t\\,(\\cos{k_x}+\\cos{k_y})+\\mu]\\,\\tau_z+\\Delta\\,(\\sin{k_x}\\tau_y-\\sin{k_y}\\tau_x).$$\n",
    "\n",
    "Apart from looking more symmetric between the $x$ and $y$ directions, the Hamiltonian clearly separates normal hopping, proportional to $t$, and superconducting pairing, proportional to $\\Delta$. This superconductor is $p$-wave because the pairing is linear in momentum, just like in the Kitaev chain. This can be seen explicitly by expanding $H$ around $\\mathbf{k}=\\mathbf{0}$.\n",
    "\n",
    "$$H(k_x,k_y)\\approx [t\\,(k_x^2+k_y^2)-\\mu+4 t]\\tau_z+[i \\Delta(k_x+i k_y)\\tau_++\\textrm{h.c.}],$$\n",
    "\n",
    "where $\\tau_+=(\\tau_x+i\\tau_y)/2$. Note that the pairing is proportional to $k_x+ik_y$ and it breaks both time-reversal and inversion symmetries.\n",
    "\n",
    "The reinterpretation of the Hamiltonian $H$ as a superconductor does not take away from the fact that the Hamiltonian is still a Chern insulator, except that the system is now physically different - a superconductor rather than an insulator. In particular, the system is still characterized by a bulk Chern number which determines the presence of chiral edge states.\n",
    "A chiral edge state can be described by a simple effective Hamiltonian, equivalent to that of a quantum Hall system:\n",
    "\n",
    "$$H_\\textrm{edge}=\\hbar v k$$\n",
    "\n",
    "with $v$ the velocity and $k$ the momentum along the edge. Note that the edge Hamiltonian maintains the particle-hole symmetry of the bulk: for every state with energy $E$ and momentum $k$ there is a state with energy $-E$ and momentum $-k$.\n",
    "\n",
    "We are now ready to see how unpaired Majoranas can appear in a 2D $p$-wave superconductor."
   ]
  },
  {
   "cell_type": "markdown",
   "metadata": {},
   "source": [
    "# Vortices in 2D p-wave superconductors"
   ]
  },
  {
   "cell_type": "markdown",
   "metadata": {},
   "source": [
    "So far we have considered a uniform superconducting pairing $\\Delta$, with constant amplitude and phase. This is an idealized situation, which would correspond to a perfect superconductor with no defects.\n",
    "\n",
    "If you apply a small magnetic field to a superconducting film, or if there are defects in the material, a [**vortex**](http://en.wikipedia.org/wiki/Abrikosov_vortex) of supercurrent can form to lower the free energy of the system.\n",
    "In a vortex, you have a circulating supercurrent in a small area encircling the defect or the magnetic lines penetrating the superconductor. The flux enclosed by the vortex supercurrent is equal to a superconducting flux quantum $h/2e$.\n",
    "\n",
    "The amplitude $\\Delta$ of the superconducting pairing is suppressed in the core of the vortex, going to zero in its middle, and the superconducting phase winds by $2\\pi$ around a closed path surrounding it. The situation is sketched below:"
   ]
  },
  {
   "cell_type": "markdown",
   "metadata": {},
   "source": [
    "![](figures/vortex.png)"
   ]
  },
  {
   "cell_type": "markdown",
   "metadata": {},
   "source": [
    "Because the pairing $\\Delta$ goes to zero in the middle of the vortex, there can be states with an energy smaller than the gap which are localized at the vortex core. We now want to see whether it is possible to have a non-degenerate zero energy solution in the vortex - because of particle-hole symmetry, this would be an unpaired Majorana mode!\n",
    "\n",
    "To compute the spectrum of the vortex we could introduce a position dependent-phase for $\\Delta$ in the Hamiltonian of the superconductor, and solve it for the energy spectrum by going through quite some algebra. As usual for this course, we will however take a shortcut.\n",
    "\n",
    "Our shortcut goes through answering the following question: how is the spectrum of the chiral edge states affected by introducing a vortex in the middle of the superconductor?\n",
    "\n",
    "We know since week one that changing the flux through a superconducting ring by a flux quantum changes the boundary condition from periodic to antiperiodic, or viceversa.\n",
    "\n",
    "A vortex has precisely the same effect on the chiral edge states. Therefore in the presence of a vortex, the allowed values $k_n$ of momentum of a disk shift by $\\pi/L$, with $L$ the length of the edge. The energy levels depend linearly on momentum and are shifted accordingly,\n",
    "\n",
    "$$\n",
    "E_n\\,\\to\\, E_n + \\hbar v \\pi / L\n",
    "$$\n",
    "\n",
    "Now, with or without the vortex the spectrum must be symmetric around $E=0$ because of particle-hole symmetry. The energy levels $E_n$ correspond to standing waves and are equally spaced, with spacing given by $2\\hbar v \\pi / L$. There are only two such spectra consistent with particle-hole symmetry, $E_n = 2\\pi\\,n\\, \\hbar v / L$ and $E_n = 2\\pi\\,(n+1/2)\\, \\hbar v / L$.\n",
    "\n",
    "Which one of the two spectra correspond to the presence of a vortex?\n",
    "\n",
    "To answer this question, observe that the energy spectrum $E_n = 2 \\pi\\,n\\,\\hbar v / L$ includes a zero-energy solution, which is an unpaired Majorana mode at the edge! This is impossible unless there is somewhere a place to have a second zero-energy solution. And the only other possible place where we could have a zero-energy solution is the core of the vortex.\n",
    "\n",
    "> Just by looking at the edge state momentum quantization, we have thus demonstrated that a vortex in a $p$-wave superconductor must come with a Majorana.\n",
    "\n",
    "In the plot below, we plot the wave function of the lowest energy state in a $p$-wave disk with a vortex in the middle of the disk. The lowest energy wavefunction is an equal superposition of the two Majorana modes. Here you can see that half of it is localized close to the vortex core and half of it close to the edge."
   ]
  },
  {
   "cell_type": "code",
   "execution_count": null,
   "metadata": {
    "collapsed": false
   },
   "outputs": [],
   "source": [
    "par = SimpleNamespace(t=1.0, mu=0.4, delta=0.5, phase=lambda x,y: np.angle(x+1j*y))\n",
    "l = 60\n",
    "w = 60\n",
    "sys = make_2d_pwave(w,l)\n",
    "\n",
    "ham = sys.hamiltonian_submatrix(args=[par,], sparse=True).tocsc()\n",
    "num_states = 10\n",
    "energies, states = sl.eigsh(ham, sigma=0, k=num_states)\n",
    "\n",
    "densities = (np.linalg.norm(states.reshape(-1, 2, num_states), axis=1)**0.5)\n",
    "kwant.plotter.map(sys, densities[:,0], cmap='gist_heat_r', show=False)\n",
    "plt.show()"
   ]
  },
  {
   "cell_type": "markdown",
   "metadata": {},
   "source": [
    "The wave function is not zero in the bulk between the edge and the vortex because of the relatively small size of the system. The separation between edge and vortex, or between different vortices, plays the same role of the finite length of a Kitaev chain, splitting the Majorana modes away from zero energy by an exponential small amount."
   ]
  },
  {
   "cell_type": "code",
   "execution_count": null,
   "metadata": {
    "collapsed": false
   },
   "outputs": [],
   "source": [
    "question = (\"What happens if you add a second vortex to the superconductor? \"\n",
    "            \"Imagine that vortices and edge are all very far away from each other\")\n",
    "\n",
    "answers = [\"The second vortex has no Majorana.\",\n",
    "           \"Both vortices have a Majorana, and the edge has two Majoranas.\",\n",
    "           \"The Majorana mode at the edge goes away, and each vortex has its own Majorana.\",\n",
    "           \"Vortices can only be added in pairs because Majoranas only come in pairs.\"]\n",
    "\n",
    "explanation = (\"The energy spectrum of the edge is shifted by $\\hbar v \\pi/L$ by adding a second vortex, \"\n",
    "               \"so the edge has no Majoranas now. The first vortex is not affected, and we know that it has a Majorana. \"\n",
    "               \"And so, of course, the second vortex must have a Majorana as well.\")\n",
    "\n",
    "MoocMultipleChoiceAssessment(question=question, answers=answers, correct_answer=2, explanation=explanation)"
   ]
  },
  {
   "cell_type": "markdown",
   "metadata": {},
   "source": [
    "# Vortices in 3D topological insulator"
   ]
  },
  {
   "cell_type": "markdown",
   "metadata": {},
   "source": [
    "Unfortunately, superconductors with $p$-wave pairing are very rare, with mainly [one material](http://en.wikipedia.org/wiki/Strontium_ruthenate) being a good candidate. But rather than waiting for Nature to help us, we can try to be ingenious.\n",
    "\n",
    "As Carlo mentioned, Fu and Kane [realized](http://arxiv.org/abs/0707.1692) that one could obtain an effective $p$-wave superconductor and Majoranas on the surface of a 3D TI.\n",
    "\n",
    "We already know how to make Majoranas with a 2D topological insulator. Let us now consider an interface between a magnet and a superconductor on the surface of a 3D topological insulator. Since the surface of the 3D TI is two dimensional, such an interface will be a one dimensional structure and not a point defect as in the quantum spin-Hall case.\n",
    "\n",
    "The Hamiltonian of the surface is a very simple extension of the edge Hamiltonian,  $\\sigma_x k_x + \\sigma_y k_y$ instead of just $\\sigma_x k_x$. We can imagine that $k_y$ is the momentum along the interface between the magnet and the superconductor, and it is conserved. The effective Bogoliubov-de Gennes Hamiltonian is\n",
    "\n",
    "$$H_\\textrm{BdG}=(-i\\sigma_x \\partial_x+ \\sigma_y k_y-\\mu)\\tau_z+m(x)\\,\\sigma_z+\\Delta(x) \\tau_x.$$\n",
    "\n",
    "What is the dispersion $E(k_y)$ of states along the interface resulting from this Hamiltonian? Well, for $k_y=0$ we have exactly the Hamiltonian of the magnet/superconductor interface in the quantum spin-Hall case, which had a zero mode. So we know that the interface is gapless. The magnet breaks time-reversal symmetry, so we will have a chiral edge state, with energy $E$ proportional to $k_y$. Just like in the $p$-wave superconductor case!\n",
    "\n",
    "Arrived at this point, analyzing the case of a vortex is very simple. We just have to reproduce the geometry we analyzed before. That is, we imagine that an $s$-wave superconductor forms a disk surrounded by a magnetic insulator, and with a vortex in the middle, all on the surface of a 3D topological insulator:"
   ]
  },
  {
   "cell_type": "markdown",
   "metadata": {},
   "source": [
    "![](figures/3d_ti_vortex.png)"
   ]
  },
  {
   "cell_type": "markdown",
   "metadata": {},
   "source": [
    "The introduction of a vortex changes the boundary conditions for the momentum at the edge, as in the $p-$wave case, affecting the spectrum of the chiral edge states running around the disk\n",
    "\n",
    ">Following the identical arugment as in the $p-$wave case particle-hole symmetry dictates that there is a Majorana mode in the vortex core in a 3D TI. Interestingly, the vortex core is spatially separated from the magnet - so the vortex should contain a Majorana mode irrespective of the magnet that was used to create the chiral edge mode.\n",
    "\n",
    "In fact, the magnet was only a crutch that we used to make our argument. We can now throw it away and consider a vortex in a superconductor which covers the entire surface of the topological insulator.\n",
    "\n",
    "To confirm this conclusion, below we show the result of a simulation of a 3D BHZ model in a cube geometry, with a vortex line passing through the middle of the cube. To make things simple, we have added superconductivity everywhere in the cube, and not just on the surface (nothing prevents us to do this, even though in real life materials like Bi$_2$Te$_3$ are not naturally superconducting)."
   ]
  },
  {
   "cell_type": "code",
   "execution_count": null,
   "metadata": {
    "collapsed": false
   },
   "outputs": [],
   "source": [
    "l, w, h = 10, 10, 25\n",
    "sys = bhz_slab(l, w, h)\n",
    "\n",
    "par = SimpleNamespace(A1=0.5, A2=0.5, B1=0.5, B2=0.5, C=-0.2, D1=0.1, D2=0.0, M=-0.2, \n",
    "                      delta=0.15, phase=lambda x,y: 1 * np.angle(x+1j*y))\n",
    "\n",
    "ham = sys.hamiltonian_submatrix(args=[par,], sparse=True).tocsc()\n",
    "num_states = 10\n",
    "energies, states = sl.eigsh(ham, sigma=0, k=num_states)\n",
    "\n",
    "densities = (np.linalg.norm(states.reshape(-1, 8, num_states), axis=1)**2)\n",
    "\n",
    "fig = plt.figure(figsize=(9, 3.5))\n",
    "\n",
    "ax0 = fig.add_subplot(121, projection='3d')\n",
    "kwant.plot(sys, ax=ax0, site_size=0.3*np.linspace(1, 1, len(densities[:, 0])))\n",
    "ax0.set_xlim(-w/2-2, w/2+2)\n",
    "ax0.set_ylim(-l/2-2, l/2+2)\n",
    "ax0.set_yticks([])\n",
    "ax0.set_xticks([])\n",
    "ax0.set_zlim3d([0, h])\n",
    "ax0.set_zticks([0, h])\n",
    "ax0.set_zticklabels(['$0$', '$%d$' %h])\n",
    "#plt.title('System')\n",
    "densities /= np.max(densities, axis=0, keepdims=True)\n",
    "\n",
    "ax1 = fig.add_subplot(122, projection='3d')\n",
    "kwant.plotter.plot(sys, site_size=densities[:, 0], site_color=densities[:, 0], ax=ax1,\n",
    "                   cmap='gist_heat_r', colorbar=False, site_lw=0)\n",
    "ax1.set_xlim(-w/2-2, w/2+2)\n",
    "ax1.set_ylim(-l/2-2, l/2+2)\n",
    "ax1.set_yticks([])\n",
    "ax1.set_xticks([])\n",
    "ax1.set_zlim3d([0, h])\n",
    "ax1.set_zticks([0, h])\n",
    "ax1.set_zticklabels(['$0$', '$%d$' %h])\n",
    "#plt.title('Majoranas, $E = $' + scientific_number(abs(energies[0])))\n",
    "plt.show()"
   ]
  },
  {
   "cell_type": "markdown",
   "metadata": {},
   "source": [
    "In the right panel, you can see a plot of the wavefunction of the lowest energy state. You can see that it is very well localized at the end points of the vortex line passing through the cube. These are precisely the two Majorana modes that Carlo Beenakker explained at the end of his introductory video."
   ]
  },
  {
   "cell_type": "markdown",
   "metadata": {},
   "source": [
    "# Conclusions"
   ]
  },
  {
   "cell_type": "code",
   "execution_count": null,
   "metadata": {
    "collapsed": false
   },
   "outputs": [],
   "source": [
    "MoocVideo(\"B7lMz-NrKec\", src_location=\"7.1-summary\")"
   ]
  },
  {
   "cell_type": "markdown",
   "metadata": {},
   "source": [
    "Questions about what you just learned? Ask them below!"
   ]
  },
  {
   "cell_type": "code",
   "execution_count": null,
   "metadata": {
    "collapsed": false
   },
   "outputs": [],
   "source": [
    "MoocDiscussion(\"Questions\", \"Majoranas in topological insulators\")"
   ]
  }
 ],
 "metadata": {},
 "nbformat": 4,
 "nbformat_minor": 0
}