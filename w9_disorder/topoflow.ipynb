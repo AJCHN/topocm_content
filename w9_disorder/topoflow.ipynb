{
 "cells": [
  {
   "cell_type": "code",
   "execution_count": null,
   "metadata": {
    "collapsed": false
   },
   "outputs": [],
   "source": [
    "%run ../code/init_mooc_nb.py\n",
    "\n",
    "from matplotlib.collections import LineCollection\n",
    "from matplotlib.colors import ListedColormap, BoundaryNorm\n",
    "\n",
    "\n",
    "from itertools import imap\n",
    "from functools import partial\n",
    "import scipy.linalg as la\n",
    "import tinyarray as ta\n",
    "\n",
    "sigma0 = ta.array([[1., 0.], [0., 1.]])\n",
    "sigmax = ta.array([[0., 1.], [1., 0.]])\n",
    "sigmay = ta.array([[0., -1j], [1j, 0.]])\n",
    "sigmaz = ta.array([[1., 0.], [0., -1.]])\n",
    "\n",
    "\n",
    "def onsite(site, par):\n",
    "    if not par.disorder:\n",
    "        return (par.m + 2 * par.t) * sigmaz\n",
    "    else:\n",
    "        rand = par.disorder * kwant.digest.gauss(str(site.tag), par.salt)\n",
    "        return (par.m + rand + 2 * par.t) * sigmaz\n",
    "\n",
    "    \n",
    "def hop(site1, site2, par):\n",
    "    return -par.t * sigmaz - 1j * par.delta * sigmay\n",
    "    \n",
    "\n",
    "def make_kitaev_chain(L=10):\n",
    "    lat = kwant.lattice.chain()\n",
    "    sys = kwant.Builder()\n",
    "    \n",
    "    sys[(lat(i) for i in xrange(L))] = onsite\n",
    "    sys[kwant.HoppingKind((1,), lat)] = hop\n",
    "    \n",
    "    sym = kwant.TranslationalSymmetry((1,))\n",
    "    lead = kwant.Builder(sym)\n",
    "\n",
    "    # The leads are precalculated.\n",
    "    lead[lat(0)] = onsite\n",
    "    lead[kwant.HoppingKind((1,), lat)] = hop\n",
    "    \n",
    "    sys.attach_lead(lead)\n",
    "    sys.attach_lead(lead.reversed())\n",
    "    sys = sys.finalized()\n",
    "    sys = sys.precalculate(args=[SimpleNamespace(t=1.0, m=0.0, delta=1.0, disorder=0)])\n",
    "    \n",
    "    return sys\n",
    "\n",
    "\n",
    "def phase_diagram(L, ms, par, num_average=100):\n",
    "    sys = make_kitaev_chain(L)\n",
    "\n",
    "    # Adjust the reflection phase such that it's 0 for trivial system.\n",
    "    trivial = SimpleNamespace(m=10., t=1.0, delta=1.0, disorder=0, salt='')\n",
    "    phase = kwant.smatrix(sys, args=[trivial]).data[0, 0]\n",
    "    phase /= abs(phase)\n",
    "    data = []\n",
    "    for par.m in ms:\n",
    "        qt = []\n",
    "        for par.salt in imap(str, xrange(num_average)):\n",
    "            s = kwant.smatrix(sys, args=[par]).data\n",
    "            qt.append(((s[0, 0] / phase).real, abs(s[0, 1])**2))\n",
    "        qt = np.mean(qt, axis=0)\n",
    "        data.append(qt)\n",
    "\n",
    "    return np.array(data).T"
   ]
  },
  {
   "cell_type": "markdown",
   "metadata": {},
   "source": [
    "#Table of Contents\n",
    "* [Introduction](#Introduction)\n",
    "* [A toy model for two-parameter scaling: the disordered Kitaev chain](#A-toy-model-for-two-parameter-scaling:-the-disordered-Kitaev-chain)\n",
    "* [The simpler effect of disorder](#The-simpler-effect-of-disorder)\n",
    "* [Two parameter scaling in one dimension](#Two-parameter-scaling-in-one-dimension)\n",
    "* [Critical point](#Critical-point)\n",
    "* [Two parameter scaling in higher dimensions](#Two-parameter-scaling-in-higher-dimensions)\n",
    "* [Conclusions](#Conclusions)\n"
   ]
  },
  {
   "cell_type": "markdown",
   "metadata": {},
   "source": [
    "**No content above this line is visible in edX**"
   ]
  },
  {
   "cell_type": "markdown",
   "metadata": {},
   "source": [
    "# Introduction"
   ]
  },
  {
   "cell_type": "markdown",
   "metadata": {},
   "source": [
    "The scaling flow of topological insulators is introduced by Alexander Altland from the University of Cologne"
   ]
  },
  {
   "cell_type": "code",
   "execution_count": null,
   "metadata": {
    "collapsed": false
   },
   "outputs": [],
   "source": [
    "MoocVideo(\"8gkERY6hXTU\", src_location=\"9.2-intro\")"
   ]
  },
  {
   "cell_type": "markdown",
   "metadata": {},
   "source": [
    "# A toy model for two-parameter scaling: the disordered Kitaev chain"
   ]
  },
  {
   "cell_type": "markdown",
   "metadata": {},
   "source": [
    "Before we learn what happens to topological insulators in presence of disorder, let's decide on a specific example for concreteness.\n",
    "\n",
    "Topology makes the behavior of disordered systems richer, however a careful simulation of properties of disordered topological insulators may take weeks, since not only we need to go to large system sizes (we need to consider the lengths much larger than mean free path), but also we need to average over disorder.\n",
    "\n",
    "Luckily, unlike in the non-topological case, already a one-dimensional system can show interesting properties in presence of disorder, so we can just reuse the familiar Kitaev chain and add disorder to it."
   ]
  },
  {
   "cell_type": "markdown",
   "metadata": {},
   "source": [
    "It is nothing but the same 1D tight-binding model that we saw in week one,\n",
    " \n",
    "$$\n",
    "H = \\sum_n (m_n + t + \\Delta) \\tau_z\\left|n\\right\\rangle\\left\\langle n\\right|-\\sum_n \\left[(t\\tau_z+i\\Delta\\tau_y)\\,\\left|n\\right\\rangle\\left\\langle n\\!+\\!\\!1 \\right| + \\textrm{h.c.}\\right].\n",
    "$$\n",
    "\n",
    "For convenience we introduced a mass $m$ that corresponds to the gap in the Dirac equation. The phase transition point happens at $m=0$, and $m<0$ corresponds to the topological phase with Majorana modes at the end.\n",
    "\n",
    "The only difference from what we used before is that now the chemical potential $m_n$ varies randomly from site to site. For example, we can sample the values $\\mu_n$ from a Gaussian distribution with mean value $\\mu_0 $ and standard deviation $U$."
   ]
  },
  {
   "cell_type": "markdown",
   "metadata": {},
   "source": [
    "# The simpler effect of disorder"
   ]
  },
  {
   "cell_type": "markdown",
   "metadata": {},
   "source": [
    "In addition to transmission through a finite chain we can now compute its topological invariant $\\mathcal{Q}$.\n",
    "\n",
    "Just as a reminder: $\\mathcal{Q} = \\det r$, with $r$ is the reflection matrix from one end of a finite Kitaev chain.\n",
    "\n",
    "We know that $\\mathcal{Q}=-1$ in the topological phase and $\\mathcal{Q}=+1$ in the trivial phase. Now, in the presence of disorder, the value of $\\mathcal{Q}$ it a finite size system can in principle depend on the particular disorder realization. So just like calculating average conductance we can average the topological invariant over disorder, in order to describe how topological properties depend on it."
   ]
  },
  {
   "cell_type": "markdown",
   "metadata": {},
   "source": [
    "Whenever $\\langle Q\\rangle = \\pm 1$, we know that the system is in one of the two insulating phases and there is no reflection whatsoever."
   ]
  },
  {
   "cell_type": "markdown",
   "metadata": {},
   "source": [
    "Let's try the most obvious thing and see what happens to  $\\langle Q\\rangle$, as we increase disorder strength.\n",
    "\n",
    "So below we see $\\mathcal{Q}$ averaged over 100 different realizations in a disordered Kitaev chain with 30 sites as we gradually increase $U$:"
   ]
  },
  {
   "cell_type": "code",
   "execution_count": null,
   "metadata": {
    "collapsed": false
   },
   "outputs": [],
   "source": [
    "# This cell generates data\n",
    "\n",
    "par = SimpleNamespace(t=1.0, delta=1.0)\n",
    "ms = np.linspace(-.5, .5, 50)\n",
    "qs = []\n",
    "\n",
    "\n",
    "for par.disorder in np.linspace(0, .8, 10):\n",
    "    q = phase_diagram(30, ms, par)[0]\n",
    "    qs.append(q)\n",
    "    \n",
    "    \n",
    "np.savetxt('first_plot_data_ms.dat', ms)\n",
    "np.savetxt('first_plot_data_qs.dat', qs) "
   ]
  },
  {
   "cell_type": "code",
   "execution_count": null,
   "metadata": {
    "collapsed": false
   },
   "outputs": [],
   "source": [
    "ms = np.loadtxt('first_plot_data_ms.dat')\n",
    "qs = np.loadtxt('first_plot_data_qs.dat')    \n",
    "\n",
    "\n",
    "data = np.loadtxt('data_from_doru.dat')\n",
    "color_cycle = [(i, i, 1) for i in np.linspace(1, 0,len(qs))]\n",
    "\n",
    "fig, ax = plt.subplots(figsize=(6, 4))\n",
    "ax.set_color_cycle(color_cycle)\n",
    "\n",
    "for q in qs:\n",
    "    ax.plot(ms, q)\n",
    "    \n",
    "ax.set_xlabel('$m$')\n",
    "ax.set_ylabel(r'$\\langle Q \\rangle$')\n",
    "\n",
    "evals = [-0.4, 0, +0.4]\n",
    "ax.set_xticks(evals)\n",
    "ax.set_xticklabels([\"${0}$\".format(i) for i in evals]);\n",
    "\n",
    "evals = [-1, 0, +1]\n",
    "ax.set_yticks(evals)\n",
    "ax.set_yticklabels([\"${0}$\".format(i) for i in evals]);\n",
    "\n",
    "ax.set_xlim(-.4, +.4)\n",
    "ax.set_ylim(-1.1,+1.1)\n",
    "\n",
    "ax.hlines(0, ax.get_xlim()[0], ax.get_xlim()[1], linestyles='dashed');"
   ]
  },
  {
   "cell_type": "markdown",
   "metadata": {},
   "source": [
    "(Darker color corresponds to larger $U$.)\n",
    "\n",
    "What you see is that far away from the transition, when the gap in the clean limit is very large, disorder does not matter. Around the transition, the average value of $\\mathcal{Q}$ changes from $-1$ and $+1$.\n",
    "\n",
    "Increasing disorder changes two things: \n",
    "* It makes the width of the region where the transition happens larger. This we can understand relatively well, in a finite system adding fluctuations just means we can be (un)lucky and get an opposite value of the topological invariant.\n",
    "* It shifts the separation point between trivial and topological phases towards positive $m$. This looks much more curious: if we start with a trivial and insulating system and add disorder, it appears we can make this system topological!"
   ]
  },
  {
   "cell_type": "markdown",
   "metadata": {},
   "source": [
    "The second effect, despite looking mysterious, appears just because the disorder changes the effective values of the Hamiltonian parameters. For small $U$, this can be understood in terms of the [Born approximation](https://en.wikipedia.org/wiki/Born_approximation), which allows to compute *effective* disorder-averaged band structure parameters, given the properties of disorder. The lowest order correction to $m$ for the disorder Kitaev chain is simply $m_\\textrm{eff} - m \\sim -U^2$, and weak disorder indeed drives the system to a topologically nontrivial state by lowering the effective value of the mass."
   ]
  },
  {
   "cell_type": "markdown",
   "metadata": {},
   "source": [
    "Since this phenomenon appears with disorder, it was initially dubbed \"topological Anderson insulator\". This name is certainly not accurate: the band structure parameters approach the effective ones on the length scale of mean free path, and before the Anderson scaling flow begins."
   ]
  },
  {
   "cell_type": "code",
   "execution_count": null,
   "metadata": {
    "collapsed": false
   },
   "outputs": [],
   "source": [
    "question = (r\"What would happen if instead of $\\det r$ we use $sign \\det r$ for invariant?\")\n",
    "answers = [\"We would get a step function instead of a smooth curve.\",\n",
    "           r\"Not well-defined because $\\det r$ becomes complex.\",\n",
    "           \"The $Q=\\pm 1$ plateaus cancel and give $Q=0$.\",\n",
    "           \"The curve is qualitatively the same.\"]\n",
    "\n",
    "explanation = (r\"Each disorder realization get $\\textrm{det} r\\sim \\pm 1$ except near the transition. So adding sign doesn't affect \"\n",
    "               \"the invariant for most disorder realizations. The intermediate values result from averaging over different \"\n",
    "               \"realizations.\")\n",
    "\n",
    "MoocMultipleChoiceAssessment(question=question, answers=answers, correct_answer=3, explanation=explanation)"
   ]
  },
  {
   "cell_type": "markdown",
   "metadata": {},
   "source": [
    "# Two parameter scaling in one dimension"
   ]
  },
  {
   "cell_type": "markdown",
   "metadata": {},
   "source": [
    "Speaking of the scaling flow: the scaling hypothesis appears to be very powerful, does the topology have any impact on it?\n",
    "\n",
    "We can understand some limits. First of all, if $g\\gg 1$, the system is a metal, and there can hardly be any trace of topology left. However when $g \\lesssim 1$, the system can become one out of several topologically distinct types of insulators, and we can expect some sort of transition between different insulating phases.\n",
    "\n",
    "The rational assumption at this point is to assume that the scaling hypothesis still holds, but in addition to $g$ it depends on the average topological invariant of the disordered ensemble $\\langle \\mathcal{Q} \\rangle$.\n",
    "\n",
    "Just like in the case of the non-topological phases, there is no universal proof that this form of scaling flow is correct. Instead there is a vast amount of mixed numerical and analytical evidence that this is correct."
   ]
  },
  {
   "cell_type": "markdown",
   "metadata": {},
   "source": [
    "Let's try and verify our hypothesis by constructing the scaling flow of the disordered Kitaev chain. We can do it in the following way:\n",
    "\n",
    "* Choose a given disorder strength $U$, a given length $L$, and a set of values $\\{\\mu\\}$ for the chemical potential. For each of this values, we compute $\\langle \\mathcal{Q} \\rangle$ and the average transmission $\\langle T \\rangle$ averaging over a large number of disorder realizations (as large as possible, in our case 1000). This gives us a set of starting points on the $(\\langle \\mathcal{Q} \\rangle, \\langle T \\rangle)$ plane.\n",
    "\n",
    "* Increase the chain length $L$, and compute $\\langle \\mathcal{Q} \\rangle, \\langle T \\rangle$ again for all the values $\\{\\mu\\}$. We obtain a second set of points on the plane.\n",
    "\n",
    "* Join the points corresponding to the same value of $\\mu$.\n",
    "\n",
    "* Increase again the length $L$, and so on...\n",
    "\n",
    "Here's what we get:"
   ]
  },
  {
   "cell_type": "code",
   "execution_count": null,
   "metadata": {
    "collapsed": false
   },
   "outputs": [],
   "source": [
    "# This cell generates data\n",
    "\n",
    "par = SimpleNamespace(t=1.0, delta=1.0, disorder=0.8)\n",
    "\n",
    "Ls = np.array(np.logspace(np.log10(10),np.log10(180), 6), dtype=int)\n",
    "ms = (lambda x: np.sign(x) * x**2 + .2)(np.linspace(-1,1, 40))\n",
    "# ms = np.linspace(-.5,.5,20)\n",
    "\n",
    "qs,ts = [], []\n",
    "for L in Ls:\n",
    "    print L\n",
    "    q, t = phase_diagram(int(L), ms, par, num_average=1000)\n",
    "    qs.append(q)\n",
    "    ts.append(t)\n",
    "    \n",
    "    \n",
    "np.savetxt('scaling_data_qs.dat', qs)\n",
    "np.savetxt('scaling_data_ts.dat', ts)"
   ]
  },
  {
   "cell_type": "code",
   "execution_count": null,
   "metadata": {
    "collapsed": false
   },
   "outputs": [],
   "source": [
    "qs = np.loadtxt('scaling_data_qs.dat')\n",
    "ts = np.loadtxt('scaling_data_ts.dat')\n",
    "\n",
    "fig, ax = plt.subplots(figsize=(6,4))\n",
    "\n",
    "\n",
    "npoints = qs.shape[0]\n",
    "X,Y = qs.T, ts.T\n",
    "\n",
    "for x,y in zip(X,Y):\n",
    "    points = np.array([x, y]).T.reshape(-1, 1, 2)\n",
    "    segments = np.concatenate([points[:-1], points[1:]], axis=1)\n",
    "\n",
    "    lc = LineCollection(segments, cmap='gist_heat_r', \n",
    "                        norm=matplotlib.colors.Normalize(0, npoints+1))\n",
    "    lc.set_array(np.array(range(1,npoints+1)))\n",
    "    ax.add_collection(lc)\n",
    "\n",
    "    \n",
    "ax.set_xlim(-1, 1)\n",
    "ax.set_ylim(0, 0.5)\n",
    "\n",
    "ax.set_xlabel(r'$\\langle Q \\rangle$')\n",
    "ax.set_ylabel(r'$\\langle T \\rangle$')\n",
    "\n",
    "evals = [-1,-0.5, 0,.5, +1]\n",
    "ax.set_xticks(evals)\n",
    "ax.set_xticklabels([\"${0}$\".format(i) for i in evals]);\n",
    "\n",
    "evals = [0.0, 0.25, 0.50]\n",
    "ax.set_yticks(evals)\n",
    "ax.set_yticklabels([\"${0}$\".format(i) for i in evals]);"
   ]
  },
  {
   "cell_type": "markdown",
   "metadata": {},
   "source": [
    "The lines have a direction, which tells us how $\\langle Q \\rangle$ and $\\langle T \\rangle$ change as we increase $L$. In the plot above, $L$ is increasing in going from bright to dark colors.\n",
    "\n",
    "The first and the most important observation we can make is that the lines do not intersect, which confirms the scaling hypothesis.\n",
    "\n",
    "Most of the lines tend to one of the two points $(\\langle \\mathcal{Q} \\rangle, \\langle T \\rangle) = (-1, 0)$ or $(1, 0)$. These are two insulating systems with different topological invariants. We can say that quantized values of $\\langle \\mathcal{Q} \\rangle$ are insulating, and they correspond to *attractive fixed points* of the flow.\n",
    "\n",
    "You can also see that the flow is roughly separated around a vertical *critical line* at $\\langle \\mathcal{Q} \\rangle=0$. All lines which start from a negative value of $\\langle \\mathcal{Q} \\rangle=0$ end up at $(-1, 0)$, and all the lines which start from a positive value end up at $(0,1)$.\n",
    "\n",
    "Finally, the point $(0, 0)$ is a saddle point: the flow goes towards it along the vertical axis, and away from it along the horizontal axis."
   ]
  },
  {
   "cell_type": "markdown",
   "metadata": {},
   "source": [
    "We now understand better why two parameter scaling is necessary in the presence of a topological invariant. Even in the presence of disorder, there can be topologically distinct insulating phases. Therefore saying that every system flows to an insulator is not enough anymore. Including the average topological invariant as a second scaling parameters allows to predict towards *which* insulating phase the system will flow.\n",
    "\n",
    "The flow we just calculated is in fact valid for all one-dimensional topological insulators and superconductors. In the case of a $\\mathbb{Z}$ invariant, the saddle points are located at $(\\langle \\mathcal{Q} \\rangle, \\langle T\\rangle) = (n+1/2, 0)$.\n",
    "\n",
    "It is important to notice that one important result of the standard scaling theory regarding one dimensional system remains true: in the plot above all lines flow to no transmission, or in other words there are no metallic phases in the flow diagram."
   ]
  },
  {
   "cell_type": "code",
   "execution_count": null,
   "metadata": {
    "collapsed": false
   },
   "outputs": [],
   "source": [
    "question = (\"What does the 2 parameter flow diagram predict about the infinite size limit?\")\n",
    "answers = [\"Always topological for all parameters.\",\n",
    "           \"There's a localized topological and non-topological phase separated by a transition point.\",\n",
    "           \"Always localized for every parameter.\",\n",
    "           \"Almost always conducting except at a transition point.\"]\n",
    "explanation = (\"The phase is determined by the long length (i.e. dark part of the figure) which is almost always in small T\"\n",
    "               \"i.e. supporting localized states. Here the states either flow to $Q=+1$ or $Q=-1$ (non-top or top respectively) \"\n",
    "               \"except near $Q=0$ has a slower decay.\")\n",
    "MoocMultipleChoiceAssessment(question, answers, correct_answer=1, explanation=explanation)"
   ]
  },
  {
   "cell_type": "markdown",
   "metadata": {},
   "source": [
    "# Critical point"
   ]
  },
  {
   "cell_type": "markdown",
   "metadata": {},
   "source": [
    "The scaling flow of 1D topological insulators can be solved exactly, and especially for our system we can very easily derive some of its properties for our example.\n",
    "\n",
    "The behavior of the disordered Kitaev chain close to the phase transition can be understood within an effective Dirac Hamiltonian in the continuum limit. Similar to the one we studied in week one when we were concerned with a domain wall, the Dirac Hamiltonian is\n",
    "\n",
    "$$\n",
    "H_\\textrm{Dirac} = v\\,p\\,\\tau_z + m(x)\\,\\tau_y\\,,\n",
    "$$\n",
    "\n",
    "with $p$ the momentum along the chain, $v$ the velocity of the modes, and $m(x)$ the position dependent gap which couples left-movers and right-movers.\n",
    "\n",
    "To model the disordered chain, we take $m(x)$ to be a random function of $x$, just like $\\mu_n$ was random in the lattice version. The chain is disordered in a segment of finite size $L$, while for $x<0$ and $x>L$ we set $m=0$ so that in this region we have propagating modes and thus a well-defined scattering problem.\n",
    "\n",
    "We want to compute the transmission probability through the chain at zero energy. As we saw in week one, an eigenstate at zero energy satisfies the relation\n",
    "\n",
    "$$\n",
    "\\Psi(L) =\\,\\exp\\,(-\\tau_x\\,\\alpha)\\,\\,\\Psi(0)\\,,\n",
    "$$\n",
    "\n",
    "with a parameter\n",
    "\n",
    "$$\\alpha = \\frac{1}{v}\\,\\int_0^L\\, m(x)\\, dx\\,$$\n",
    "\n",
    "proportional to the average value of the random mass in the chain.\n",
    "\n",
    "A wave incoming from the left (negative $x$) enters the scattering region, it is partially transmitted through it and partially reflected. We can find the reflection and transmission amplitudes $r, t$ by substituting $\\Psi(0)=(1,r)^T$ and $\\Psi(L) = (t,0)^T$ in the equation above. By solving the simple linear system that comes out of the substitution, we get immediately \n",
    "\n",
    "$$\n",
    "r = \\tanh (\\alpha)\\,,\\;\\;t = \\cosh^{-1} (\\alpha)\n",
    "$$\n",
    "\n",
    "The scattering topological invariant $Q$ for the Kitaev chain is the sign of the determinant of $r$. In our case, since $r$ is just a number, we immediately get\n",
    "\n",
    "$$Q=r = \\tanh\\alpha\\,.$$\n",
    "\n",
    "We see that the topological transition happens when $\\alpha=0$. That is, to model the transition, we think of $m(x)$ as a random function of $x$ which can take positive and negative values with equal probabilities. \n",
    "\n",
    "The details of the probability distribution for $m(x)$ are not very important as long as the distribution is characterized by a finite correlation length $\\xi \\ll L$ - that is, values of $m$ at points more distant than $\\xi$ are statistically uncorrelated. \n",
    "\n",
    "If this is the case, $\\alpha$ is the sum of an order $\\sim L/\\xi$ of uncorrelated values of $m$. By using the [central limit theorem](http://en.wikipedia.org/wiki/Central_limit_theorem), we can say that $\\alpha$ is a normally distributed variable with zero mean and a variance growing linearly in $L$. Since $\\alpha$ is a random variable, the transmission probability $T=|t^2|=\\cosh^{-2}(\\alpha)$ also is. From the probability distribution of $\\alpha$ we can obtain the scaling behavior of $T$ as\n",
    "\n",
    "$$\n",
    "\\left\\langle T \\right \\rangle \\propto 1/\\sqrt{L}\\,.\n",
    "$$"
   ]
  },
  {
   "cell_type": "markdown",
   "metadata": {},
   "source": [
    "# Two parameter scaling in higher dimensions"
   ]
  },
  {
   "cell_type": "markdown",
   "metadata": {},
   "source": [
    "Just like the regular scaling flow, the topological one is also richer in $d>1$.\n",
    "\n",
    "The oldest known example of the two parameter flow is unsurprisingly the quantum Hall effect. The flow looks similar to what we just calculated in 1D, here:"
   ]
  },
  {
   "cell_type": "markdown",
   "metadata": {},
   "source": [
    "![](figures/Three_Dimensional_RG_Flowdiagram_of_the_QHE.png)\n",
    "\n",
    "By Wout Neutkens (Own work) [CC BY-SA 3.0](http://creativecommons.org/licenses/by-sa/3.0), via Wikimedia Commons"
   ]
  },
  {
   "cell_type": "markdown",
   "metadata": {},
   "source": [
    "The axes are the same as before - the horizontal one is the topological invariant given by $\\sigma_H$, and the vertical axis the longitudinal conductance. The saddle point separating the different topological phases is now elevated to a finite critical conductance, which is known to be around $0.5-0.6$ conductance quanta."
   ]
  },
  {
   "cell_type": "markdown",
   "metadata": {},
   "source": [
    "Metallic phases are the final part that we need to consider. The appearance of those at high conductance is governed by the same rules as without the topological invariant. The reason for this is that the topological effects are all $\\mathcal{O}(1)$ corrections to conductance, and are therefore only important at $g\\sim 1$.\n",
    "\n",
    "An extra attractive metallic fixed point can make the flow diagram more complicated. For example, the metallic phase can completely separate the two insulating phases and eliminate the fixed point. What happens in each particular case is not always certain, and is still an open research topic."
   ]
  },
  {
   "cell_type": "markdown",
   "metadata": {},
   "source": [
    "# Conclusions"
   ]
  },
  {
   "cell_type": "code",
   "execution_count": null,
   "metadata": {
    "collapsed": false
   },
   "outputs": [],
   "source": [
    "MoocVideo(\"NY6wPiH0E9E\", src_location=\"9.2-summary\")"
   ]
  },
  {
   "cell_type": "markdown",
   "metadata": {},
   "source": [
    "Questions about what you just learned? Ask them below!"
   ]
  },
  {
   "cell_type": "code",
   "execution_count": null,
   "metadata": {
    "collapsed": false
   },
   "outputs": [],
   "source": [
    "MoocDiscussion(\"Questions\", \"Topological scaling\")"
   ]
  }
 ],
 "metadata": {},
 "nbformat": 4,
 "nbformat_minor": 0
}