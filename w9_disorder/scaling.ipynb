{
 "metadata": {
  "name": ""
 },
 "nbformat": 3,
 "nbformat_minor": 0,
 "worksheets": [
  {
   "cells": [
    {
     "cell_type": "code",
     "collapsed": false,
     "input": [
      "%run ../code/init_mooc_nb.ipy"
     ],
     "language": "python",
     "metadata": {},
     "outputs": []
    },
    {
     "cell_type": "markdown",
     "metadata": {},
     "source": [
      "#Table of Contents\n",
      "* [Introduction](#Introduction)\n",
      "* [Role of disorder: localized and conducting states](#Section-topic)\n",
      "* [Conductance Scaling hypothesis](#Section-topic)\n",
      "* [Scaling flow diagram](#Section-topic)\n",
      "* [Absence of localization for topological insulators](#Section-topic)\n",
      "* [Conclusions](#Conclusions)"
     ]
    },
    {
     "cell_type": "markdown",
     "metadata": {},
     "source": [
      "**No content above this line is visible in edX**"
     ]
    },
    {
     "cell_type": "heading",
     "level": 1,
     "metadata": {},
     "source": [
      "Introduction"
     ]
    },
    {
     "cell_type": "markdown",
     "metadata": {},
     "source": [
      "Anderson localization is introduced by Piet Brouwer from Free university of Berlin"
     ]
    },
    {
     "cell_type": "code",
     "collapsed": false,
     "input": [
      "MoocVideo(\"\", src_location=\"9.1-intro\")"
     ],
     "language": "python",
     "metadata": {},
     "outputs": []
    },
    {
     "cell_type": "heading",
     "level": 1,
     "metadata": {},
     "source": [
      "Role of disorder: localized and conducting states"
     ]
    },
    {
     "cell_type": "heading",
     "level": 1,
     "metadata": {},
     "source": [
      "Conductance Scaling hypothesis"
     ]
    },
    {
     "cell_type": "heading",
     "level": 1,
     "metadata": {},
     "source": [
      "Scaling flow diagram"
     ]
    },
    {
     "cell_type": "heading",
     "level": 1,
     "metadata": {},
     "source": [
      "Absence of localization for topological insulators"
     ]
    },
    {
     "cell_type": "heading",
     "level": 1,
     "metadata": {},
     "source": [
      "Conclusions"
     ]
    },
    {
     "cell_type": "code",
     "collapsed": false,
     "input": [
      "MoocVideo(\"\", src_location=\"9.1-summary\")"
     ],
     "language": "python",
     "metadata": {},
     "outputs": []
    },
    {
     "cell_type": "markdown",
     "metadata": {},
     "source": [
      "Questions about what you just learned? Ask them below!"
     ]
    },
    {
     "cell_type": "code",
     "collapsed": false,
     "input": [
      "MoocDiscussion(\"Questions\", \"Anderson localization\")"
     ],
     "language": "python",
     "metadata": {},
     "outputs": []
    }
   ],
   "metadata": {}
  }
 ]
}