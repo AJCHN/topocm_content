{
 "cells": [
  {
   "cell_type": "code",
   "execution_count": null,
   "metadata": {
    "collapsed": false
   },
   "outputs": [
    {
     "name": "stdout",
     "output_type": "stream",
     "text": [
      "Performing the necessary imports.\n",
      "\n",
      "from __future__ import division, print_function\n",
      "import numpy as np\n",
      "import matplotlib\n",
      "import kwant\n",
      "\n",
      "import ipywidgets\n",
      "from IPython.html.widgets import interact\n",
      "from ipywidgets import StaticInteract, RangeWidget, DropDownWidget\n",
      "from IPython.display import display_html\n",
      "from matplotlib import pyplot as plt\n",
      "\n",
      "import pfaffian as pf\n",
      "from edx_components import *\n",
      "\n"
     ]
    },
    {
     "data": {
      "text/html": [
       "\n",
       "<script type=text/javascript>\n",
       "/* Add a button for showing or hiding input */\n",
       "on = \"Show input\";\n",
       "off = \"Hide input\";\n",
       "function onoff(){\n",
       "  currentvalue = document.getElementById('onoff').value;\n",
       "  if(currentvalue == off){\n",
       "    document.getElementById(\"onoff\").value=on;\n",
       "      $('div.input').hide();\n",
       "  }else{\n",
       "    document.getElementById(\"onoff\").value=off;\n",
       "      $('div.input').show();\n",
       "  }\n",
       "}\n",
       "\n",
       "/* Launch first notebook cell on start */\n",
       "function launch_first_cell (evt) {\n",
       "  if (!launch_first_cell.executed\n",
       "      && IPython.notebook.kernel\n",
       "  ) {\n",
       "    IPython.notebook.get_cells()[0].execute();\n",
       "    launch_first_cell.executed = true;\n",
       "  }\n",
       "}\n",
       "\n",
       "$([IPython.events]).on('status_started.Kernel notebook_loaded.Notebook', launch_first_cell);\n",
       "</script>\n",
       "\n",
       "<p>Press this button to show/hide the code used in the notebook:\n",
       "<input type=\"button\" class=\"ui-button ui-widget ui-state-default ui-corner-all ui-button-text-only\" value=\"Hide input\" id=\"onoff\" onclick=\"onoff();\"></p>\n",
       "<script type=text/javascript>\n",
       "$(document).ready(function (){if(!(\"IPython\" in window)){onoff();}})\n",
       "</script>"
      ]
     },
     "metadata": {},
     "output_type": "display_data"
    },
    {
     "data": {
      "application/javascript": [
       "/**\n",
       " * Calico Jupyter Notebooks Extensions\n",
       " *\n",
       " * Copyright (c) The Calico Project\n",
       " * http://calicoproject.org/ICalico\n",
       " *\n",
       " * Released under the BSD Simplified License\n",
       " *\n",
       " **/\n",
       "\n",
       "function ip_version() {\n",
       "    if (IPython.version[0] === \"2\")\n",
       "\treturn 2;\n",
       "    else if (IPython.version[0] === \"3\")\n",
       "\treturn 3;\n",
       "    else\n",
       "\tthrow \"IPython version not supported\";\n",
       "}\n",
       "\n",
       "function break_into_sections(index) {\n",
       "    if (ip_version() === 2)\n",
       "\treturn 0;\n",
       "    var cells = IPython.notebook.get_cells();\n",
       "    var count = 0; // count below index, or -1\n",
       "    // go in reverse order to keep index accurate\n",
       "    for (var i = cells.length - 1; i > -1; i--) {\n",
       "\tvar cell = cells[i];\n",
       "\tvar rendered = cell.rendered;\n",
       "\t// consider it for breaking:\n",
       "\tif (cell.cell_type === \"markdown\") {\n",
       "\t    var text = cell.get_text();\n",
       "\t    if (text.match(/^#+Table of Contents/)) \n",
       "\t\tcontinue;\n",
       "\t    var lines = text.split(/\\n/g);\n",
       "\t    if (lines.length > 1) {\n",
       "\t\t// possibly break up\n",
       "\t\tvar state = \"ok\";\n",
       "\t\tvar current = \"\";\n",
       "\t\tvar cell_texts = [];\n",
       "\t\tfor (var line_no in lines) {\n",
       "\t\t    var line = lines[line_no];\n",
       "\t\t    if (state === \"ok\") {\n",
       "\t\t\tif (line.indexOf('```') === 0) {\n",
       "                            // set state to fence: allows for longer fences\n",
       "\t\t\t    state = line.substr(0, line.search(\"[^`]\"));\n",
       "\t\t\t    current += line + \"\\n\";\n",
       "\t\t\t} else if (line.indexOf('#') === 0) {\n",
       "\t\t\t    if (current !== \"\") {\n",
       "\t\t\t\tcell_texts.push(current.trim());\n",
       "\t\t\t    }\n",
       "\t\t\t    current = \"\";\n",
       "\t\t\t    cell_texts.push(line);\n",
       "\t\t\t} else {\n",
       "\t\t\t    current += line + \"\\n\";\n",
       "\t\t\t}\n",
       "\t\t    } else { // in block\n",
       "\t\t\tif (line.indexOf(state) === 0) {\n",
       "\t\t\t    state = \"ok\";\n",
       "\t\t\t    current += line + \"\\n\";\n",
       "\t\t\t    cell_texts.push(current.trim());\n",
       "\t\t\t    current = \"\";\n",
       "\t\t\t} else {\n",
       "\t\t\t    current += line + \"\\n\";\n",
       "\t\t\t}\n",
       "\t\t    }\n",
       "\t\t} // for\n",
       "\t\t// anything left over:\n",
       "\t\tif (current.trim() !== \"\") {\n",
       "\t\t    cell_texts.push(current.trim());\n",
       "\t\t}\n",
       "\t\tif (cell_texts.length > 1) {\n",
       "\t\t    var current_cell = IPython.notebook.get_cell(i);\n",
       "\t\t    var added = 0;\n",
       "\t\t    for (var j = 0; j < cell_texts.length; j++) {\n",
       "\t\t\tif (cell_texts[j].trim() !== \"\") {\n",
       "\t\t\t    if (added === 0) {\n",
       "\t\t\t\tcurrent_cell.set_text(cell_texts[j]);\n",
       "\t\t\t\tif (rendered) {\n",
       "\t\t\t\t    current_cell.render();\n",
       "\t\t\t\t}\t\t\t\t\t\n",
       "\t\t\t    } else {\n",
       "\t\t\t\tif (i === index) {\n",
       "\t\t\t\t    count = -1; // nope, can't do it\n",
       "\t\t\t\t} else if (i < index && count !== -1) {\n",
       "\t\t\t\t    count++;\n",
       "\t\t\t\t}\n",
       "\t\t\t\tvar new_cell = IPython.notebook.insert_cell_below(\"markdown\", i + added - 1);\n",
       "\t\t\t\tnew_cell.set_text(cell_texts[j]);\n",
       "                                if (rendered) {\n",
       "\t\t\t\t    new_cell.render();\n",
       "\t\t\t\t}\n",
       "\t\t\t    }\n",
       "\t\t\t    added++;\n",
       "\t\t\t}\n",
       "\t\t    }\n",
       "\t\t}\n",
       "\t    }\n",
       "\t}\n",
       "    }\n",
       "    return count;\n",
       "}\n",
       "\n",
       "function is_heading(cell) {\n",
       "    if (ip_version() === 2)\n",
       "\treturn (cell.cell_type === \"heading\");\n",
       "    else \n",
       "\treturn (cell.cell_type === \"markdown\" && cell.get_text().indexOf(\"#\") === 0)\n",
       "}\n",
       "\n",
       "function get_heading_text(cell) {\n",
       "    if (ip_version() === 2)\n",
       "\treturn cell.get_text();\n",
       "    else if (cell.get_text().indexOf(\"######\") === 0)\n",
       "\treturn cell.get_text().substring(6).trim();\n",
       "    else if (cell.get_text().indexOf(\"#####\") === 0)\n",
       "\treturn cell.get_text().substring(5).trim();\n",
       "    else if (cell.get_text().indexOf(\"####\") === 0)\n",
       "\treturn cell.get_text().substring(4).trim();\n",
       "    else if (cell.get_text().indexOf(\"###\") === 0)\n",
       "\treturn cell.get_text().substring(3).trim();\n",
       "    else if (cell.get_text().indexOf(\"##\") === 0)\n",
       "\treturn cell.get_text().substring(2).trim();\n",
       "    else if (cell.get_text().indexOf(\"#\") === 0)\n",
       "\treturn cell.get_text().substring(1).trim();\n",
       "    else return \"\";\n",
       "}\n",
       "\n",
       "function repeat(pattern, count) {\n",
       "    if (count < 1) return '';\n",
       "    var result = '';\n",
       "    while (count > 1) {\n",
       "        if (count & 1) result += pattern;\n",
       "        count >>= 1, pattern += pattern;\n",
       "    }\n",
       "    return result + pattern;\n",
       "}\n",
       "\n",
       "function set_heading_text(cell, text) {\n",
       "    var rendered = cell.rendered;\n",
       "    cell.unrender();\n",
       "    if (ip_version() === 2)\n",
       "\tcell.set_text(text);\n",
       "    else {\n",
       "\tvar level = get_level(cell);\n",
       "\tcell.set_text( repeat(\"#\", level) + \" \" + text)\n",
       "    }\n",
       "    if (rendered) {\n",
       "        cell.render();\n",
       "    }\n",
       "}\n",
       "\n",
       "function get_level(cell) {\n",
       "    if (ip_version() === 2)\n",
       "\treturn cell.level;\n",
       "    else if (cell.get_text().indexOf(\"######\") === 0)\n",
       "\treturn 6;\n",
       "    else if (cell.get_text().indexOf(\"#####\") === 0)\n",
       "\treturn 5;\n",
       "    else if (cell.get_text().indexOf(\"####\") === 0)\n",
       "\treturn 4;\n",
       "    else if (cell.get_text().indexOf(\"###\") === 0)\n",
       "\treturn 3;\n",
       "    else if (cell.get_text().indexOf(\"##\") === 0)\n",
       "\treturn 2;\n",
       "    else if (cell.get_text().indexOf(\"#\") === 0)\n",
       "\treturn 1;\n",
       "    else return 0;\n",
       "}\n",
       "\n",
       "function get_last_cell_index_in_section(level, index) {\n",
       "    var current = index;\n",
       "    while (IPython.notebook.is_valid_cell_index(current + 1)) {\n",
       "\tvar cell = IPython.notebook.get_cell(current + 1);\n",
       "\tif (is_heading(cell) && get_level(cell) <= level) {\n",
       "\t    return current;\n",
       "\t}\n",
       "\tcurrent++;\n",
       "    }\n",
       "    return current;\n",
       "}\n",
       "\n",
       "function get_index_level_above(level, index) {\n",
       "    var current = current = index - 1;\n",
       "    while (IPython.notebook.is_valid_cell_index(current)) {\n",
       "\tvar cell = IPython.notebook.get_cell(current);\n",
       "\tif (is_heading(cell) && get_level(cell) <= level) {\n",
       "\t    return current;\n",
       "\t}\n",
       "\tcurrent--;\n",
       "    }\n",
       "    return undefined;\n",
       "}\n",
       "\n",
       "function get_index_level_below(level, index) {\n",
       "    var current = current = index + 1;\n",
       "    while (IPython.notebook.is_valid_cell_index(current)) {\n",
       "\tvar cell = IPython.notebook.get_cell(current);\n",
       "\tif (is_heading(cell) && get_level(cell) <= level) {\n",
       "\t    return current;\n",
       "\t}\n",
       "\tcurrent++;\n",
       "    }\n",
       "    return undefined;\n",
       "}\n",
       "\n",
       "function section_label() {\n",
       "    // Label headings with numbers, or toggle them off\n",
       "    // If there is a table of contents, re-do it\n",
       "    break_into_sections();\n",
       "    var cells = IPython.notebook.get_cells();\n",
       "    var levels = [0,0,0,0,0,0];\n",
       "    var current_level = 1;\n",
       "    var flag = false;\n",
       "    var alert_text = \"\";\n",
       "    var alert_flag = false;\n",
       "    var remove_numbering = true;\n",
       "    \n",
       "    for (var i = 0; i < cells.length; i++) {\n",
       "\tvar cell = cells[i];\n",
       "\tif (is_heading(cell)) {\n",
       "\t    if (cell.get_text().match(/^#+Table of Contents/)) \n",
       "\t\tcontinue;\n",
       "\t    if (cell.get_text().match(/^#+References/)) \n",
       "\t\tcontinue;\n",
       "\t    var level = get_level(cell);\n",
       "\t    \n",
       "\t    if (level >= current_level) { //just keep incrementing\n",
       "\t\tcurrent_level = level;\n",
       "\t\tlevels[level-1]++;\n",
       "\t    } else {                    //went back a level\n",
       "\t\tlevels[current_level-1] = 0;\n",
       "\t\t\n",
       "\t\tif (current_level-level > 1) { //Skipped levels in between\n",
       "\t\t    for (var j = 1; j < current_level-level; j++) { //back-prop the zeros\n",
       "\t\t\tlevels[current_level - 1 - j] = 0;\n",
       "\t\t    }\n",
       "\t\t}\n",
       "\t\t\n",
       "\t\tlevels[level -1]++;\n",
       "\t\tcurrent_level = level;\n",
       "\t    }\n",
       "\t    \n",
       "\t    var error = false;\n",
       "\t    var error_no_begin = 0;\n",
       "\t    var error_no_end = 0;\n",
       "\t    var error_heading_label = \"\";\n",
       "\t    var heading_label = \"\"; //Generate the appropriate number for the heading\n",
       "\t    for (var k = 0; k < level; k++) {\n",
       "\t\tif (levels[k] == 0) {\n",
       "\t\t    if (!error) {\n",
       "\t\t\terror_heading_label = heading_label;\n",
       "\t\t\terror = true;\n",
       "\t\t\terror_no_begin = k;\n",
       "\t\t    } else {\n",
       "\t\t\terror_no_end = k + 2;\n",
       "\t\t    }\n",
       "\t\t}\n",
       "\t\theading_label += levels[k];\n",
       "\t\tif (level-k == 1 && level > 1) {\n",
       "\t\t    break;\n",
       "\t\t}\n",
       "\t\theading_label += \".\";\n",
       "\t    }\n",
       "\t    \n",
       "\t    if (error) {\n",
       "\t\tif (error_no_end == 0) {\n",
       "\t\t    error_no_end = error_no_begin + 2;\n",
       "\t\t}\n",
       "\t\tif (error_heading_label == \"\") {\n",
       "\t\t    if (!flag) {\n",
       "\t\t\tvar temp1 = \"Notebook begins with a Header \" + error_no_end + \" cell.\" + \"\\n\";\n",
       "\t\t\talert_text += temp1;\n",
       "\t\t\talert_flag = true;\n",
       "\t\t\tflag = true;\n",
       "\t\t    }\n",
       "\t\t} else{\n",
       "\t\t    var temp = \"You placed a Header \" + error_no_end + \" cell under a Header \" + error_no_begin + \" cell in section \" + error_heading_label +\"\\n\";\n",
       "\t\t    alert_text += temp;\n",
       "\t\t    alert_flag = true;\n",
       "\t\t}\n",
       "\t    }\n",
       "\t    \n",
       "\t    var heading_text = get_heading_text(cell);\n",
       "\t    var old_header = heading_text;\n",
       "\t    var re = /(?:\\d*\\.*)*\\s*(.*)/;\n",
       "\t    var match = heading_text.match(re);\n",
       "\t    \n",
       "\t    if (match) {\n",
       "\t\theading_text = heading_label + \" \" + match[1];\n",
       "\t    } else {\n",
       "\t\theading_text = heading_label;\n",
       "\t    }\n",
       "\t    \n",
       "\t    if (old_header != heading_text) {\n",
       "\t\tremove_numbering = false;\n",
       "\t\treplace_links(old_header, heading_text);\n",
       "\t    }\n",
       "\t    \n",
       "\t    heading_text = heading_text.trim();\n",
       "\t    set_heading_text(cell, heading_text);\n",
       "\t}\n",
       "    }\n",
       "    \n",
       "    if (alert_flag) {\n",
       "\talert(alert_text);\n",
       "    }\n",
       "    \n",
       "    if (remove_numbering) {\n",
       "\tfor (var i = 0; i < cells.length; i++) {\n",
       "\t    var cell = cells[i];\n",
       "\t    if (is_heading(cell)) {\n",
       "\t\tif (cell.get_text().match(/^#+Table of Contents/)) \n",
       "\t\t    continue;\n",
       "\t\tif (cell.get_text().match(/^#+References/)) \n",
       "\t\t    continue;\n",
       "\t\tvar heading_text = get_heading_text(cell);\n",
       "\t\told_header = heading_text;\n",
       "\t\tvar re = /(?:\\d*\\.*)*\\s*(.*)/;\n",
       "\t\tvar match = heading_text.match(re);\n",
       "\t\tif (match) {\n",
       "\t\t    heading_text = match[1];\n",
       "\t\t}\n",
       "\t\tset_heading_text(cell, heading_text);\n",
       "\t\treplace_links(old_header, heading_text);\n",
       "\t    }\n",
       "\t}\n",
       "    }\n",
       "    \n",
       "    // If there is a Table of Contents, replace it:\n",
       "    var cells = IPython.notebook.get_cells();\n",
       "    for (var i = 0; i < cells.length; i++) {\n",
       "        var cell = cells[i];\n",
       "        if (cell.cell_type == \"markdown\") {\n",
       "\t    var cell_text = cell.get_text();\n",
       "\t    var match = cell_text.match(/^#+Table of Contents/);\n",
       "\t    if (match) {\n",
       "\t\ttable_of_contents();\n",
       "\t\tbreak;\n",
       "\t    }\n",
       "\t}\n",
       "    }\n",
       "}\n",
       "\n",
       "function replace_links(old_header, new_header) {\n",
       "    // Replace an old internal link with new link\n",
       "    new_header = new_header.trim();\n",
       "    var cells = IPython.notebook.get_cells();\n",
       "    for (var i = 0; i < cells.length; i++) {\n",
       "        var cell = cells[i];\n",
       "        if (cell.cell_type == \"markdown\") {\n",
       "\t    var cell_text = cell.get_text();\n",
       "\t    // Skip over table of contents:\n",
       "\t    if (cell_text.match(/^#+Table of Contents/)) {\n",
       "\t\tcontinue;\n",
       "\t    }\n",
       "\t    var re_string = old_header;\n",
       "\t    re_string = re_string.replace(/\\\\/g, \"\\\\\\\\\");\n",
       "\t    re_string = re_string.replace(/\\//g, \"\\\\/\");\n",
       "\t    re_string = re_string.replace(/\\^/g, \"\\\\^\");\n",
       "\t    re_string = re_string.replace(/\\$/g, \"\\\\$\");\n",
       "\t    re_string = re_string.replace(/\\*/g, \"\\\\*\");\n",
       "\t    re_string = re_string.replace(/\\+/g, \"\\\\+\");\n",
       "\t    re_string = re_string.replace(/\\?/g, \"\\\\?\");\n",
       "\t    re_string = re_string.replace(/\\./g, \"\\\\.\");\n",
       "\t    re_string = re_string.replace(/\\)/g, \"%29\");\n",
       "\t    re_string = re_string.replace(/\\|/g, \"\\\\|\");\n",
       "\t    re_string = re_string.replace(/\\[/g, \"\\\\[\");\n",
       "\t    re_string = re_string.replace(/\\]/g, \"\\\\]\");\n",
       "\t    re_string = re_string.replace(/\\(/g, \"?:\\\\(|%28\");\n",
       "\t    re_string = re_string.replace(/\\s/g, \"-\");\n",
       "\t    re_string = \"(\\\\[.*\\\\](?::\\\\s*|\\\\()#)\" + re_string + \"(.*\\\\)|(.*)$)\";\n",
       "\t    \n",
       "\t    var re = new RegExp(re_string, \"gm\");\n",
       "\t    var link_text = new_header.replace(/\\s+$/g, \"\"); //Delete trailing spaces before they become \"-\"\n",
       "\t    link_text = link_text.replace(/\\(/g, \"%28\"); //Replace left parentheses with their encoding\n",
       "\t    link_text = link_text.replace(/\\)/g, \"%29\"); //Replace right parentheses with their encoding\n",
       "\t    link_text = link_text.replace(/ /g, \"-\"); //Replace all spaces with dashes to create links\n",
       "\t    \n",
       "\t    var match = cell_text.match(re);\n",
       "\t    if (match) {\n",
       "                var new_text = cell_text.replace(re, \"$1\" + link_text + \"$2\");\n",
       "                cell.unrender();\n",
       "                cell.set_text(new_text);\n",
       "                cell.render();\n",
       "\t    }\n",
       "        }\n",
       "    }\n",
       "}\n",
       "\n",
       "function find_cell(cell_type, text) {\n",
       "    // Finds first cell of cell_type that starts with text\n",
       "    // cell_type and text are interpreted as a regular expression\n",
       "    var cell = undefined;\n",
       "    var cells = IPython.notebook.get_cells();\n",
       "    for (var x = 0; x < cells.length; x++) {\n",
       "\tvar temp = cells[x];\n",
       "\tif (temp.cell_type.match(cell_type) != undefined) {\n",
       "\t    var temp_text = temp.get_text();\n",
       "\t    var re = new RegExp(\"^\" + text);\n",
       "\t    if (re.test(temp_text)) {\n",
       "\t\tcell = cells[x];\n",
       "\t\tbreak;\n",
       "\t    }\n",
       "\t}\n",
       "    }\n",
       "    return cell;\n",
       "}\n",
       "\n",
       "function table_of_contents() {\n",
       "    break_into_sections();\n",
       "    // Create and/or replace Table of Contents\n",
       "    var cells = IPython.notebook.get_cells();\n",
       "    var toc_cell = find_cell(\"markdown\", \"#+Table of Contents\");\n",
       "    // Default to top-level heading\n",
       "    var toc_text = \"#Table of Contents\\n\";\n",
       "    if (toc_cell == undefined) {\n",
       "\t//Create a new markdown cell at the top of the Notebook\n",
       "\ttoc_cell = IPython.notebook.select(0).insert_cell_below(\"markdown\"); \n",
       "    } else {\n",
       "\t// already exists:\n",
       "\ttoc_text = toc_cell.get_text().match(/^#+Table of Contents/)[0] + \"\\n\";\n",
       "    }\n",
       "    var prev_lev = 0;\n",
       "    for (var i = 0; i < cells.length; i++) {\n",
       "\tvar cell = cells[i];\n",
       "\tif (is_heading(cell)) {\n",
       "\t    if (cell.get_text().match(/^#+Table of Contents/)) \n",
       "\t\tcontinue;\n",
       "\t    if (cell.get_text().match(/^#+References/)) \n",
       "\t\tcontinue;\n",
       "\t    if (get_level(cell) - prev_lev > 1) { //Skipped levels. Enter Dummy levels\n",
       "\t\tfor (var x = 0; x < ((get_level(cell) - prev_lev) - 1); x++) {\n",
       "\t\t    for (var y = 0; y < (prev_lev + x); y++) {\n",
       "\t\t\ttoc_text += \"\\t\";\n",
       "\t\t    }\n",
       "\t\t    toc_text += \"* &nbsp;\\n\";\n",
       "\t\t}\n",
       "\t    }\n",
       "\t    var cell_text = get_heading_text(cell);\n",
       "\t    for (var j = 0; j < get_level(cell) -1; j++) { //Loop to add the proper amount of tabs based on header level\n",
       "\t\ttoc_text += \"\\t\";\n",
       "\t    }\n",
       "\t    toc_text += \"* [\";\n",
       "\t    toc_text += cell_text;\n",
       "\t    toc_text += \"](#\";\n",
       "\t    var link_text = cell_text.replace(/\\s+$/g, \"\"); //Delete trailing spaces before they become \"-\"\n",
       "\t    link_text = link_text.replace(/\\(/g, \"%28\"); //Replace left parentheses with their encoding\n",
       "\t    link_text = link_text.replace(/\\)/g, \"%29\"); //Replace right parentheses with their encoding\n",
       "\t    link_text = link_text.replace(/ /g, \"-\"); //Replace all spaces with dashes to create links\n",
       "\t    toc_text += link_text;\n",
       "\t    toc_text += \")\\n\";\n",
       "\t    prev_lev = get_level(cell);\n",
       "\t}\n",
       "    }\n",
       "    toc_cell.unrender();\n",
       "    toc_cell.set_text(toc_text);\n",
       "    toc_cell.render();\n",
       "}\n",
       "$([IPython.events]).on('status_started.Kernel notebook_loaded.Notebook', table_of_contents);"
      ]
     },
     "metadata": {},
     "output_type": "display_data"
    }
   ],
   "source": [
    "%run ../code/init_mooc_nb.ipy"
   ]
  },
  {
   "cell_type": "markdown",
   "metadata": {},
   "source": [
    "#Table of Contents\n",
    "* [Introduction](#Introduction)\n",
    "* [Motivation](#Motivation)\n",
    "* [Simple limits: localized and extended states](#Simple-limits:-localized-and-extended-states)\n",
    "* [Conductance scaling](#Conductance-scaling)\n",
    "* [Scaling flow diagram](#Scaling-flow-diagram)\n",
    "* [Metal-insulator transition](#Metal-insulator-transition)\n",
    "* [Absence of localization for topological insulators](#Absence-of-localization-for-topological-insulators)\n",
    "* [Conclusions](#Conclusions)\n"
   ]
  },
  {
   "cell_type": "markdown",
   "metadata": {},
   "source": [
    "**No content above this line is visible in edX**"
   ]
  },
  {
   "cell_type": "markdown",
   "metadata": {},
   "source": [
    "# Introduction"
   ]
  },
  {
   "cell_type": "markdown",
   "metadata": {},
   "source": [
    "Anderson localization is introduced by Piet Brouwer from the Free University of Berlin."
   ]
  },
  {
   "cell_type": "code",
   "execution_count": null,
   "metadata": {
    "collapsed": false
   },
   "outputs": [
    {
     "data": {
      "text/html": [
       "\n",
       "        <iframe\n",
       "            width=\"400\"\n",
       "            height=300\"\n",
       "            src=\"https://www.youtube.com/embed/sbbyL0RDH-o\"\n",
       "            frameborder=\"0\"\n",
       "            allowfullscreen\n",
       "        ></iframe>\n",
       "        "
      ],
      "text/plain": [
       "MoocVideo(**{'download_video': 'true', 'display_name': '', 'sub': 'sbbyL0RDH-o', 'youtube': '1.00:sbbyL0RDH-o', 'show_captions': 'true', 'youtube_id_1_0': 'sbbyL0RDH-o', 'source': 'http://delftxdownloads.tudelft.nl/TOPOCMx-QuantumKnots/TOPOCMx-9.1-intro-video.720.mp4', 'download_track': 'true'})"
      ]
     },
     "execution_count": null,
     "metadata": {},
     "output_type": "execute_result"
    }
   ],
   "source": [
    "MoocVideo(\"sbbyL0RDH-o\", src_location=\"9.1-intro\")"
   ]
  },
  {
   "cell_type": "markdown",
   "metadata": {},
   "source": [
    "# Motivation"
   ]
  },
  {
   "cell_type": "markdown",
   "metadata": {},
   "source": [
    "At this point, you might be wondering how did we get from talking about topological insulators to disordered metals. Well, we told you several times that topological states are supposed to be robust to disorder, and that this is one of the main reasons why they are so interesting.\n",
    "\n",
    "Based on the arguments we made in previous weeks, you could convince yourselves that certain properties such as the bulk boundary correspondence would be robust as long as the disorder wasn't enough to close the gap. However, many topological properties that we measure could in principle be susceptible to disorder.\n",
    "\n",
    "For example, while we told you that there was a perfectly conducting edge state for two dimensional topological insulators that was robust to disorder, we didn't make any such claims about conductance for the surface state of topological insulators in three dimensions. In fact, the conductance in three dimensions is certainly susceptible to disorder, however topology forbids it to become zero. Such subtle properties require a more detailed understanding of disorder."
   ]
  },
  {
   "cell_type": "markdown",
   "metadata": {},
   "source": [
    "# Simple limits: localized and extended states"
   ]
  },
  {
   "cell_type": "markdown",
   "metadata": {},
   "source": [
    "The main distinction that we need to keep in mind when we speak of disorder in electronic system is that between extended and localized states.\n",
    "\n",
    "Let's start by thinking of a three dimensional metal with a low density of impurities, hence weak disorder. In this limit, electrons moving through the system are scattered by impurities only every now and then, and move ballistically between collisions. This picture is known as the [Drude model](http://en.wikipedia.org/wiki/Drude_model), and yields a conductivity given by\n",
    "\n",
    "$$\\sigma=n e^2\\tau/m,$$\n",
    "\n",
    "where $n$ is the electron density, $m$ is the electron mass and $\\tau$ the mean free time between collisions. In this limit, the electron wave functions are extended throughout the bulk of the system, much like the plane waves of a clean crystal.\n",
    "\n",
    "The other extreme is the strong disorder limit, when there is a strongly fluctuating random potential in the material, for instance due to a strong density of impurities. This potential has minima at random positions in the material, where electrons can become trapped. The corresponding wave functions are localized exponentially close to the minima. With a large density of impurities, all electronic states are of this type. Once you have localized state, the only mechanism for conduction is tunneling between different minima - which however might be very far apart from each other. This leads to a suppression of conductance and to an insulating state.\n",
    "\n",
    "Let's discuss qualitatively the simplest effect of strong disorder on topological states, which are gapped. If we imagine a disorder potential with a Gaussian distribution, there always are \"rare regions\" where the disorder potential is very deep. Such potentials will determine the presence of energy levels in the middle of the gap. For strong disorder, there might even be no energy gap at all! However, the electrons trapped in the rare regions are localized and do not participate in any of the transport properties of the material.\n",
    "\n",
    ">Thus, even weak disorder can close the energy gap, which is what is supposed to protect topology, as discussed so far.  However, since these localized states are isolated from each other and most importantly the edges, they do not affect any of the topological properties.\n",
    "\n",
    "The considerations above make it clear that the presence or absence of a band gap is not a good criterion to tell whether a system in insulating or not in the presence of strong disorder, and that we need to understand the nature of the electronic states in the system. Our definition of an insulating state must obey a new criterion. As will see next, this criterion can be obtained by the study of conductance as a function of the system size."
   ]
  },
  {
   "cell_type": "markdown",
   "metadata": {},
   "source": [
    "# Conductance scaling"
   ]
  },
  {
   "cell_type": "markdown",
   "metadata": {},
   "source": [
    "How can we really get away with understanding electrons in disordered potentials without doing any real quantum mechanical calculation? We can only do this in these two extreme limits and actually only in certain dimensions. In principle, to see how the \"transition\" happens from electrons being extended to localized as disorder is increased requires us to solve the full quantum problem. So far it seems impossible to exactly solve this problem in any dimension other than 1D, so we won't bother and instead discuss an educated guess, which gives us most of the answer.\n",
    "\n",
    "Let us start by being more specific and asking about the conductance $G(L)$ of a $d$-dimensional block with sides $L$. Apart from the fact that the conductance has units of $G_0=e^2/h$, the conductance represents the ease with which electrons can propagate through the block. Therefore, the dimensionless conductance $g(L)=G(L)/G_0$ is sort of a higher dimensional analog of the average transmission of electrons between the end of the system multiplied by the number of channels. If we take the analogy with transmission a bit seriously, we could guess that the conductance of a combination of blocks each with conductance $g(L)$ would have a conductance $g'$, whose value essentially depends on the conductance $g(L)$. This is not very different from what we expect classically. The conductivity $g'$ of a pair of metallic blocks each with conductivity $g(L)$ when connected in series gives us  a $g'=g(L)/2$ when in  parallel produces a conductance of $g'=2 g(L)$. \n",
    "\n",
    "We can extend the above guess due to Thouless to relate the conductance $g(L)$ of a block of size $L$ to that of a block of size $2L$ i.e. \n",
    "\n",
    "$$g(2L)=f(g(L)),$$\n",
    "\n",
    "where $f$ is some function. We can use this equation to relate the conductances at a bunch of different length-scale, but not quite at all continuous lengths. We could create a larger set of similar relations by increasing the block size by a factor of $b$ instead of $2$. By choosing $b=1+d\\lambda$, we can write the equation\n",
    "\n",
    "$$g(b L)=g(L(1+d\\lambda))=g(L)+g(L)\\beta(g(L))d\\lambda,$$\n",
    "\n",
    "where $\\beta$ is a function called the scaling function or often simply the *beta function*. Taking the limit $d\\lambda\\rightarrow 0$ we obtain the *scaling equation*\n",
    "\n",
    "$$\\frac{d\\textrm{ln}g}{d\\textrm{ln}L}=\\beta(g).$$\n",
    "\n",
    ">This is the educated guess known as *single parameter scaling* that was adopted by  the \"Gang of Four\" (Abrahams, Anderson, Licciardello and Ramakrishnan) and is essentially an application of the idea of the [renormalization group](http://en.wikipedia.org/wiki/Renormalization_group) to the conductance problem. Of course, we don't quite know the function $\\beta$, but as we will see in the next unit, it is possible to guess the form in various limits and this is enough to guess qualitative behavior of the conductance.\n",
    "\n",
    "While the above representation will be useful for understanding the \"flow diagram\", the above scaling hypothesis has a simple general solution \n",
    "\n",
    "$$g(L)=\\Phi(L/\\xi),$$\n",
    "\n",
    "where $\\Phi$ is a function that is determined entirely from $\\beta$ and $\\xi$ is a decay length."
   ]
  },
  {
   "cell_type": "markdown",
   "metadata": {},
   "source": [
    "# Scaling flow diagram"
   ]
  },
  {
   "cell_type": "markdown",
   "metadata": {},
   "source": [
    "Now we are in a position to make use of the scaling hypothesis. We don't really know $\\beta(g)$ in general, but we can compute it for large $g$ i.e. in the metallic/delocalized limit and also in the small $g$ or strongly localized limit. In the strongly localized limit $g\\sim g_c e^{-L/\\xi}$ so that $\\beta(g)=\\textrm{ln}(g/g_c)$, while in the weak scattering limit, we can estimate $g$ from the classical Drude formula so that $g\\sim L^{(d-2)}$ and $\\beta(g)\\sim d-2$. In addition, one can calculate \"quantum corrections\" to the $\\beta-$function at large $g$, which turn out to depend on other details such as the symmetry class of the disorder.\n",
    "\n",
    "The simplest next step is to plot the function $\\beta(g)$ using the simplest interpolation between the two limits. The amazing thing is that just this simplest interpolation allows us to guess the physics of the phase diagram. What you might find a little counter-intuitive is that this phase diagram is lost in the exact solution we wrote at the end of the last unit in terms of $\\Phi$. To understand the phase diagram let us plot $\\beta(g)$ versus $g$ as below:"
   ]
  },
  {
   "cell_type": "markdown",
   "metadata": {},
   "source": [
    "![](figures/conductance_scaling.png)"
   ]
  },
  {
   "cell_type": "markdown",
   "metadata": {},
   "source": [
    "What we see is that for dimensions $d=1,2$ the curve can stay below $\\beta\\leq 0$, while the curve for $d=3$ intersects $\\beta=0$. To make it easier to understand the diagram, let us turn it into a \"flow diagram\" by adding arrows along the curve representing how $g$ changes with $L$. If $\\beta<0$ then the arrow flows $g$ to smaller values, while otherwise $g$ flows to larger values. From the flow diagram it is clear that in $d=1,2$ dimensions, the conductance flows to low values for large system sizes and therefore the system is insulating.\n",
    "\n",
    "In contrast, for $d=3$ if conductance is large enough, $\\beta > 0$, and the conductance keeps growing. In samples with a high enough disorder conductance drops. The separation point between these two behaviour is the *metal-insulator transition*."
   ]
  },
  {
   "cell_type": "code",
   "execution_count": null,
   "metadata": {
    "collapsed": false
   },
   "outputs": [
    {
     "data": {
      "text/html": [
       "<h4>How is the flow altered if we stack 10 1D systems next to each other and weakly couple them?</h4><form><input type=\"radio\" name=\"answer\" value=\"Nothing changes.\">Nothing changes.<br><input type=\"radio\" name=\"answer\" value=\"$\\beta$ is multiplied by 10.\">$\\beta$ is multiplied by 10.<br><input type=\"radio\" name=\"answer\" value=\"The scaling hypothesis doesn't apply since we don't have a 1D system anymore.\">The scaling hypothesis doesn't apply since we don't have a 1D system anymore.<br><input type=\"radio\" name=\"answer\" value=\"$\\beta$ is altered in some way, since we have a different disordered system now.\">$\\beta$ is altered in some way, since we have a different disordered system now.<br></form>\n",
       "        <button title=\"Click to show/hide content\" type=\"button\"\n",
       "        onclick=\"if(document.getElementById('00c0f6d153aab9d09f05e30091d43698')\n",
       "         .style.display=='none') {document.getElementById('00c0f6d153aab9d09f05e30091d43698')\n",
       "         .style.display=''}else{document.getElementById('00c0f6d153aab9d09f05e30091d43698')\n",
       "         .style.display='none'}\">Show answer</button>\n",
       "\n",
       "        <div id=\"00c0f6d153aab9d09f05e30091d43698\" style=\"display:none\">The correct answer is: <br>Nothing changes.<br><i>The scaling hypothesis tells us that details of the Hamiltonian don't matter, so the scaling flow stays the same.</i></div>"
      ],
      "text/plain": [
       "MoocMultipleChoiceAssessment(**{'display_name': 'Question', 'correct_answer': 0, 'explanation': \"The scaling hypothesis tells us that details of the Hamiltonian don't matter, so the scaling flow stays the same.\", 'question': 'How is the flow altered if we stack 10 1D systems next to each other and weakly couple them?', 'answers': ['Nothing changes.', '$\\\\beta$ is multiplied by 10.', \"The scaling hypothesis doesn't apply since we don't have a 1D system anymore.\", '$\\\\beta$ is altered in some way, since we have a different disordered system now.'], 'max_attempts': 2})"
      ]
     },
     "execution_count": null,
     "metadata": {},
     "output_type": "execute_result"
    }
   ],
   "source": [
    "question = \"How is the flow altered if we stack 10 1D systems next to each other and weakly couple them?\"\n",
    "\n",
    "answers = [\"Nothing changes.\",\n",
    "           r\"$\\beta$ is multiplied by 10.\",\n",
    "           \"The scaling hypothesis doesn't apply since we don't have a 1D system anymore.\",\n",
    "           r\"$\\beta$ is altered in some way, since we have a different disordered system now.\"]\n",
    "\n",
    "explanation = \"The scaling hypothesis tells us that details of the Hamiltonian don't matter, so the scaling flow stays the same.\"\n",
    "\n",
    "MoocMultipleChoiceAssessment(question=question, answers=answers, correct_answer=0, explanation=explanation)"
   ]
  },
  {
   "cell_type": "markdown",
   "metadata": {},
   "source": [
    "The 2D case is special: in the classical limit $g \\gg 1$, the scaling flow disappears, $\\beta \\approx 0$. However there remain *quantum corrections* to it. These are effects that get weaker with increasing the conductance, and they depend on the symmetry class of the Hamiltonian.\n",
    "\n",
    "Let's see what happens in the three simplest symmetry classes, those without sublattice or particle-hole symmetry. If you remember what we learned a week ago, these are class A (no symmetries, also called unitary since the matrix of Hamiltonian eigenvalues is unitary), AI ($\\mathcal{T}^2 = 1$, orthogonal), and AII ($\\mathcal{T} = -1$, symplectic).\n",
    "\n",
    "A lengthy and technical calculation leads to the following corrections to the scaling flow at $g \\gg 1$:"
   ]
  },
  {
   "cell_type": "markdown",
   "metadata": {},
   "source": [
    "![](figures/conductance_scaling_2D.png)"
   ]
  },
  {
   "cell_type": "markdown",
   "metadata": {},
   "source": [
    "So we see that in symmetry classes A and AI the conductance always drops, even though it does so very slowly in the class A, eventually leading to an insulating phase.\n",
    "\n",
    "The class AII has a critical metal-insulator transition point, and a metallic phase at $g > g_c$, just like a disordered 3D system. The growth of conductance in this system is much slower however: instead of $g \\sim L$, in 2D AII we have $g \\sim \\log L$."
   ]
  },
  {
   "cell_type": "markdown",
   "metadata": {},
   "source": [
    "# Metal-insulator transition"
   ]
  },
  {
   "cell_type": "markdown",
   "metadata": {},
   "source": [
    "The most interesting feature of the scaling theory of conductance that we learned so far is the existence of a universal critical point at which the behavior of the system changes from insulating (negative $\\beta$ function) to metallic (positive $\\beta$ function). This is the point $\\beta=0$ which appears in 3D and in 2D in class AII. Let's study more in detail such a critical point.\n",
    "\n",
    "The first thing to observe is that, at the critical point, you have that $d\\ln g/ d\\ln L = 0$, so the conductance takes a *scale-invariant* value $g=g_c$ which is independent of $L$.\n",
    "\n",
    "In practice, this behavior can be observed at fixed $L$ by varying one parameter appearing in the model under study, typically the disorder strength or the chemical potential. The average conductance $\\langle g \\rangle$ is then computed as a function of $\\alpha$ for different values of this parameter. One then obtains a plot like the following:"
   ]
  },
  {
   "cell_type": "code",
   "execution_count": null,
   "metadata": {
    "collapsed": false
   },
   "outputs": [
    {
     "data": {
      "image/png": "[encoded data removed]",
      "text/plain": [
       "<matplotlib.figure.Figure at 0x7fba271af650>"
      ]
     },
     "metadata": {},
     "output_type": "display_data"
    }
   ],
   "source": [
    "data = np.loadtxt('data_from_doru.dat')\n",
    "color_cycle = [(i,i,1) for i in [.66, .33, 0]]\n",
    "\n",
    "fig, ax = plt.subplots(figsize=(6,4))\n",
    "ax.set_color_cycle(color_cycle)\n",
    "\n",
    "for i in range(3):\n",
    "    x,y = data[i::3,0], data[i::3,2]\n",
    "    error = data[i::3,3]\n",
    "    \n",
    "    L = data[i, 1]\n",
    "    ax.errorbar(x, y, yerr=error, label=\"$L=%i$\" % L)\n",
    "    \n",
    "plt.legend();\n",
    "\n",
    "\n",
    "plt.xlabel('$V$')\n",
    "plt.ylabel(r'$\\langle G \\rangle$')\n",
    "\n",
    "\n",
    "\n",
    "evals = [5.5, 5.75, 6]\n",
    "ax.set_xticks(evals)\n",
    "ax.set_xticklabels([\"${0}$\".format(i) for i in evals])\n",
    "\n",
    "\n",
    "evals = [1, 1.5, 2]\n",
    "ax.set_yticks(evals)\n",
    "ax.set_yticklabels([\"${0}$\".format(i) for i in evals])\n",
    "\n",
    "\n",
    "ax.set_xlim(5.5, 6.0)\n",
    "ax.set_ylim(1.0, 2.0);"
   ]
  },
  {
   "cell_type": "markdown",
   "metadata": {},
   "source": [
    "(We thank Doru Sticlet for providing the data for this plot)"
   ]
  },
  {
   "cell_type": "markdown",
   "metadata": {},
   "source": [
    "The plot above was computed for a 2D tight-binding model in class AII, essentially electrons hopping on a square lattice in the presence of a strong Rashba spin-orbit coupling. In this case, the average conductance was computed as a function of onsite disorder strength $V$.\n",
    "\n",
    "What you can see is the existence of a value $V_c\\simeq 5.8$ which distiguishes two different behaviors. For $V < V_c$, conductance increases with system size: the system is metallic. For $V > V_c$, conductance decreases with system size: the system is insulating. Hence by comparing different curves at fixed $V$ we can easily 'see' the sign of the $\\beta$ function in our numerical calculations.\n",
    "\n",
    "At $V = V_c$, all the curves overlap in the same point: we find that $g$ is basically independent of $L$. This is the critical point. In the plot above, the critical value of conductance is $g_c \\simeq 1.3$. (Note that in practice in a typical numerical calculations the curves will not cross precisely at the same point because the systems under consideration are too small. This leads to an entire field of study regarding the finite-size corrections to the scaling theory).\n",
    "\n",
    "Let us study the conductance scaling around this point. The beta function changes sign at $g_c$, and in its vicinity we can consider it to be a linear function of $g$:\n",
    "\n",
    "$$\\beta(g) = \\frac{1}{\\nu}\\,\\frac{g-g_c}{g_c}\\,,$$\n",
    "\n",
    "with $\\nu$ just a coefficient and $g-g_c\\ll g_c$. On the insulating side of the transition, it is convenient to write down $g  = g_c - \\delta g$. Using the fact that $\\ln g \\simeq - \\delta g/ g_c + \\ln g_c$, and that $g_c$ does not depend on $L$, one then gets the following scaling equation for $\\delta g$,\n",
    "\n",
    "$$ \\frac{d \\delta g}{d \\ln L} = \\frac{\\delta g}{\\nu}\\,.$$\n",
    "\n",
    "Integrating this equation gives a power law,\n",
    "\n",
    "$$ \\frac{\\delta g(L)}{\\delta g(L_0)} = \\left(\\frac{L}{L_0}\\right)^{1/\\nu}\\,. $$\n",
    "\n",
    "At a fixed $L_0$, the behavior close to the transition is given by $\\delta g(L_0) \\simeq a(L_0) (V-V_c)$. So we get\n",
    "\n",
    "$$ g(L) =  g_c - a(L_0)\\,(V-V_c) \\, (L/L_0)^{1/\\nu} = g_c - a(L_0)\\,(L/\\xi)^{1/\\nu}\\,.$$\n",
    "\n",
    "The length $\\xi = L_0\\,(V-V_c)^{-\\nu}\\,$ is the localization length, which diverges at the transition point $V=V_c$. The number $\\nu$ is known as the *critical exponent*, and determines the scaling behavior of the conductance close to the critical point."
   ]
  },
  {
   "cell_type": "code",
   "execution_count": null,
   "metadata": {
    "collapsed": false
   },
   "outputs": [
    {
     "data": {
      "text/html": [
       "<h4>What would we see if $\\beta$ crossed from positive to negative values?</h4><form><input type=\"radio\" name=\"answer\" value=\"Small conductances would have a metallic phase, where $g$ grows indefinitely, while large $g$ would lead to an insulator.\">Small conductances would have a metallic phase, where $g$ grows indefinitely, while large $g$ would lead to an insulator.<br><input type=\"radio\" name=\"answer\" value=\"We would see a critical phase, where all conductances converge to the same value.\">We would see a critical phase, where all conductances converge to the same value.<br><input type=\"radio\" name=\"answer\" value=\"This is just the same metal-insulator transition since $\\beta(g_c) = 0$\">This is just the same metal-insulator transition since $\\beta(g_c) = 0$<br><input type=\"radio\" name=\"answer\" value=\"This is an impossible scaling function.\">This is an impossible scaling function.<br></form>\n",
       "        <button title=\"Click to show/hide content\" type=\"button\"\n",
       "        onclick=\"if(document.getElementById('a4385a46b03e351faeb0db9dc9faa465')\n",
       "         .style.display=='none') {document.getElementById('a4385a46b03e351faeb0db9dc9faa465')\n",
       "         .style.display=''}else{document.getElementById('a4385a46b03e351faeb0db9dc9faa465')\n",
       "         .style.display='none'}\">Show answer</button>\n",
       "\n",
       "        <div id=\"a4385a46b03e351faeb0db9dc9faa465\" style=\"display:none\">The correct answer is: <br>We would see a critical phase, where all conductances converge to the same value.<br><i>Both larger conductances and smaller conductances flow towards the critical value, so all systems get the same conductance when their size becomes large enough. This is an attractive critical point.</i></div>"
      ],
      "text/plain": [
       "MoocMultipleChoiceAssessment(**{'display_name': 'Question', 'correct_answer': 1, 'explanation': 'Both larger conductances and smaller conductances flow towards the critical value, so all systems get the same conductance when their size becomes large enough. This is an attractive critical point.', 'question': 'What would we see if $\\\\beta$ crossed from positive to negative values?', 'answers': ['Small conductances would have a metallic phase, where $g$ grows indefinitely, while large $g$ would lead to an insulator.', 'We would see a critical phase, where all conductances converge to the same value.', 'This is just the same metal-insulator transition since $\\\\beta(g_c) = 0$', 'This is an impossible scaling function.'], 'max_attempts': 2})"
      ]
     },
     "execution_count": null,
     "metadata": {},
     "output_type": "execute_result"
    }
   ],
   "source": [
    "question = r\"What would we see if $\\beta$ crossed from positive to negative values?\"\n",
    "\n",
    "answers = [\"Small conductances would have a metallic phase, where $g$ grows indefinitely, \"\n",
    "           \"while large $g$ would lead to an insulator.\",\n",
    "           \"We would see a critical phase, where all conductances converge to the same value.\",\n",
    "           r\"This is just the same metal-insulator transition since $\\beta(g_c) = 0$\",\n",
    "           \"This is an impossible scaling function.\"]\n",
    "\n",
    "explanation = (\"Both larger conductances and smaller conductances flow towards the critical value, \"\n",
    "               \"so all systems get the same conductance when their size becomes large enough. \"\n",
    "               \"This is an attractive critical point.\")\n",
    "\n",
    "MoocMultipleChoiceAssessment(question=question, answers=answers, correct_answer=1, explanation=explanation)"
   ]
  },
  {
   "cell_type": "markdown",
   "metadata": {},
   "source": [
    "# Absence of localization for topological insulators"
   ]
  },
  {
   "cell_type": "markdown",
   "metadata": {},
   "source": [
    "Finally let's make a remark about how the conductance scaling flow is modified on the protected surfaces of topological insulators.\n",
    "\n",
    "At large conductances we know that the classical scaling must still hold, since this is just Ohm's law. On the other hand, if we were able to make conductance exactly zero, we would break the bulk-edge correspondence, so $\\beta$ cannot be negative at $g \\ll 1$."
   ]
  },
  {
   "cell_type": "markdown",
   "metadata": {},
   "source": [
    "It turns out, the scaling flow on the surface of a topological insulator is modified by an appearance of an extra term, that vanishes at large conductance, but ensures that there is no localization."
   ]
  },
  {
   "cell_type": "markdown",
   "metadata": {},
   "source": [
    "# Conclusions"
   ]
  },
  {
   "cell_type": "code",
   "execution_count": null,
   "metadata": {
    "collapsed": false
   },
   "outputs": [
    {
     "data": {
      "text/html": [
       "\n",
       "        <iframe\n",
       "            width=\"400\"\n",
       "            height=300\"\n",
       "            src=\"https://www.youtube.com/embed/JdDeBJEBO0s\"\n",
       "            frameborder=\"0\"\n",
       "            allowfullscreen\n",
       "        ></iframe>\n",
       "        "
      ],
      "text/plain": [
       "MoocVideo(**{'download_video': 'true', 'display_name': '', 'sub': 'JdDeBJEBO0s', 'youtube': '1.00:JdDeBJEBO0s', 'show_captions': 'true', 'youtube_id_1_0': 'JdDeBJEBO0s', 'source': 'http://delftxdownloads.tudelft.nl/TOPOCMx-QuantumKnots/TOPOCMx-9.1-summary-video.720.mp4', 'download_track': 'true'})"
      ]
     },
     "execution_count": null,
     "metadata": {},
     "output_type": "execute_result"
    }
   ],
   "source": [
    "MoocVideo(\"JdDeBJEBO0s\", src_location=\"9.1-summary\")"
   ]
  },
  {
   "cell_type": "markdown",
   "metadata": {},
   "source": [
    "Questions about what you just learned? Ask them below!"
   ]
  },
  {
   "cell_type": "code",
   "execution_count": null,
   "metadata": {
    "collapsed": false
   },
   "outputs": [
    {
     "data": {
      "text/html": [
       "<p><b>Discussion</b> entitled 'Anderson localization' is available in the online version of the course.</p>"
      ],
      "text/plain": [
       "MoocDiscussion(**{'discussion_category': 'Questions', 'discussion_target': 'Anderson localization', 'display_name': 'Anderson localization', 'discussion_id': '1e62aac195c69654bfcce62d3bd0b090'})"
      ]
     },
     "execution_count": null,
     "metadata": {},
     "output_type": "execute_result"
    }
   ],
   "source": [
    "MoocDiscussion(\"Questions\", \"Anderson localization\")"
   ]
  }
 ],
 "metadata": {},
 "nbformat": 4,
 "nbformat_minor": 0
}