{
 "metadata": {
  "name": ""
 },
 "nbformat": 3,
 "nbformat_minor": 0,
 "worksheets": [
  {
   "cells": [
    {
     "cell_type": "code",
     "collapsed": false,
     "input": [
      "%run ../code/init_mooc_nb.ipy"
     ],
     "language": "python",
     "metadata": {},
     "outputs": []
    },
    {
     "cell_type": "markdown",
     "metadata": {},
     "source": [
      "#Table of Contents\n",
      "* [Introduction](#Introduction)\n",
      "* [Spectroscopy of 3D TI](#Spectroscopy-of-3D-TI)\n",
      "* [Landau levels](#Landau-levels)\n",
      "* [QPI](#QPI)\n",
      "* [The issue of bulk conductivity](#The-issue-of-bulk-conductivity)\n",
      "* [Hexagonal warping](#Hexagonal-warping)\n",
      "* [Summary](#Summary)\n"
     ]
    },
    {
     "cell_type": "markdown",
     "metadata": {},
     "source": [
      "### Plan\n",
      "\n",
      "* Spectroscopy of 3D TI\n",
      "* Landau levels\n",
      "* QPI\n",
      "* The issue of bulk conductivity\n",
      "* Hexagonal warping"
     ]
    },
    {
     "cell_type": "heading",
     "level": 1,
     "metadata": {},
     "source": [
      "Introduction: searching the periodic table for topological materials"
     ]
    },
    {
     "cell_type": "markdown",
     "metadata": {},
     "source": [
      "How do we find a topological insulator? In the first video of today, David Vanderbilt from Rutgers University will tell us more about the material science aspects of topological insulators research."
     ]
    },
    {
     "cell_type": "code",
     "collapsed": false,
     "input": [
      "MoocVideo(\"62ZObitJ4DM\",  src_location=\"6.2-intro\")"
     ],
     "language": "python",
     "metadata": {},
     "outputs": []
    },
    {
     "cell_type": "markdown",
     "metadata": {},
     "source": [
      "In the rest of the lecture, we will instead discuss the experimental signatures of 3D topological insulators, similarly to what we did in the previous week for their 2D counterparts."
     ]
    },
    {
     "cell_type": "heading",
     "level": 1,
     "metadata": {},
     "source": [
      "Spectroscopy of 3D TI"
     ]
    },
    {
     "cell_type": "markdown",
     "metadata": {},
     "source": [
      "In the last unit we learned about the surface Dirac cones that are a consequence of the bulk topology of a strong topological insulator. Amazingly, the surface states can be directly imaged experimentally using the technique of Angle Resolved Photo Emission Spectroscopy - or, in short, [ARPES](http://en.wikipedia.org/wiki/Angle-resolved_photoemission_spectroscopy). In ARPES high energy X-ray photons are shot vertically into a metal surface to eject electrons. Based on energy and momentum conservation we can figure out that the electrons are emitted with the transverse momentum they have in the crystal and an energy which is related to the energy of the electron in the crystal. So we can use ARPES to measure the energy dispersion of the surface states i.e. $E(k_x,k_y)$ as a function of momenta $\\hbar k_x$ and $\\hbar k_y$.\n",
      "\n",
      "Below we see an example of ARPES spectra for the surface states of a strong topological insualtor $Bi_2 Se_3$:\n",
      "\n",
      "![](figures/arpes_fig1.png)\n",
      "\n",
      "We realize that the ARPES procedure can only eject electrons - so only occupied states below the fermi level are visible using ARPES. In the ARPES results above we see the results for different dopings of the crystal. In the top set of panels we see the electrons that are ejected with the highest energy in ARPES i.e. at the fermi level. What we see is that as the system is doped to reduce the fermi level, the fermi surface (i.e. the momenta of the occupied states) reduces as is expected for a Dirac system. \n",
      "\n",
      "In the second and third rows we see the cross-section of energy dependence of momentum. \n",
      "\n"
     ]
    },
    {
     "cell_type": "heading",
     "level": 1,
     "metadata": {},
     "source": [
      "Landau levels"
     ]
    },
    {
     "cell_type": "markdown",
     "metadata": {},
     "source": [
      "![](figures/LL_spectroscopy.png)\n",
      "![](figures/LL_spectroscopy_interpolation.png)"
     ]
    },
    {
     "cell_type": "heading",
     "level": 1,
     "metadata": {},
     "source": [
      "QPI"
     ]
    },
    {
     "cell_type": "markdown",
     "metadata": {},
     "source": [
      "![](figures/QPI_pic.png)"
     ]
    },
    {
     "cell_type": "heading",
     "level": 1,
     "metadata": {},
     "source": [
      "The issue of bulk conductivity"
     ]
    },
    {
     "cell_type": "markdown",
     "metadata": {},
     "source": [
      "![](figures/bulk_conductance_TI.png)\n",
      "![](figures/insulating_TI.png)"
     ]
    },
    {
     "cell_type": "heading",
     "level": 1,
     "metadata": {},
     "source": [
      "Hexagonal warping"
     ]
    },
    {
     "cell_type": "markdown",
     "metadata": {},
     "source": [
      "![](figures/warping_texture.png)"
     ]
    },
    {
     "cell_type": "heading",
     "level": 1,
     "metadata": {},
     "source": [
      "Summary: from basic science to potential applications"
     ]
    },
    {
     "cell_type": "markdown",
     "metadata": {},
     "source": [
      "David Vanderbilt will conclude this week's lectures by offering a perspective on the future of the field."
     ]
    },
    {
     "cell_type": "code",
     "collapsed": false,
     "input": [
      "MoocVideo(\"WZmNeEwM1N4\",  src_location=\"6.2-summary\")"
     ],
     "language": "python",
     "metadata": {},
     "outputs": []
    },
    {
     "cell_type": "code",
     "collapsed": false,
     "input": [
      "MoocDiscussion(\"Questions\", \"Signatures of 3D TI\")"
     ],
     "language": "python",
     "metadata": {},
     "outputs": []
    }
   ],
   "metadata": {}
  }
 ]
}