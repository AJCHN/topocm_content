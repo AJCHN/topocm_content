{
 "cells": [
  {
   "cell_type": "code",
   "execution_count": null,
   "metadata": {
    "collapsed": false
   },
   "outputs": [],
   "source": [
    "%run ../code/init_mooc_nb.ipy\n",
    "import scipy\n",
    "import scipy.linalg as sla\n",
    "from matplotlib import cm\n",
    "\n",
    "\n",
    "import warnings\n",
    "warnings.simplefilter(\"ignore\", UserWarning)\n",
    "\n",
    "\n",
    "sigma0 = np.array([[1, 0], [0, 1]])\n",
    "sigmax = np.array([[0, 1], [1, 0]])\n",
    "sigmay = np.array([[0, -1j], [1j, 0]])\n",
    "sigmaz = np.array([[1, 0], [0, -1]])\n",
    "\n",
    "\n",
    "def evaluate_on_grid(X, Y, func):\n",
    "    \"\"\" X, Y should be in np.meshgrid form. It's enough for func to work on floats. \"\"\"\n",
    "    data = []\n",
    "    for xx, yy in zip(X, Y):\n",
    "        row = []\n",
    "        for i,j in zip(xx, yy):\n",
    "            row.append(func(i,j))\n",
    "        data.append(row)\n",
    "    data = np.array(data)\n",
    "    data = [np.array(data[:,:,i]) for i in range(np.shape(data)[2])]\n",
    "    return data\n",
    "\n",
    "\n",
    "def get_energy_function(A, B, C):\n",
    "    \"\"\" Used for plotting of hexagonal warping. \"\"\"\n",
    "    def func(kx, ky):\n",
    "        matrix = A*(kx**2+ky**2)*sigma0\\\n",
    "        + B*(kx * sigmay - ky * sigmax) \\\n",
    "        + C* 0.5 * ( (kx+1j*ky)**3 + (kx-1j*ky)**3 ) * sigmaz\n",
    "        return sla.eigh(matrix)[0]\n",
    "    return func\n",
    "\n",
    "\n",
    "# Onsite and hoppings matrices used for building BHZ model\n",
    "def onsite(site, par):\n",
    "    A1, A2, B1, B2, D1, D2, C, M = par.A1, par.A2, par.B1, par.B2, par.D1, par.D2, par.C, par.M\n",
    "    return (C + 2 * D1 + 4 * D2) * np.kron(sigma0, sigma0) + (M + 2 * B1 + 4 * B2) * np.kron(sigma0, sigmaz)\n",
    "\n",
    "\n",
    "def hopx(site1, site2, par):\n",
    "    A1, A2, B1, B2, D1, D2, C, M = par.A1, par.A2, par.B1, par.B2, par.D1, par.D2, par.C, par.M\n",
    "    return - D2 * np.kron(sigma0, sigma0) - B2 * np.kron(sigma0, sigmaz) + A2 * 0.5j * np.kron(sigmax, sigmax)\n",
    "\n",
    "\n",
    "def hopy(site1, site2, par):\n",
    "    A1, A2, B1, B2, D1, D2, C, M = par.A1, par.A2, par.B1, par.B2, par.D1, par.D2, par.C, par.M\n",
    "    return - D2 * np.kron(sigma0, sigma0) - B2 * np.kron(sigma0, sigmaz) + A2 * 0.5j * np.kron(sigmay, sigmax)\n",
    "\n",
    "\n",
    "def hopz(site1, site2, par):\n",
    "    A1, A2, B1, B2, D1, D2, C, M = par.A1, par.A2, par.B1, par.B2, par.D1, par.D2, par.C, par.M\n",
    "    return - D1 * np.kron(sigma0, sigma0) - B1 * np.kron(sigma0, sigmaz) + A1 * 0.5j * np.kron(sigmaz, sigmax)\n",
    "\n",
    "\n",
    "def bhz_slab(L, W, H):\n",
    "    \"\"\"A cuboid region of BHZ material with two leads attached.\n",
    "    \n",
    "    parameters for leads and scattering region can be defined separately\n",
    "    \"\"\"\n",
    "    lat = kwant.lattice.general(np.identity(3))\n",
    "    sys = kwant.Builder()\n",
    "    \n",
    "    sym = kwant.TranslationalSymmetry((1, 0, 0))\n",
    "    lead = kwant.Builder(sym)\n",
    "    \n",
    "    def shape_lead(pos):\n",
    "        (x, y, z) = pos\n",
    "        return (0 <= z < H) and (0 <= y < W)\n",
    "    \n",
    "    def shape(pos):\n",
    "        (x, y, z) = pos\n",
    "        return (0 <= z < H) and (0 <= y < W) and (0 <= x < L)\n",
    "    \n",
    "    def hopping_x(site1, site2, par):\n",
    "        xt, yt, zt = site1.pos\n",
    "        xs, ys, zs = site2.pos\n",
    "        return hopx(site1,site2,par) * np.exp(-0.5j * par.Bz * (xt - xs) * (yt + ys))\n",
    "    \n",
    "    # scattering system\n",
    "    sys[lat.shape(shape, (0,0,0))] = lambda site, par: onsite(site, par.scat) - par.mu * np.eye(4)\n",
    "    sys[kwant.HoppingKind((1,0,0), lat)] = lambda site1, site2, par: hopping_x(site1, site2, par.scat)\n",
    "    sys[kwant.HoppingKind((0,1,0), lat)] = lambda site1, site2, par: hopy(site1, site2, par.scat)\n",
    "    sys[kwant.HoppingKind((0,0,1), lat)] = lambda site1, site2, par: hopz(site1, site2, par.scat)\n",
    "\n",
    "    # leads\n",
    "    lead[lat.shape(shape_lead, (0,0,0))] = lambda site, par: onsite(site, par.lead) - par.mu_lead * np.eye(4)\n",
    "    lead[kwant.HoppingKind((1,0,0), lat)] = lambda site1, site2, par: hopping_x(site1, site2, par.lead)\n",
    "    lead[kwant.HoppingKind((0,1,0), lat)] = lambda site1, site2, par: hopy(site1, site2, par.lead)\n",
    "    lead[kwant.HoppingKind((0,0,1), lat)] = lambda site1, site2, par: hopz(site1, site2, par.lead)\n",
    "    \n",
    "    # attaching leads\n",
    "    sys.attach_lead(lead)\n",
    "    sys.attach_lead(lead.reversed())\n",
    "    return sys.finalized()"
   ]
  },
  {
   "cell_type": "markdown",
   "metadata": {},
   "source": [
    "#Table of Contents\n",
    "* [Introduction: searching the periodic table for topological materials](#Introduction:-searching-the-periodic-table-for-topological-materials)\n",
    "* [Conductance of a 3D topological insulator](#Conductance-of-a-3D-topological-insulator)\n",
    "* [Landau levels](#Landau-levels)\n",
    "* [Spectroscopy of the surface of a 3D topological insulator](#Spectroscopy-of-the-surface-of-a-3D-topological-insulator)\n",
    "* [Quasiparticle interference (QPI)](#Quasiparticle-interference-%28QPI%29)\n",
    "* [The issue of bulk conductivity](#The-issue-of-bulk-conductivity)\n",
    "* [Hexagonal warping](#Hexagonal-warping)\n",
    "* [Outlook: from basic science to potential applications](#Outlook:-from-basic-science-to-potential-applications)\n"
   ]
  },
  {
   "cell_type": "markdown",
   "metadata": {},
   "source": [
    "### Plan\n",
    "\n",
    "* Spectroscopy of 3D TI\n",
    "* Landau levels\n",
    "* QPI\n",
    "* The issue of bulk conductivity\n",
    "* Hexagonal warping"
   ]
  },
  {
   "cell_type": "markdown",
   "metadata": {},
   "source": [
    "# Introduction: searching the periodic table for topological materials"
   ]
  },
  {
   "cell_type": "markdown",
   "metadata": {},
   "source": [
    "How do we find a topological insulator? In the first video of today, David Vanderbilt from Rutgers University will tell us more about the material science aspects of topological insulators research.\n",
    "\n",
    "This is an expertise that no one from the course team has, so pay close attention to it: this material stands apart from the rest."
   ]
  },
  {
   "cell_type": "code",
   "execution_count": null,
   "metadata": {
    "collapsed": false
   },
   "outputs": [],
   "source": [
    "MoocVideo(\"62ZObitJ4DM\",  src_location=\"6.2-intro\")"
   ]
  },
  {
   "cell_type": "markdown",
   "metadata": {},
   "source": [
    "In the rest of the lecture, we will instead discuss the experimental signatures of 3D topological insulators, similarly to what we did in the previous week for their 2D counterparts.\n",
    "\n",
    "All the figures showing the experimental data are copyright of the Zahid Hasan lab, Princeton, 2015. They are available under CC-BY-NC-SA 4.0 International license."
   ]
  },
  {
   "cell_type": "markdown",
   "metadata": {},
   "source": [
    "# Conductance of a 3D topological insulator"
   ]
  },
  {
   "cell_type": "markdown",
   "metadata": {},
   "source": [
    "Both the quantum Hall and quantum spin Hall states had striking conductance quantization properties, thanks to the presence of perfectly transmitting one-dimensional transport channels.\n",
    "\n",
    "The 3D topological insulators do not posses similarly striking conductance properties. In a slab geometry, the surface states contribute with a finite density of propagating states. This density has a minimum at the Dirac point, and we expect the conductance to increase with a roughly hyperbolic shape away if the chemical potential is tuned away from the Dirac point.\n",
    "\n",
    "This is what is shown in the plot below:"
   ]
  },
  {
   "cell_type": "code",
   "execution_count": null,
   "metadata": {
    "collapsed": false
   },
   "outputs": [],
   "source": [
    "# Making system\n",
    "\n",
    "Bz = 0.\n",
    "mu_lead = 0.7\n",
    "mu_max = 0.4\n",
    "\n",
    "L, W, H = 10, 30, 6\n",
    "sys = bhz_slab(L, W, H)\n",
    "\n",
    "momenta = np.linspace(-np.pi/3, np.pi/3, 100)\n",
    "\n",
    "# calculating bands in scat\n",
    "par_lead = SimpleNamespace(A1=1.0, A2=1.0, B1=1.0, B2=1.0, C=0.0, D1=0., D2=0., M=-1.0, Bz=Bz)\n",
    "par = SimpleNamespace(lead=par_lead, scat=par_lead, mu_lead=0.0)\n",
    "bands = kwant.physics.Bands(sys.leads[0], args=[par])\n",
    "energies_scat = [bands(k) for k in momenta]\n",
    "\n",
    "\n",
    "# calculating conductance\n",
    "mus = np.linspace(-mu_max, mu_max, 40)\n",
    "data = []\n",
    "\n",
    "par_lead = SimpleNamespace(A1=1.0, A2=1.0, B1=1.0, B2=1.0, C=0.0, D1=0., D2=0., M=-1.0, Bz=0.0)\n",
    "par_scat = SimpleNamespace(A1=1.0, A2=1.0, B1=1.0, B2=1.0, C=0.0, D1=0., D2=0., M=-1.0, Bz=Bz)\n",
    "\n",
    "par = SimpleNamespace(lead=par_lead, scat=par_scat, mu_lead=mu_lead)\n",
    "sys_leads_fixed = sys.precalculate(energy=0.0, args=[par])\n",
    "\n",
    "for par.mu in mus:    \n",
    "    smatrix = kwant.smatrix(sys_leads_fixed, energy=0.0, args=[par])\n",
    "    data.append(smatrix.transmission(1, 0))\n",
    "\n",
    "\n",
    "    \n",
    "# making plot\n",
    "gmax = 8\n",
    "band_max = 1\n",
    "\n",
    "def plot(mu):\n",
    "    # Figures, axes and matplotlib defaults.\n",
    "    fig, ax = plt.subplots(1,2, figsize=([9.5, 4]), tight_layout=True)\n",
    "    ax1, ax2 = ax\n",
    "    ax2.set_color_cycle(['k'])\n",
    "\n",
    "    # Plotting conductance\n",
    "    ax1.plot(mus, data, 'r-')\n",
    "    ax1.plot([mu, mu], [0, gmax], 'b--')\n",
    "    \n",
    "    # Plotting bands\n",
    "    ax2.plot(momenta, energies_scat)\n",
    "    ax2.plot([-4, 4], [mu, mu], 'k--')\n",
    "    \n",
    "    # Setting labels and titles\n",
    "    ax1.set_xlabel(r'$\\mu$')\n",
    "    ax1.set_ylabel(r'$G\\,[e^2/h]$')\n",
    "\n",
    "    ax2.set_xlabel('$k$')\n",
    "    ax2.set_ylabel('$E$')\n",
    "    \n",
    "    ax1.set_title('conductance')\n",
    "    ax2.set_title('spectrum')\n",
    "    \n",
    "    # Setting ticks\n",
    "    vals = np.arange(-0.4, 0.8, 0.4)\n",
    "    ax1.set_xticks(vals)\n",
    "    ax1.set_xticklabels([\"${0}$\".format(i) for i in vals])\n",
    "\n",
    "    vals = range(0, gmax+1, 2)\n",
    "    ax1.set_yticks(vals)\n",
    "    ax1.set_yticklabels([\"${0}$\".format(i) for i in vals])\n",
    "\n",
    "    vals = np.arange(-2, 2.5, .5)\n",
    "    ax2.set_yticks(vals)\n",
    "    ax2.set_yticklabels([\"${0}$\".format(i) for i in vals])\n",
    "\n",
    "    ax2.set_xticks([-np.pi/3, 0.0, np.pi/3])\n",
    "    ax2.set_xticklabels([r'$-\\frac{\\pi}{3}$', r'$0$', r'$\\frac{\\pi}{3}$'])\n",
    "\n",
    "    # Setting limits\n",
    "    ax1.set_xlim(-mu_max, mu_max)\n",
    "    ax1.set_ylim(0, gmax)\n",
    "    \n",
    "    ax2.set_xlim(-np.pi/3,np.pi/3);\n",
    "    ax2.set_ylim(-band_max, band_max)\n",
    "    \n",
    "    return fig\n",
    "\n",
    "StaticInteract(lambda mu: plot(.1*mu), mu = RangeWidget(-3, 3, name='mu', default=0, show_range=True))"
   ]
  },
  {
   "cell_type": "markdown",
   "metadata": {},
   "source": [
    "It is also the behavior that is observed experimentally. Below, you see that the resistance of a 3D TI slab has a maximum as the chemical potential difference between its two top and bottom surfaces is varied."
   ]
  },
  {
   "cell_type": "markdown",
   "metadata": {},
   "source": [
    "![](figures/zero_field_Rxx.png)\n",
    "\n",
    "(copyright Hasan lab, Princeton, see license in the beginning of the chapter)"
   ]
  },
  {
   "cell_type": "markdown",
   "metadata": {},
   "source": [
    "Note that in such a measurement, you cannot separate contributions of states coming from the different surfaces, or potentially also from the sides or the sample, or even from the bulk - soon we'll discuss this issue in more detail. \n",
    "\n",
    "Nevertheless, the observed maximum in resistance corresponds to the minimum in conductance computed just above, and it demonstrates the presence of a Dirac point between the conduction and valence bands.\n",
    "\n",
    "Overall, the behaviour above is not particularly telling. In graphene, for instance, you would observe the same behavior. The conductance is not sensitive to degeneracies in the electron spectrum in a qualitative way, so just from it we cannot demonstrate that the surface of a 3D TI has a single Dirac cone, unlike graphene which has four. Hence, while the measurement above is a signature of a surface state, it is not a particularly striking one.\n",
    "\n",
    "Perhaps we will be more lucky with topological signatures of 3D topological insulators, if we look at the Hall conductance?"
   ]
  },
  {
   "cell_type": "markdown",
   "metadata": {},
   "source": [
    "# Landau levels"
   ]
  },
  {
   "cell_type": "markdown",
   "metadata": {},
   "source": [
    "In the last chapter, we saw that one single surface of a 3D topological insulator is characterized by a Hall conductance of $ (n+1/2)\\, e^2/h$. We also pointed out that there are always two surfaces, say the top and bottom one of a slab, which gives a total Hall conductance of $(2n+1)\\,e^2/h$ and makes it hard to observe the half-integer Hall conductance.\n",
    "\n",
    "You may say - OK, we can live with this and be happy with our $(2n+1)$ sequence. After all, it looks almost as unique as the $(n+1/2)$ sequence. Sure, it does not allow us to see directly the half-integer value, but it gives a step between plateaus which is twice the usual one, and no plateau with $n=0$. After all, measuring *twice* that sequence was a good enough probe for graphene.\n",
    "\n",
    "So let's look at a Hall conductance measurements performed on a slab of a 3D TI, focusing for instance on the blue trace. "
   ]
  },
  {
   "cell_type": "markdown",
   "metadata": {},
   "source": [
    "![](figures/LL_spectroscopy.png)\n",
    "\n",
    "(copyright Hasan lab, Princeton, see license in the beginning of the chapter)"
   ]
  },
  {
   "cell_type": "markdown",
   "metadata": {},
   "source": [
    "You see a sequence of plateaus with integer steps of a normal height $e^2/h$. Nothing special. Why did our prediction of a $(2n+1)$ sequence fail? \n",
    "\n",
    "The reason is that there is no symmetry at all between top and bottom surfaces, they are really independent. For instance, they might have different doping, and hence be characterized by different values $n_\\textrm{top}$ and $n_\\textrm{bottom}$ of the Chern integer.\n",
    "\n",
    "Therefore, rather than observing a sequence $e^2/h\\,(2n+1)$, we observe a more conventional sequence given by $e^2/h\\,(n_\\textrm{top}+n_\\textrm{bottom}+1)$, with the usual $e^2/h$ steps between different plateaus."
   ]
  },
  {
   "cell_type": "markdown",
   "metadata": {},
   "source": [
    "So, even studying the Landau levels experimentally we do not get a topological signature. But do not despair, luckily there is a much better thing that we can do rather than just measuring conductance: looking at the energy spectrum of the surface states directly."
   ]
  },
  {
   "cell_type": "code",
   "execution_count": null,
   "metadata": {
    "collapsed": false
   },
   "outputs": [],
   "source": [
    "question = (\"Which control parameter can remove the 0th plateau in the QHE measurement? \")\n",
    "\n",
    "answers = [\"Increasing the magnetic field.\",\n",
    "           \"Gate voltage difference (which controls difference in electron density) between the surfaces.\",\n",
    "           \"Increasing topological mass.\",\n",
    "           \"Adding an in-plane magnetic field.\"]\n",
    "\n",
    "explanation = (\"Gate voltage difference changes the filling of the individual states without shifting the total density of electrons. \"\n",
    "            \"This can therefore shift the plateaus of each surface. Magnetic field and topological mass are part of generating the \"\n",
    "               \" $0^{th}$ plateau to begin with so cannot eliminate it. \")\n",
    "\n",
    "MoocMultipleChoiceAssessment(question=question, answers=answers, correct_answer=1, explanation=explanation)"
   ]
  },
  {
   "cell_type": "markdown",
   "metadata": {},
   "source": [
    "# Spectroscopy of the surface of a 3D topological insulator"
   ]
  },
  {
   "cell_type": "markdown",
   "metadata": {},
   "source": [
    "Amazingly, the surface states of a 3D topological insulator can be directly imaged experimentally using the technique of Angle Resolved Photo Emission Spectroscopy - or, in short, [ARPES](http://en.wikipedia.org/wiki/Angle-resolved_photoemission_spectroscopy).\n",
    "\n",
    "In ARPES, X-ray photons are shot vertically into a metal surface in order to eject electrons out of it. When this happens, due to energy and momentum conservation, the emitted electrons have the same momentum parallel to the surface that they had in the crystal, and an energy which is related to their band energy in the crystal. Hence, ARPES is the ideal tool to measure the energy dispersion of the surface states of a solid, i.e. $E(k_x, k_y)$ as a function of momenta $\\hbar k_x$ and $\\hbar k_y$.\n",
    "\n",
    "Below, we see an example of ARPES spectra for the surface states of a strong topological insulator Bi$_2$ Se$_3$:\n",
    "\n",
    "![](figures/arpes_fig1.png)\n",
    "\n",
    "(copyright Hasan lab, Princeton, see license in the beginning of the chapter)\n",
    "\n",
    "ARPES can only eject electrons - so only occupied states below the Fermi level are visible in the experiment, but of course one can still map out the Fermi surface at different energies by changing the chemical potential in the crystal. In the ARPES results above we see the results for different dopings of the crystal.\n",
    "\n",
    "This is what we see in the top set of panels in the figure above: changing the chemical potential, the Fermi surface shrinks from a circle to a point, exactly what you would expect for electrons with a Dirac-like dispersion.\n",
    "\n",
    "While the top panels shows where the occupied states lie in the $(k_x, k_y)$ plane, in the second and third rows we see a cross-section of the energy as a function of momentum, where the Dirac cone is clearly visible, emerging from a bulk valence band filled with electrons."
   ]
  },
  {
   "cell_type": "code",
   "execution_count": null,
   "metadata": {
    "collapsed": false
   },
   "outputs": [],
   "source": [
    "question = (\"Why do you think ARPES observes surface states even if there is conductance through the bulk?\")\n",
    "\n",
    "answers = [\"ARPES can only observe occupied states and therefore bulk conductance is not an issue. \",\n",
    "           \"Since ARPES measures the spectrum in a momentum resolved way, it can separate out surface and bulk states.\",\n",
    "           \"ARPES does not measure conductance and therefore bulk electronic states are not an issue.\",\n",
    "        \"Since ARPES measures the spectrum in an energy resolved way, it can selectively choose the surface states in the bulk gap.\"]\n",
    "\n",
    "explanation = (\"The surface states live within the energy gap of the bulk. Since ARPES directly measure $E(k)$, it separates out \"\n",
    "            \"surface states from bulk states, which are in different energy ranges. \")\n",
    "\n",
    "MoocMultipleChoiceAssessment(question=question, answers=answers, correct_answer=3, explanation=explanation)"
   ]
  },
  {
   "cell_type": "markdown",
   "metadata": {},
   "source": [
    "# Quasiparticle interference (QPI)"
   ]
  },
  {
   "cell_type": "markdown",
   "metadata": {},
   "source": [
    "Scanning tunneling microscopy (STM) is another tool to image surface states in a topological insulator. In the process of STM we tunnel electrons into the surface from a metallic tip. In contrast to ARPES, the electrons are not going into free space, so we don't have momentum resolution. On the other hand, we do trade momentum resolution for nearly atomic spatial resolution. We know exactly where exactly on the surface the electron came from.\n",
    "\n",
    "Tunneling into a uniform surface can tell us a little bit about which orbital on an atom the electrons at a certain energy come from. Otherwise, we'd see a uniform surface, which wouldn't have much information.  We can make things more interesting and, strangely enough, get more information out, by sprinkling some impurities on the surface. The impurities scatter the surface electrons and produce a standing wave pattern on the surface, which depends on the Fermi surface momenta of the electrons at the particular tunneling energy (Note: in this unit we refer to the equal energy surface in momentum space at the tunneling energy as Fermi surface for convenience). The resulting pattern is referred to QPI. Specifically, Fourier transforming the QPI pattern directly maps out the momentum transfer across the Fermi-surface of the surface state. \n",
    "\n",
    "Clearly, we can expect to map out some properties of the momentum space scattering on the surface of the topological insulator. \n",
    "\n",
    "In the simulation below. we see that the Fourier transform shows an interesting pattern: "
   ]
  },
  {
   "cell_type": "markdown",
   "metadata": {},
   "source": [
    "![](figures/QPI_pic_adapted.png)\n",
    "(adapted, copyright Hasan lab, Princeton, see license in the beginning of the chapter)  "
   ]
  },
  {
   "cell_type": "markdown",
   "metadata": {},
   "source": [
    "By comparing the QPI patterns showing spin-dependent and spin-independent scattering (respectively on the left and right column on the right side of the arrow), we see that the intensity at momenta connecting opposite points on the Fermi surface is suppressed in the case of spin-independent scattering.\n",
    "\n",
    "In fact, by comparing the fourier transform of the QPI on the right with the Fermi surface on the left, we begin to see that the absence of back-scattering, which is one of the key properties of the topological insulator surface state plays a key role. As you might remember from the quantum spin hall systems - elastic backscattering of electrons is forbidden between states at $\\bf k$ and $-\\bf k$ because of Kramers' theorem. Looking at the QPI pattern from spin-independent impurities and comparing it with the Fermi surface confirms this. "
   ]
  },
  {
   "cell_type": "markdown",
   "metadata": {},
   "source": [
    "# The issue of bulk conductivity"
   ]
  },
  {
   "cell_type": "markdown",
   "metadata": {},
   "source": [
    "One of the central issues that has plagued the experimental progress with topological insulators is the presence of bulk doping or conductance in most naturally grown crystals. You can see this simply by looking at the ARPES plots below:\n",
    "\n",
    "![](figures/bulk_conductance_TI.png)\n",
    "(copyright Hasan lab, Princeton, see license in the beginning of the chapter)\n",
    "\n",
    "What you see is that the Fermi-energy, which is the highest energy till which you can eject electrons in ARPES intersects the conduction band. This means that in the native state the conduction band of the electrons is occupied and the fermi level is not in the gap. This problem is terrible on the panel in the extreme left for pure Antimony, which is really a semimetal with overlapping electron and hole bands. In this case, independent of where the fermi level is the system would remain metallic. Moving from pure Sb to $Bi_2 Se_3$ improves this somewhat, but still does not make this an insulator. Theoretically, we do expect pure $Bi_2 Se_3$ to be an insulator - on the other hand, the system typically appears to have Se vacancies, which make the system metallic.\n",
    "\n",
    "Being metallic really ruins a lot of the interesting properties of topological insulators. So a lot of effort is going in to fixing it up. Below, we see some of the results from these attempts:\n",
    "\n",
    "![](figures/insulating_TI.png)\n",
    "(copyright Hasan lab, Princeton, see license in the beginning of the chapter)\n",
    "\n",
    "where various combinations of $Bi$, $Se$ and $Te$ have been combined to drive the system insulating. By looking at the ARPES spectra, it should look convincing that by varying different conditions, the fermi level is indeed shifting in to the interior of the gap. The experimental tricks used to get this working range between changing the pressure of various elements in the growth condition to counter doping the surface etc.  But the resistance results seem to be improving quite a bit."
   ]
  },
  {
   "cell_type": "markdown",
   "metadata": {},
   "source": [
    "# Hexagonal warping"
   ]
  },
  {
   "cell_type": "markdown",
   "metadata": {},
   "source": [
    "ARPES measurements on the surface of topological materials in the bismuth family also demonstrated an interesting (even though non-topological) feature of the surface states.\n",
    "\n",
    "The effective Dirac Hamiltonian is linear in momentum and has a full rotational symmetry in the $(x,y)$ plane of the surface, making the Fermi surface circular. However, moving away in energy from the Dirac point, experimentalists observed a different shape of the Fermi surface, similar to a snowflake:"
   ]
  },
  {
   "cell_type": "markdown",
   "metadata": {},
   "source": [
    "![](figures/warping.png)\n",
    "(copyright Hasan lab, Princeton, see license in the beginning of the chapter)"
   ]
  },
  {
   "cell_type": "markdown",
   "metadata": {},
   "source": [
    "It's clear that this shape cannot be explained by the Dirac Hamiltonian with its rotational invariance. In order to take into account this deformation of the Fermi surface, we have to think about the crystal symmetries of the surface. In BiSe and BiTe compounds, there is no full rotational symmetry, but only a lower three-fold rotation symmetry. We can take into account this effect by adding a correction to the effective Dirac Hamiltonian.\n",
    "\n",
    "This is exactly what was done in this article:"
   ]
  },
  {
   "cell_type": "code",
   "execution_count": null,
   "metadata": {
    "collapsed": false
   },
   "outputs": [],
   "source": [
    "PreprintReference(\"0908.1418\", show_abstract=False)"
   ]
  },
  {
   "cell_type": "markdown",
   "metadata": {},
   "source": [
    "There Liang Fu made a relatively simple theoretical exercise. He listed all the terms in the Hamiltonian allowed by time-reversal and crystalline symmetries, that are are proportional to $k^3$. This is the result:\n",
    "\n",
    "$$\n",
    "H(\\mathbf{k}) = E_0(k) + v\\, (1+\\alpha \\mathbf{k}^2)\\,(k_x\\sigma_y - k_y\\sigma_x) + \\frac{\\lambda}{2}\\,(k^3_++k^3_-)\\,\\sigma_z\n",
    "$$\n",
    "\n",
    "You see a correction to the Dirac velocity proportional to $\\alpha \\mathbf{k}^2$, which doesn't break the rotational symmetry, as well as the term with $\\lambda$, which is responsible for the warping.\n",
    "\n",
    "Let's plot the spectrum of this extended effective Hamiltonian:"
   ]
  },
  {
   "cell_type": "code",
   "execution_count": null,
   "metadata": {
    "collapsed": false
   },
   "outputs": [],
   "source": [
    "def plot_warping(A=0.0, B=1.0, C=1.0, Kmax=0.2):\n",
    "    # Plot parameters\n",
    "    N = 100\n",
    "    xlim, ylim = 1.2, 1.2\n",
    "    zmin, zmax = -1.0, 3.5\n",
    "    \n",
    "    r = np.linspace(0,Kmax,N)\n",
    "    p = np.linspace(0,2*np.pi,N)\n",
    "    \n",
    "    R,P = np.meshgrid(r,p)\n",
    "    X,Y = R*np.cos(P),R*np.sin(P)\n",
    "    energies = evaluate_on_grid(X, Y, func=get_energy_function(A, B, C))\n",
    "\n",
    "    fig = plt.figure(figsize=(12, 8))\n",
    "    ax = fig.add_subplot(111, projection='3d')\n",
    "    \n",
    "    vmin = np.array(energies).min()\n",
    "    vmax = np.array(energies).max()\n",
    "    \n",
    "    for z in energies:\n",
    "        ax.plot_surface(X, Y, z, rstride=1, cstride=1, cmap=cm.RdBu_r, linewidth=0.05, vmin=vmin, vmax=vmax)\n",
    "    \n",
    "    ax.set_xlabel('$k_x$')# [\\sqrt{v/\\lambda}]$')\n",
    "    ax.set_ylabel('$k_y$')# [\\sqrt{v/\\lambda}]$')\n",
    "    ax.set_zlabel('$E$')# [E^{*}]$')\n",
    "      \n",
    "    ax.set_xlim3d(-xlim, xlim)\n",
    "    ax.set_ylim3d(-ylim, ylim)\n",
    "    ax.set_zlim3d(zmin, zmax)\n",
    "    \n",
    "    vals = [-xlim,0,xlim]\n",
    "    ax.set_xticks(vals)\n",
    "    ax.set_xticklabels([\"${0}$\".format(i) for i in vals])\n",
    "\n",
    "    vals = [-ylim,0,ylim]\n",
    "    ax.set_yticks(vals)\n",
    "    ax.set_yticklabels([\"${0}$\".format(i) for i in vals])\n",
    "\n",
    "    \n",
    "    vals = [zmin, 0, zmax]\n",
    "    ax.set_zticks(vals)\n",
    "    ax.set_zticklabels([\"${0}$\".format(i) for i in vals])\n",
    "    \n",
    "    ax.view_init(20,15)\n",
    "    \n",
    "    return ax\n",
    "\n",
    "plot_warping(A=1.2, B=1.8, C=1.5, Kmax=1.0);"
   ]
  },
  {
   "cell_type": "markdown",
   "metadata": {},
   "source": [
    "This Hamiltonian reproduces correctly the *hexagonal warping* of the Fermi surface. In particular, independently of the parameters $\\lambda$ and $\\alpha$, the vertices of the hexagon are always aligned with the $x$ crystal axis, as is observed experimentally.\n",
    "\n",
    "In addition to modifying the shape of the Fermi surface, we see that the extra term is proportional to $\\sigma_z$, and rotates the spin of the surface state out of plane. This strongly affects the scattering properties properties of the surface state."
   ]
  },
  {
   "cell_type": "markdown",
   "metadata": {},
   "source": [
    "# Outlook: from basic science to potential applications"
   ]
  },
  {
   "cell_type": "markdown",
   "metadata": {},
   "source": [
    "David Vanderbilt will conclude this week's lectures by offering a perspective on the future of the field."
   ]
  },
  {
   "cell_type": "code",
   "execution_count": null,
   "metadata": {
    "collapsed": false
   },
   "outputs": [],
   "source": [
    "MoocVideo(\"WZmNeEwM1N4\",  src_location=\"6.2-summary\")"
   ]
  },
  {
   "cell_type": "code",
   "execution_count": null,
   "metadata": {
    "collapsed": false
   },
   "outputs": [],
   "source": [
    "MoocDiscussion(\"Questions\", \"3DTI materials and signatures\")"
   ]
  }
 ],
 "metadata": {},
 "nbformat": 4,
 "nbformat_minor": 0
}