{
 "cells": [
  {
   "cell_type": "code",
   "execution_count": null,
   "metadata": {
    "collapsed": false
   },
   "outputs": [],
   "source": [
    "import sys\n",
    "sys.path.append('../code')\n",
    "from init_mooc_nb import *\n",
    "init_notebook()\n",
    "\n",
    "import scipy\n",
    "from matplotlib import cm\n",
    "from matplotlib import gridspec        \n",
    "\n",
    "\n",
    "sigma0 = np.array([[1, 0], [0, 1]])\n",
    "sigmax = np.array([[0, 1], [1, 0]])\n",
    "sigmay = np.array([[0, -1j], [1j, 0]])\n",
    "sigmaz = np.array([[1, 0], [0, -1]])\n",
    "\n",
    "\n",
    "class SimpleNamespace(object):\n",
    "    def __init__(self, **kwargs):\n",
    "        self.__dict__.update(kwargs)\n",
    "\n",
    "        \n",
    "# Onsite and hoppings matrices used for building BHZ model\n",
    "def onsite(site, par):\n",
    "    A1, A2, B1, B2, D1, D2, C, M = par.A1, par.A2, par.B1, par.B2, par.D1, par.D2, par.C, par.M\n",
    "    return (C + 2 * D1 + 4 * D2) * np.kron(sigma0, sigma0) + (M + 2 * B1 + 4 * B2) * np.kron(sigma0, sigmaz)\n",
    "\n",
    "\n",
    "def hopx(site1, site2, par):\n",
    "    A1, A2, B1, B2, D1, D2, C, M = par.A1, par.A2, par.B1, par.B2, par.D1, par.D2, par.C, par.M\n",
    "    return - D2 * np.kron(sigma0, sigma0) - B2 * np.kron(sigma0, sigmaz) + A2 * 0.5j * np.kron(sigmax, sigmax)\n",
    "\n",
    "\n",
    "def hopy(site1, site2, par):\n",
    "    A1, A2, B1, B2, D1, D2, C, M = par.A1, par.A2, par.B1, par.B2, par.D1, par.D2, par.C, par.M\n",
    "    return - D2 * np.kron(sigma0, sigma0) - B2 * np.kron(sigma0, sigmaz) + A2 * 0.5j * np.kron(sigmay, sigmax)\n",
    "\n",
    "\n",
    "def hopz(site1, site2, par):\n",
    "    A1, A2, B1, B2, D1, D2, C, M = par.A1, par.A2, par.B1, par.B2, par.D1, par.D2, par.C, par.M\n",
    "    return - D1 * np.kron(sigma0, sigma0) - B1 * np.kron(sigma0, sigmaz) + A1 * 0.5j * np.kron(sigmaz, sigmax)\n",
    "\n",
    "\n",
    "def bhz_infinite(h=5, finalized=True):\n",
    "    \"\"\" Make infinite system for BHZ model \"\"\"\n",
    "    def shape(pos):\n",
    "        (z,) = pos\n",
    "        return (0 <= z < h)\n",
    "    \n",
    "    def transformed_onsite(site, par):\n",
    "        kx,ky = par.kx, par.ky\n",
    "        H0, H1, H2 = onsite(site, par), hopx(site, site, par), hopy(site, site, par)\n",
    "        \n",
    "        return H0  \\\n",
    "            + H1*np.exp(-1j*kx) + H1.transpose().conjugate()*np.exp(+1j*kx) \\\n",
    "            + H2*np.exp(-1j*ky) + H2.transpose().conjugate()*np.exp(+1j*ky)\n",
    "            \n",
    "    lat = kwant.lattice.chain()\n",
    "    if h =='None':\n",
    "        sym = kwant.TranslationalSymmetry((1,))\n",
    "        sys = kwant.Builder(sym)\n",
    "        sys[lat(0,)] = transformed_onsite\n",
    "    else:\n",
    "        sys = kwant.Builder()\n",
    "        sys[lat.shape(shape, (0,))] = transformed_onsite\n",
    "        \n",
    "    sys[kwant.HoppingKind((1,), lat)] = hopz\n",
    "    \n",
    "    if finalized:\n",
    "        return sys.finalized()\n",
    "    else:\n",
    "        return sys\n",
    "    \n",
    "\n",
    "def make_lead():\n",
    "    lat = kwant.lattice.chain()\n",
    "    sym = kwant.TranslationalSymmetry((-1,))\n",
    "    sys = kwant.Builder(sym)\n",
    "    sys[lat(0,)] = 1.5 * np.kron(sigma0, sigmaz)\n",
    "    sys[kwant.HoppingKind((-1,), lat)] = -1.0 * np.kron(sigma0, sigmaz)\n",
    "    return sys\n",
    "\n",
    "\n",
    "def make_scatter_sys():\n",
    "    lead_bhz = bhz_infinite('None', False)\n",
    "    lead_n = make_lead()\n",
    "    sys = bhz_infinite(1, False)\n",
    "    sys.attach_lead(lead_bhz)\n",
    "    sys.attach_lead(lead_n)\n",
    "    fsys = sys.finalized()\n",
    "    fsys.leads[1] = TRIInfiniteSystem(fsys.leads[1], trs)\n",
    "    return fsys\n",
    "\n",
    "\n",
    "def scattering_det_pfaff(fsys, ax):\n",
    "    kx = [0, np.pi]\n",
    "    kx_string = ['$k_x = 0$', '$k_x = \\pi$']\n",
    "    saved_kx = par.kx\n",
    "    line_styles = [['r', 'ro'],['b', 'bo']]\n",
    "    for i in range(len(kx)):\n",
    "        pfaff =[]\n",
    "        det = []\n",
    "        par.kx = kx[i]\n",
    "        par.ky = 0.0\n",
    "        smat = kwant.smatrix(fsys, energy=0.0, args=[par]).submatrix(1, 1)\n",
    "        #since we get relatively large numerical errors we project the matrix on the space of antisymmetric matrices\n",
    "        smat = 0.5 * (smat - smat.T)\n",
    "        pfaff.append(pf.pfaffian(smat))\n",
    "\n",
    "        ks = np.linspace(0.0, np.pi, 100)\n",
    "        for par.ky in ks:\n",
    "            s = kwant.smatrix(fsys, energy=0.0, args=[par])\n",
    "            smat = s.submatrix(1, 1)\n",
    "            # Check that the system is gapped.\n",
    "            assert smat.shape == s.data.shape\n",
    "            det.append(np.linalg.det(smat))\n",
    "        det = np.array(det)\n",
    "\n",
    "        par.ky = np.pi\n",
    "        smat = kwant.smatrix(fsys, energy=0.0, args=[par]).submatrix(1, 1)\n",
    "        #since we get relatively large numerical errors we project the matrix on the space of antisymmetric matrices\n",
    "        smat = 0.5 * (smat - smat.T)\n",
    "        pfaff.append(pf.pfaffian(smat))\n",
    "        \n",
    "        ax.plot(ks[1:], np.angle(pfaff[0]) + 0.5 * np.cumsum(np.angle(det[1:]/det[:-1])), line_styles[i][0],label= kx_string[i])\n",
    "        ax.plot([0, np.pi], np.angle(pfaff), line_styles[i][1])\n",
    "    ax.set_ylim(-1.0, np.pi + 0.5)    \n",
    "    ax.set_xlim(-0.2, np.pi+0.2)\n",
    "    ax.set_xticks([0, np.pi])\n",
    "    ax.set_xticklabels(['$0$', '$\\pi$'])\n",
    "    ax.set_yticks([ 0, np.pi])\n",
    "    ax.set_yticklabels(['$0$', '$\\pi$'])\n",
    "    ax.set_xlabel('$k_y$')\n",
    "    ax.set_ylabel('phase')\n",
    "    ax.legend(bbox_to_anchor=(0.0, 1.02, 1.0, .102), loc=3,\n",
    "       ncol=2, mode=\"expand\", borderaxespad=0.)\n",
    "    par.kx = saved_kx    \n",
    "\n",
    "    \n",
    "#Time reversal stuff\n",
    "class TRIInfiniteSystem(kwant.builder.InfiniteSystem):\n",
    "    def __init__(self, lead, trs):\n",
    "        \"\"\"A lead with time reversal invariant modes.\"\"\"\n",
    "        self.__dict__ = lead.__dict__\n",
    "        self.trs = trs\n",
    "\n",
    "    def modes(self, energy=0, args=()):\n",
    "        prop_modes, stab_modes = \\\n",
    "            super(TRIInfiniteSystem, self).modes(energy=energy, args=args)\n",
    "        n = stab_modes.nmodes\n",
    "        stab_modes.vecs[:, n:(2*n)] = self.trs(stab_modes.vecs[:, :n])\n",
    "        stab_modes.vecslmbdainv[:, n:(2*n)] = \\\n",
    "            self.trs(stab_modes.vecslmbdainv[:, :n])\n",
    "        prop_modes.wave_functions[:, n:] = \\\n",
    "            self.trs(prop_modes.wave_functions[:, :n])\n",
    "        return prop_modes, stab_modes\n",
    "    \n",
    "    \n",
    "def trs(m):\n",
    "    \"\"\"Apply time reversal symmetry to a column vector or matrix m.\n",
    "\n",
    "    The time reversal symmetry is given by the operator i * sigma_y * K, with K\n",
    "    complex conjugation and sigma_y acting on the spin degree of freedom.\n",
    "\n",
    "    Parameters:\n",
    "    -----------\n",
    "    m : NumPy array\n",
    "        The vector or matrix to which TRS is applied.\n",
    "\n",
    "    Returns:\n",
    "    --------\n",
    "    m_reversed : NumPy array\n",
    "        The vector TRS * m as a NumPy array.\n",
    "\n",
    "    Notes:\n",
    "    ------\n",
    "    Implementation inspired by kwant.rmt.\n",
    "    \"\"\"\n",
    "    dim = m.shape[0]\n",
    "    U = 1j * np.kron(np.identity(dim / 4), np.kron(sigmay, sigma0))\n",
    "    \n",
    "    return U.T.conj().dot(m.conj())\n",
    "        \n",
    "\n",
    "#Stuff for the bandstructure plot\n",
    "def evaluate_on_grid(X, Y, func):\n",
    "    \"\"\" X, Y should be in np.meshgrid form. It's enough for func to work on floats. \"\"\"\n",
    "    data = []\n",
    "    for xx, yy in zip(X, Y):\n",
    "        row = []\n",
    "        for i,j in zip(xx, yy):\n",
    "            row.append(func(i,j))\n",
    "        data.append(row)\n",
    "    data = np.array(data)\n",
    "    data = list(np.transpose(data, (2, 0, 1)))\n",
    "    return data\n",
    "\n",
    "\n",
    "def dispersion_func(sys, par):\n",
    "    def func(kx, ky):\n",
    "        par.kx = kx\n",
    "        par.ky = ky\n",
    "        return diagonalize(sys, par)\n",
    "    return func\n",
    "\n",
    "\n",
    "def diagonalize(sys, par):\n",
    "    mat = sys.hamiltonian_submatrix(args=[par])\n",
    "    temp1 = len(mat)/2\n",
    "    return scipy.linalg.eigvalsh(mat)[(temp1-2):(temp1+2)]  # Automatically sorted\n",
    "    \n",
    "\n",
    "def plot_2D(X,Y,Z, ax_in=None):\n",
    "    if ax_in==None:\n",
    "        fig = plt.figure(figsize=(7,5))\n",
    "        ax = fig.add_subplot(111, projection='3d')\n",
    "    else:\n",
    "        ax = ax_in\n",
    "\n",
    "    vmin = np.array(Z).min()\n",
    "    vmax = np.array(Z).max()\n",
    "    \n",
    "    if len(np.shape(Z)) > 2:\n",
    "        for z in Z:\n",
    "            ax.plot_surface(X, Y, z, rstride=1, cstride=1, cmap=cm.RdBu_r, linewidth=0.1, vmin=vmin, vmax=vmax)\n",
    "    else:\n",
    "        ax.plot_surface(X, Y, Z, rstride=1, cstride=1, cmap=cm.RdBu_r, linewidth=0.1, vmin=vmin, vmax=vmax)\n",
    "\n",
    "    if ax_in==None:\n",
    "        return fig, ax\n",
    "    else:\n",
    "        return ax\n",
    "\n",
    "def plot_2d_dispersion(sys, ax):\n",
    "    K = np.linspace(-np.pi, np.pi, 71)\n",
    "    mesh = np.meshgrid(K, K)\n",
    "    energies = evaluate_on_grid(*mesh, func=dispersion_func(sys, par))\n",
    "\n",
    "    plot_2D(*mesh, Z=energies, ax_in=ax)\n",
    "\n",
    "    ax.set_xlabel('$k_x$')\n",
    "    ax.set_xlim3d(-np.pi, np.pi)\n",
    "    ax.set_xticks([-np.pi, 0.0, np.pi])\n",
    "    ax.set_xticklabels(['$-\\pi$', '$0$', '$\\pi$'])\n",
    "    ax.set_ylabel('$k_y$')\n",
    "    ax.set_yticks([-np.pi, 0.0, np.pi])\n",
    "    ax.set_yticklabels(['$-\\pi$', '$0$', '$\\pi$'])\n",
    "    ax.set_zlabel('$E$')\n",
    "    ax.set_zticks([ -10, -5, 0, 5, 10])\n",
    "    ax.set_zticklabels(['$-10$', '$-5$', '$0$', '$5$', '$10$'])\n",
    "    ax.view_init(8,20)\n",
    "    ax.set_zlim3d(-11, 11)   \n",
    "    \n",
    "    \n",
    "def bhz_slab(L, W, H):\n",
    "    lat = kwant.lattice.general(np.identity(3))\n",
    "    sys = kwant.Builder()\n",
    "    \n",
    "    sym = kwant.TranslationalSymmetry((1, 0, 0))\n",
    "    lead = kwant.Builder(sym)\n",
    "    \n",
    "    def shape_lead(pos):\n",
    "        (x, y, z) = pos\n",
    "        return (0 <= z < H) and (0 <= y < W)\n",
    "    \n",
    "    def shape(pos):\n",
    "        (x, y, z) = pos\n",
    "        return (0 <= z < H) and (0 <= y < W) and (0 <= x < L)\n",
    "    \n",
    "    def hopping_x(site1, site2, par):\n",
    "        xt, yt, zt = site1.pos\n",
    "        xs, ys, zs = site2.pos\n",
    "        return hopx(site1,site2,par) * np.exp(-0.5j * par.Bz * (xt - xs) * (yt + ys))\n",
    "    \n",
    "    # scattering system\n",
    "    sys[lat.shape(shape, (0,0,0))] = lambda site, par: onsite(site, par.scat) - par.mu * np.eye(4)\n",
    "    sys[kwant.HoppingKind((1,0,0), lat)] = lambda site1, site2, par: hopping_x(site1, site2, par.scat)\n",
    "    sys[kwant.HoppingKind((0,1,0), lat)] = lambda site1, site2, par: hopy(site1, site2, par.scat)\n",
    "    sys[kwant.HoppingKind((0,0,1), lat)] = lambda site1, site2, par: hopz(site1, site2, par.scat)\n",
    "\n",
    "    # leads\n",
    "    lead[lat.shape(shape_lead, (0,0,0))] = lambda site, par: onsite(site, par.lead) - par.mu_lead * np.eye(4)\n",
    "    lead[kwant.HoppingKind((1,0,0), lat)] = lambda site1, site2, par: hopping_x(site1, site2, par.lead)\n",
    "    lead[kwant.HoppingKind((0,1,0), lat)] = lambda site1, site2, par: hopy(site1, site2, par.lead)\n",
    "    lead[kwant.HoppingKind((0,0,1), lat)] = lambda site1, site2, par: hopz(site1, site2, par.lead)\n",
    "    \n",
    "    sys.attach_lead(lead)\n",
    "    sys.attach_lead(lead.reversed())\n",
    "    return sys.finalized()    "
   ]
  },
  {
   "cell_type": "markdown",
   "metadata": {},
   "source": [
    "##Plan\n",
    "\n",
    "* Making a 3D topological invariants out of 2D ones.\n",
    "* BHZ model of a 3D topological insulator\n",
    "* Dirac equation of the surface states and the fermion doubling\n",
    "* Half-integer quantum Hall effect"
   ]
  },
  {
   "cell_type": "markdown",
   "metadata": {},
   "source": [
    "#Table of Contents\n",
    "* [Introduction](#Introduction)\n",
    "* [Making  3D topological invariants out of 2D ones](#Making--3D-topological-invariants-out-of-2D-ones)\n",
    "* [BHZ model of a 3D topological insulator](#BHZ-model-of-a-3D-topological-insulator)\n",
    "* [Dirac surface states](#Dirac-surface-states)\n",
    "* [Weak invariants](#Weak-invariants)\n",
    "* [Quantum Hall conductance and the magneto-electric effect](#Quantum-Hall-conductance-and-the-magneto-electric-effect)\n",
    "* [Conclusion: integers, half-integers, and two types of electromagnetic response](#Conclusion:-integers,-half-integers,-and-two-types-of-electromagnetic-response)\n"
   ]
  },
  {
   "cell_type": "markdown",
   "metadata": {},
   "source": [
    "# Introduction"
   ]
  },
  {
   "cell_type": "markdown",
   "metadata": {},
   "source": [
    "Joel Moore from the University of California, Berkeley will introduce this week's topic, by telling us how the idea of a two-dimensional topological insualtor was generalized to three dimensions."
   ]
  },
  {
   "cell_type": "code",
   "execution_count": null,
   "metadata": {
    "collapsed": false
   },
   "outputs": [],
   "source": [
    "MoocVideo(\"NIhMjm7cyug\", src_location=\"6.1-intro\")"
   ]
  },
  {
   "cell_type": "markdown",
   "metadata": {},
   "source": [
    "# Making  3D topological invariants out of 2D ones"
   ]
  },
  {
   "cell_type": "markdown",
   "metadata": {},
   "source": [
    "Let us follow the direction explained by Joel Moore and construct a three-dimensional topological state from the two-dimensional topological state. This time, we'll do this by studying the system in momentum space rather than in real space as we did before. As with two dimensional systems, time-reversal invariant momenta (TRIMs) play an important role in three dimensions. \n",
    "\n",
    "For illustration, consider the three dimensional irreducible Brillouin Zone (i.e. $k_j\\in [0,\\pi]$) of a cubic system shown below. Fixing one of the three momenta $k_{x,y,z}$ to a TRIM, say $k_x=0$ without loss of generality, we can think of the Hamiltonian in the $(k_y,k_z)$ plane as a two dimensional Hamiltonian, which may either be topologically trivial ($\\mathbb{Z}_2$-index $=0$) or non-trivial ($\\mathbb{Z}_2$-index $=1$).\n",
    "\n",
    "\n",
    "![](figures/3dbz.svg)"
   ]
  },
  {
   "cell_type": "markdown",
   "metadata": {},
   "source": [
    "So for every side of the cube shown above we can compute a QSHE topological invariant, which gives us 6 numbers. However not all of them are independent. Specifically, there is a constraint $\\mathcal{Q}(k_x=0)\\,\\mathcal{Q}(k_x=\\pi) \\equiv \\mathcal{Q}(k_y=0)\\,\\mathcal{Q}(k_y=\\pi) \\equiv \\mathcal{Q}(k_z=0)\\,\\mathcal{Q}(k_z=\\pi)$.\n",
    "\n",
    "This product is called *the strong topological invariant*, and accordingly the topological insulators where this invariant is non-trivial are strong topological insulators. The other three invariants can be chosen as $Q(k_x=\\pi),\\,Q(k_y=\\pi),\\,Q(k_z=\\pi)$.\n",
    "\n",
    "Very frequently the topological invariants of a compound are written as $(1;010)$, where the first number corresponds to the strong invariant, and the remaining three to the weak invariants along each axis. For example, the first predicted topological insulator, the alloy Bi$_x$Sb$_{1-x}$ is $(1;111)$, and the second generation topological insulators Bi$_2$Te$_3$ and Bi$_2$Se$_3$ are $(1;000)$."
   ]
  },
  {
   "cell_type": "markdown",
   "metadata": {},
   "source": [
    "Just by using the bulk-edge correspondence for $\\mathcal{Q}$ we know that the strong topological invariant means that there is an odd number of helical states going in each direction on each facet of the topological insulator. We will see later why this is special, but before that let's construct a model for a 3D TI."
   ]
  },
  {
   "cell_type": "markdown",
   "metadata": {},
   "source": [
    "# BHZ model of a 3D topological insulator"
   ]
  },
  {
   "cell_type": "markdown",
   "metadata": {},
   "source": [
    "Our goal in this unit is to derive an effective three-dimensional Hamiltonian $H(\\mathbf{k})$ for a strong topological insulator.\n",
    "\n",
    "We follow the same logic that led us to defining the three-dimensional topological invariant in the previous unit, building up on our knowledge of 2D topological insulators. Our first step is therefore to set $k_z=0$ and start from a two-dimensional Bloch Hamiltonian which describes a non-trivial 2D topological insulator. Of course, we choose a model we already know for this 2D Hamiltonian, the Bernevig-Hughes-Zhang (BHZ) model.\n",
    "\n",
    "Let's recapitulate what we said about the BHZ model last week. It is a four band model, which has two electron bands (spin up and spin down) and two hole bands (spin up and down). It has inversion symmetry, with electron and hole bands having opposite parity. We will not need more bands for our 3D topological insulator model.\n",
    "\n",
    "Copying the BHZ Hamiltonian of last week, at $k_z=0$ we have \n",
    "\n",
    "$$\n",
    "H(k_z=0) = \\epsilon(\\mathbf{k})\\cdot\\mathbb{1} +\n",
    "\\begin{pmatrix}\n",
    "M_0(\\mathbf{k}) & A k_+ & 0 & 0 \\\\\n",
    "A k_- & -M_0(\\mathbf{k}) & 0 & 0 \\\\\n",
    "0 & 0 & M_0(\\mathbf{k}) & -Ak_- \\\\\n",
    "0 & 0 & -Ak_+ & -M_0(\\mathbf{k})\n",
    "\\end{pmatrix}\\,,\n",
    "$$\n",
    "\n",
    "where $k_\\pm = k_x \\pm i k_y$. This Hamiltonian is written in a basis given by the states $\\left|E\\uparrow\\right\\rangle$, $\\left|H\\uparrow\\right\\rangle$, $\\left|E\\downarrow\\right\\rangle$, $\\left|H\\downarrow\\right\\rangle$, in this order. The block structure of the Hamiltonian reminds you that it is a doubled version of a Chern insulator, with two diagonal blocks for up and down spins. The particular form of $\\epsilon(\\mathbf{k})$ can be important to describe the band structure of a given material, but will not play a role in what follows. The effective mass is given by $M_0(\\mathbf{k}) = M - B(k_x^2+k_y^2)$, and that changing the sign of $M$ you can describe the trivial and topological insulating phases"
   ]
  },
  {
   "cell_type": "markdown",
   "metadata": {},
   "source": [
    "To get a strong topological insulator, we would like the two-dimensional $\\mathbb{Z}_2$ invariant applied to the $(k_x, k_y)$ plane to take different values at $k_z=0$ and $k_z=\\pi$. It is easy to achieve this by adding a $k_z$-dependent term to the effective mass, for instance in the following way\n",
    "\n",
    "$$\n",
    "M_0(\\mathbf{k})\\,\\to\\,M(\\mathbf{k}) = M - B(k_x^2+k_y^2+k_z^2)\\,.\n",
    "$$\n",
    "\n",
    "With this new mass term, for $k_z$ large enough and fixing $k_x$ and $k_y$ we can make the sign of the mass effectively change.\n",
    "\n",
    "There is now a problem, however. As we follow the Hamiltonian at different values of $k_z$, we see that if we fix $k_z$, it still has time-reversal symmetry. Since it is topologically nontrivial at $k_z=0$ and becomes trivial at $k_z = \\pi$, it should have a topological phase transition somewhere in between.\n",
    "\n",
    "In other words, if we just add the $B k_z^2$ term, the Hamiltonian becomes gapless! Of course, we would like to have a gapped Hamiltonian in the whole 3D Brillouin zone instead.\n",
    "\n",
    "How can we avoid the gap closing? We definitely have to couple the two spin blocks in $H(\\mathbf{k})$, since otherwise each block is undergoing a Chern insulator transition. Since we couple the spins, to maintain time-reversal invariance of the system we need a coupling which is odd in momentum. The simplest thing is to choose the new term to be linear in $k_z$.\n",
    "\n",
    "Hence we arrive at the following 3D Hamiltonian,\n",
    "\n",
    "$$\n",
    "H(\\mathbf{k}) = \\epsilon(\\mathbf{k})\\cdot\\mathbb{1} +\n",
    "\\begin{pmatrix}\n",
    "M(\\mathbf{k}) & A k_+ & 0 & \\tilde{A}k_z \\\\\n",
    "A k_- & -M(\\mathbf{k}) & \\tilde{A}k_z & 0 \\\\\n",
    "0 & \\tilde{A}k_z & M(\\mathbf{k}) & -Ak_- \\\\\n",
    "\\tilde{A}k_z & 0 & -Ak_+ & -M(\\mathbf{k})\n",
    "\\end{pmatrix}\\,,\n",
    "$$"
   ]
  },
  {
   "cell_type": "markdown",
   "metadata": {},
   "source": [
    "This Hamiltonian is known as the **3D BHZ model**. At finite $M$, it is gapped, and a phase transition between the trivial and strong topological insulator is achieved by changing the sign of $M$.  Just like its two-dimensional counterpart, it can be used as a prototype for a strong topological insulator, as well as a starting point to model real materials. \n",
    "\n",
    "The above derivation makes one important point evident: breaking spin conservation, which we used to avoid the undesirable gap closing at finite $k_z$, is a necessary ingredient to have a strong topological insulator."
   ]
  },
  {
   "cell_type": "markdown",
   "metadata": {},
   "source": [
    "# Dirac surface states"
   ]
  },
  {
   "cell_type": "markdown",
   "metadata": {},
   "source": [
    "What is the dispersion of the surface state of the topological insulator?\n",
    "\n",
    "We know that if we fix one momentum (say $k_x$) to zero, the Hamiltonian of the remaining system is that of a quantum spin Hall insulator.\n",
    "\n",
    "For this system we know that the Hamiltonian of the edge states is just that of a pair of counter-propagating modes, so\n",
    "\n",
    "$$H = v \\sigma_y k_y.$$\n",
    "\n",
    "The matrix $\\sigma_y$ here acts on the degrees of freedom of these two surface modes, and doesn't correspond to a spin.\n",
    "\n",
    "Since the time-reversal symmetry changes sign of $k_y$, it must also change sign of $\\sigma_y$, so it has to be equal to $\\mathcal{T} = i \\sigma_y K$."
   ]
  },
  {
   "cell_type": "markdown",
   "metadata": {},
   "source": [
    "What if we set a finite $k_x$? Generically, the two modes will be coupled by an extra term in the Hamiltonian. This term should be proportional to $k_x$, and hence it must be also multiplied by a Pauli matrix, which we can just choose to be $\\sigma_x$."
   ]
  },
  {
   "cell_type": "markdown",
   "metadata": {},
   "source": [
    "So if the surface of the topological insulator is isotropic, its Hamiltonian is merely\n",
    "\n",
    "$$H=v \\mathbf{\\sigma} \\cdot \\mathbf{k}.$$"
   ]
  },
  {
   "cell_type": "markdown",
   "metadata": {},
   "source": [
    "Let's just quickly take a look at it to get a more concrete understanding:"
   ]
  },
  {
   "cell_type": "code",
   "execution_count": null,
   "metadata": {
    "collapsed": false
   },
   "outputs": [],
   "source": [
    "par = SimpleNamespace(A1=1.0, A2=1.5, B1=1.0, B2=1.0, C=0.0, D1=0.0, D2=0.0, M=1.0,\n",
    "                      kx=0.0, ky=0.0, Bz=0.0)\n",
    "\n",
    "def plot_BHZ_dispersion(sys, M):\n",
    "\n",
    "    par.M = M\n",
    "    fig = plt.figure(figsize=(14, 6))\n",
    "    ax1 = fig.add_subplot(121, projection='3d')\n",
    "    plt.title('$M=%1.1f$' % par.M)\n",
    "    plot_2d_dispersion(sys, ax=ax1)\n",
    "    return fig\n",
    "\n",
    "sys = bhz_infinite()\n",
    "StaticInteract(lambda m: plot_BHZ_dispersion(sys, 0.5*m),\n",
    "               m=RangeWidget(-2, 2))"
   ]
  },
  {
   "cell_type": "markdown",
   "metadata": {},
   "source": [
    "What you see here is the dispersion of the two lowest energy bands of a thin slice of a 3D BHZ model.\n",
    "\n",
    "As we expect, when system becomes topological ($M<0$), the surface states are formed, and the lowest energy state acquires a Dirac dispersion."
   ]
  },
  {
   "cell_type": "markdown",
   "metadata": {},
   "source": [
    "The distinguishing feature of the strong topological insulator is that it has an odd number of Dirac cones in total.\n",
    "The reason why it is called \"strong\" is also the reason why having an odd number of Dirac cones is special.\n",
    "\n",
    "To see what is unique let us compute the Chern number of the surface state if we add an infinitesimal magnetic field. We know that the number of Dirac cones is odd. Also from the Chern insulators we know that the *change* of the Chern number between $B = -\\varepsilon$ and $B = +\\varepsilon$ is just the number of the Dirac cones (we open a gap in each of them).\n",
    "\n",
    "Since Chern number is odd under time reversal, we come to a paradoxical conclusion: if we break time reversal, on a surface of a topological insulator, we end up with a half-integer Hall conductance $\\sigma_{xy} = e^2/h (n + 1/2)$.\n",
    "\n",
    "This is of course not possible in any purely 2D system, since the Hall conductance must be an integer, and therefore the surface state of a strong topological insulator cannot be created without the topological bulk.\n",
    "\n",
    "> The statement that it isn't impossible to have a tight-binding Hamiltonian with time-reversal symmetry and a single Dirac cone is known as the \"fermion doubling theorem\". There are several tricks that one can perform to work around this limitation in a numerical simulation, but we won't cover them in the course."
   ]
  },
  {
   "cell_type": "markdown",
   "metadata": {},
   "source": [
    "# Weak invariants"
   ]
  },
  {
   "cell_type": "markdown",
   "metadata": {},
   "source": [
    "Now that we understand what is special about the strong invariant, let's deal with the weak invariants.\n",
    "\n",
    "From their definition, we know that the weak invariants don't change the parity of the number of Dirac cones on any surface.\n",
    "Furthermore, there is a very good reason why the weak invariants are called 'weak'. Imagine we keep the Hamiltonian the same, but instead we double the unit cell in each direction. That folds the Brillouin zone onto itself so that $k=\\pi$ maps on $k=0$. This doubling of the unit cell doesn't impact the strong invariant, however all the weak invariants become 0."
   ]
  },
  {
   "cell_type": "markdown",
   "metadata": {},
   "source": [
    "As the final illustration of the relation between weak and strong invariants, let's see how the invariants change as a function of $M$ as we vary M on the scale comparable with the band width.\n",
    "\n",
    "We use the same way to determine the topological invariant as for QSHE: we see if the phase of reflection matrix connects the Pfaffians of $r(k_y=0)$ and $r(k_y=\\pi)$."
   ]
  },
  {
   "cell_type": "code",
   "execution_count": null,
   "metadata": {
    "collapsed": false
   },
   "outputs": [],
   "source": [
    "par = SimpleNamespace(A1=1.0, A2=1.0, B1=1.0, B2=0.2, C=0.0, D1=0.1, D2=0.0, M=-1.5,\n",
    "                      kx=0.0, ky=0.0, Bz=0.0)\n",
    "\n",
    "sys = bhz_infinite(15)\n",
    "fsys = make_scatter_sys()\n",
    "\n",
    "def plot_dispersion_topology(sys, fsys, M):\n",
    "\n",
    "    par.M = M\n",
    "    \n",
    "    fig = plt.figure(figsize=(12, 3.5))\n",
    "    gs = gridspec.GridSpec(1, 2, width_ratios=[1.8, 1]) \n",
    "    ax1 = plt.subplot(gs[0], projection='3d')\n",
    "    plt.title('$M=%1.2f$' %(par.M))\n",
    "    ax2 = plt.subplot(gs[1])\n",
    "    scattering_det_pfaff(fsys, ax2)\n",
    "    plot_2d_dispersion(sys, ax=ax1)\n",
    "    ax1.set_zlim3d(-3.1, 3.1)\n",
    "    ax1.set_zticks([-3, 0, 3])\n",
    "    ax1.set_zticklabels(['$-3$', '$0$', '$3$'])\n",
    "    return fig\n",
    "\n",
    "StaticInteract(lambda m: plot_dispersion_topology(sys, fsys, 0.5*m-2.75),\n",
    "               m=RangeWidget(0, 7))"
   ]
  },
  {
   "cell_type": "markdown",
   "metadata": {},
   "source": [
    "We see the values of the invariants change several times:\n",
    "\n",
    "* Initially, when $M>0$, the system is trivial.\n",
    "* Then, as $M$ is lowered, the topological invariants become $\\mathcal{Q}(k_x=0) = 1$ and $\\mathcal{Q}(k_x=\\pi) = 0$, and there's a Dirac cone at $k=0$.\n",
    "* When $M$ is lowered further, two new Dirac cones appear at $k = (0,\\pi)$ and $k = (\\pi, 0)$. This changes the invariants to $\\mathcal{Q}(k_x=0) = 0$ and $\\mathcal{Q}(k_x=\\pi) = 1$.\n",
    "* Finally one more Dirac cone appears at $k = (\\pi, \\pi)$, accompanied with both invariants becoming trivial."
   ]
  },
  {
   "cell_type": "code",
   "execution_count": null,
   "metadata": {
    "collapsed": false
   },
   "outputs": [],
   "source": [
    "question = (\"Suppose you have a $(0;100)$ weak topological insulator. Which one of the following statements is correct?\")\n",
    "\n",
    "answers = [\"There is an even number of Dirac cones for both $k_x=0$ and $k_x=\\pi$.\",\n",
    "           \"There is an even number of Dirac cones for $k_x=0$ and an odd one for $k_x=\\pi$.\",\n",
    "           \"There is an odd number of Dirac cones for $k_x=0$ and an even one for $k_x=\\pi$.\",\n",
    "           \"There is an odd number of Dirac cones for both $k_x=0$ and $k_x=\\pi$.\"]\n",
    "\n",
    "explanation = (\"We know that the strong invariant $Q(k_x=0)Q(k_x=\\pi)=0$, so there must be an even number of Dirac cones in total. \"\n",
    "               \"The number at $k_x=\\pi$ is odd because $Q(k_x=\\pi)=1$, so also the number at $k_x=0$ must be odd.\")\n",
    "\n",
    "MoocMultipleChoiceAssessment(question=question, answers=answers, correct_answer=3, explanation=explanation)"
   ]
  },
  {
   "cell_type": "markdown",
   "metadata": {},
   "source": [
    "# Quantum Hall conductance and the magneto-electric effect"
   ]
  },
  {
   "cell_type": "markdown",
   "metadata": {},
   "source": [
    "So. What happens if we try to measure the Hall conductance of a 3D topological insulator? Will we actually obtain a half-integer? If you followed the course closely, you will know that the answer is negative, and that the Hall conductance is always quantized to an integer. So what is going on if we try to measure the Hall conductance?\n",
    "\n",
    "To answer this question we need to remember that we cannot just consider one surface on its own. Each surface is connected to the sides and other surfaces. So let's consider a sample of a 3D TI in magnetic field:\n",
    "\n",
    "![](figures/3d_ti_slab.svg)"
   ]
  },
  {
   "cell_type": "markdown",
   "metadata": {},
   "source": [
    "The top surface has quantum Hall conductance of $(n + 1/2)e^2/h$, but it's not the only part of the material. The bottom surface is also subject to magnetic field and also contributes a half-integer Hall conductance.\n",
    "\n",
    "So in total we get $\\sigma_{xy} = (2n + 1) e^2/h$: an integer, which resolves the apparent paradox. While this statement sounds relatively simple, there are entire papers dedicated to the question if it is possible to measure a half-integer Hall conductance (the answer is 'not really')."
   ]
  },
  {
   "cell_type": "markdown",
   "metadata": {},
   "source": [
    "Finally, let's look at the dispersion of the Landau levels and the edge states:"
   ]
  },
  {
   "cell_type": "code",
   "execution_count": null,
   "metadata": {
    "collapsed": false
   },
   "outputs": [],
   "source": [
    "Bz = 0.125\n",
    "mu_lead = 0.7\n",
    "mu_max = .7\n",
    "\n",
    "L, W, H = 10, 20, 10\n",
    "sys = bhz_slab(L, W, H)\n",
    "\n",
    "momenta = np.linspace(-1.5, 3.5, 60)\n",
    "par_lead = SimpleNamespace(A1=1.0, A2=1.0, B1=1.0, B2=1.0, C=0.0, D1=0., D2=0., M=-1.0, Bz=Bz)\n",
    "par = SimpleNamespace(lead=par_lead, scat=par_lead, mu=0.0, mu_lead=0.0)\n",
    "fig, ax = plt.subplots(figsize=((8,6)))\n",
    "ax.set_color_cycle(['k'])\n",
    "    \n",
    "kwant.plotter.bands(sys.leads[0], args=[par], momenta=momenta, show=False, ax=ax);\n",
    "\n",
    "ax.set_ylim(-0.8,0.8);\n",
    "ax.set_xlabel('$k$');\n",
    "ax.set_ylabel('$E$');\n",
    "\n",
    "vals = np.arange(-2, 4);\n",
    "ax.set_xticks(vals);\n",
    "ax.set_xticklabels([\"${0}$\".format(i) for i in vals]);\n",
    "\n",
    "vals = np.arange(-0.8, 1.2, 0.4);\n",
    "ax.set_yticks(vals);\n",
    "ax.set_yticklabels([\"${0}$\".format(i) for i in vals]);"
   ]
  },
  {
   "cell_type": "markdown",
   "metadata": {},
   "source": [
    "You see pairs of Landau levels. In each pair one level comes from the top surface, one from the bottom surface. Magnetic field is parallel to the side surfaces, so that there is no gap there. The edge states propagate freely along the side surfaces and are reflected by the magnetic field as they try to enter either top or the bottom."
   ]
  },
  {
   "cell_type": "code",
   "execution_count": null,
   "metadata": {
    "collapsed": false
   },
   "outputs": [],
   "source": [
    "question = (\"Suppose that you take the 3D TI slab above, and connect the left and right surfaces, making it into \"\n",
    "            \"a very thick Corbino disk. \"\n",
    "            \"You then apply to it a strong perpendicular field in the same direction as in the figure, perpendicular to the top \"\n",
    "            \"and bottom surfaces. \"\n",
    "            \"What happens if you throw an additional flux quantum through the inner hole of the disk?\")\n",
    "\n",
    "answers = [\"A half-integer amount of electron charges is transferred from the inner to the outer surface of the disk.\",\n",
    "           \"An integer of electron charges is transferred from the inner to the outer surface of the disk.\",\n",
    "           \"An integer number of charges is transferred from the top to the bottom surface of the disk.\",\n",
    "           \"The bulk gap closes.\"]\n",
    "\n",
    "explanation = (\"The top and bottom surfaces combined form an integer quantum Hall state. \"\n",
    "               \"Hence the whole system acts like a Laughlin pump, exactly like in the purely 2D case.\")\n",
    "\n",
    "MoocMultipleChoiceAssessment(question=question, answers=answers, correct_answer=1, explanation=explanation)"
   ]
  },
  {
   "cell_type": "markdown",
   "metadata": {},
   "source": [
    "# Conclusion: integers, half-integers, and two types of electromagnetic response"
   ]
  },
  {
   "cell_type": "markdown",
   "metadata": {},
   "source": [
    "Before we move on to the next lecture, Joel Moore will tell us more about the origins of the peculiar electromagnetic response of topological insulators, and a fascinating connection to high energy physics."
   ]
  },
  {
   "cell_type": "code",
   "execution_count": null,
   "metadata": {
    "collapsed": false
   },
   "outputs": [],
   "source": [
    "MoocVideo(\"s7H6oLighOM\", src_location=\"6.1-summary\")"
   ]
  },
  {
   "cell_type": "code",
   "execution_count": null,
   "metadata": {
    "collapsed": false
   },
   "outputs": [],
   "source": [
    "MoocDiscussion(\"Questions\", \"3DTI invariants\")"
   ]
  }
 ],
 "metadata": {
  "kernelspec": {
   "display_name": "Python 3",
   "language": "python",
   "name": "python3"
  },
  "language_info": {
   "codemirror_mode": {
    "name": "ipython",
    "version": 3
   },
   "file_extension": ".py",
   "mimetype": "text/x-python",
   "name": "python",
   "nbconvert_exporter": "python",
   "pygments_lexer": "ipython3"
  }
 },
 "nbformat": 4,
 "nbformat_minor": 0
}
