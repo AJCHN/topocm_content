{
 "cells": [
  {
   "cell_type": "code",
   "execution_count": null,
   "metadata": {
    "collapsed": false
   },
   "outputs": [],
   "source": [
    "import sys\n",
    "sys.path.append('../code')\n",
    "from init_mooc_nb import *\n",
    "init_notebook()\n",
    "import wraparound\n",
    "from matplotlib import cm\n",
    "\n",
    "pi_ticks = [(-np.pi, r'$-\\pi$'), (0, '$0$'), (np.pi, r'$\\pi$')]\n",
    "\n",
    "def d_wave(w=None, direction=None):\n",
    "    \"\"\"Creates a d-wave system.\n",
    "    \n",
    "    Parameters:\n",
    "    -----------\n",
    "    w : int\n",
    "        Width of the system, if None the system is infinite\n",
    "    direction : str\n",
    "        Direction of translation symmetry, if None it's an infinite\n",
    "        system in x and y.\n",
    "    \"\"\"\n",
    "    def hopx(site1, site2, p):\n",
    "        return -p.t * pauli.sz - p.delta * pauli.sx\n",
    "    \n",
    "    def hopy(site1, site2, p):\n",
    "        return -p.t * pauli.sz + p.delta * pauli.sx\n",
    "    \n",
    "    def onsite(site, p):\n",
    "        return (4 * p.t - p.mu) * pauli.sz \n",
    "\n",
    "    lat = kwant.lattice.square()\n",
    "\n",
    "    if not w:\n",
    "        def ribbon_shape(pos):\n",
    "            (x, y) = pos\n",
    "            return True\n",
    "        sym = kwant.TranslationalSymmetry(*lat.prim_vecs)\n",
    "    else:\n",
    "        if direction == 'topo':\n",
    "            def ribbon_shape(pos):\n",
    "                (x, y) = pos\n",
    "                return (0 <= y - x < w)\n",
    "            sym = kwant.TranslationalSymmetry((1, 1))  \n",
    "        elif direction == 'triv':\n",
    "            def ribbon_shape(pos):\n",
    "                (x, y) = pos\n",
    "                return (0 <= y < w)\n",
    "            sym = kwant.TranslationalSymmetry((1, 0))  \n",
    "\n",
    "    sys = kwant.Builder(sym)\n",
    "    \n",
    "    sys[lat.shape(ribbon_shape, (0, 0))] = onsite\n",
    "    sys[kwant.HoppingKind((1, 0), lat)] = hopx\n",
    "    sys[kwant.HoppingKind((0, 1), lat)] = hopy\n",
    "    \n",
    "    return sys\n",
    "\n",
    "\n",
    "def graphene_infinite():\n",
    "    lat = kwant.lattice.honeycomb()\n",
    "    a, b = lat.sublattices\n",
    "    sys = kwant.Builder(kwant.TranslationalSymmetry(*lat.prim_vecs))\n",
    "    sys[lat.shape(lambda pos: True, (0, 0))] = 0\n",
    "    sys[kwant.builder.HoppingKind((0, 0), a, b)] = lambda site1, site2, p: p.t_1\n",
    "    sys[kwant.builder.HoppingKind((0, 1), a, b)] = lambda site1, site2, p:  p.t_23\n",
    "    sys[kwant.builder.HoppingKind((-1, 1), a, b)] = lambda site1, site2, p: p.t_23 \n",
    "    return sys\n",
    "\n",
    "\n",
    "def plot_dets(sys, p, ks, chiral=False):\n",
    "    sys = wraparound.wraparound(sys).finalized()\n",
    "    kys, kxs = np.meshgrid(ks, ks)\n",
    "    dets = np.zeros_like(kxs, dtype=complex)\n",
    "\n",
    "    for i, kx in enumerate(ks):\n",
    "        for j, ky in enumerate(ks):\n",
    "            ham = sys.hamiltonian_submatrix(args=(p, kx, ky))\n",
    "            if chiral:\n",
    "                # Bring the chiral symmetric Hamiltonian in offdiagonal form\n",
    "                U = (pauli.s0 + 1j * pauli.sx) / np.sqrt(2)\n",
    "                ham = U.dot(ham).dot(U.T.conjugate())\n",
    "            dets[i, j] = ham[1, 0]\n",
    "\n",
    "    H = np.angle(dets) / (2 * np.pi)\n",
    "    V = np.abs(dets)\n",
    "    H = np.mod(H, 1)\n",
    "    V /= np.max(V)\n",
    "    V = 1 - V**2\n",
    "    S = np.ones_like(H)\n",
    "    HSV = np.dstack((H, S, V))\n",
    "    bounds = (ks.min(), ks.min(), ks.max(), ks.max())\n",
    "    pl = holoviews.HSV(HSV, bounds=bounds, label=r'$\\det(h)$', kdims=['$k_x$', '$k_y$'])\n",
    "    return pl(plot={'xticks': pi_ticks, 'yticks': pi_ticks})\n",
    "\n",
    "\n",
    "def Weyl_slab(w=5):\n",
    "    def hopy(site1, site2, p):\n",
    "        return 1j * p.t * pauli.sy - p.t * pauli.sz\n",
    "    \n",
    "    def onsite(site, p):\n",
    "        return (((2 + 2 * (1 - np.cos(p.kx)) + 2 * (1 - np.cos(p.ky))) * p.t - p.mu) * pauli.sz +\n",
    "                np.sin(p.kx) * p.t * pauli.sx)\n",
    "\n",
    "    lat = kwant.lattice.chain()\n",
    "    sys = kwant.Builder()\n",
    "       \n",
    "    def shape(pos):\n",
    "        (x,) = pos\n",
    "        return (0 <= x < w) \n",
    "\n",
    "    sys[lat.shape(shape, (0,))] = onsite\n",
    "    sys[kwant.HoppingKind((1,), lat)] = hopy\n",
    "    \n",
    "    return sys.finalized() "
   ]
  },
  {
   "cell_type": "markdown",
   "metadata": {},
   "source": [
    "# Introduction"
   ]
  },
  {
   "cell_type": "markdown",
   "metadata": {},
   "source": [
    "Ashvin Vishwanath from the University of California, Berkeley will introduce Weyl semi-metals and other examples of gapless yet topological systems."
   ]
  },
  {
   "cell_type": "code",
   "execution_count": null,
   "metadata": {
    "collapsed": false
   },
   "outputs": [],
   "source": [
    "MoocVideo(\"MAWwa4r1qIc\", src_location='10.1-intro')"
   ]
  },
  {
   "cell_type": "markdown",
   "metadata": {},
   "source": [
    "# Topological invariants of Fermi surfaces"
   ]
  },
  {
   "cell_type": "markdown",
   "metadata": {},
   "source": [
    "The idea leading us to the topology of gapless systems is extremely simple, here it is:\n",
    "\n",
    "> If we consider momentum as an external conserved parameter, we can study topological closings of the gap in momentum space.\n",
    "\n",
    "Let's consider the simplest type of topological invariant, we've learned at the very beginning. Remember the simplest topological invariant of a 0D Hamiltonian, $\\mathcal{Q} = \\textrm{sign } H$, the number of filled states? What if we take two points in momentum space, $\\mathbf{k}_1$ and $\\mathbf{k}_2$, and consider a Hamiltonian with the number of filled states changing by $n$ between these two points? Obviously we can make a conclusion that there are at least $n$ Fermi surfaces lying on every path between $\\mathbf{k}_1$ and $\\mathbf{k}_2$ in momentum space.\n",
    "\n",
    "Now we just need to take this idea and to apply it to more interesting systems and topological invariants!"
   ]
  },
  {
   "cell_type": "markdown",
   "metadata": {},
   "source": [
    "What types of topological invariants can matter? Unless something very special happens, we cannot make use of time-reversal or particle-hole symmetries: in momentum space these only have an immediate effect in isolated $\\mathbf{k}$-points, where every momentum component is either $0$ or $\\pi$. So there doesn't exist a path in momentum space, which would have either of the symmetries effective in each point.\n",
    "\n",
    "So we are left with only two symmetry classes: A and AIII (no symmetry at all or sublattice/chiral symmetry), and with only two invariants: if there is a sublattice symmetry, a winding number can be defined, and without it there's a Chern number."
   ]
  },
  {
   "cell_type": "markdown",
   "metadata": {},
   "source": [
    "# Graphene and protected Dirac cones"
   ]
  },
  {
   "cell_type": "markdown",
   "metadata": {},
   "source": [
    "We've already analysed the 0D Chern number that stabilizes the usual Fermi surfaces. Let's go one dimension higher, and study winding numbers in systems with sublattice symmetry around 1D loops. \n",
    "\n",
    "For a winding number to be nonzero, we need to consider 1D loops in momentum space. So as a reminder, with sublattice symmetry the Hamiltonian can always be brought to the form\n",
    "\n",
    "$$\n",
    "H = \\begin{pmatrix}\n",
    "0 & h(\\mathbf{k}) \\\\\n",
    "h^\\dagger(\\mathbf{k}) & 0\n",
    "\\end{pmatrix}\n",
    "$$"
   ]
  },
  {
   "cell_type": "markdown",
   "metadata": {},
   "source": [
    "The topological invariant is a nonzero winding of $\\det h(\\mathbf{k})$ when $\\mathbf{k}$ goes around some contour. Since $h(\\mathbf{k})$ is continuous, it means that its determinant will also have to vanish somewhere inside this contour.\n",
    "\n",
    "To study a particular example where this appears, let's return to graphene, which we studied as a simple limit of Haldane model.\n",
    "For graphene we have\n",
    "\n",
    "$$h(k_x, k_y) = t_1 e^{i \\mathbf{k} \\cdot \\mathbf{a_1}} + t_2 e^{i \\mathbf{k} \\cdot \\mathbf{a_2}} + t_3 e^{i \\mathbf{k} \\cdot \\mathbf{a_3}},$$\n",
    "\n",
    "where $t_1, t_2, t_3$ are the three hoppings connecting a site in one of the two graphene sublattices, and $a_1, a_2, a_3$ are the lattice vectors connecting one unit cell to its neighbors.\n",
    "\n",
    "To consider something specific, let's take $t_2 = t_3 = t$ and vary $t_1$. This is how the band structure and $\\det h$ look like:"
   ]
  },
  {
   "cell_type": "code",
   "execution_count": null,
   "metadata": {
    "collapsed": false,
    "scrolled": true
   },
   "outputs": [],
   "source": [
    "%%output size=150 dpi=100\n",
    "p = SimpleNamespace(t_1=1.0, t_23=1.0)\n",
    "sys = graphene_infinite()\n",
    "ks = np.sqrt(3) * np.linspace(-np.pi, np.pi, 50)\n",
    "kwargs = dict(title=lambda p: r'Graphene, $t_1 = {:.2} \\times t$'.format(p.t_1), zticks=3)\n",
    "ts = np.linspace(1, 2.4, 8)\n",
    "(holoviews.HoloMap({p.t_1: spectrum(sys, p, k_x=ks, k_y=ks, **kwargs) for p.t_1 in ts}, kdims=['$t_1$']) +\n",
    " holoviews.HoloMap({p.t_1: plot_dets(sys, p, ks) for p.t_1 in ts}, kdims=['$t_1$']))"
   ]
  },
  {
   "cell_type": "markdown",
   "metadata": {},
   "source": [
    "In the left panel you see that the band structure has gapless points. The right panel shows $\\det h$ by using hue as a phase and intensity as magnitude (so white is $\\det h = 0$). There are two Dirac points (you see 6, but this is since we plot more than one Brillouin zone). \n",
    "\n",
    "We also see that the winding numbers around these two Dirac points have opposite signs (because by going around them clockwise you encounter red, blue and green colors in opposite orders). This must always be the case since the winding number around the edges of the complete Brillouin zone must vanish - as you walk down every edge of the Brillouin zone twice in opposite directions, their contributions always cancel."
   ]
  },
  {
   "cell_type": "markdown",
   "metadata": {},
   "source": [
    "As $t_1$ increases, the two poles move towards each other, eventually annihilating and leaving a completely gapped dispersion relation. Let's now try to write an effective model for the dispersion at each pole and at the phase transition point.\n",
    "\n",
    "We know that $\\det h$ has to vanish next to some point $\\mathbf{k}_0$. We can write expand it to a linear order next to this point, which immediately leaves us with a Hamiltonian\n",
    "\n",
    "$$\n",
    "H(\\mathbf{k}) =\n",
    "\\begin{pmatrix}\n",
    "0 & e^{i\\alpha} (v_x \\delta k_x + i v_y \\delta k_y) \\\\\n",
    "e^{-i\\alpha} (v_x \\delta k_x - i v_y \\delta k_y) & 0\n",
    "\\end{pmatrix},\n",
    "$$\n",
    "\n",
    "where $\\mathbf{\\delta k}$ is of course the difference between $\\mathbf{k}$ and the Dirac point momentum. Of course this is the 2D Dirac equation, which should be very familiar now.\n",
    "\n",
    "At the phase transition where the two Dirac points annihilate, we can also quickly guess that the correct dispersion should be a quadratic function along the axis connecting the two Dirac points, and linear along the other axis (this is also what we see in the plot). So we then have:\n",
    "\n",
    "$$\n",
    "H(\\mathbf{k}) =\n",
    "\\begin{pmatrix}\n",
    "0 & e^{i\\alpha} (\\beta \\delta k_1^2 + m + i v_2 \\delta k_2) \\\\\n",
    "e^{-i\\alpha} (\\beta \\delta k_1^2 + m - i v_2 \\delta k_2) & 0\n",
    "\\end{pmatrix},\n",
    "$$\n",
    "\n",
    "so that for $m>0$ we have a fully gapped Hamiltonian, and for $m<0$ there are two Dirac points."
   ]
  },
  {
   "cell_type": "markdown",
   "metadata": {},
   "source": [
    "# $d$-wave superconductors and edge states"
   ]
  },
  {
   "cell_type": "markdown",
   "metadata": {},
   "source": [
    "The presence of gapless points with Dirac dispersion was known for quite some time before graphene. They exist in the cuprate family of high temperature superconductors, known to have a $d$-wave order parameter. These materials are layered, with weak couplings between the layer, so in the study of these complicated systems often one starts with a simplified two-dimensional Hamiltonian.\n",
    "\n",
    "This Hamiltonian just has a usual kinetic term corresponding to a single particle band and a superconducting pairing proportional to $k_x^2 - k_y^2$, so together\n",
    "\n",
    "$$\n",
    "H = \\begin{pmatrix}\n",
    "k^2/2m -\\mu & \\Delta (k_x^2 - k_y^2) \\\\\n",
    "\\Delta (k_x^2 - k_y^2) & \\mu-k^2/2m\n",
    "\\end{pmatrix}\n",
    "$$\n",
    "\n",
    "There is no spin-orbit coupling here, so the Hamiltonian has a spinless time-reversal symmetry $H = H^*$. It also has a particle-hole symmetry $H= - \\tau_y H^* \\tau_y$. Their product, the chiral symmetry $H = -\\tau_y H \\tau_y$ allows the Hamiltonian to have gapless points where both the single-particle dispersion and the pairing vanish."
   ]
  },
  {
   "cell_type": "markdown",
   "metadata": {},
   "source": [
    "## Difference between sublattice symmetries\n",
    "\n",
    "The time-reversal symmetry ensures that the winding points come in pairs at opposite momenta, just like in graphene.\n",
    "In graphene, however the chiral symmetry operator $\\sigma_z$ commuted with the time-reversal symmetry, so there applying time-reversal symmetry changes the direction of a loop in momentum space, but leaves the winding number invariant. On the other hand in superconductors, $\\tau_y$ is odd under time-reversal, and the winding is invariant under it.\n",
    "\n",
    "This means that a Dirac point at momentum $k$ and positive winding must come together with a Dirac point at $-k$ and also positive winding. Since the total winding over the Brillouin zone must be 0, this means that in superconducting systems the Dirac points come in quadruplets: two with positive winding and two with negative winding.\n",
    "\n",
    "The $d$-wave superconductor Hamiltonian gives just that: there are 4 Dirac points at $|k_x| = |k_y| = k_F / \\sqrt{2}$."
   ]
  },
  {
   "cell_type": "code",
   "execution_count": null,
   "metadata": {
    "collapsed": false
   },
   "outputs": [],
   "source": [
    "question = r\"What happens is you make the 2D $d$-wave Hamiltonian 3D, by including a coupling between different layers?\"\n",
    "\n",
    "answers = [\"The Dirac points couple and gap out.\",\n",
    "           \"In 3D you cannot have a $d$-wave pairing.\",\n",
    "           \"There will remain isolated gapless points in the larger 3D Brillouin zone.\",\n",
    "           \"You get a closed 1D Dirac line of gap closings in the 3D Brillouin zone.\"]\n",
    "\n",
    "explanation = (r\"The real and imaginary parts of the solutions of $\\det h(\\mathbf{k})=0$ form two surfaces \"\n",
    "               r\"in the Brillouin zone. The intersection of these two surfaces is a line.\")\n",
    "\n",
    "MoocMultipleChoiceAssessment(question=question, answers=answers, correct_answer=3, explanation=explanation)"
   ]
  },
  {
   "cell_type": "markdown",
   "metadata": {},
   "source": [
    "## Edge states"
   ]
  },
  {
   "cell_type": "markdown",
   "metadata": {},
   "source": [
    "Now let's see how bulk-edge correspondence can be made to work for gapless systems. We know that "
   ]
  },
  {
   "cell_type": "code",
   "execution_count": null,
   "metadata": {
    "collapsed": false
   },
   "outputs": [],
   "source": [
    "%%opts VLine (color='k')  Curve (ls='--')\n",
    "p = SimpleNamespace(mu=2.0, t=1.0, delta=1.0)\n",
    "k = np.arccos(1-p.mu/p.t/4)\n",
    "ks = np.linspace(-np.pi, np.pi, 50)\n",
    "sys0 = d_wave()\n",
    "sys1 = d_wave(50, direction='topo')\n",
    "sys2 = d_wave(50, direction='triv')\n",
    "\n",
    "det_plot = plot_dets(sys0, p, ks, chiral=True)\n",
    "det_plot1 = det_plot * holoviews.VLine(k) * holoviews.VLine(-k)\n",
    "det_plot2 = (det_plot *\n",
    "             holoviews.Curve(([-np.pi, np.pi], [np.pi, -np.pi])) *\n",
    "             holoviews.Curve(([-np.pi, np.pi-2*k], [np.pi-2*k, -np.pi])) *\n",
    "             holoviews.Curve(([-np.pi+2*k, np.pi], [np.pi, -np.pi+2*k]))).relabel('$\\det(h)$')\n",
    "\n",
    "kwargs = dict(k_x=ks, ylims=[-2, 2], xticks=pi_ticks, yticks=3)\n",
    "\n",
    "(spectrum(sys1, p, title='Ribbon with edge states', **kwargs) * holoviews.VLine(-2*k) * holoviews.VLine(2*k) +\n",
    " det_plot1 + \n",
    " spectrum(sys2, p, title='Ribbon without edge states', **kwargs) * holoviews.VLine(-k) * holoviews.VLine(k) +\n",
    " det_plot2).cols(2)"
   ]
  },
  {
   "cell_type": "markdown",
   "metadata": {},
   "source": [
    "# Weyl points"
   ]
  },
  {
   "cell_type": "markdown",
   "metadata": {},
   "source": [
    "So far we've seen two examples of Dirac points in two dimensions, the surface of a 3D topological insulator and graphene. You might wonder why don't we have such cones in three dimensions? These do indeed exist and are called Weyl points instead of Dirac points. The reason is historical - Dirac's equation for the electron (which  is in 3D) involved states with 4-components, two for the electron and two for the hole. The direct generalization of graphene that we will talk about involves two component electrons. This two component electrons with linear dispersion was studied first by Weyl and has strange properties as we will illustrate below.\n",
    "\n",
    "Let us start by writing the low-energy Hamiltonian for the three dimensional generalization of graphene:\n",
    "\n",
    "$$H({\\bf k})=(\\sigma_x k_x+\\sigma_y k_y+\\sigma_z k_z).$$\n",
    "\n",
    "Here you might think of $\\sigma_{x,y,z}$ as the spin of the electron (just as on the surface of a topological insulator).\n",
    "\n",
    "Next we try the usual thing we would do with a two-dimensional Dirac cone - namely try to see what we get when we gap it out by applying a magnetic field $\\bf\\sigma\\cdot B$. Adding such a term, we find that the Hamiltonian is transformed as \n",
    "\n",
    "$$H({\\bf k})\\rightarrow H({\\bf k})+{\\bf\\sigma\\cdot B}={\\bf\\sigma\\cdot (k+B)}.$$\n",
    "\n",
    "The key observation here is that the addition of a magnetic field effectively shifts the wave-vector as \n",
    "\n",
    "$${\\bf k}\\rightarrow \\tilde{\\bf k}={\\bf k+ B}.$$\n",
    "\n",
    "> So applying the most general perturbation we can think of does not gap the Weyl point where the energy vanishes, but rather only shifts it around in momentum space. This feels like some kind of topological protection."
   ]
  },
  {
   "cell_type": "code",
   "execution_count": null,
   "metadata": {
    "collapsed": false
   },
   "outputs": [],
   "source": [
    "sys = Weyl_slab(w=15)\n",
    "par = SimpleNamespace(t=1.0, mu=2.0)\n",
    "def Weyl_plot(**kwargs):\n",
    "    par.__dict__.update(kwargs)\n",
    "    fig, ax = plot_dispersion(sys, par, kx=[-np.pi, 0], ky=[-np.pi, np.pi])\n",
    "    ax.set_title('Weyl semimetal, $\\mu = %1.1f$' % par.mu)\n",
    "    ax.set_zlabel('$E$')\n",
    "    ax.set_xticks([-np.pi, 0])\n",
    "    ax.set_xticklabels(['$-\\pi$', '$0$'])\n",
    "    ax.set_xlabel('$k_x$')\n",
    "    ax.set_yticks([-np.pi, np.pi])\n",
    "    ax.set_yticklabels(['$-\\pi$', '$\\pi$'])\n",
    "    ax.set_ylabel('$k_y$')\n",
    "    ax.set_zticks([])\n",
    "    return fig\n",
    "\n",
    "StaticInteract(lambda mu: Weyl_plot(mu=0.4*mu), mu=RangeWidget(-1, 5))"
   ]
  },
  {
   "cell_type": "markdown",
   "metadata": {},
   "source": [
    "Is there a sense in which Weyl points are \"topological\"? They are clearly protected - so is there some topological reason for it. As in the rest of this section, the topology of gapless system becomes apparent by looking at the Hamiltonian on lower dimensional subspaces of the momentum space. For the case of Weyl, the momentum space is three dimensional, so it is natural to try two dimensional subspaces of the momentum space.\n",
    "\n",
    "The most natural subspace to choose is to fix $k_z=m$ the Weyl Hamiltonian becomes that of a massive 2D Dirac cone\n",
    "\n",
    "$$H_{2D,Dirac}(k_x,k_y;m)\\equiv H(k_x,k_y,k_z=m)=(\\sigma_x k_x+\\sigma_y k_y+m\\sigma_z).$$\n",
    "\n",
    "As we talked about in week 4, with Chern insulators, massive Dirac model had a Chern number, which would change by $1$ if $m$ changed sign. \n",
    "\n",
    "> So we can think of the Weyl Hamiltonian in the momentum planes for $k_z<0$ and $k_z>0$ as Chern insulators with Chern numbers $n_{Ch}=0$ (i.e. trivial) and $n_{Ch}=1$ (topological).  The Hamiltonian at $k_z=0$ is at the phase transition point of the Chern insulator, which supports a gapless Dirac point."
   ]
  },
  {
   "cell_type": "markdown",
   "metadata": {},
   "source": [
    "Systems with Weyl points are known as Weyl semi-metals. Just like other topological phases, have as an interesting surface spectrum. We can understand this easily by viewing the Weyl point as a stack of Chern insulators in momentum space. For any surface in a plane that contains the $z$-axis, we can treat $k_z$ as a conserved quantity. At this $k_z=m$, the Hamiltonian is just that of a Chern insulator with an appropriate Chern number. For the range of $k_z$ where the Chern number $n_{Ch}(k_z)=1$, the surface spectrum supports chiral edge states with an energy approximated at low energy by \n",
    "\n",
    "$$E(k_x,k_z)\\approx v(k_z)k_x.$$\n",
    "\n",
    "We can consider the edge states over a range of $k_z$ together to visualize the \"surface states\". \n",
    "\n",
    "> The unique property of the surface states is that if we set $k_x=0$ then the energy vanishes on a line in the surface spectrum. This line actually terminates at $k_z=0$, where the Chern number changes. Such lines that are referred to as \"Fermi arcs\", are the unique bounday properties (hence the bulk-boundary correspondence) for the Weyl semimetal."
   ]
  },
  {
   "cell_type": "markdown",
   "metadata": {},
   "source": [
    "At large enough $k_z$, the two dimensional Hamiltonian $H_{2D,Dirac}(k_x,k_y;k_z)$ becomes trivial i.e. $n_{Ch}(|k_z|\\rightarrow \\infty)=0$. This means that if the Chern number $n_{Ch}=1$ in a range of $k_z$, then $n_{Ch}(k_z)$ must change twice resulting in two Weyl points. So Weyl points come in pairs. These points map onto the ends of the Fermi arcs on the surface. "
   ]
  },
  {
   "cell_type": "code",
   "execution_count": null,
   "metadata": {
    "collapsed": false
   },
   "outputs": [],
   "source": [
    "question = r\"What protects the surface state of Weyl semi-metals from scattering inside the bulk Weyl point?\"\n",
    "\n",
    "answers = [\"Chiral symmetry.\",\n",
    "           \"The energy gap in the bulk.\",\n",
    "           \"Absence of scattering.\",\n",
    "           \"The non-zero Chern number of the bulk.\"]\n",
    "\n",
    "explanation = (r\"The bulk has gapless states due to the Weyl point. \"\n",
    "               \"Only momentum conservation therefore protects surface states from going into the bulk.\")\n",
    "\n",
    "MoocMultipleChoiceAssessment(question=question, answers=answers, correct_answer=2, explanation=explanation)"
   ]
  },
  {
   "cell_type": "markdown",
   "metadata": {},
   "source": [
    "**Questions about what you just learned? Ask them below!**"
   ]
  },
  {
   "cell_type": "code",
   "execution_count": null,
   "metadata": {
    "collapsed": false
   },
   "outputs": [],
   "source": [
    "MoocDiscussion(\"Questions\", \"Topology in gapless systems\")"
   ]
  }
 ],
 "metadata": {
  "kernelspec": {
   "display_name": "Python 3",
   "language": "python",
   "name": "python3"
  },
  "language_info": {
   "codemirror_mode": {
    "name": "ipython",
    "version": 3
   },
   "file_extension": ".py",
   "mimetype": "text/x-python",
   "name": "python",
   "nbconvert_exporter": "python",
   "pygments_lexer": "ipython3"
  }
 },
 "nbformat": 4,
 "nbformat_minor": 0
}
