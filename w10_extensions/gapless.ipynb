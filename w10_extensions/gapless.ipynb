{
 "cells": [
  {
   "cell_type": "code",
   "execution_count": null,
   "metadata": {
    "collapsed": false
   },
   "outputs": [],
   "source": [
    "%run ../code/init_mooc_nb.py\n",
    "\n",
    "from matplotlib.colors import hsv_to_rgb\n",
    "import scipy\n",
    "from matplotlib import cm\n",
    "from matplotlib import gridspec   \n",
    "\n",
    "sigma0 = np.array([[1, 0], [0, 1]])\n",
    "sigmax = np.array([[0, 1], [1, 0]])\n",
    "sigmay = np.array([[0, -1j], [1j, 0]])\n",
    "sigmaz = np.array([[1, 0], [0, -1]])\n",
    "\n",
    "# dispersion functions\n",
    "def plot_2D(X,Y,Z, ax_in=None):\n",
    "    if ax_in==None:\n",
    "        fig = plt.figure(figsize=(7,5))\n",
    "        ax = fig.add_subplot(111, projection='3d')\n",
    "    else:\n",
    "        ax = ax_in\n",
    "\n",
    "    vmin = np.array(Z).min()\n",
    "    vmax = np.array(Z).max()\n",
    "    \n",
    "    if len(np.shape(Z)) > 2:\n",
    "        for z in Z:\n",
    "            ax.plot_surface(X, Y, z, rstride=1, cstride=1, cmap=cm.RdBu_r, \n",
    "                            linewidth=0.1, vmin=vmin, vmax=vmax)\n",
    "    else:\n",
    "        ax.plot_surface(X, Y, Z, rstride=1, cstride=1, cmap=cm.RdBu_r, \n",
    "                        linewidth=0.1, vmin=vmin, vmax=vmax)\n",
    "\n",
    "    if ax_in==None:\n",
    "        return fig, ax\n",
    "    else:\n",
    "        return ax \n",
    "    \n",
    "\n",
    "def evaluate_on_grid(X, Y, func):\n",
    "    \"\"\" X, Y should be in np.meshgrid form. It's enough for func to work on floats. \"\"\"\n",
    "    data = []\n",
    "    for xx, yy in zip(X, Y):\n",
    "        row = []\n",
    "        for i,j in zip(xx, yy):\n",
    "            row.append(func(i,j))\n",
    "        data.append(row)\n",
    "    data = np.array(data)\n",
    "    temp = np.shape(data)[2]\n",
    "    try:\n",
    "        data = [np.array(data[:,:,i]) for i in [temp/2-2, temp/2-1, temp/2, temp/2+1]]\n",
    "    except:\n",
    "        data = [np.array(data[:,:,i]) for i in [temp/2-1, temp/2]]\n",
    "    return data\n",
    "\n",
    "\n",
    "def diagonalize(sys, par):\n",
    "    mat = sys.hamiltonian_submatrix(args=[par])\n",
    "    ev, evec = scipy.linalg.eigh(mat)  # Automatically sorted\n",
    "    return ev, evec\n",
    "\n",
    "\n",
    "def dispersion_func(sys, par):\n",
    "    def func(kx, ky):\n",
    "        par.kx = kx\n",
    "        par.ky = ky\n",
    "        return diagonalize(sys, par)[0]\n",
    "    return func\n",
    "\n",
    "\n",
    "def plot_dispersion(sys, par, kx=[-np.pi, np.pi], ky=[-np.pi, np.pi], ax=None):\n",
    "\n",
    "    Kx = np.linspace(kx[0], kx[1], 51)\n",
    "    Ky = np.linspace(ky[0], ky[1], 51)\n",
    "    mesh = np.meshgrid(Kx, Ky)\n",
    "    energies = evaluate_on_grid(*mesh, func=dispersion_func(sys, par))\n",
    "    \n",
    "    if ax is None:\n",
    "        fig, ax = plot_2D(*mesh, Z=energies)\n",
    "        return fig, ax\n",
    "    else:\n",
    "        plot_2D(*mesh, Z=energies, ax_in=ax)\n",
    "\n",
    "\n",
    "def d_wave_ribbon(w=10, direction='topo'):\n",
    "    def hopx(site1, site2, par):\n",
    "        return -par.t * sigmaz - par.delta * sigmax\n",
    "    \n",
    "    def hopy(site1, site2, par):\n",
    "        return -par.t * sigmaz + par.delta * sigmax\n",
    "    \n",
    "    def onsite(site, par):\n",
    "        return (4 * par.t - par.mu) * sigmaz \n",
    "\n",
    "    if direction == 'topo':\n",
    "        def ribbon_shape(pos):\n",
    "            (x, y) = pos\n",
    "            return (0 <= y - x < w)\n",
    "        sym = kwant.TranslationalSymmetry((1, 1))  \n",
    "    else:\n",
    "        def ribbon_shape(pos):\n",
    "            (x, y) = pos\n",
    "            return (0 <= y < w)\n",
    "        sym = kwant.TranslationalSymmetry((1, 0))  \n",
    "        \n",
    "    \n",
    "    lat = kwant.lattice.square()\n",
    "    sys = kwant.Builder(sym)\n",
    "    \n",
    "    sys[lat.shape(ribbon_shape, (0, 0))] = onsite\n",
    "    sys[kwant.HoppingKind((1,0), lat)] = hopx\n",
    "    sys[kwant.HoppingKind((0,1), lat)] = hopy\n",
    "    \n",
    "    return sys.finalized()\n",
    "\n",
    "\n",
    "#systems\n",
    "def d_wave_infinite():\n",
    "    def hopx(site1, site2, par):\n",
    "        return -par.t * sigmaz - par.delta * sigmax\n",
    "    \n",
    "    def hopy(site1, site2, par):\n",
    "        return -par.t * sigmaz + par.delta * sigmax\n",
    "    \n",
    "    def onsite(site, par):\n",
    "        return (4 * par.t - par.mu) * sigmaz \n",
    "\n",
    "    def func(site, par):\n",
    "        kx,ky = par.kx, par.ky\n",
    "        H0, H1, H2 = onsite(site, par), hopx(site, site, par), hopy(site, site, par)\n",
    "        \n",
    "        return H0  \\\n",
    "            + H1*np.exp(-1j*kx) + H1.transpose().conjugate()*np.exp(+1j*kx) \\\n",
    "            + H2*np.exp(-1j*ky) + H2.transpose().conjugate()*np.exp(+1j*ky)\n",
    "    \n",
    "    lat = kwant.lattice.square()\n",
    "    sys = kwant.Builder()\n",
    "    sys[lat(0, 0)] = func\n",
    "    return sys.finalized()\n",
    "\n",
    "# Check out http://nbviewer.ipython.org/github/empet/Math/blob/master/DomainColoring.ipynb\n",
    "# for a nice tutorial on visualizing complex functions.\n",
    "\n",
    "def d_wave_offdiag(sys, args, steps=30):\n",
    "    kxs, kys = np.mgrid[-np.pi:np.pi:1j*steps, -np.pi:np.pi:1j*steps]\n",
    "     \n",
    "    dets = np.zeros_like(kxs, dtype=complex)\n",
    "\n",
    "    for i in range(steps):\n",
    "        for j in range(steps):\n",
    "            par.kx, par.ky = kxs[i, j], kys[i, j]\n",
    "            ham = sys.hamiltonian_submatrix(args)\n",
    "            #bring the chiral symmetric Hamiltonian in offdiagonal form\n",
    "            u = (sigma0 + 1j * sigmax) / np.sqrt(2)\n",
    "            ham = u.dot(ham).dot(u.T.conjugate())\n",
    "            dets[i, j] = ham[1, 0]\n",
    "    \n",
    "    return dets\n",
    "\n",
    "   \n",
    "def graphene_infinite():\n",
    "    def hop(site1, site2, par):\n",
    "        temp = (par.t_1 * np.exp(1j * par.kx) + \n",
    "                par.t_23 * np.exp(0.5j * (np.sqrt(3) * par.ky - par.kx)) + \n",
    "                par.t_23 * np.exp(-0.5j * (np.sqrt(3) * par.ky + par.kx)))\n",
    "        return temp\n",
    "\n",
    "    lat = kwant.lattice.chain()\n",
    "    sys = kwant.Builder()\n",
    "    \n",
    "    sys[lat(0)] = 0\n",
    "    sys[lat(1)] = 0\n",
    "    sys[kwant.HoppingKind((1,), lat)] = hop\n",
    "                                                 \n",
    "    return sys.finalized()\n",
    "\n",
    "\n",
    "def graphene_offdiag(sys, args, steps=30):\n",
    "    \n",
    "    kxs, kys = np.mgrid[-np.pi:np.pi:1j*steps, -np.pi:np.pi:1j*steps]\n",
    "    dets = np.zeros_like(kxs, dtype=complex) \n",
    "    \n",
    "    for i in range(steps):\n",
    "        for j in range(steps):\n",
    "            par.kx, par.ky = kxs[i, j], kys[i, j]\n",
    "            ham = sys.hamiltonian_submatrix(args)\n",
    "            dets[i, j] = ham[1, 0]\n",
    "    \n",
    "    return dets\n",
    "\n",
    "\n",
    "def Weyl_slab(w=5):\n",
    "    def hopy(site1, site2, par):\n",
    "        return 1j * par.t * sigmay - par.t * sigmaz\n",
    "    \n",
    "    def onsite(site, par):\n",
    "        return (((2 + 2 * (1 - np.cos(par.kx)) + 2 * (1 - np.cos(par.ky))) * par.t - par.mu) * sigmaz +\n",
    "                np.sin(par.kx) * par.t * sigmax)\n",
    "\n",
    "    lat = kwant.lattice.chain()\n",
    "    sys = kwant.Builder()\n",
    "       \n",
    "    def shape(pos):\n",
    "        (x,) = pos\n",
    "        return (0 <= x < w) \n",
    "\n",
    "    sys[lat.shape(shape, (0,))] = onsite\n",
    "    sys[kwant.HoppingKind((1,), lat)] = hopy\n",
    "    \n",
    "    return sys.finalized() \n",
    "\n",
    "# function to set labels etc. for some standard plots\n",
    "def plot_format_deth(ax):\n",
    "    ax.set_xlim([-np.pi, np.pi])\n",
    "    ax.set_xticks([-np.pi, 0, np.pi])\n",
    "    ax.set_xticklabels(['$-\\pi$', '$0$', '$\\pi$'])\n",
    "    ax.set_xlabel('$k_x$')\n",
    "    ax.set_ylim([-np.pi, np.pi])\n",
    "    ax.set_yticks([-np.pi, 0, np.pi])\n",
    "    ax.set_yticklabels(['$-\\pi$', '$0$', '$\\pi$'])\n",
    "    ax.set_ylabel('$k_y$')\n",
    "    ax.set_title('$\\det(h)$')\n",
    "    \n",
    "def plot_dets(dets):      \n",
    "    \n",
    "    H = np.angle(dets) / (2 * np.pi)\n",
    "    V = np.abs(dets)\n",
    "    H = np.mod(H,1)\n",
    "    V /= np.max(V)\n",
    "    V = 1 - V**2\n",
    "    S = np.ones_like(H)\n",
    "\n",
    "    HSV = np.dstack((H,S,V))\n",
    "    RGB = hsv_to_rgb(HSV)\n",
    "    plt.imshow(RGB, origin=\"lower\", extent=[-np.pi, np.pi, -np.pi, np.pi])\n",
    "    plt.tight_layout(1)\n",
    "    pass\n",
    "    "
   ]
  },
  {
   "cell_type": "markdown",
   "metadata": {},
   "source": [
    "#Table of Contents\n",
    "* [Introduction](#Introduction)\n",
    "* [Topological invariants of Fermi surfaces](#Topological-invariants-of-Fermi-surfaces)\n",
    "* [Graphene and protected Dirac cones](#Graphene-and-protected-Dirac-cones)\n",
    "* [$d$-wave superconductors and edge states](#$d$-wave-superconductors-and-edge-states)\n",
    "\t* [Edge states](#Edge-states)\n",
    "* [Weyl points](#Weyl-points)\n"
   ]
  },
  {
   "cell_type": "markdown",
   "metadata": {},
   "source": [
    "**No content above this line is visible in edX**"
   ]
  },
  {
   "cell_type": "markdown",
   "metadata": {},
   "source": [
    "# Introduction"
   ]
  },
  {
   "cell_type": "markdown",
   "metadata": {},
   "source": [
    "Ashvin Vishwanath from the University of California, Berkeley will introduce Weyl semi-metals and other examples of gapless yet topological systems."
   ]
  },
  {
   "cell_type": "code",
   "execution_count": null,
   "metadata": {
    "collapsed": false
   },
   "outputs": [],
   "source": [
    "MoocVideo(\"MAWwa4r1qIc\", src_location='10.1-intro')"
   ]
  },
  {
   "cell_type": "markdown",
   "metadata": {},
   "source": [
    "# Topological invariants of Fermi surfaces"
   ]
  },
  {
   "cell_type": "markdown",
   "metadata": {},
   "source": [
    "The idea leading us to the topology of gapless systems is extremely simple, here it is:\n",
    "\n",
    "> If we consider momentum as an external conserved parameter, we can study topological closings of the gap in momentum space.\n",
    "\n",
    "Let's consider the simplest type of topological invariant, we've learned at the very beginning. Remember the simplest topological invariant of a 0D Hamiltonian, $\\mathcal{Q} = \\textrm{sign } H$, the number of filled states? What if we take two points in momentum space, $\\mathbf{k}_1$ and $\\mathbf{k}_2$, and consider a Hamiltonian with the number of filled states changing by $n$ between these two points? Obviously we can make a conclusion that there are at least $n$ Fermi surfaces lying on every path between $\\mathbf{k}_1$ and $\\mathbf{k}_2$ in momentum space.\n",
    "\n",
    "Now we just need to take this idea and to apply it to more interesting systems and topological invariants!"
   ]
  },
  {
   "cell_type": "markdown",
   "metadata": {},
   "source": [
    "What types of topological invariants can matter? Unless something very special happens, we cannot make use of time-reversal or particle-hole symmetries: in momentum space these only have an immediate effect in isolated $\\mathbf{k}$-points, where every momentum component is either $0$ or $\\pi$. So there doesn't exist a path in momentum space, which would have either of the symmetries effective in each point.\n",
    "\n",
    "So we are left with only two symmetry classes: A and AIII (no symmetry at all or sublattice/chiral symmetry), and with only two invariants: if there is a sublattice symmetry, a winding number can be defined, and without it there's a Chern number."
   ]
  },
  {
   "cell_type": "markdown",
   "metadata": {},
   "source": [
    "# Graphene and protected Dirac cones"
   ]
  },
  {
   "cell_type": "markdown",
   "metadata": {},
   "source": [
    "We've already analysed the 0D Chern number that stabilizes the usual Fermi surfaces. Let's go one dimension higher, and study winding numbers in systems with sublattice symmetry around 1D loops. \n",
    "\n",
    "For a winding number to be nonzero, we need to consider 1D loops in momentum space. So as a reminder, with sublattice symmetry the Hamiltonian can always be brought to the form\n",
    "\n",
    "$$\n",
    "H = \\begin{pmatrix}\n",
    "0 & h(\\mathbf{k}) \\\\\n",
    "h^\\dagger(\\mathbf{k}) & 0\n",
    "\\end{pmatrix}\n",
    "$$"
   ]
  },
  {
   "cell_type": "markdown",
   "metadata": {},
   "source": [
    "The topological invariant is a nonzero winding of $\\det h(\\mathbf{k})$ when $\\mathbf{k}$ goes around some contour. Since $h(\\mathbf{k})$ is continuous, it means that its determinant will also have to vanish somewhere inside this contour.\n",
    "\n",
    "To study a particular example where this appears, let's return to graphene, which we studied as a simple limit of Haldane model.\n",
    "For graphene we have\n",
    "\n",
    "$$h(k_x, k_y) = t_1 e^{i k_x a_1} + t_2 e^{i k_x a_2} + t_3 e^{i k_x a_3},$$\n",
    "\n",
    "where $t_1, t_2, t_3$ are the three hoppings connecting a site in one of the two graphene sublattices, and $a_1, a_2, a_3$ are the lattice vectors connecting one unit cell to its neighbors.\n",
    "\n",
    "To consider something specific, let's take $t_2 = t_3 = t$ and vary $t_1$. This is how the band structure and $\\det h$ look like:"
   ]
  },
  {
   "cell_type": "code",
   "execution_count": null,
   "metadata": {
    "collapsed": false
   },
   "outputs": [],
   "source": [
    "par = SimpleNamespace(t_1=1.0, t_23=1.0, kx=0.0, ky=0.0)\n",
    "sys = graphene_infinite()\n",
    "\n",
    "def graphene_plot(**kwargs):\n",
    "    \n",
    "    par.__dict__.update(kwargs)\n",
    "    fig = plt.figure(figsize=(9, 3.5))\n",
    "    \n",
    "    ax0 = fig.add_subplot(122)\n",
    "    dets = graphene_offdiag(sys, args=[par,], steps=80)\n",
    "    plot_dets(dets)\n",
    "    plot_format_deth(ax0)\n",
    "    \n",
    "    ax1 = fig.add_subplot(121, projection='3d')\n",
    "    plot_dispersion(sys, par, ax=ax1)\n",
    "    ax1.set_xlim([-np.pi, np.pi])\n",
    "    ax1.set_xticks([-np.pi, np.pi])\n",
    "    ax1.set_xticklabels([r'$-\\pi$', r'$\\pi$'])\n",
    "    ax1.set_xlabel('$k_x$')\n",
    "    ax1.set_ylim([-np.pi, np.pi])\n",
    "    ax1.set_yticks([-np.pi, np.pi])\n",
    "    ax1.set_yticklabels([r'$-\\pi$', r'$\\pi$'])\n",
    "    ax1.set_ylabel('$k_y$')\n",
    "    ax1.set_title(r'Graphene, $t_1 = %1.1f\\times t$' % par.t_1)\n",
    "    ax1.set_zlim3d(-5, 5)\n",
    "    ax1.set_zlabel('$E$')\n",
    "    ax1.set_zticks([])\n",
    "    return fig\n",
    "\n",
    "StaticInteract(lambda t_1: graphene_plot(t_1=(1 + 0.2*t_1)),\n",
    "               t_1=RangeWidget(0, 7))"
   ]
  },
  {
   "cell_type": "markdown",
   "metadata": {},
   "source": [
    "In the left panel you see that the band structure has gapless points. The right panel shows $\\det h$ by using hue as a phase and intensity as magnitude (so white is $\\det h = 0$). There are two Dirac points (you see 6, but this is since we plot more than one Brillouin zone). \n",
    "\n",
    "We also see that the winding numbers around these two Dirac points have opposite signs (because by going around them clockwise you encounter red, blue and green colors in opposite orders). This must always be the case since the winding number around the edges of the complete Brillouin zone must vanish - as you walk down every edge of the Brillouin zone twice in opposite directions, their contributions always cancel."
   ]
  },
  {
   "cell_type": "markdown",
   "metadata": {},
   "source": [
    "As $t_1$ increases, the two poles move towards each other, eventually annihilating and leaving a completely gapped dispersion relation. Let's now try to write an effective model for the dispersion at each pole and at the phase transition point.\n",
    "\n",
    "We know that $\\det h$ has to vanish next to some point $\\mathbf{k}_0$. We can write expand it to a linear order next to this point, which immediately leaves us with a Hamiltonian\n",
    "\n",
    "$$\n",
    "H(\\mathbf{k}) =\n",
    "\\begin{pmatrix}\n",
    "0 & e^{i\\alpha} (v_x \\delta k_x + i v_y \\delta k_y) \\\\\n",
    "e^{-i\\alpha} (v_x \\delta k_x - i v_y \\delta k_y) & 0\n",
    "\\end{pmatrix},\n",
    "$$\n",
    "\n",
    "where $\\mathbf{\\delta k}$ is of course the difference between $\\mathbf{k}$ and the Dirac point momentum. Of course this is the 2D Dirac equation, which should be very familiar now.\n",
    "\n",
    "At the phase transition where the two Dirac points annihilate, we can also quickly guess that the correct dispersion should be a quadratic function along the axis connecting the two Dirac points, and linear along the other axis (this is also what we see in the plot). So we then have:\n",
    "\n",
    "$$\n",
    "H(\\mathbf{k}) =\n",
    "\\begin{pmatrix}\n",
    "0 & e^{i\\alpha} (\\beta \\delta k_1^2 + m + i v_2 \\delta k_2) \\\\\n",
    "e^{-i\\alpha} (\\beta \\delta k_1^2 + m - i v_2 \\delta k_2) & 0\n",
    "\\end{pmatrix},\n",
    "$$\n",
    "\n",
    "so that for $m>0$ we have a fully gapped Hamiltonian, and for $m<0$ there are two Dirac points."
   ]
  },
  {
   "cell_type": "markdown",
   "metadata": {},
   "source": [
    "# $d$-wave superconductors and edge states"
   ]
  },
  {
   "cell_type": "markdown",
   "metadata": {},
   "source": [
    "The presence of gapless points with Dirac dispersion was known for quite some time before graphene. They exist in the cuprate family of high temperature superconductors, known to have a $d$-wave order parameter. These materials are layered, with weak couplings between the layer, so in the study of these complicated systems often one starts with a simplified two-dimensional Hamiltonian.\n",
    "\n",
    "This Hamiltonian just has a usual kinetic term corresponding to a single particle band and a superconducting pairing proportional to $k_x^2 - k_y^2$, so together\n",
    "\n",
    "$$\n",
    "H = \\begin{pmatrix}\n",
    "k^2/2m -\\mu & \\Delta (k_x^2 - k_y^2) \\\\\n",
    "\\Delta (k_x^2 - k_y^2) & \\mu-k^2/2m\n",
    "\\end{pmatrix}\n",
    "$$\n",
    "\n",
    "There is no spin-orbit coupling here, so the Hamiltonian has a spinless time-reversal symmetry $H = H^*$. It also has a particle-hole symmetry $H= - \\tau_y H^* \\tau_y$. Their product, the chiral symmetry $H = -\\tau_y H \\tau_y$ allows the Hamiltonian to have gapless points where both the single-particle dispersion and the pairing vanish."
   ]
  },
  {
   "cell_type": "markdown",
   "metadata": {},
   "source": [
    "## Difference between sublattice symmetries\n",
    "\n",
    "The time-reversal symmetry ensures that the winding points come in pairs at opposite momenta, just like in graphene.\n",
    "In graphene, however the chiral symmetry operator $\\sigma_z$ commuted with the time-reversal symmetry, so there applying time-reversal symmetry changes the direction of a loop in momentum space, but leaves the winding number invariant. On the other hand in superconductors, $\\tau_y$ is odd under time-reversal, and the winding is invariant under it.\n",
    "\n",
    "This means that a Dirac point at momentum $k$ and positive winding must come together with a Dirac point at $-k$ and also positive winding. Since the total winding over the Brillouin zone must be 0, this means that in superconducting systems the Dirac points come in quadruplets: two with positive winding and two with negative winding.\n",
    "\n",
    "The $d$-wave superconductor Hamiltonian gives just that: there are 4 Dirac points at $|k_x| = |k_y| = k_F / \\sqrt{2}$."
   ]
  },
  {
   "cell_type": "code",
   "execution_count": null,
   "metadata": {
    "collapsed": false
   },
   "outputs": [],
   "source": [
    "question = r\"What happens is you make the 2D $d$-wave Hamiltonian 3D, by including a coupling between different layers?\"\n",
    "\n",
    "answers = [\"The Dirac points couple and gap out.\",\n",
    "           \"In 3D you cannot have a $d$-wave pairing.\",\n",
    "           \"There will remain isolated gapless points in the larger 3D Brillouin zone.\",\n",
    "           \"You get a closed 1D Dirac line of gap closings in the 3D Brillouin zone.\"]\n",
    "\n",
    "explanation = (r\"The real and imaginary parts of the solutions of $\\det h(\\mathbf{k})=0$ form two surfaces \"\n",
    "               r\"in the Brillouin zone. The intersection of these two surfaces is a line.\")\n",
    "\n",
    "MoocMultipleChoiceAssessment(question=question, answers=answers, correct_answer=3, explanation=explanation)"
   ]
  },
  {
   "cell_type": "markdown",
   "metadata": {},
   "source": [
    "## Edge states"
   ]
  },
  {
   "cell_type": "markdown",
   "metadata": {},
   "source": [
    "Now let's see how bulk-edge correspondence can be made to work for gapless systems. We know that "
   ]
  },
  {
   "cell_type": "code",
   "execution_count": null,
   "metadata": {
    "collapsed": false
   },
   "outputs": [],
   "source": [
    "par = SimpleNamespace(mu=2.0, t=1.0, delta=1.0, kx=0.0, ky=0.0)\n",
    "sys0 = d_wave_ribbon(50, direction='topo')\n",
    "sys1 = d_wave_ribbon(50, direction='triv')\n",
    "sys2 = d_wave_infinite()\n",
    "\n",
    "\n",
    "def d_wave_plot(sys0, sys1, sys2, args):\n",
    "    fig = plt.figure(figsize=(10, 6))\n",
    "    \n",
    "    def plot_format_bands(ax):\n",
    "        ax.set_color_cycle('b')\n",
    "        ax.set_ylim([-2, 2])\n",
    "        ax.set_yticks([-2, 0, 2])\n",
    "        ax.set_yticklabels(['$-2$', '$0$', '$2$'])\n",
    "        ax.set_ylabel('energy')\n",
    "        ax.set_xticks([-np.pi, 0, np.pi])\n",
    "        ax.set_xticklabels(['$-\\pi$', '$0$', '$\\pi$'])\n",
    "        ax.set_xlabel('$k_x + k_y$')\n",
    "    \n",
    "    ax0 = fig.add_subplot(2,2,3)\n",
    "    plot_format_bands(ax0)\n",
    "    kwant.plotter.bands(sys0, args, ax=ax0, momenta=55)\n",
    "    ax0.set_title('Ribbon with edge states')\n",
    "    \n",
    "    ax1 = fig.add_subplot(2,2,4)\n",
    "    dets = d_wave_offdiag(sys2, args, steps=100)\n",
    "    plot_dets(dets)\n",
    "    plot_format_deth(ax1)\n",
    "    \n",
    "    ax2 = fig.add_subplot(2,2,1)\n",
    "    plot_format_bands(ax2)\n",
    "    kwant.plotter.bands(sys1, args, ax=ax2, momenta=55)\n",
    "    ax2.set_title('Ribbon without edge states')\n",
    "    \n",
    "    ax3 = fig.add_subplot(2,2,2)\n",
    "    plot_dets(dets)\n",
    "    plot_format_deth(ax3)\n",
    "    \n",
    "    #draw some extra lines to show why we get edge states in one ribbon but not the other.\n",
    "    k = np.arccos(1-par.mu/par.t/4)\n",
    "    ax0.plot([0, 0], [-6, 6], 'k')\n",
    "    ax0.plot([2*k, 2*k], [-6, 6], 'k--')\n",
    "    ax0.plot([-2*k, -2*k], [-6, 6], 'k--')\n",
    "    ax1.plot([-np.pi, np.pi], [np.pi, -np.pi], 'k')\n",
    "    ax1.plot([-np.pi, np.pi-2*k], [np.pi-2*k, -np.pi], 'k--')\n",
    "    ax1.plot([-np.pi+2*k, np.pi], [np.pi, -np.pi+2*k], 'k--')\n",
    "    ax2.plot([k, k], [-6, 6], 'k--')\n",
    "    ax2.plot([-k, -k], [-6, 6], 'k--')\n",
    "    ax3.plot([-k, -k], [-np.pi, np.pi], 'k--')\n",
    "    ax3.plot([k, k], [-np.pi, np.pi], 'k--')\n",
    "    \n",
    "d_wave_plot(sys0, sys1, sys2, args=[par,])"
   ]
  },
  {
   "cell_type": "markdown",
   "metadata": {},
   "source": [
    "# Weyl points"
   ]
  },
  {
   "cell_type": "markdown",
   "metadata": {},
   "source": [
    "So far we've seen two examples of Dirac points in two dimensions, the surface of a 3D topological insulator and graphene. You might wonder why don't we have such cones in three dimensions? These do indeed exist and are called Weyl points instead of Dirac points. The reason is historical - Dirac's equation for the electron (which  is in 3D) involved states with 4-components, two for the electron and two for the hole. The direct generalization of graphene that we will talk about involves two component electrons. This two component electrons with linear dispersion was studied first by Weyl and has strange properties as we will illustrate below.\n",
    "\n",
    "Let us start by writing the low-energy Hamiltonian for the three dimensional generalization of graphene:\n",
    "\n",
    "$$H({\\bf k})=(\\sigma_x k_x+\\sigma_y k_y+\\sigma_z k_z).$$\n",
    "\n",
    "Here you might think of $\\sigma_{x,y,z}$ as the spin of the electron (just as on the surface of a topological insulator).\n",
    "\n",
    "Next we try the usual thing we would do with a two-dimensional Dirac cone - namely try to see what we get when we gap it out by applying a magnetic field $\\bf\\sigma\\cdot B$. Adding such a term, we find that the Hamiltonian is transformed as \n",
    "\n",
    "$$H({\\bf k})\\rightarrow H({\\bf k})+{\\bf\\sigma\\cdot B}={\\bf\\sigma\\cdot (k+B)}.$$\n",
    "\n",
    "The key observation here is that the addition of a magnetic field effectively shifts the wave-vector as \n",
    "\n",
    "$${\\bf k}\\rightarrow \\tilde{\\bf k}={\\bf k+ B}.$$\n",
    "\n",
    "> So applying the most general perturbation we can think of does not gap the Weyl point where the energy vanishes, but rather only shifts it around in momentum space. This feels like some kind of topological protection."
   ]
  },
  {
   "cell_type": "code",
   "execution_count": null,
   "metadata": {
    "collapsed": false
   },
   "outputs": [],
   "source": [
    "sys = Weyl_slab(w=15)\n",
    "par = SimpleNamespace(t=1.0, mu=2.0)\n",
    "def Weyl_plot(**kwargs):\n",
    "    par.__dict__.update(kwargs)\n",
    "    fig, ax = plot_dispersion(sys, par, kx=[-np.pi, 0], ky=[-np.pi, np.pi])\n",
    "    ax.set_title('Weyl semimetal, $\\mu = %1.1f$' % par.mu)\n",
    "    ax.set_zlabel('$E$')\n",
    "    ax.set_xticks([-np.pi, 0])\n",
    "    ax.set_xticklabels(['$-\\pi$', '$0$'])\n",
    "    ax.set_xlabel('$k_x$')\n",
    "    ax.set_yticks([-np.pi, np.pi])\n",
    "    ax.set_yticklabels(['$-\\pi$', '$\\pi$'])\n",
    "    ax.set_ylabel('$k_y$')\n",
    "    ax.set_zticks([])\n",
    "    return fig\n",
    "\n",
    "StaticInteract(lambda mu: Weyl_plot(mu=0.4*mu), mu=RangeWidget(-1, 5))"
   ]
  },
  {
   "cell_type": "markdown",
   "metadata": {},
   "source": [
    "Is there a sense in which Weyl points are \"topological\"? They are clearly protected - so is there some topological reason for it. As in the rest of this section, the topology of gapless system becomes apparent by looking at the Hamiltonian on lower dimensional subspaces of the momentum space. For the case of Weyl, the momentum space is three dimensional, so it is natural to try two dimensional subspaces of the momentum space.\n",
    "\n",
    "The most natural subspace to choose is to fix $k_z=m$ the Weyl Hamiltonian becomes that of a massive 2D Dirac cone\n",
    "\n",
    "$$H_{2D,Dirac}(k_x,k_y;m)\\equiv H(k_x,k_y,k_z=m)=(\\sigma_x k_x+\\sigma_y k_y+m\\sigma_z).$$\n",
    "\n",
    "As we talked about in week 4, with Chern insulators, massive Dirac model had a Chern number, which would change by $1$ if $m$ changed sign. \n",
    "\n",
    "> So we can think of the Weyl Hamiltonian in the momentum planes for $k_z<0$ and $k_z>0$ as Chern insulators with Chern numbers $n_{Ch}=0$ (i.e. trivial) and $n_{Ch}=1$ (topological).  The Hamiltonian at $k_z=0$ is at the phase transition point of the Chern insulator, which supports a gapless Dirac point."
   ]
  },
  {
   "cell_type": "markdown",
   "metadata": {},
   "source": [
    "Systems with Weyl points are known as Weyl semi-metals. Just like other topological phases, have as an interesting surface spectrum. We can understand this easily by viewing the Weyl point as a stack of Chern insulators in momentum space. For any surface in a plane that contains the $z$-axis, we can treat $k_z$ as a conserved quantity. At this $k_z=m$, the Hamiltonian is just that of a Chern insulator with an appropriate Chern number. For the range of $k_z$ where the Chern number $n_{Ch}(k_z)=1$, the surface spectrum supports chiral edge states with an energy approximated at low energy by \n",
    "\n",
    "$$E(k_x,k_z)\\approx v(k_z)k_x.$$\n",
    "\n",
    "We can consider the edge states over a range of $k_z$ together to visualize the \"surface states\". \n",
    "\n",
    "> The unique property of the surface states is that if we set $k_x=0$ then the energy vanishes on a line in the surface spectrum. This line actually terminates at $k_z=0$, where the Chern number changes. Such lines that are referred to as \"Fermi arcs\", are the unique bounday properties (hence the bulk-boundary correspondence) for the Weyl semimetal."
   ]
  },
  {
   "cell_type": "markdown",
   "metadata": {},
   "source": [
    "At large enough $k_z$, the two dimensional Hamiltonian $H_{2D,Dirac}(k_x,k_y;k_z)$ becomes trivial i.e. $n_{Ch}(|k_z|\\rightarrow \\infty)=0$. This means that if the Chern number $n_{Ch}=1$ in a range of $k_z$, then $n_{Ch}(k_z)$ must change twice resulting in two Weyl points. So Weyl points come in pairs. These points map onto the ends of the Fermi arcs on the surface. "
   ]
  },
  {
   "cell_type": "code",
   "execution_count": null,
   "metadata": {
    "collapsed": false
   },
   "outputs": [],
   "source": [
    "question = r\"What protects the surface state of Weyl semi-metals from scattering inside the bulk Weyl point?\"\n",
    "\n",
    "answers = [\"Chiral symmetry.\",\n",
    "           \"The energy gap in the bulk.\",\n",
    "           \"Absence of scattering.\",\n",
    "           \"The non-zero Chern number of the bulk.\"]\n",
    "\n",
    "explanation = (r\"The bulk has gapless states due to the Weyl point. \"\n",
    "               \"Only momentum conservation therefore protects surface states from going into the bulk.\")\n",
    "\n",
    "MoocMultipleChoiceAssessment(question=question, answers=answers, correct_answer=2, explanation=explanation)"
   ]
  },
  {
   "cell_type": "markdown",
   "metadata": {},
   "source": [
    "**Questions about what you just learned? Ask them below!**"
   ]
  },
  {
   "cell_type": "code",
   "execution_count": null,
   "metadata": {
    "collapsed": false
   },
   "outputs": [],
   "source": [
    "MoocDiscussion(\"Questions\", \"Topology in gapless systems\")"
   ]
  }
 ],
 "metadata": {
  "kernelspec": {
   "display_name": "Python 2",
   "language": "python",
   "name": "python2"
  },
  "language_info": {
   "codemirror_mode": {
    "name": "ipython",
    "version": 2
   },
   "file_extension": ".py",
   "mimetype": "text/x-python",
   "name": "python",
   "nbconvert_exporter": "python",
   "pygments_lexer": "ipython2",
   "version": "2.7.10"
  }
 },
 "nbformat": 4,
 "nbformat_minor": 0
}