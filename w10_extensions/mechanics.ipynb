{
 "metadata": {
  "name": ""
 },
 "nbformat": 3,
 "nbformat_minor": 0,
 "worksheets": [
  {
   "cells": [
    {
     "cell_type": "code",
     "collapsed": false,
     "input": [
      "%run ../code/init_mooc_nb.ipy"
     ],
     "language": "python",
     "metadata": {},
     "outputs": [
      {
       "output_type": "stream",
       "stream": "stdout",
       "text": [
        "Performing the necessary imports.\n",
        "\n",
        "from __future__ import division, print_function\n",
        "import numpy as np\n",
        "import matplotlib\n",
        "import kwant\n",
        "\n",
        "import ipywidgets\n",
        "from IPython.html.widgets import interact\n",
        "from ipywidgets import StaticInteract, RangeWidget, DropDownWidget\n",
        "from IPython.display import display_html\n",
        "from matplotlib import pyplot as plt\n",
        "\n",
        "import pfaffian as pf\n",
        "from edx_components import *\n",
        "\n"
       ]
      },
      {
       "html": [
        "\n",
        "<script type=text/javascript>\n",
        "/* Add a button for showing or hiding input */\n",
        "on = \"Show input\";\n",
        "off = \"Hide input\";\n",
        "function onoff(){\n",
        "  currentvalue = document.getElementById('onoff').value;\n",
        "  if(currentvalue == off){\n",
        "    document.getElementById(\"onoff\").value=on;\n",
        "      $('div.input').hide();\n",
        "  }else{\n",
        "    document.getElementById(\"onoff\").value=off;\n",
        "      $('div.input').show();\n",
        "  }\n",
        "}\n",
        "\n",
        "/* Launch first notebook cell on start */\n",
        "function launch_first_cell (evt) {\n",
        "  if (!launch_first_cell.executed\n",
        "      && IPython.notebook.kernel\n",
        "  ) {\n",
        "    IPython.notebook.get_cells()[0].execute();\n",
        "    launch_first_cell.executed = true;\n",
        "  }\n",
        "}\n",
        "\n",
        "$([IPython.events]).on('status_started.Kernel notebook_loaded.Notebook', launch_first_cell);\n",
        "</script>\n",
        "\n",
        "<p>Press this button to show/hide the code used in the notebook:\n",
        "<input type=\"button\" class=\"ui-button ui-widget ui-state-default ui-corner-all ui-button-text-only\" value=\"Hide input\" id=\"onoff\" onclick=\"onoff();\"></p>\n",
        "<script type=text/javascript>\n",
        "$(document).ready(function (){if(!(\"IPython\" in window)){onoff();}})\n",
        "</script>"
       ],
       "metadata": {},
       "output_type": "display_data"
      },
      {
       "javascript": [
        "/**\n",
        " * Calico Jupyter Notebooks Extensions\n",
        " *\n",
        " * Copyright (c) The Calico Project\n",
        " * http://calicoproject.org/ICalico\n",
        " *\n",
        " * Released under the BSD Simplified License\n",
        " *\n",
        " **/\n",
        "\n",
        "function ip_version() {\n",
        "    if (IPython.version[0] === \"2\")\n",
        "\treturn 2;\n",
        "    else if (IPython.version[0] === \"3\")\n",
        "\treturn 3;\n",
        "    else\n",
        "\tthrow \"IPython version not supported\";\n",
        "}\n",
        "\n",
        "function break_into_sections(index) {\n",
        "    if (ip_version() === 2)\n",
        "\treturn 0;\n",
        "    var cells = IPython.notebook.get_cells();\n",
        "    var count = 0; // count below index, or -1\n",
        "    // go in reverse order to keep index accurate\n",
        "    for (var i = cells.length - 1; i > -1; i--) {\n",
        "\tvar cell = cells[i];\n",
        "\tvar rendered = cell.rendered;\n",
        "\t// consider it for breaking:\n",
        "\tif (cell.cell_type === \"markdown\") {\n",
        "\t    var text = cell.get_text();\n",
        "\t    if (text.match(/^#+Table of Contents/)) \n",
        "\t\tcontinue;\n",
        "\t    var lines = text.split(/\\n/g);\n",
        "\t    if (lines.length > 1) {\n",
        "\t\t// possibly break up\n",
        "\t\tvar state = \"ok\";\n",
        "\t\tvar current = \"\";\n",
        "\t\tvar cell_texts = [];\n",
        "\t\tfor (var line_no in lines) {\n",
        "\t\t    var line = lines[line_no];\n",
        "\t\t    if (state === \"ok\") {\n",
        "\t\t\tif (line.indexOf('```') === 0) {\n",
        "                            // set state to fence: allows for longer fences\n",
        "\t\t\t    state = line.substr(0, line.search(\"[^`]\"));\n",
        "\t\t\t    current += line + \"\\n\";\n",
        "\t\t\t} else if (line.indexOf('#') === 0) {\n",
        "\t\t\t    if (current !== \"\") {\n",
        "\t\t\t\tcell_texts.push(current.trim());\n",
        "\t\t\t    }\n",
        "\t\t\t    current = \"\";\n",
        "\t\t\t    cell_texts.push(line);\n",
        "\t\t\t} else {\n",
        "\t\t\t    current += line + \"\\n\";\n",
        "\t\t\t}\n",
        "\t\t    } else { // in block\n",
        "\t\t\tif (line.indexOf(state) === 0) {\n",
        "\t\t\t    state = \"ok\";\n",
        "\t\t\t    current += line + \"\\n\";\n",
        "\t\t\t    cell_texts.push(current.trim());\n",
        "\t\t\t    current = \"\";\n",
        "\t\t\t} else {\n",
        "\t\t\t    current += line + \"\\n\";\n",
        "\t\t\t}\n",
        "\t\t    }\n",
        "\t\t} // for\n",
        "\t\t// anything left over:\n",
        "\t\tif (current.trim() !== \"\") {\n",
        "\t\t    cell_texts.push(current.trim());\n",
        "\t\t}\n",
        "\t\tif (cell_texts.length > 1) {\n",
        "\t\t    var current_cell = IPython.notebook.get_cell(i);\n",
        "\t\t    var added = 0;\n",
        "\t\t    for (var j = 0; j < cell_texts.length; j++) {\n",
        "\t\t\tif (cell_texts[j].trim() !== \"\") {\n",
        "\t\t\t    if (added === 0) {\n",
        "\t\t\t\tcurrent_cell.set_text(cell_texts[j]);\n",
        "\t\t\t\tif (rendered) {\n",
        "\t\t\t\t    current_cell.render();\n",
        "\t\t\t\t}\t\t\t\t\t\n",
        "\t\t\t    } else {\n",
        "\t\t\t\tif (i === index) {\n",
        "\t\t\t\t    count = -1; // nope, can't do it\n",
        "\t\t\t\t} else if (i < index && count !== -1) {\n",
        "\t\t\t\t    count++;\n",
        "\t\t\t\t}\n",
        "\t\t\t\tvar new_cell = IPython.notebook.insert_cell_below(\"markdown\", i + added - 1);\n",
        "\t\t\t\tnew_cell.set_text(cell_texts[j]);\n",
        "                                if (rendered) {\n",
        "\t\t\t\t    new_cell.render();\n",
        "\t\t\t\t}\n",
        "\t\t\t    }\n",
        "\t\t\t    added++;\n",
        "\t\t\t}\n",
        "\t\t    }\n",
        "\t\t}\n",
        "\t    }\n",
        "\t}\n",
        "    }\n",
        "    return count;\n",
        "}\n",
        "\n",
        "function is_heading(cell) {\n",
        "    if (ip_version() === 2)\n",
        "\treturn (cell.cell_type === \"heading\");\n",
        "    else \n",
        "\treturn (cell.cell_type === \"markdown\" && cell.get_text().indexOf(\"#\") === 0)\n",
        "}\n",
        "\n",
        "function get_heading_text(cell) {\n",
        "    if (ip_version() === 2)\n",
        "\treturn cell.get_text();\n",
        "    else if (cell.get_text().indexOf(\"######\") === 0)\n",
        "\treturn cell.get_text().substring(6).trim();\n",
        "    else if (cell.get_text().indexOf(\"#####\") === 0)\n",
        "\treturn cell.get_text().substring(5).trim();\n",
        "    else if (cell.get_text().indexOf(\"####\") === 0)\n",
        "\treturn cell.get_text().substring(4).trim();\n",
        "    else if (cell.get_text().indexOf(\"###\") === 0)\n",
        "\treturn cell.get_text().substring(3).trim();\n",
        "    else if (cell.get_text().indexOf(\"##\") === 0)\n",
        "\treturn cell.get_text().substring(2).trim();\n",
        "    else if (cell.get_text().indexOf(\"#\") === 0)\n",
        "\treturn cell.get_text().substring(1).trim();\n",
        "    else return \"\";\n",
        "}\n",
        "\n",
        "function repeat(pattern, count) {\n",
        "    if (count < 1) return '';\n",
        "    var result = '';\n",
        "    while (count > 1) {\n",
        "        if (count & 1) result += pattern;\n",
        "        count >>= 1, pattern += pattern;\n",
        "    }\n",
        "    return result + pattern;\n",
        "}\n",
        "\n",
        "function set_heading_text(cell, text) {\n",
        "    var rendered = cell.rendered;\n",
        "    cell.unrender();\n",
        "    if (ip_version() === 2)\n",
        "\tcell.set_text(text);\n",
        "    else {\n",
        "\tvar level = get_level(cell);\n",
        "\tcell.set_text( repeat(\"#\", level) + \" \" + text)\n",
        "    }\n",
        "    if (rendered) {\n",
        "        cell.render();\n",
        "    }\n",
        "}\n",
        "\n",
        "function get_level(cell) {\n",
        "    if (ip_version() === 2)\n",
        "\treturn cell.level;\n",
        "    else if (cell.get_text().indexOf(\"######\") === 0)\n",
        "\treturn 6;\n",
        "    else if (cell.get_text().indexOf(\"#####\") === 0)\n",
        "\treturn 5;\n",
        "    else if (cell.get_text().indexOf(\"####\") === 0)\n",
        "\treturn 4;\n",
        "    else if (cell.get_text().indexOf(\"###\") === 0)\n",
        "\treturn 3;\n",
        "    else if (cell.get_text().indexOf(\"##\") === 0)\n",
        "\treturn 2;\n",
        "    else if (cell.get_text().indexOf(\"#\") === 0)\n",
        "\treturn 1;\n",
        "    else return 0;\n",
        "}\n",
        "\n",
        "function get_last_cell_index_in_section(level, index) {\n",
        "    var current = index;\n",
        "    while (IPython.notebook.is_valid_cell_index(current + 1)) {\n",
        "\tvar cell = IPython.notebook.get_cell(current + 1);\n",
        "\tif (is_heading(cell) && get_level(cell) <= level) {\n",
        "\t    return current;\n",
        "\t}\n",
        "\tcurrent++;\n",
        "    }\n",
        "    return current;\n",
        "}\n",
        "\n",
        "function get_index_level_above(level, index) {\n",
        "    var current = current = index - 1;\n",
        "    while (IPython.notebook.is_valid_cell_index(current)) {\n",
        "\tvar cell = IPython.notebook.get_cell(current);\n",
        "\tif (is_heading(cell) && get_level(cell) <= level) {\n",
        "\t    return current;\n",
        "\t}\n",
        "\tcurrent--;\n",
        "    }\n",
        "    return undefined;\n",
        "}\n",
        "\n",
        "function get_index_level_below(level, index) {\n",
        "    var current = current = index + 1;\n",
        "    while (IPython.notebook.is_valid_cell_index(current)) {\n",
        "\tvar cell = IPython.notebook.get_cell(current);\n",
        "\tif (is_heading(cell) && get_level(cell) <= level) {\n",
        "\t    return current;\n",
        "\t}\n",
        "\tcurrent++;\n",
        "    }\n",
        "    return undefined;\n",
        "}\n",
        "\n",
        "function section_label() {\n",
        "    // Label headings with numbers, or toggle them off\n",
        "    // If there is a table of contents, re-do it\n",
        "    break_into_sections();\n",
        "    var cells = IPython.notebook.get_cells();\n",
        "    var levels = [0,0,0,0,0,0];\n",
        "    var current_level = 1;\n",
        "    var flag = false;\n",
        "    var alert_text = \"\";\n",
        "    var alert_flag = false;\n",
        "    var remove_numbering = true;\n",
        "    \n",
        "    for (var i = 0; i < cells.length; i++) {\n",
        "\tvar cell = cells[i];\n",
        "\tif (is_heading(cell)) {\n",
        "\t    if (cell.get_text().match(/^#+Table of Contents/)) \n",
        "\t\tcontinue;\n",
        "\t    if (cell.get_text().match(/^#+References/)) \n",
        "\t\tcontinue;\n",
        "\t    var level = get_level(cell);\n",
        "\t    \n",
        "\t    if (level >= current_level) { //just keep incrementing\n",
        "\t\tcurrent_level = level;\n",
        "\t\tlevels[level-1]++;\n",
        "\t    } else {                    //went back a level\n",
        "\t\tlevels[current_level-1] = 0;\n",
        "\t\t\n",
        "\t\tif (current_level-level > 1) { //Skipped levels in between\n",
        "\t\t    for (var j = 1; j < current_level-level; j++) { //back-prop the zeros\n",
        "\t\t\tlevels[current_level - 1 - j] = 0;\n",
        "\t\t    }\n",
        "\t\t}\n",
        "\t\t\n",
        "\t\tlevels[level -1]++;\n",
        "\t\tcurrent_level = level;\n",
        "\t    }\n",
        "\t    \n",
        "\t    var error = false;\n",
        "\t    var error_no_begin = 0;\n",
        "\t    var error_no_end = 0;\n",
        "\t    var error_heading_label = \"\";\n",
        "\t    var heading_label = \"\"; //Generate the appropriate number for the heading\n",
        "\t    for (var k = 0; k < level; k++) {\n",
        "\t\tif (levels[k] == 0) {\n",
        "\t\t    if (!error) {\n",
        "\t\t\terror_heading_label = heading_label;\n",
        "\t\t\terror = true;\n",
        "\t\t\terror_no_begin = k;\n",
        "\t\t    } else {\n",
        "\t\t\terror_no_end = k + 2;\n",
        "\t\t    }\n",
        "\t\t}\n",
        "\t\theading_label += levels[k];\n",
        "\t\tif (level-k == 1 && level > 1) {\n",
        "\t\t    break;\n",
        "\t\t}\n",
        "\t\theading_label += \".\";\n",
        "\t    }\n",
        "\t    \n",
        "\t    if (error) {\n",
        "\t\tif (error_no_end == 0) {\n",
        "\t\t    error_no_end = error_no_begin + 2;\n",
        "\t\t}\n",
        "\t\tif (error_heading_label == \"\") {\n",
        "\t\t    if (!flag) {\n",
        "\t\t\tvar temp1 = \"Notebook begins with a Header \" + error_no_end + \" cell.\" + \"\\n\";\n",
        "\t\t\talert_text += temp1;\n",
        "\t\t\talert_flag = true;\n",
        "\t\t\tflag = true;\n",
        "\t\t    }\n",
        "\t\t} else{\n",
        "\t\t    var temp = \"You placed a Header \" + error_no_end + \" cell under a Header \" + error_no_begin + \" cell in section \" + error_heading_label +\"\\n\";\n",
        "\t\t    alert_text += temp;\n",
        "\t\t    alert_flag = true;\n",
        "\t\t}\n",
        "\t    }\n",
        "\t    \n",
        "\t    var heading_text = get_heading_text(cell);\n",
        "\t    var old_header = heading_text;\n",
        "\t    var re = /(?:\\d*\\.*)*\\s*(.*)/;\n",
        "\t    var match = heading_text.match(re);\n",
        "\t    \n",
        "\t    if (match) {\n",
        "\t\theading_text = heading_label + \" \" + match[1];\n",
        "\t    } else {\n",
        "\t\theading_text = heading_label;\n",
        "\t    }\n",
        "\t    \n",
        "\t    if (old_header != heading_text) {\n",
        "\t\tremove_numbering = false;\n",
        "\t\treplace_links(old_header, heading_text);\n",
        "\t    }\n",
        "\t    \n",
        "\t    heading_text = heading_text.trim();\n",
        "\t    set_heading_text(cell, heading_text);\n",
        "\t}\n",
        "    }\n",
        "    \n",
        "    if (alert_flag) {\n",
        "\talert(alert_text);\n",
        "    }\n",
        "    \n",
        "    if (remove_numbering) {\n",
        "\tfor (var i = 0; i < cells.length; i++) {\n",
        "\t    var cell = cells[i];\n",
        "\t    if (is_heading(cell)) {\n",
        "\t\tif (cell.get_text().match(/^#+Table of Contents/)) \n",
        "\t\t    continue;\n",
        "\t\tif (cell.get_text().match(/^#+References/)) \n",
        "\t\t    continue;\n",
        "\t\tvar heading_text = get_heading_text(cell);\n",
        "\t\told_header = heading_text;\n",
        "\t\tvar re = /(?:\\d*\\.*)*\\s*(.*)/;\n",
        "\t\tvar match = heading_text.match(re);\n",
        "\t\tif (match) {\n",
        "\t\t    heading_text = match[1];\n",
        "\t\t}\n",
        "\t\tset_heading_text(cell, heading_text);\n",
        "\t\treplace_links(old_header, heading_text);\n",
        "\t    }\n",
        "\t}\n",
        "    }\n",
        "    \n",
        "    // If there is a Table of Contents, replace it:\n",
        "    var cells = IPython.notebook.get_cells();\n",
        "    for (var i = 0; i < cells.length; i++) {\n",
        "        var cell = cells[i];\n",
        "        if (cell.cell_type == \"markdown\") {\n",
        "\t    var cell_text = cell.get_text();\n",
        "\t    var match = cell_text.match(/^#+Table of Contents/);\n",
        "\t    if (match) {\n",
        "\t\ttable_of_contents();\n",
        "\t\tbreak;\n",
        "\t    }\n",
        "\t}\n",
        "    }\n",
        "}\n",
        "\n",
        "function replace_links(old_header, new_header) {\n",
        "    // Replace an old internal link with new link\n",
        "    new_header = new_header.trim();\n",
        "    var cells = IPython.notebook.get_cells();\n",
        "    for (var i = 0; i < cells.length; i++) {\n",
        "        var cell = cells[i];\n",
        "        if (cell.cell_type == \"markdown\") {\n",
        "\t    var cell_text = cell.get_text();\n",
        "\t    // Skip over table of contents:\n",
        "\t    if (cell_text.match(/^#+Table of Contents/)) {\n",
        "\t\tcontinue;\n",
        "\t    }\n",
        "\t    var re_string = old_header;\n",
        "\t    re_string = re_string.replace(/\\\\/g, \"\\\\\\\\\");\n",
        "\t    re_string = re_string.replace(/\\//g, \"\\\\/\");\n",
        "\t    re_string = re_string.replace(/\\^/g, \"\\\\^\");\n",
        "\t    re_string = re_string.replace(/\\$/g, \"\\\\$\");\n",
        "\t    re_string = re_string.replace(/\\*/g, \"\\\\*\");\n",
        "\t    re_string = re_string.replace(/\\+/g, \"\\\\+\");\n",
        "\t    re_string = re_string.replace(/\\?/g, \"\\\\?\");\n",
        "\t    re_string = re_string.replace(/\\./g, \"\\\\.\");\n",
        "\t    re_string = re_string.replace(/\\)/g, \"%29\");\n",
        "\t    re_string = re_string.replace(/\\|/g, \"\\\\|\");\n",
        "\t    re_string = re_string.replace(/\\[/g, \"\\\\[\");\n",
        "\t    re_string = re_string.replace(/\\]/g, \"\\\\]\");\n",
        "\t    re_string = re_string.replace(/\\(/g, \"?:\\\\(|%28\");\n",
        "\t    re_string = re_string.replace(/\\s/g, \"-\");\n",
        "\t    re_string = \"(\\\\[.*\\\\](?::\\\\s*|\\\\()#)\" + re_string + \"(.*\\\\)|(.*)$)\";\n",
        "\t    \n",
        "\t    var re = new RegExp(re_string, \"gm\");\n",
        "\t    var link_text = new_header.replace(/\\s+$/g, \"\"); //Delete trailing spaces before they become \"-\"\n",
        "\t    link_text = link_text.replace(/\\(/g, \"%28\"); //Replace left parentheses with their encoding\n",
        "\t    link_text = link_text.replace(/\\)/g, \"%29\"); //Replace right parentheses with their encoding\n",
        "\t    link_text = link_text.replace(/ /g, \"-\"); //Replace all spaces with dashes to create links\n",
        "\t    \n",
        "\t    var match = cell_text.match(re);\n",
        "\t    if (match) {\n",
        "                var new_text = cell_text.replace(re, \"$1\" + link_text + \"$2\");\n",
        "                cell.unrender();\n",
        "                cell.set_text(new_text);\n",
        "                cell.render();\n",
        "\t    }\n",
        "        }\n",
        "    }\n",
        "}\n",
        "\n",
        "function find_cell(cell_type, text) {\n",
        "    // Finds first cell of cell_type that starts with text\n",
        "    // cell_type and text are interpreted as a regular expression\n",
        "    var cell = undefined;\n",
        "    var cells = IPython.notebook.get_cells();\n",
        "    for (var x = 0; x < cells.length; x++) {\n",
        "\tvar temp = cells[x];\n",
        "\tif (temp.cell_type.match(cell_type) != undefined) {\n",
        "\t    var temp_text = temp.get_text();\n",
        "\t    var re = new RegExp(\"^\" + text);\n",
        "\t    if (re.test(temp_text)) {\n",
        "\t\tcell = cells[x];\n",
        "\t\tbreak;\n",
        "\t    }\n",
        "\t}\n",
        "    }\n",
        "    return cell;\n",
        "}\n",
        "\n",
        "function table_of_contents() {\n",
        "    break_into_sections();\n",
        "    // Create and/or replace Table of Contents\n",
        "    var cells = IPython.notebook.get_cells();\n",
        "    var toc_cell = find_cell(\"markdown\", \"#+Table of Contents\");\n",
        "    // Default to top-level heading\n",
        "    var toc_text = \"#Table of Contents\\n\";\n",
        "    if (toc_cell == undefined) {\n",
        "\t//Create a new markdown cell at the top of the Notebook\n",
        "\ttoc_cell = IPython.notebook.select(0).insert_cell_below(\"markdown\"); \n",
        "    } else {\n",
        "\t// already exists:\n",
        "\ttoc_text = toc_cell.get_text().match(/^#+Table of Contents/)[0] + \"\\n\";\n",
        "    }\n",
        "    var prev_lev = 0;\n",
        "    for (var i = 0; i < cells.length; i++) {\n",
        "\tvar cell = cells[i];\n",
        "\tif (is_heading(cell)) {\n",
        "\t    if (cell.get_text().match(/^#+Table of Contents/)) \n",
        "\t\tcontinue;\n",
        "\t    if (cell.get_text().match(/^#+References/)) \n",
        "\t\tcontinue;\n",
        "\t    if (get_level(cell) - prev_lev > 1) { //Skipped levels. Enter Dummy levels\n",
        "\t\tfor (var x = 0; x < ((get_level(cell) - prev_lev) - 1); x++) {\n",
        "\t\t    for (var y = 0; y < (prev_lev + x); y++) {\n",
        "\t\t\ttoc_text += \"\\t\";\n",
        "\t\t    }\n",
        "\t\t    toc_text += \"* &nbsp;\\n\";\n",
        "\t\t}\n",
        "\t    }\n",
        "\t    var cell_text = get_heading_text(cell);\n",
        "\t    for (var j = 0; j < get_level(cell) -1; j++) { //Loop to add the proper amount of tabs based on header level\n",
        "\t\ttoc_text += \"\\t\";\n",
        "\t    }\n",
        "\t    toc_text += \"* [\";\n",
        "\t    toc_text += cell_text;\n",
        "\t    toc_text += \"](#\";\n",
        "\t    var link_text = cell_text.replace(/\\s+$/g, \"\"); //Delete trailing spaces before they become \"-\"\n",
        "\t    link_text = link_text.replace(/\\(/g, \"%28\"); //Replace left parentheses with their encoding\n",
        "\t    link_text = link_text.replace(/\\)/g, \"%29\"); //Replace right parentheses with their encoding\n",
        "\t    link_text = link_text.replace(/ /g, \"-\"); //Replace all spaces with dashes to create links\n",
        "\t    toc_text += link_text;\n",
        "\t    toc_text += \")\\n\";\n",
        "\t    prev_lev = get_level(cell);\n",
        "\t}\n",
        "    }\n",
        "    toc_cell.unrender();\n",
        "    toc_cell.set_text(toc_text);\n",
        "    toc_cell.render();\n",
        "}\n",
        "$([IPython.events]).on('status_started.Kernel notebook_loaded.Notebook', table_of_contents);"
       ],
       "metadata": {},
       "output_type": "display_data"
      }
     ]
    },
    {
     "cell_type": "markdown",
     "metadata": {},
     "source": [
      "#Table of Contents\n",
      "* [Introduction](#Introduction)\n",
      "* [Section topic](#Section-topic)\n",
      "* [Section topic](#Section-topic)\n",
      "* [Section topic](#Section-topic)\n",
      "* [Conclusions](#Conclusions)\n"
     ]
    },
    {
     "cell_type": "markdown",
     "metadata": {},
     "source": [
      "**No content above this line is visible in edX**"
     ]
    },
    {
     "cell_type": "heading",
     "level": 1,
     "metadata": {},
     "source": [
      "Introduction"
     ]
    },
    {
     "cell_type": "markdown",
     "metadata": {},
     "source": [
      "This topic is introduced by Vincenzo Vitelli from Leiden University."
     ]
    },
    {
     "cell_type": "code",
     "collapsed": false,
     "input": [
      "MoocVideo(\"\", src_location=\"10.2-intro\")"
     ],
     "language": "python",
     "metadata": {},
     "outputs": []
    },
    {
     "cell_type": "heading",
     "level": 1,
     "metadata": {},
     "source": [
      "Kinks and anti-kinks"
     ]
    },
    {
     "cell_type": "markdown",
     "metadata": {},
     "source": [
      "Let's consider the chain you saw in the video, which is represented in the figure below.\n",
      "\n",
      "![](figures/chain_scheme.png)"
     ]
    },
    {
     "cell_type": "markdown",
     "metadata": {},
     "source": [
      "In the figure, the red dashed lines represent springs and the green arrows the vibrational eigevectors. The rigid rotors are in black and, while the blue dots are point masses of magnitude $m$.\n",
      "\n",
      "As you can see in the bulk (consider the system with periodic boundary conditions, i.e. on a closed ring) there are an equal number of degrees of freedom (the rotors) as there are constraints (the number of springs). If you cut the ring, you remove one constraint and now there is a zero energy mode in the system.\n",
      "\n",
      "The constraint counting does not tell you where the mode will be located but if you write the dynamical matrix and find the zero eigenmode, as Kane and Lubensky did, you will learn that the zero mode (whose eigenvectors are represented in the figure as green arrows) is localized at the edge towards which the rotors are pointing. Note that we are tacitly assuming that the vibrational modes of this structure are gapped. Convince yourself that this is the case provided that the angle of repose labeled by $\\bar{\\theta}$ is different from zero. "
     ]
    },
    {
     "cell_type": "markdown",
     "metadata": {},
     "source": [
      "We shall now show that the zero mode localized at the edge is a time snaphot of a non-linear object, the kink that separates regions of left and right leaning rotors, a bit like a domain wall in an Ising model. See the following figure:\n",
      "![](figures/kink.png)"
     ]
    },
    {
     "cell_type": "markdown",
     "metadata": {},
     "source": [
      "To see that, it is easier to consider the constraint equation $\\delta{l_{n,n+1}}=0$ that demands that the\n",
      "springs between any two rotors are not stretched. This is certainly the case for the rigid bar systems shown in the video which\n",
      "correspond to the limit of infinite spring constant; such systems are called linkages.  \n",
      "\n",
      "In terms of the parameters defined in the first figure, the constraint equation $l^2_{n,n+1}=\\bar{l}^2$ reads\n",
      "\n",
      "$$\n",
      "\\cos(\\theta _{n} + \\theta _{n+1}) - \\cos(2\\bar{\\theta}) + \\frac{a}{r}(\\sin\\theta _{n} - \\sin\\theta _{n+1})=0.\n",
      "$$\n",
      "\n",
      "To take the continuum limit of the above equation, we define a slowly-varying angular field $\\theta (x)$ and subsequently define the field $u(x)=r\\sin\\theta (x)$ (the $x$-component of the position of the mass). When $r/a$ is sufficiently small, the above equation yields,\n",
      "\n",
      "$$\n",
      "\\frac{a^2}{2}\\frac{du}{dx} = u^2-\\bar{u}^2,\n",
      "$$\n",
      "\n",
      "where $\\bar u\\equiv |r\\sin\\bar\\theta|>0$. Besides the uniform left- and right-leaning solutions\n",
      "$u(x)=\\pm \\bar u$, this equation admits only one *zero-energy* solution (for $u<\\bar{u}$) given by the kink \n",
      "\n",
      "$$\n",
      "u(x) = \\bar u\\tanh\\left(\\frac{x-x_0}{w_0}\\right),\n",
      "$$\n",
      "\n",
      "where $w_0=a^2/2\\bar u=a/d$ is the width of the static domain wall that interpolates between left-leaning ($u<0$ as $x\\rightarrow-\\infty$) and right-leaning ($u>0$ as $x\\rightarrow+\\infty$) states."
     ]
    },
    {
     "cell_type": "code",
     "collapsed": false,
     "input": [
      "question = r\"What happens to the kink width when the gap closes?\"\n",
      "\n",
      "answers = [\"It goes to zero.\",\n",
      "           \"It does not vary.\",\n",
      "           \"It diverges.\",\n",
      "           \"The kink becomes an antikink.\"]\n",
      "\n",
      "explanation = (\"EXPLANATION TO BE ADDED.\")\n",
      "\n",
      "MoocMultipleChoiceAssessment(question=question, answers=answers, correct_answer=0, explanation=explanation)"
     ],
     "language": "python",
     "metadata": {},
     "outputs": [
      {
       "html": [
        "<h4>What happens to the kink width when the gap closes?</h4><form><input type=\"radio\" name=\"answer\" value=\"It goes to zero.\">It goes to zero.<br><input type=\"radio\" name=\"answer\" value=\"It does not vary.\">It does not vary.<br><input type=\"radio\" name=\"answer\" value=\"It diverges.\">It diverges.<br><input type=\"radio\" name=\"answer\" value=\"The kink becomes an antikink.\">The kink becomes an antikink.<br></form>\n",
        "        <button title=\"Click to show/hide content\" type=\"button\"\n",
        "        onclick=\"if(document.getElementById('1f7cfaa6e3ace45dbe686b9a07aa11b1')\n",
        "         .style.display=='none') {document.getElementById('1f7cfaa6e3ace45dbe686b9a07aa11b1')\n",
        "         .style.display=''}else{document.getElementById('1f7cfaa6e3ace45dbe686b9a07aa11b1')\n",
        "         .style.display='none'}\">Show answer</button>\n",
        "\n",
        "        <div id=\"1f7cfaa6e3ace45dbe686b9a07aa11b1\" style=\"display:none\">The correct answer is: <br>It goes to zero.<br><i>EXPLANATION TO BE ADDED.</i></div>"
       ],
       "metadata": {},
       "output_type": "pyout",
       "text": [
        "MoocMultipleChoiceAssessment(**{'display_name': 'Question', 'correct_answer': 0, 'explanation': 'EXPLANATION TO BE ADDED.', 'question': 'What happens to the kink width when the gap closes?', 'answers': ['It goes to zero.', 'It does not vary.', 'It diverges.', 'The kink becomes an antikink.'], 'max_attempts': 2})"
       ]
      }
     ]
    },
    {
     "cell_type": "heading",
     "level": 1,
     "metadata": {},
     "source": [
      "Title 2"
     ]
    },
    {
     "cell_type": "markdown",
     "metadata": {},
     "source": [
      "The chain is simple enough that you can explicitly obtain a continuum Lagrangian in the limit $l(x)\\approx\\bar{l}$ and $\\bar{\\theta}\\ll 1$, which reads:\n",
      "\n",
      "$$\n",
      "\\mathcal{L}=\\int dx \\left[\\frac{1}{2}M\\left(\\frac{\\partial\n",
      "u}{\\partial t}\\right)^2 -\n",
      "\\frac{1}{2}K\\frac{a^4}{4}\\left(\\frac{\\partial u}{\\partial\n",
      "x}\\right)^2 -\\frac{1}{2}K(\\bar u^2-u^2)^2 - \\frac{1}{2} K \\frac{a^2}{2}(\\bar\n",
      "u^2-u^2)\\frac{\\partial u}{\\partial x}\\right].\n",
      "$$\n",
      "\n",
      "In addition to the ordinary $\\phi^4$ potential, $\\mathcal{L}$ has an additional term linear in $\\partial_x u$ that is topological in the sense that it integrates to the boundary.\n",
      "\n",
      "It ensures that the static kink has zero energy since the last three terms in Eq.\\ (\\ref{lagrangian2}) can be written as a perfect square that vanishes for the static kink solution in Eq.\\ (\\ref{phi4_1}) (this is sometimes called a BPS state). The topological boundary term does not affect the equations of motions in the bulk but it breaks the $\\partial_x u \\rightarrow\n",
      "-\\partial_x u$ symmetry of the ordinary $\\phi^4$ theory.\n",
      "\n",
      "That's why the two edges are not equivalent in terms of initiating the kink motion. The anti-kink solution of Eq.\\ (\\ref{lagrangian2}) (with left- and right-leaning states reversed in space) costs a finite stretching energy. Hence, the anti-kink is forbidden in the linkage limit, where $k_e \\rightarrow \\infty$ and only solutions of Eq.\\ (\\ref{phi4_1}) are admitted. The anti-kink would require an opposite choice of sign in front of the topological boundary term.\n",
      "\n",
      "As discussed in the introductory video, however, something that behaves like an antikink can be obtained if we stick in the system a bar much longer than the others. This is shown in the following figure: "
     ]
    },
    {
     "cell_type": "markdown",
     "metadata": {},
     "source": [
      "![](figures/antikink.png)"
     ]
    },
    {
     "cell_type": "markdown",
     "metadata": {},
     "source": [
      "Rather than analyzing mathematically the dynamics of the Lagrangian above, watch the two videos below that\n",
      "show the motion in the linkage limit."
     ]
    },
    {
     "cell_type": "code",
     "collapsed": false,
     "input": [
      "MoocVideo(\"_CmB2akd1i0\")"
     ],
     "language": "python",
     "metadata": {},
     "outputs": [
      {
       "html": [
        "\n",
        "        <iframe\n",
        "            width=\"400\"\n",
        "            height=300\"\n",
        "            src=\"https://www.youtube.com/embed/_CmB2akd1i0\"\n",
        "            frameborder=\"0\"\n",
        "            allowfullscreen\n",
        "        ></iframe>\n",
        "        "
       ],
       "metadata": {},
       "output_type": "pyout",
       "text": [
        "MoocVideo(**{'download_video': 'true', 'display_name': '', 'youtube': '1.00:_CmB2akd1i0', 'show_captions': 'true', 'youtube_id_1_0': '_CmB2akd1i0', 'download_track': 'true'})"
       ]
      }
     ]
    },
    {
     "cell_type": "code",
     "collapsed": false,
     "input": [
      "MoocVideo(\"_wviP6Hmp2Q\")"
     ],
     "language": "python",
     "metadata": {},
     "outputs": [
      {
       "html": [
        "\n",
        "        <iframe\n",
        "            width=\"400\"\n",
        "            height=300\"\n",
        "            src=\"https://www.youtube.com/embed/_wviP6Hmp2Q\"\n",
        "            frameborder=\"0\"\n",
        "            allowfullscreen\n",
        "        ></iframe>\n",
        "        "
       ],
       "metadata": {},
       "output_type": "pyout",
       "text": [
        "MoocVideo(**{'download_video': 'true', 'display_name': '', 'youtube': '1.00:_wviP6Hmp2Q', 'show_captions': 'true', 'youtube_id_1_0': '_wviP6Hmp2Q', 'download_track': 'true'})"
       ]
      }
     ]
    },
    {
     "cell_type": "markdown",
     "metadata": {},
     "source": [
      "If you are curious about the mathematical details and a systematic study of the dynamics in the springs-rotors system, you can check out the following paper: "
     ]
    },
    {
     "cell_type": "code",
     "collapsed": false,
     "input": [
      "PreprintReference('', description=\"\", show_abstract=False)"
     ],
     "language": "python",
     "metadata": {},
     "outputs": []
    },
    {
     "cell_type": "markdown",
     "metadata": {},
     "source": [
      "Note that with different geometrical parameters, the same chain above can realize the sine-Gordon Lagrangian. As before, check out the following movie:"
     ]
    },
    {
     "cell_type": "code",
     "collapsed": false,
     "input": [
      "MoocVideo(\"m7_Ig9M0VpQ\")"
     ],
     "language": "python",
     "metadata": {},
     "outputs": [
      {
       "html": [
        "\n",
        "        <iframe\n",
        "            width=\"400\"\n",
        "            height=300\"\n",
        "            src=\"https://www.youtube.com/embed/m7_Ig9M0VpQ\"\n",
        "            frameborder=\"0\"\n",
        "            allowfullscreen\n",
        "        ></iframe>\n",
        "        "
       ],
       "metadata": {},
       "output_type": "pyout",
       "text": [
        "MoocVideo(**{'download_video': 'true', 'display_name': '', 'youtube': '1.00:m7_Ig9M0VpQ', 'show_captions': 'true', 'youtube_id_1_0': 'm7_Ig9M0VpQ', 'download_track': 'true'})"
       ]
      }
     ]
    },
    {
     "cell_type": "markdown",
     "metadata": {},
     "source": [
      "The following reference contains hints on how to build this structure with LEGO - plus of course all the mathematical details!"
     ]
    },
    {
     "cell_type": "code",
     "collapsed": false,
     "input": [
      "PreprintReference('', description=\"\", show_abstract=False)"
     ],
     "language": "python",
     "metadata": {},
     "outputs": [
      {
       "metadata": {},
       "output_type": "pyout",
       "text": [
        "<edx_components.PreprintReference at 0x1120b63d0>"
       ]
      }
     ]
    },
    {
     "cell_type": "markdown",
     "metadata": {},
     "source": [
      "At this point we could expand around the kink solution and find a zero mode localized at its center where the gap closes, as demonstrated in the introductory video. Such a zero mode allows the kink to translate as shown in the linkage video. For now we will simply remark that if one views the orientation along which the rotors lean as a mechanical polarization, then there will be an excess positive ``charge'' corresponding to a soft mode at the kink center (see Fig. 2) and a negative one at the anti-kink (see Fig. 3). Never mind if this electrostatic analogy is not yet clear, we will return to it and show that the antikink harbours a state of self stress, a dual state to the zero mode.  "
     ]
    },
    {
     "cell_type": "markdown",
     "metadata": {},
     "source": [
      "Before doing that we need to review the Maxwell count which is a **global** relation that stipulates that the number of zero modes $n_\\text{m}$, present in an arbitrary mechanical structure, is simply given by the difference between the number of degress of freedom minus the number of **independent** constraints.\n",
      "\n",
      "For simplicity, assume that the mechanical structure under examination can be viewed as a network composed of $N_\\text{s}$ sites (eg. point masses) connected by $N_\\text{b}$ central force bonds (eg. springs or rigid beams) in $d$ dimensions. In this case, the number of degrees of freedom is given by $d N_\\text{s}$ and the **total** number of constraints is simply $N_\\text{b}$. The number of **redundant** constraints (also known as states of self stress) present in the structure is denoted by $n_{ss}$. The Maxwell criterion then reads\n",
      "\n",
      "$$\n",
      "d N_\\text{s} - N_\\text{b} = n_{m} - n_{ss}\n",
      "$$\n",
      "\n",
      "Let's apply this equation to the following examples of mechanical structures:"
     ]
    },
    {
     "cell_type": "markdown",
     "metadata": {},
     "source": [
      "![](figures/modecount.png)"
     ]
    },
    {
     "cell_type": "markdown",
     "metadata": {},
     "source": [
      "Note that on the left panel there are 4 sites in 2 dimensions, hence 8 degrees of freedom. There are also 4 bonds which leaves 4 soft modes, as prescribed by the Maxwell count. You can easily verify that there are 2 trivial translational and 1 rotational zero modes plus 1 non-trivial zero mode.\n",
      "\n",
      "If you add two extra bonds along the diagonals, as in the right panel, the left hand side of the Maxwell count gives 2. Now, the 3 translations and rotations are still there, the non-trivial zero mode is no longer present but there is one redundant constraint or state of self stress. The difference between the 3 trivial zero modes and the state of self stress gives\n",
      "indeed 2, again as expected from Eq. 1. Here we will call **isostatic** structures for which the left hand side of the Maxwell count is zero.\n",
      "\n",
      "(Note that this is an abuse of terminology.  Strictly speaking, isostatic\n",
      "structures have $dN_{\\text{s}}-n_{m,\\text{triv}}=N_\\text{b}$ and $n_{ss}=0$, where\n",
      "$n_{m,\\text{triv}}$ is the number of translations and rotations in $d$\n",
      "dimensions.)\n",
      "\n",
      "As a simple test of your knowledge, consider the following question whose answer will prove handy later."
     ]
    },
    {
     "cell_type": "code",
     "collapsed": false,
     "input": [
      "question = (r\"What is the number of bonds $z_c$ emanating from each node in a $d$-dimensional isostatic structure\"\n",
      "            \"where all nodes have the same number of bonds (neglecting boundaries)?\")\n",
      "\n",
      "answers = [r\"$z_c=d$.\",\n",
      "           r\"$z_c=2d$.\",\n",
      "           r\"$z_c=d(d-1)$.\",\n",
      "           r\"$z_c=d^2$.\"]\n",
      "\n",
      "explanation = (\"EXPLANATION TO BE ADDED.\")\n",
      "\n",
      "MoocMultipleChoiceAssessment(question=question, answers=answers, correct_answer=1, explanation=explanation)"
     ],
     "language": "python",
     "metadata": {},
     "outputs": [
      {
       "html": [
        "<h4>What is the number of bonds $z_c$ emanating from each node in a $d$-dimensional isostatic structurewhere all nodes have the same number of bonds (neglecting boundaries)?</h4><form><input type=\"radio\" name=\"answer\" value=\"$z_c=d$.\">$z_c=d$.<br><input type=\"radio\" name=\"answer\" value=\"$z_c=2d$.\">$z_c=2d$.<br><input type=\"radio\" name=\"answer\" value=\"$z_c=d(d-1)$.\">$z_c=d(d-1)$.<br><input type=\"radio\" name=\"answer\" value=\"$z_c=d^2$.\">$z_c=d^2$.<br></form>\n",
        "        <button title=\"Click to show/hide content\" type=\"button\"\n",
        "        onclick=\"if(document.getElementById('aed8809beac9f8e2682f99438dae3cae')\n",
        "         .style.display=='none') {document.getElementById('aed8809beac9f8e2682f99438dae3cae')\n",
        "         .style.display=''}else{document.getElementById('aed8809beac9f8e2682f99438dae3cae')\n",
        "         .style.display='none'}\">Show answer</button>\n",
        "\n",
        "        <div id=\"aed8809beac9f8e2682f99438dae3cae\" style=\"display:none\">The correct answer is: <br>$z_c=2d$.<br><i>EXPLANATION TO BE ADDED.</i></div>"
       ],
       "metadata": {},
       "output_type": "pyout",
       "text": [
        "MoocMultipleChoiceAssessment(**{'display_name': 'Question', 'correct_answer': 1, 'explanation': 'EXPLANATION TO BE ADDED.', 'question': 'What is the number of bonds $z_c$ emanating from each node in a $d$-dimensional isostatic structurewhere all nodes have the same number of bonds (neglecting boundaries)?', 'answers': ['$z_c=d$.', '$z_c=2d$.', '$z_c=d(d-1)$.', '$z_c=d^2$.'], 'max_attempts': 2})"
       ]
      }
     ]
    },
    {
     "cell_type": "markdown",
     "metadata": {},
     "source": [
      "Why do we call redundant constraints with the weird name *states of self stress*?\n",
      "\n",
      "Consider the example in the right panel of the figure, and note that if you apply a suitable distribution of stresses (e.g. tension or compression) in the bonds the structure will still remain in static equilibrium. States of self stress are assignments of tensions or compressions to (some of) the bonds that do not result in net forces on the nodes. As such they are *dual* to the zero energy mechanical modes which are displacements of some of the sites that do not result in tensions or compressions of the bonds (that's why they cost zero elastic energy).\n",
      "\n",
      "This relation between states of self stress and zero modes can be made more precise by introducing the rigidity, or compatibility, matrix $R_{ij}$ that describes the small distortions of the mechanical structure captured by linear elastic theories. This $R$ matrix relates the bond extensions $e_i = R_{ij} u_j$ to the site displacements $u_j$. \n",
      "\n",
      "The zero energy modes are members of the null space of $R_{ij}$, which in an isostatic system are also the (right) eigenvectors of $R_{ij}$ with eigenvalue 0. (Convince yourself that the rigidity matrix is square for an isostatic system.)\n",
      "\n",
      "Conversely the states of self stress are the zero eigenvectors  of the transpose matrix $R^{T}$ that relates the forces on the nodes to the tensions in the bonds. The Maxwell count equation follows from the rank-nullity theorem and can be expressed as an index theorem. (We refer the reader interested in a careful proof and statement of these results to Ref[1-2] in the suggested readings.)\n",
      "\n",
      "Here we merely remark that if one smoothly deforms the network without cutting bonds or adding sites then the left hand side of the Maxwell count does not change. This means that after such a smooth deformation, the difference between the number of zero modes and states of self stress must remain invariant even if $n_m$ and $n_{ss}$ change individually. In this sense the isostatic condition can be viewed as a charge neutrality condition. As we shall see,  this electrostatic analogy is far reaching. We will now turn our attention to periodic mechanical structures that are isostatic, hence \u2018\u2018charge neutral\u2019\u2019, but mechanically polarized so that edge modes can appear at the sample boundary like charges in an electrically polarized medium.\n",
      "\n",
      "The first step is to set up a topological band theory of vibrational modes by defining the Fourier-transformed rigidity matrix $R(\\mathbf{k})$ whose determinant is complex: $\\det R(\\mathbf{k}) \\equiv |\\det R(\\mathbf{k})|e^{i\\phi(\\mathbf{k})}$. Consider now for simplicity a two dimensional lattice whose phonons are gapped away from the $\\Gamma$ point, like the twisted Kagome lattice shown at the end of the introductory video. \n",
      "\n",
      "Two winding numbers,\n",
      "$n_i=\\{n_1,n_2\\}$, of $\\phi(\\mathbf{k})$ can be evaluated using\n",
      "\n",
      "$$\n",
      "n_i=- \\frac{1}{2\\pi}\\oint_{C_i}d\\mathbf{k}\\cdot\\nabla_\\mathbf{k}\n",
      "\\phi(\\mathbf{k})\n",
      "$$\n",
      "\n",
      "along the two cycles $\\{C_1,C_2\\}$ of the Brillouin zone corresponding to the reciprocal lattice directions orthogonal to the basis vector $\\{\\mathbf{a}_1,\\mathbf{a}_2\\}$ of the lattice. The winding numbers are invariants of the gapped lattice; smooth\n",
      "deformations do not change $n_i$ unless the lattice becomes untwisted and the phonon gap closes along a line in the Brillouin zone. We can now define the topological polarization\n",
      "\n",
      "$$\n",
      "\\mathbf{P}_T   = \\sum_i n_i \\mathbf{a}_i.\n",
      "$$\n"
     ]
    },
    {
     "cell_type": "markdown",
     "metadata": {},
     "source": [
      "For example the the topological polarization of the deformed Kagome lattice is $\\mathbf{P}_T = \\mathbf{a}_1$ in terms of the primitive vectors $\\mathbf{a}_i$ indicated in the following figure:"
     ]
    },
    {
     "cell_type": "markdown",
     "metadata": {},
     "source": [
      "![](figures/kagome.png)"
     ]
    },
    {
     "cell_type": "markdown",
     "metadata": {},
     "source": [
      "Kagome lattice built of plastic triangles with two dislocation defects (green/orange) triangles incorporated into the structure. The perfect repeating lattice has a topological polarization $\\mathbf{P}_T=\\mathbf{a}_1$ in terms of the primitive vectors $\\mathbf{a}_i$. The dislocation dipole moments $\\mathbf{d}_L$ and $\\mathbf{d}_R$ are also shown."
     ]
    },
    {
     "cell_type": "markdown",
     "metadata": {},
     "source": [
      "Kane and Lubensky~\\cite{kanelubensky} proved that the number of topological zero modes (i.e. modes that arise without adding or removing bonds anywhere in the structure) minus the number of topological states of self stress, $\\nu_\\text{T}$, in any lattice subsystem bounded by $\\cal C$ is given by\n",
      "\n",
      "$$\n",
      "\\nu_\\text{T} = \\oint_{\\cal C} \\frac{d^{d-1}S}{V_\\text{cell}} \\mathbf{P}_T  \\cdot\\hat{n},\n",
      "$$\n",
      "\n",
      "where $\\hat{n}$ is the inward-pointing normal to the boundary, and $V_\\text{cell}$ is the $d$-dimensional volume of the unit cell.\n",
      "\n",
      "Notice that this result applies to a **patch** of the material, unlike the original Maxwell count which is a **global** statement. It can be understood intuitively with the aid of the electrostatic analogy to polarized media. Just as Gauss's law yields the net charge enclosed in a region from the flux of the *electric* polarization through its boundary, the net \n",
      "value of $\\nu_\\text{T}$ in an arbitrary portion of an isostatic lattice is given by the flux of the *topological* polarization through its boundary. \n",
      "\n",
      "Watch now the following video that explains visually how to insert inside a twisted Kagome lattice a topological defect called a dislocation. You encountered dislocations and disclinations in a previous lecture by Taylor Hughes. The video will show you how to localize topological zero modes or states of self stress in the interior of a lattice with defects that act as internal boundary where the gap locally closes. "
     ]
    },
    {
     "cell_type": "code",
     "collapsed": false,
     "input": [
      "MoocVideo(\"2ctvLT-b57M\")"
     ],
     "language": "python",
     "metadata": {},
     "outputs": [
      {
       "html": [
        "\n",
        "        <iframe\n",
        "            width=\"400\"\n",
        "            height=300\"\n",
        "            src=\"https://www.youtube.com/embed/2ctvLT-b57M\"\n",
        "            frameborder=\"0\"\n",
        "            allowfullscreen\n",
        "        ></iframe>\n",
        "        "
       ],
       "metadata": {},
       "output_type": "pyout",
       "text": [
        "MoocVideo(**{'download_video': 'true', 'display_name': '', 'youtube': '1.00:2ctvLT-b57M', 'show_captions': 'true', 'youtube_id_1_0': '2ctvLT-b57M', 'download_track': 'true'})"
       ]
      }
     ]
    },
    {
     "cell_type": "markdown",
     "metadata": {},
     "source": [
      "The key point in designing the lattice in the video  is that the dislocations must not change the local balance between degrees of freedom and constraints. The video shows such a dislocation, obtained by pairing a three-coordinated plaquette with a five-coordinated plaquette.\n",
      "\n",
      "Since no lattice point disclinations are used, every lattice point still has exactly four bonds emanating from it (remember the condition for isostaticity from question 1!). \n",
      "\n",
      "Each dislocation is characterized by a topological charge of its own called the Burgers vector, $\\bf b$, that measures the deficit in *any* circuit surrounding it that would be closed in a perfect lattice. The dipole moment, $\\bf d$, of the \n",
      "five- and seven-fold coordinated plaquettes (highlighted in green and orange respectively)\n",
      "is obtained upon rotating $\\bf b$ by $\\pi/2$. It points outward from the added strip of material that terminates at the dislocation, and its length is equal to the width of that strip. Therefore, $\\bf d$ quantifies the orientation and size of the effective \u2018\u2018edge\u2019\u2019 created by the dislocation. The dipole moments of the \n",
      "dislocation on the left in the video (${\\bf d}_l = (2/\\sqrt{3})({\\bf a}_1- {\\bf a}_2/2)$)  and on\n",
      "the right (${\\bf d}_r =-{\\bf d}_l$) are aligned with and against the\n",
      "lattice polarization, respectively. "
     ]
    },
    {
     "cell_type": "markdown",
     "metadata": {},
     "source": [
      "If you evaluate the flux of the topological polarization, $\\mathbf{P}_T$, through a \n",
      "contour encircling an isolated dislocation using Eq. \\ref{eqn_topologicalcount}, you obtain \n",
      "\\begin{equation}\n",
      "    \\label{eqn_count_for_b}\n",
      "    \\nu_\\text{T} =\\frac{1}{V_\\text{cell}}\\mathbf{P}_T  \\cdot  \\mathbf{d},\n",
      "\\end{equation} \n",
      "where $V_\\text{cell}$ is the unit cell area. \n",
      "The topologically protected modes arise from a delicate interplay between \n",
      "a Berry phase associated with cycles in the Brillouin zone, \n",
      "embedded in ${\\bf P}_T$ and the Berry phase of a topological \n",
      "defect in real space, represented by its Burgers vector (or \n",
      "dipole $\\mathbf{d}$). A similar interplay \n",
      "dictates the existence of localized electronic modes at dislocations in \n",
      "conventional topological insulators.\n",
      "Equation~\\eqref{eqn_count_for_b} \n",
      "gives $\\nu_\\text{T}=+1\\,(-1)$ for the left (right)\n",
      "dislocation in the deformed kagome lattice of Fig. \\ref{figkagome} and the video. The sign of $\\nu_\\text{T}$  distinguishes zero modes ($+$) or states of self stress ($-$), while its magnitude gives their numbers. "
     ]
    },
    {
     "cell_type": "code",
     "collapsed": false,
     "input": [
      "question = (\"Consider the square lattice shown in the following figure, where the primitive vectors $a_i$ \"\n",
      "            r\"are of equal length and have an angle $\\pi/2$ between them, \"\n",
      "            r\"$P_T=a_1-a_2$, $d_L = a_1-a_2$, and $d_R=-d_L$. \"\n",
      "            \"What is the topological mode count associated with the left and right dislocation respectively?\")\n",
      "\n",
      "answers = [r\"$(1,-1)$.\",\n",
      "           r\"$(-1,1)$.\",\n",
      "           r\"$(2,-2)$.\",\n",
      "           r\"$(-2,2)$.\"]\n",
      "\n",
      "explanation = (\"EXPLANATION TO BE ADDED.\")\n",
      "\n",
      "MoocMultipleChoiceAssessment(question=question, answers=answers, correct_answer=1, explanation=explanation)"
     ],
     "language": "python",
     "metadata": {},
     "outputs": [
      {
       "html": [
        "<h4>Consider the square lattice shown in the following figure, where the primitive vectors $a_i$ are of equal length and have an angle $\\pi/2$ between them, $P_T=a_1-a_2$, $d_L = a_1-a_2$, and $d_R=-d_L$. What is the topological mode count associated with the left and right dislocation respectively?</h4><form><input type=\"radio\" name=\"answer\" value=\"$(1,-1)$.\">$(1,-1)$.<br><input type=\"radio\" name=\"answer\" value=\"$(-1,1)$.\">$(-1,1)$.<br><input type=\"radio\" name=\"answer\" value=\"$(2,-2)$.\">$(2,-2)$.<br><input type=\"radio\" name=\"answer\" value=\"$(-2,2)$.\">$(-2,2)$.<br></form>\n",
        "        <button title=\"Click to show/hide content\" type=\"button\"\n",
        "        onclick=\"if(document.getElementById('b2c43ed9a62be12ee4717cb19d34f995')\n",
        "         .style.display=='none') {document.getElementById('b2c43ed9a62be12ee4717cb19d34f995')\n",
        "         .style.display=''}else{document.getElementById('b2c43ed9a62be12ee4717cb19d34f995')\n",
        "         .style.display='none'}\">Show answer</button>\n",
        "\n",
        "        <div id=\"b2c43ed9a62be12ee4717cb19d34f995\" style=\"display:none\">The correct answer is: <br>$(-1,1)$.<br><i>EXPLANATION TO BE ADDED.</i></div>"
       ],
       "metadata": {},
       "output_type": "pyout",
       "text": [
        "MoocMultipleChoiceAssessment(**{'display_name': 'Question', 'correct_answer': 1, 'explanation': 'EXPLANATION TO BE ADDED.', 'question': 'Consider the square lattice shown in the following figure, where the primitive vectors $a_i$ are of equal length and have an angle $\\\\pi/2$ between them, $P_T=a_1-a_2$, $d_L = a_1-a_2$, and $d_R=-d_L$. What is the topological mode count associated with the left and right dislocation respectively?', 'answers': ['$(1,-1)$.', '$(-1,1)$.', '$(2,-2)$.', '$(-2,2)$.'], 'max_attempts': 2})"
       ]
      }
     ]
    },
    {
     "cell_type": "markdown",
     "metadata": {},
     "source": [
      "![](figures/square.png)"
     ]
    },
    {
     "cell_type": "markdown",
     "metadata": {},
     "source": [
      "These examples show how to insert topologically protected mechanical modes anywhere you want in the lattice. These soft motions can then be activated by adding motors that can cause some desired motions that performs a task as is the case in robotic structures.\n",
      "\n",
      "In the video the activation was performed \u2018\u2018by hand\u2019\u2019. You may get the impression that only the zero modes are potentially useful and the states of self stress are merely bookeeping devices that do nothing. This is far from truth, as will be illustrated in the next video.\n",
      "\n"
     ]
    },
    {
     "cell_type": "code",
     "collapsed": false,
     "input": [
      "MoocVideo(\"fi1ZVj921dw\")"
     ],
     "language": "python",
     "metadata": {},
     "outputs": [
      {
       "html": [
        "\n",
        "        <iframe\n",
        "            width=\"400\"\n",
        "            height=300\"\n",
        "            src=\"https://www.youtube.com/embed/fi1ZVj921dw\"\n",
        "            frameborder=\"0\"\n",
        "            allowfullscreen\n",
        "        ></iframe>\n",
        "        "
       ],
       "metadata": {},
       "output_type": "pyout",
       "text": [
        "MoocVideo(**{'download_video': 'true', 'display_name': '', 'youtube': '1.00:fi1ZVj921dw', 'show_captions': 'true', 'youtube_id_1_0': 'fi1ZVj921dw', 'download_track': 'true'})"
       ]
      }
     ]
    },
    {
     "cell_type": "markdown",
     "metadata": {},
     "source": [
      "As you can see, by controlling the position of states of self stress, you can pre-select the region of a material that will fail, for example by buckling. All you have to do is to activate the self stress by pushing on the structure in the same way as you had to activate the zero modes to set them in motion.\n",
      "\n",
      "In summary, states of self stress and zero modes represent **propensities** that a structure has to respond by mechanical failure (triggered by stress concentrations) or free motion respectively. In topological mechanics we control how these states of motion or stress are positioned in a material by lattice geometry and topology, rather than variations in local properties like elastic moduli or local coordination.\n",
      "\n",
      "As a result these states are designed to be topologically robust under smooth deformations and yet tunable, e.g. you can choose where to position them by adding defects to the lattice and choose their localization properties by playing with the gap. The tunability in response to changes in lattice structure is a crucial feature that lets us exploit the properties of weak topological insulators in a mechanical context. "
     ]
    },
    {
     "cell_type": "heading",
     "level": 1,
     "metadata": {},
     "source": [
      "Conclusions"
     ]
    },
    {
     "cell_type": "code",
     "collapsed": false,
     "input": [
      "MoocVideo(\"\", src_location=\"10.2-summary\")"
     ],
     "language": "python",
     "metadata": {},
     "outputs": []
    },
    {
     "cell_type": "markdown",
     "metadata": {},
     "source": [
      "Questions about what you just learned? Ask them below!"
     ]
    },
    {
     "cell_type": "code",
     "collapsed": false,
     "input": [
      "MoocDiscussion(\"Questions\", \"Topological Mechanics\")"
     ],
     "language": "python",
     "metadata": {},
     "outputs": [
      {
       "html": [
        "<p><b>Discussion</b> entitled 'Topological Mechanics' is available in the online version of the course.</p>"
       ],
       "metadata": {},
       "output_type": "pyout",
       "text": [
        "MoocDiscussion(**{'discussion_category': 'Questions', 'discussion_target': 'Topological Mechanics', 'display_name': 'Topological Mechanics', 'discussion_id': '671148705bf54c2e72db4e510ce4a0c6'})"
       ]
      }
     ]
    }
   ],
   "metadata": {}
  }
 ]
}