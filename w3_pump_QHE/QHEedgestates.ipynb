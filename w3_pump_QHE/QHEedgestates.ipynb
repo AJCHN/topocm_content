{
 "metadata": {
  "name": ""
 },
 "nbformat": 3,
 "nbformat_minor": 0,
 "worksheets": [
  {
   "cells": [
    {
     "cell_type": "markdown",
     "metadata": {},
     "source": [
      "## Chiral edge states: bulk boundary corrrespondence in quantum hall\n",
      "\n",
      "* Landau levels in a slowly varying potential: chiral edge states\n",
      "* Chiral anomaly: Bulk-edge correspondence of the quantum Hall effect\n",
      "* Hall conductance from edge states\n",
      "* Topological quantum phase transitions and robustness to disorder "
     ]
    },
    {
     "cell_type": "heading",
     "level": 1,
     "metadata": {},
     "source": [
      "Landau levels in a slowly varying potential: chiral edge states"
     ]
    },
    {
     "cell_type": "markdown",
     "metadata": {},
     "source": [
      "* In a more realistic picture the edges of the cylinder would be described by a potential $V(x)$, which is flat in the middle of the cylinder and increases towards the end. TO DO: Schematic plot of potential.\n",
      "\n",
      "* For a slowly varying potential we can expand $$V(x)=V_0+E (x-x_0).$$ Substituting into the Landau Level Hamiltonian from the previous unit $$H=p_x^2+(\\hbar k_y-e B x/c)^2+V_0+E(x-x_0).$$ The eigenstates of this Hamiltonian are given by eigenvalues $$E_n(k_y)=n\\hbar\\omega_c+ \\dots$$ with an eigenstate wave-function $$\\psi_n(x,k_y)=\\rho_n((x-x_0-()k_y\\dots)).$$ TO DO: Plot energy as a function of $k_y$. \n",
      "\n",
      "*TO DO: Plot spectrum $E_n(k_y)$ as a function of $k_y$. Also plot LDOS as a function of $E_n(k_y)$ and $x$ with a $k_y$ bar (if possible).\n",
      "\n",
      "* Velocity of modes is given by $$v_n(k_y)=\\partial_{k_y} E_n(k_y)=\\begin{array}{c}> 0,\\quad \\textrm{ for }k_y\\ll -W\\\\\\sim 0,\\quad \\textrm{ for } |k_y|<W\\\\ < 0,\\quad \\textrm{ for }k_y\\gg W\\end{array}.$$\n",
      "The slope of the dispersion in the figure indicates the direction of propagation of the modes. From the DOS plot (and the form of the wave-function), it is clear that the states at a momentum $k_y$ are localized  at a position $$x\\sim ()k_y$$ along the cylinder. \n",
      "\n",
      "* TO DO: Draw a skipping orbit Landau level picture. An intuitive picture of how chiral edge states emerge is by considering Landau levels that skip along at the edges.\n",
      "\n",
      "> States at the left edge of the cylinder all move with a positive velocity along the cylinder and the right edge in the opposite direction. This strange state obtain at the edge, where electrons all move in one direction of the other is referred to as a \"Chiral Edge State\".\n"
     ]
    },
    {
     "cell_type": "heading",
     "level": 1,
     "metadata": {},
     "source": [
      "Chiral anomaly: Bulk-edge correspondence of the quantum Hall effect"
     ]
    },
    {
     "cell_type": "markdown",
     "metadata": {},
     "source": [
      "* We can apply an electric field  $E_y$ along the circumference of the cylinder by changing the vector potential using the relation $\\partial_t A_y=E_y$ (as in the last unit). The Hamiltonian of the system is now time-dependent as $$H(k_y,t)\\equiv H(k_y-e A_y/c)=H(k_y-e E_y t/c).$$ This effectively implies that the momentum of the electrons along the circumference of the cyilnder change as $$k_y\\rightarrow k_y-e E_y t/\\hbar,\\quad\\leftrightarrow\\quad \\frac{dp_y}{dt}=e E_y.$$ Physically, the above relation can be interpreted as effectively the Lorentz force-law.\n",
      "\n",
      "* The quantum Hall system is a many-electron system where electrons are filled up to the chemical potential $\\mu$, which is chosen to be in between two Landau level energies $$n \\hbar\\omega_c <\\mu< (n+1)\\hbar \\omega_c.$$ Since all the electrons in the bulk are quantized near the Landau levels (for clean systems), the electrons at the fermi level which can respond to the electric field are at the chemical potential are all in the chiral edge states of the cylinder.\n",
      "\n",
      "* Focusing on the electrons near the chemical potential $\\mu$, we expand the Hamiltonian near one of the edges for a small range of energy to linear order in $k_y$ as  $$E_n(k_y)=\\mu+v_n(k_{y,c})(k_y-k_{F}),$$ where the electrons at the edge move with velocity $v_n(k_y)=\\partial_{k_y} E_n(k_y)$. The wave-vector $k_{F}$ where $E_n(k_{F})=\\mu$ is referred to as a Fermi wave-vector.  the density of electrons $n=$ This is a standard low-energy approximation for the chiral edge Hamiltonian that is frequently useful to understand the response of the system to weak perturbations.\n",
      "\n",
      "* Applying an electric field $E_y$ to this Hamiltonian for a short time $\\delta t$ the energy of the electron changes from $$E_n(k_y)=v k_y\\rightarrow E_n(k_y+e E_y\\delta t)=v k_y+e E_y \\delta t v.$$ In particular electrons at the chemical potential $\\mu$ get pushed to higher chemical potential $\\mu+e E_y \\delta t v$. Thus the chemical potential of the edge increases as $$\\partial_t \\mu(t)=e E_y v.$$ Correspondingly the fermi wave-vector $k_F$ also increases as $\\partial_t k_F= e E_y/\\hbar.$ Since the allowed values of $k_y$ on the cylinder are discretized in units of $(2\\pi R)^{-1}$, the change in fermi wave-vector $k_F$ is also related to changes in density in the system as  $\\delta n = \\delta k_F$. We note that the reason we speak only of the changes in density $\\delta n$ is because to assign a density to the edge we would need to partition electrons into bulk and edge which is not strictly speaking possible. However, since the added electrons are localized at the edge we can discuss the change in density.\n",
      "\n",
      "* Since the spectrum of the cylinder is restored when one unit $\\Phi_0$ of flux is entered in the cylinder, the increased fermi -wavevector implies that the number of electrons at the edge also increases in response to the electric field as $$\\partial_t \\delta n=\\partial_t k_F=e E_y/\\hbar.$$\n",
      "\n",
      "* TO DO: add a movie for E vs k_y and occupancy increasing as a function of time.\n",
      "\n",
      "> The relation $\\partial_t n=e E_y/\\hbar$, which happens for a chiral edge state is referred to as the chiral anomaly. This contradicts the conservation of charge $n$ of an isolated system, which forces the total number density $n$ to be independent of time. This can happen in the quantum hall system because the charge appearing at one edge is depleted from the other edge. Thus, chiral edge states or anything else that exhibits a \"chiral anomaly\" are an example of the \"bulk edge correspondence\" since they can only appear at the edge of a two dimensional system and never in isolation."
     ]
    },
    {
     "cell_type": "heading",
     "level": 1,
     "metadata": {},
     "source": [
      "Hall Conductance from edge states"
     ]
    },
    {
     "cell_type": "markdown",
     "metadata": {},
     "source": [
      "* The conductance behaviour that we derived from the pumping picture for quantum hall can also be derived just by studying the edge states. To do this we consider the Hall bar in an annulus or \"Corbino geometry\" and apply a voltage difference between the two edges.\n",
      "Because of the voltage difference, the electrons at the two edges are at different chemical potentials $\\mu_L$ and $\\mu_R=\\mu_L+e V$. [Note: we will ignore Coulomb interactions for this discussion, which complicate the discussion slightly by requiring us to think about an electrochemical potential]\n",
      "* TO DO: Draw a corbino - geometry with a voltage difference between the two edges. \n",
      "\n",
      "* The situation of the different chemical potentials $\\mu_L\\neq \\mu_R$ is stable i.e. does not change in time by itself, which implies that the densities at each edge respectively $n_L$ and $n_R$ are constate. Thus, the longitudinal current which transfers charge between the edges must vanish.\n",
      "\n",
      "* The electrons at the two edges have opposite velocities $v$ and $-v$ and thus they carry current in opposite directions. Using Landauers formula, the currents carried by each edge should be $I_L=\\frac{e^2}{h}(\\mu_L-\\mu)$ and $I_R=\\frac{e^2}{h}(\\mu_R-\\mu)$. Since the edges both contribute to the Hall current in the perpendicular direction, the Hall current is written as $$I_H=\\sum_{p=1}^n I_{L,p}-I_{R,p}=\\sum_{p=1}^n\\frac{e^2}{h}V=\\frac{n e^2}{h}V.$$ \n",
      "\n",
      "> Thus, the relevant electromagnetic response i.e. the longitudinal conductivity $\\sigma_{xx}=0$ and $\\sigma_{xy}=ne^2/h$ can both be derived directly from considering the chiral edge states alone."
     ]
    },
    {
     "cell_type": "heading",
     "level": 1,
     "metadata": {},
     "source": [
      "Topological quantum phase transitions and robustness to disorder "
     ]
    },
    {
     "cell_type": "markdown",
     "metadata": {},
     "source": [
      "* The integer quantum hall effect is characterized by a quantized Hall conductance $\\sigma_{xy}=n e^2/h$ where the integer $n$ is the topological index characterizing this phase. The bulk edge correspondence is realized by there being $n$ chiral edge modes corresponding to this state.\n",
      "\n",
      "* As expected for topological phases, changing the integer $n$ that characterizes the phase requires a closing of a gap at the fermi level. This can be accomplished by tuning the chemical potential $\\mu$ from $$\\mu>  n\\omega_c \\rightarrow \\mu < n\\omega_c.$$ At the transition point at $\\mu\\sim n\\omega_c$, all the bulk Landau level states are at the chemical potential $\\mu$. This is the bulk gap closure that one expects at the phase transition, since there are gapless excitations in the bulk relative to the chemical potential. This is a model of a quantum hall phase transition.\n",
      "\n",
      "* An important question that our discussion so far has left unanswered is whether this physics is robust to arbitrary perturbations such as disorder. This question is somewhat complicated and will have to wait till 9.1 to answer completely, though we will be able to understand periodic perturbations next week. However, it should be clear that the strictly topological features such as the bulk edge correspondence arising from the chiral edge states will survive disorder. On the other hand features such as all the bulk Landau levels being at exactly the same energy, are in some sense artifacts of the specific Hamiltonian we constructed and are destroyed, so that one obtains bulk Landau levels at a range of energies. This would suggest that there are ranges of chemical potential $\\mu$ in the bulk Landau levels where the system is gapless and therefore does not have a well-defined quantum number. This turns out to be false in a subtle way that requires a careful analysis of disorder that must be left for later."
     ]
    },
    {
     "cell_type": "code",
     "collapsed": false,
     "input": [],
     "language": "python",
     "metadata": {},
     "outputs": []
    }
   ],
   "metadata": {}
  }
 ]
}