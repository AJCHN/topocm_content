{
 "metadata": {
  "name": ""
 },
 "nbformat": 3,
 "nbformat_minor": 0,
 "worksheets": [
  {
   "cells": [
    {
     "cell_type": "markdown",
     "metadata": {},
     "source": [
      "## Paper list\n",
      "\n",
      "*  arXiv:cond-mat/0602645 [pdf, ps, other]\n",
      "    Spin Filtered Edge States and Quantum Hall Effect in Graphene\n",
      "    D. A. Abanin, P. A. Lee, L. S. Levitov \n",
      "    \n",
      "* . arXiv:1201.4167 [pdf, other]\n",
      "    Spin and valley quantum Hall ferromagnetism in graphene\n",
      "    Andrea F. Young, Cory R. Dean, Lei Wang, Hechen Ren, Paul Cadden-Zimansky, Kenji Watanabe, Takashi Taniguchi, James Hone, Kenneth L. Shepard, Philip Kim \n"
     ]
    },
    {
     "cell_type": "code",
     "collapsed": false,
     "input": [],
     "language": "python",
     "metadata": {},
     "outputs": []
    }
   ],
   "metadata": {}
  }
 ]
}