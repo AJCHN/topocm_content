{
 "metadata": {
  "name": ""
 },
 "nbformat": 3,
 "nbformat_minor": 0,
 "worksheets": [
  {
   "cells": [
    {
     "cell_type": "markdown",
     "metadata": {},
     "source": [
      "## Paper list\n",
      "\n",
      "*  arXiv:cond-mat/0602645 [pdf, ps, other]\n",
      "    Spin Filtered Edge States and Quantum Hall Effect in Graphene\n",
      "    D. A. Abanin, P. A. Lee, L. S. Levitov \n",
      "    \n",
      "* \n"
     ]
    }
   ],
   "metadata": {}
  }
 ]
}