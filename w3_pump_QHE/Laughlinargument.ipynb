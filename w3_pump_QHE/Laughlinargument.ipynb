{
 "metadata": {
  "name": ""
 },
 "nbformat": 3,
 "nbformat_minor": 0,
 "worksheets": [
  {
   "cells": [
    {
     "cell_type": "code",
     "collapsed": false,
     "input": [
      "%run ../code/init_mooc_nb.ipy"
     ],
     "language": "python",
     "metadata": {},
     "outputs": [
      {
       "output_type": "stream",
       "stream": "stdout",
       "text": [
        "Performing the necessary imports.\n",
        "\n",
        "from __future__ import division, print_function\n",
        "import numpy as np\n",
        "import matplotlib\n",
        "import kwant\n",
        "\n",
        "import ipywidgets\n",
        "from IPython.html.widgets import interact\n",
        "from ipywidgets import StaticInteract, RangeWidget, DropDownWidget\n",
        "from IPython.display import display_html\n",
        "from matplotlib import pyplot as plt\n",
        "\n",
        "import pfaffian as pf\n",
        "from edx_components import *\n",
        "\n"
       ]
      },
      {
       "html": [
        "\n",
        "<script type=text/javascript>\n",
        "/* Add a button for showing or hiding input */\n",
        "on = \"Show input\";\n",
        "off = \"Hide input\";\n",
        "function onoff(){\n",
        "  currentvalue = document.getElementById('onoff').value;\n",
        "  if(currentvalue == off){\n",
        "    document.getElementById(\"onoff\").value=on;\n",
        "      $('div.input').hide();\n",
        "  }else{\n",
        "    document.getElementById(\"onoff\").value=off;\n",
        "      $('div.input').show();\n",
        "  }\n",
        "}\n",
        "\n",
        "/* Launch first notebook cell on start */\n",
        "function launch_first_cell (evt) {\n",
        "  if (!launch_first_cell.executed\n",
        "      && IPython.notebook.kernel\n",
        "  ) {\n",
        "    IPython.notebook.get_cells()[0].execute();\n",
        "    launch_first_cell.executed = true;\n",
        "  }\n",
        "}\n",
        "\n",
        "$([IPython.events]).on('status_started.Kernel notebook_loaded.Notebook', launch_first_cell);\n",
        "</script>\n",
        "\n",
        "<p>Press this button to show/hide the code used in the notebook:\n",
        "<input type=\"button\" class=\"ui-button ui-widget ui-state-default ui-corner-all ui-button-text-only\" value=\"Hide input\" id=\"onoff\" onclick=\"onoff();\"></p>\n",
        "<script type=text/javascript>\n",
        "$(document).ready(function (){if(!(\"IPython\" in window)){onoff();}})\n",
        "</script>"
       ],
       "metadata": {},
       "output_type": "display_data"
      }
     ]
    },
    {
     "cell_type": "markdown",
     "metadata": {},
     "source": [
      "## We present an argument for the robustness of the quantum hall effect for electrons: Laughlin argument\n",
      "* Observation of Quantum Hall\n",
      "* Quantized Hall conductance from pumping: Laughlin argument\n",
      "* Landau levels: microscopic model for the quantum hall effect"
     ]
    },
    {
     "cell_type": "heading",
     "level": 1,
     "metadata": {},
     "source": [
      "Introduction"
     ]
    },
    {
     "cell_type": "code",
     "collapsed": false,
     "input": [
      "MoocVideo(\"QC3tQT7MD00\")"
     ],
     "language": "python",
     "metadata": {},
     "outputs": [
      {
       "html": [
        "\n",
        "        <iframe\n",
        "            width=\"400\"\n",
        "            height=300\"\n",
        "            src=\"https://www.youtube.com/embed/QC3tQT7MD00\"\n",
        "            frameborder=\"0\"\n",
        "            allowfullscreen\n",
        "        ></iframe>\n",
        "        "
       ],
       "metadata": {},
       "output_type": "pyout",
       "text": [
        "MoocVideo(**{'download_video': 'true', 'display_name': '', 'youtube': '1.00:QC3tQT7MD00', 'show_captions': 'true', 'youtube_id_1_0': 'QC3tQT7MD00', 'download_track': 'true'})"
       ]
      }
     ]
    },
    {
     "cell_type": "heading",
     "level": 1,
     "metadata": {},
     "source": [
      "Observation of Quantum Hall conductivity"
     ]
    },
    {
     "cell_type": "markdown",
     "metadata": {},
     "source": [
      "* Metals contain mobile electrons which  carry current density $\\textbf{j}$ is in response to an electric field $\\textbf{E}$. The conductivity tensor $\\sigma_{\\alpha\\beta}$ relates the current to the applied electric field as $$j_\\alpha=\\sum_\\beta \\sigma_{\\alpha\\beta}E_{\\beta}.$$ The most familiar case of metals show a conductivity $\\sigma_{\\alpha\\beta}=\\sigma\\delta_{\\alpha\\beta}$, where $\\sigma$ is the conductivity (inverse of resistivity). However in the presence of a time-reversal symmetry breaking magnetic field one can get an anti-symmetric contribution to the conductivity $\\sigma_{xy}=-\\sigma_{yx}$ that is referred to as Hall Conductivity. \n",
      "\n",
      "* TO DO: describe observation of Quantized Hall conductance\n"
     ]
    },
    {
     "cell_type": "heading",
     "level": 1,
     "metadata": {},
     "source": [
      "Quantized Hall conductance from pumping: Laughlin argument"
     ]
    },
    {
     "cell_type": "markdown",
     "metadata": {},
     "source": [
      "# Gauge transformation from electric field to time-dependent flux\n",
      "\n",
      "* Let us now consider the Hall conductance of electrons in a magnetic field on a cylinder with an electric field $\\textbf{E}=E\\hat{y}$ applied along the circumference of the cylinder. The easiest way to apply such an electric field is to use a time-dependence of the vector potential that satisfies $$\\partial_t\\textbf{A}(t)=E\\hat{y}.$$ This can be introduced by choosing $\\Phi(t)=E R t$ in the equation for the vector potential. [TO DO: draw a cylinder with field coming out and flux]\n",
      "\n",
      "* Physically, this just corresponds to applying an electric field using a time-dependent magnetic field (Faraday's law)."
     ]
    },
    {
     "cell_type": "markdown",
     "metadata": {},
     "source": [
      "# Pumping from quantum hall conductance: Laughlin argument\n",
      "\n",
      "Why is the observed Hall conductance a robust feature?\n",
      "\n",
      "Consider the experimental system with no longitudinal conductivity and a hall conductivity $\\sigma_{xy}$. Let us suppose an electric field $E$ is applied along the circumference of the cylinder.  A current $$I=\\sigma_{xy}E 2\\pi R$$ flows along the axis of cylinder for the duration of the application of the electric field. \n",
      "\n",
      "Suppose the electric field $E$ is applied over a time $T$ so that the flux changes by $$\\Delta\\Phi=c E T=\\Phi_0=\\frac{h c}{e}.$$ The total charge flowing into the edge is then given by $$Q=I T= \\sigma_{xy} E T=\\sigma_{xy}\\frac{h}{e}.$$\n",
      "Since the charge at the edge can only change by an integer, $$Q=n e=\\sigma_{xy}h/e.$$\n",
      "\n",
      ">Such a change in energy can only occur if $p$ electrons getting pumped from one edge to the other. For an incompressible system, since the wave-functions all return to being the same as at $\\Phi=0$, only integer changes of occupation are allowed. Therefore $p$ must be an integer. This is Laughlin's argument for why the Hall conductance must be quantized as $$\\sigma_{xy}=n e^2/h.$$\n",
      "\n"
     ]
    },
    {
     "cell_type": "heading",
     "level": 1,
     "metadata": {},
     "source": [
      "Landau levels: microscopic model for the quantum hall effect"
     ]
    },
    {
     "cell_type": "markdown",
     "metadata": {},
     "source": [
      "# Computing Landau level spectra in a magnetic field\n",
      "\n",
      "* Start with Hamiltonians for electrons in a magnetic field $$H=(\\textbf{p}-e \\textbf{ A}/c)^2+V(\\textbf{r}),$$ where $V(\\textbf{r})$ is some external potential and $\\textbf{A}$ is the vector potential associated with the magnetic field $\\textbf{B}$. The vector potential $\\textbf{A}$ is has a gauge redundancy. For a potential $V(\\textbf{r}=(x,y))$, which is translationally invariant along some direction $y$ it is convenient to choose a gauge known as the Landau gauge which preserves this symmetry. The vector potential in the Landau gauge is $$\\textbf{A}(x,y)=\\hat{\\textbf{y}}B x .$$ Finally the translationally invariant Hamiltonian is written as $$H=p_x^2+(p_y-e B x/c)^2+V(x).$$\n",
      "\n",
      "* Translational invariance lets us label eigenstates of $p_y$ with eigenvalues $p_y=\\hbar k_y$. This reduces the Hamiltonian to an effective 1 dimensional system $$H=p_x^2+(\\hbar k_y-e B x/c)^2+V(x).$$ Considering the case $V(x)=0$ the Hamiltonian reduces to that of a Harmonic oscillator Hamiltonian centered at $x=\\hbar c k_y/eB$ with energy eigenvalues $E_n(k_y)=\\hbar \\omega_c$ (where $\\omega_c=\\dots$ is the cyclotron frequency) are independent of $k_y$. The wave-functions are localized to a length $\\lambda$ along the $x$-direction and are referred to as Landau levels."
     ]
    },
    {
     "cell_type": "markdown",
     "metadata": {},
     "source": [
      "# Flux pumping of electrons in a cylinder\n",
      "\n",
      "* For conceptual simplicity, it is convenient to introduce periodic boundary conditions $k_y=2\\pi n_y/R$ where $n_y$ is an integer. Physically this corresponds to the spectrum of a cylinder. Introducing flux through the cylinder introduces a shift $$\\textbf{A}(x,y)=\\hat{\\textbf{y}}B x +\\Phi.$$ The resulting Hamiltonian for the level $n_y$ is now $$H=p_x^2+(\\hbar 2\\pi n_y/R-e B x/c-\\Phi)^2+V(x).$$\n",
      "\n",
      "* TO DO: Figure of a cylinder with flux through the cylinder coming out and also $\\Phi$ going along the cylinder.\n",
      "\n",
      "* The Landau level wave-functions are centered at $$\\langle x\\rangle = \\hbar 2\\pi c n_y/e B R +\\Phi c/e B.$$ The Landau level wave-functions are localized at a set of rings on the cylinder centers at a discrete set of wave-functions labelled by $n_y$ that are spaced uniformly along the $x$ direction.\n",
      "\n",
      "* TO DO: CODE: Consider $V(x)=0$ as an infinite square well, one can discretize the continuum $x$ into $|n\\rangle$ so that $p_x^2\\rightarrow -t(|n\\rangle \\langle n+1|+h.c)+2 t |n\\rangle \\langle n|.$ With this discretization, the wave-function can be solved as a function of position and energy. Ideally one could do a 2 -dimensional local density of states plot with $\\Phi$ as a tuning variable. It should look like a lattice which shifts along position as $\\Phi$ is tuned by a flux quantum.\n",
      "\n",
      "* As $\\Phi$ is increased the levels shift in $x$ increases so that after one flux quantum all the electrons have moves by one step along $x$. When the flux changes by $\\delta\\Phi=Q\\Phi_0$, where $Q$ is an integer, each electron moves $Q$ steps along the $x$ so that $Q$ electrons are \"pumped\" from one end to the other of the cylinder.\n"
     ]
    },
    {
     "cell_type": "heading",
     "level": 1,
     "metadata": {},
     "source": [
      "Summary"
     ]
    },
    {
     "cell_type": "code",
     "collapsed": false,
     "input": [
      "MoocVideo(\"2u8_2isyi7o\")"
     ],
     "language": "python",
     "metadata": {},
     "outputs": [
      {
       "html": [
        "\n",
        "        <iframe\n",
        "            width=\"400\"\n",
        "            height=300\"\n",
        "            src=\"https://www.youtube.com/embed/2u8_2isyi7o\"\n",
        "            frameborder=\"0\"\n",
        "            allowfullscreen\n",
        "        ></iframe>\n",
        "        "
       ],
       "metadata": {},
       "output_type": "pyout",
       "text": [
        "MoocVideo(**{'download_video': 'true', 'display_name': '', 'youtube': '1.00:2u8_2isyi7o', 'show_captions': 'true', 'youtube_id_1_0': '2u8_2isyi7o', 'download_track': 'true'})"
       ]
      }
     ]
    },
    {
     "cell_type": "code",
     "collapsed": false,
     "input": [
      "MoocDiscussion(\"Questions\", \"Laughlin argument\")"
     ],
     "language": "python",
     "metadata": {},
     "outputs": [
      {
       "html": [
        "<p><b>Discussion</b> entitled 'Laughlin argument' is available in the online version of the course.</p>"
       ],
       "metadata": {},
       "output_type": "pyout",
       "text": [
        "MoocDiscussion(**{'discussion_category': 'Questions', 'display_name': 'Laughlin argument', 'discussion_subcategory': 'Laughlin argument', 'discussion_id': '274a4f6a5ece6fa10cf0c5e3d8ca2085'})"
       ]
      }
     ]
    }
   ],
   "metadata": {}
  }
 ]
}