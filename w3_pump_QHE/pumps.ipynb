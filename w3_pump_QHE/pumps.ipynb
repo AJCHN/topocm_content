{
 "cells": [
  {
   "cell_type": "code",
   "execution_count": null,
   "metadata": {},
   "outputs": [],
   "source": [
    "import sys\n",
    "sys.path.append('../code')\n",
    "from init_mooc_nb import *\n",
    "init_notebook()\n",
    "from holoviews.core.options import Cycle\n",
    "%output size=120\n",
    "pi_ticks = [(-np.pi, r'$-\\pi$'), (0, '0'), (np.pi, r'$\\pi$')]\n",
    "\n",
    "\n",
    "def ts_modulated_wire(L=50):\n",
    "    \"\"\"Create an infinite wire with a periodic potential\n",
    "\n",
    "    Chain lattice, one orbital per site.\n",
    "    Returns kwant system.\n",
    "\n",
    "    Arguments required in onsite/hoppings: \n",
    "        t, mu, mu_lead, A, phase\n",
    "\n",
    "    The period of the potential is 2*pi/L.\n",
    "    \"\"\"\n",
    "    omega = 2 * np.pi / L\n",
    "\n",
    "    def onsite(site, p):\n",
    "        x = site.pos[0]\n",
    "        return 2 * p.t - p.mu + p.A * (np.cos(omega * x + p.phase) + 1)\n",
    "\n",
    "    def hopping(site1, site2, p):\n",
    "        return -p.t\n",
    "\n",
    "    sym_lead = kwant.TranslationalSymmetry([-L])\n",
    "\n",
    "    lat = kwant.lattice.chain()\n",
    "    syst = kwant.Builder(sym_lead)\n",
    "\n",
    "    syst[(lat(x) for x in range(L))] = onsite\n",
    "    syst[lat.neighbors()] = hopping\n",
    "\n",
    "    return syst\n",
    "\n",
    "\n",
    "def modulated_wire(L=50, dL=10):\n",
    "    \"\"\"Create a pump. \n",
    "\n",
    "    Chain lattice, one orbital per site.\n",
    "    Returns kwant system.\n",
    "\n",
    "    L is the length of the pump,\n",
    "    dL is the length of the clean regions next to the pump,\n",
    "            useful for demonstration purposes.\n",
    "\n",
    "    Arguments required in onsite/hoppings: \n",
    "        t, mu, mu_lead, A, omega, phase\n",
    "    \"\"\"\n",
    "    def onsite(site, p):\n",
    "        x = site.pos[0]\n",
    "        return 2 * p.t - p.mu + p.A * (np.cos(p.omega * x + p.phase) + 1)\n",
    "\n",
    "    lead_onsite = lambda site, p: 2 * p.t - p.mu_lead\n",
    "\n",
    "    def hopping(site1, site2, p):\n",
    "        return -p.t\n",
    "\n",
    "    lat = kwant.lattice.chain()\n",
    "    syst = kwant.Builder()\n",
    "\n",
    "    syst[(lat(x) for x in range(L))] = onsite\n",
    "    syst[lat.neighbors()] = hopping\n",
    "\n",
    "    sym_lead = kwant.TranslationalSymmetry([-1])\n",
    "    lead = kwant.Builder(sym_lead)\n",
    "    lead[lat(0)] = lead_onsite\n",
    "    lead[lat.neighbors()] = hopping\n",
    "\n",
    "    syst.attach_lead(lead, add_cells=dL)\n",
    "    syst.attach_lead(lead.reversed(), add_cells=dL)\n",
    "\n",
    "    return syst\n",
    "\n",
    "\n",
    "def total_charge(value_array):\n",
    "    \"\"\"Calculate the pumped charge from the list of reflection matrices.\"\"\"\n",
    "    determinants = [np.linalg.det(r) for r in value_array]\n",
    "    charge = np.cumsum(np.angle(np.roll(determinants, -1) / determinants))\n",
    "    charge = charge - charge[0]\n",
    "    return charge / (2 * np.pi)\n"
   ]
  },
  {
   "cell_type": "markdown",
   "metadata": {},
   "source": [
    "# Thouless pumps"
   ]
  },
  {
   "cell_type": "markdown",
   "metadata": {},
   "source": [
    "Dganit Meidan from Ben Gurion University will introduce Thouless pumps,."
   ]
  },
  {
   "cell_type": "code",
   "execution_count": null,
   "metadata": {},
   "outputs": [],
   "source": [
    "MoocVideo(\"gKZK9IGY9wo\", src_location='3.1-intro', res='360')"
   ]
  },
  {
   "cell_type": "markdown",
   "metadata": {},
   "source": [
    "# Hamiltonians with parameters"
   ]
  },
  {
   "cell_type": "markdown",
   "metadata": {},
   "source": [
    "Previously, when studying the topology of systems supporting Majoranas (both the Kitaev chain and the nanowire), we were able to calculate topological properties by studying the bulk Hamiltonian $H(k)$.\n",
    "\n",
    "There are two points of view on this Hamiltonian. We could either consider it a Hamiltonian of an infinite system with momentum conservation\n",
    "\n",
    "$$H = H(k) |k\\rangle\\langle k|,$$\n",
    "\n",
    "or we could equivalently study a finite system with only a small number of degrees of freedom (corresponding to a single unit cell), and a Hamiltonian which depends on some continuous periodic parameter $k$.\n",
    "\n",
    "Of course, without specifying that $k$ is the real space momentum, there is no meaning in bulk-edge correspondence (since the edge is an edge in real space), but the topological properties are still well-defined."
   ]
  },
  {
   "cell_type": "markdown",
   "metadata": {},
   "source": [
    "Sometimes we want to know how a physical system changes if we slowly vary some parameters of the system, for example a bias voltage or a magnetic field. Because the parameters change with time, the Hamiltonian becomes time-dependent, namely\n",
    "\n",
    "$$H = H(t).$$\n",
    "\n",
    "The slow [adiabatic](https://en.wikipedia.org/wiki/Adiabatic_theorem) change of parameters ensures that if the system was initially in the ground state, it will stay in the ground state, so that the topological properties are useful.\n",
    "\n",
    "A further requirement for topology to be useful is the *periodicity* of time evolution:\n",
    "\n",
    "$$H(t) = H(t+T).$$\n",
    "\n",
    "The period can even go to $\\infty$, in which case $H(-\\infty) = H(+\\infty)$. The reasons for the requirement of periodicity are somewhat abstract. If the Hamiltonian has parameters, we're studying the topology of a *mapping* from the space of parameter values to the space of all possible gapped Hamiltonians. This mapping has nontrivial topological properties only if the space of parameter values is compact.\n",
    "\n",
    "For us, this simply means that the Hamiltonian has to be periodic in time."
   ]
  },
  {
   "cell_type": "markdown",
   "metadata": {},
   "source": [
    "Of course, if we want systems with bulk-edge correspondence, then in addition to $t$ our Hamiltonian must still depend on the real space coordinate, or the momentum $k$."
   ]
  },
  {
   "cell_type": "markdown",
   "metadata": {},
   "source": [
    "# Quantum pumps"
   ]
  },
  {
   "cell_type": "markdown",
   "metadata": {},
   "source": [
    "In the image below (source: Chambers's Encyclopedia, 1875, via Wikipedia) you see a very simple periodic time-dependent system, an Archimedes screw pump."
   ]
  },
  {
   "cell_type": "markdown",
   "metadata": {},
   "source": [
    "![](figures/Archimedes_screw.jpg)"
   ]
  },
  {
   "cell_type": "markdown",
   "metadata": {},
   "source": [
    "The changes to the system are clearly periodic, and the pump works the same no matter how slowly we use it (that is, change the parameters), so it is an adiabatic tool.\n",
    "\n",
    "What about a quantum analog of this pump? \n",
    "\n",
    "Let's take a one-dimensional region, coupled to two electrodes on both sides, and apply a strong sine-shaped confining potential in this region. As we move the confining potential, we drag the electrons captured in it.\n",
    "\n",
    "So our system now looks like this:"
   ]
  },
  {
   "cell_type": "code",
   "execution_count": null,
   "metadata": {},
   "outputs": [],
   "source": [
    "# Plot of the potential in the pumping system as a function of coordinate.\n",
    "# Some part of the leads is shown with a constant potential.\n",
    "# Regions with E < 0 should be shaded to emulate Fermi sea.\n",
    "A = 0.6\n",
    "L = 10\n",
    "lamb = (10 / 5.3) / (2 * np.pi)\n",
    "mu = -0.4\n",
    "mu_lead = -0.8\n",
    "\n",
    "\n",
    "def f(x):\n",
    "    if x < 0.0:\n",
    "        return mu_lead\n",
    "    if x >= 0.0 and x <= L:\n",
    "        return mu + A * (1.0 - np.cos(x / lamb))\n",
    "    if x > L:\n",
    "        return mu_lead\n",
    "\n",
    "x = np.linspace(-5, 15, 1000)\n",
    "y = [f(i) for i in x]\n",
    "\n",
    "plt.figure(figsize=(6, 4))\n",
    "plt.plot(x, y, 'k', lw=1.2)\n",
    "\n",
    "plt.xlim(-2.5, 12.5)\n",
    "plt.ylim(-2, 2)\n",
    "\n",
    "y = [i if i <= 0 else 0 for i in y]\n",
    "plt.fill_between(x, y, 0, color='r', where=np.array(y) <\n",
    "                 0.0, alpha=0.5, edgecolor='k', lw=1.5)\n",
    "\n",
    "plt.arrow(2.0, 1.25, 5, 0, head_width=0.15, head_length=1.0, fc='k', ec='k')\n",
    "\n",
    "plt.xlabel('$x$')\n",
    "plt.ylabel('$U(x)$')\n",
    "plt.xticks([])\n",
    "plt.yticks([])\n",
    "plt.show()"
   ]
  },
  {
   "cell_type": "markdown",
   "metadata": {},
   "source": [
    "It is described by the Hamiltonian\n",
    "\n",
    "$$H(t) = \\frac{k^2}{2m} + A [1 - \\cos(x/\\lambda + 2\\pi t/T)].$$\n",
    "\n",
    "As we discussed, if we change $t$ very slowly, the solution will not depend on how fast $t$ varies.\n",
    "\n",
    "When $A \\gg 1 /m \\lambda^2$ the confining potential is strong, and additionally if the chemical potential $\\mu \\ll A$, the states bound in the separate minima of the potential have very small overlap.\n",
    "\n",
    "The potential near the bottom of each minimum is approximately quadratic, so the Hamiltonian is that of a simple Harmonic oscillator. This gives us discrete levels of the electrons with energies $E_n = (n + \\tfrac{1}{2})\\omega_c$, with $\\omega_c = \\sqrt{A/m\\lambda^2}$ the oscillator frequency. In the large A limit, the states in the different minima are completely isolated so that the energy bands are flat with vanishing (group) velocity $d E_n(k)/d k=0$ of propagation.\n",
    "\n",
    "We can numerically check how continuous bands in the wire become discrete evenly spaced bands as we increase $A$:"
   ]
  },
  {
   "cell_type": "code",
   "execution_count": null,
   "metadata": {},
   "outputs": [],
   "source": [
    "p = SimpleNamespace(t=1, mu=0.0, phase=0.0, A=None)\n",
    "syst = ts_modulated_wire(L=17)\n",
    "\n",
    "def title(p):\n",
    "    return \"Band structure, $A={:.2}$\".format(p.A)\n",
    "\n",
    "kwargs = {'ylims': [-0.2, 1.3],\n",
    "          'xticks': pi_ticks,\n",
    "          'yticks': [0, 0.5, 1.0],\n",
    "          'xdim': r'$k$',\n",
    "          'ydim': r'$E$',\n",
    "          'k_x': np.linspace(-np.pi, np.pi, 101),\n",
    "          'title': title}\n",
    "\n",
    "\n",
    "holoviews.HoloMap({p.A: spectrum(syst, p, **kwargs) for p.A in np.linspace(0, 0.8, 10)}, kdims=[r'$A$'])"
   ]
  },
  {
   "cell_type": "markdown",
   "metadata": {},
   "source": [
    "So unless $\\mu = E_n$ for some $n$, each minimum of the potential contains an integer number of electrons $N$.There are a large number of states at this energy and almost no states at $\\mu$ away from $E_n$.\n",
    "\n",
    "Since electrons do not move between neighboring potential minima, so when we change the potential by one time period, we move exactly $N$ electrons."
   ]
  },
  {
   "cell_type": "code",
   "execution_count": null,
   "metadata": {},
   "outputs": [],
   "source": [
    "question = \"Why are some levels in the band structure flat while some are not?\"\n",
    "answers = [\"The flat levels are the ones whose energies are not sensitive to the offset of confining potential.\",\n",
    "           \"Destructive interference of the wave functions in neighboring minima suppresses the dispersion.\",\n",
    "           \"The flat levels are localized deep in the potential minima, \"\n",
    "           \"so the bandwidth is exponentially small.\",\n",
    "           \"The flat levels correspond to filled states, and the rest to empty states.\"]\n",
    "explanation = (\"The dispersion of the bands in a perodic potential appears \"\n",
    "               \"when the wave functions from neighboring minima overlap.\")\n",
    "\n",
    "MoocMultipleChoiceAssessment(question=question, answers=answers, correct_answer=2, explanation=explanation)"
   ]
  },
  {
   "cell_type": "markdown",
   "metadata": {},
   "source": [
    "# Quantization of pumped charge"
   ]
  },
  {
   "cell_type": "markdown",
   "metadata": {},
   "source": [
    "As we already learned, integers are important, and they could indicate that something topological is happening.\n",
    "\n",
    "At this point we should ask ourselves these questions: Is the discreteness of the number of electrons $N$ pumped per cycle limited to the deep potential limit, or is the discreteness a more general consequence of topology? "
   ]
  },
  {
   "cell_type": "markdown",
   "metadata": {},
   "source": [
    "### Thought experiment\n",
    "\n",
    "Let us consider the reservoirs to be closed finite (but large) boxes. When the potential in the wire is shifted the electrons clearly move from the left to the right reservoir. How do the reservoirs accomodate these electrons?\n",
    "\n",
    "Since the Hamiltonian is periodic in time, the Hamiltonian together with all its eigenstates return to the initial values at the end of the period. The adiabatic theorem guarantees that when the Hamiltonian changes slowly the eigenstates can evolve to an eigenstate that is adjacent in energy. \n",
    "\n",
    "As we see in the figure below states in the left reservoir move down in energy and states in the right reservoir move up: "
   ]
  },
  {
   "cell_type": "code",
   "execution_count": null,
   "metadata": {},
   "outputs": [],
   "source": [
    "p = SimpleNamespace(t=1, mu=0.0, mu_lead=0, A=0.1, omega=0.3, phase=None)\n",
    "syst = modulated_wire(L=110, dL=40).finalized()\n",
    "phases = np.linspace(0, 2*np.pi, 251)\n",
    "en = [np.linalg.eigvals(syst.hamiltonian_submatrix(args=[p])) for p.phase in phases]\n",
    "en = np.array(en)\n",
    "coord = kwant.operator.Density(syst, onsite=(lambda site, p: site.pos[0]))\n",
    "ticks = {'xticks': [0, 1], 'yticks': [0, 0.5, 1]}\n",
    "kdims = [r'$t/T$', r'$E$']\n",
    "holoviews.Path((phases / (2*np.pi), en), kdims=kdims)[:, 0:.4](plot=ticks)"
   ]
  },
  {
   "cell_type": "markdown",
   "metadata": {},
   "source": [
    "While dynamics in the relatively flat dense mess of states (from the wire) is complicated, the situation in the energy gaps (i.e. ranges with few states) is clearer. States in the gap belong to either one reservoir or the other. States in the left reservoir turn out to move down in energy and ones in the right reservoir move up in energy (right now this is numerical - we will see why later ). \n",
    "\n",
    "Let us imagine we park our Fermi energy (i.e. the energy that separates completely occupied and completely empty states) in the gap where there are few states.\n",
    "\n",
    "With time, an empty level in the left reservoir moves from above the Fermi level to a state below the Fermi level. The occupation of this state cannot  change in this process because of the adiabatic theorem. Therefore after the pumping cycle is over the left reservoir has an empty state below the Fermi level i.e. one less electron. The reverse process happens in the right lead so that it has one extra electron.\n",
    "\n",
    "So the electron that was transferred in the wire from the left reservoir to the right came from emptying the highest energy occupied state one the left and occupying the lowest energy unoccupied state on the right.\n",
    "\n",
    "More generally, while levels do not have to move as shown in the figure, the energy level structure of the periodic in time Hamiltonian has to return to itself. The number (possibly negative) of levels in the left reservoir that crossed from being above the Fermi level to below  must exactly be the change in charge of the left reservoir. This is an INTEGER. \n",
    "\n",
    "Therefore, our thoughts about \"where the electrons came from\" leads us to an interesting conclusion: The number of charges pumped in an adiabatic pumping cycle (independent of the strength $A$) is an integer (possibly $0$).\n",
    "\n",
    "Furthermore, it is an integer as long as the wire is gapped at the chosen Fermi level ( so as to isolate the reservoirs).\n"
   ]
  },
  {
   "cell_type": "markdown",
   "metadata": {},
   "source": [
    "So without doing any calculations, we can conclude that:\n",
    "\n",
    "> The number of electrons pumped per cycle of a quantum pump is an integer as long as\n",
    "> the bulk of the pump is gapped. Therefore it is a **topological invariant**."
   ]
  },
  {
   "cell_type": "markdown",
   "metadata": {},
   "source": [
    "# Counting electrons through reflection."
   ]
  },
  {
   "cell_type": "markdown",
   "metadata": {},
   "source": [
    "The expression for the pumped charge in terms of the bulk Hamiltonian $H(k, t)$ is complicated.\n",
    "\n",
    "It's an integral over both $k$ and $t$, called a **Chern number** or in other sources a TKNN integer. Its complexity is beyond the scope of our course, but is extremely important, so we will have to study it... next week.\n",
    "\n",
    "There is a much simpler way to calculate the same quantity using scattering formalism. This follows from returning to understanding how energy levels in the reservoir move as a function of time."
   ]
  },
  {
   "cell_type": "markdown",
   "metadata": {},
   "source": [
    "Consider levels in the energy gap of the wire so that the levels near the Fermi energy are confined to the reservoir. Now all the levels in the reservoir are quantized, and are standing waves, so they are equal weight superpositions of waves going to the left $\\psi_L$ and to the right $\\psi_R$,\n",
    "\n",
    "$$\n",
    "\\psi_n = \\psi_L(x) + \\psi_R(x) \\propto \\exp(ik_n x) + \\exp(-ik_n x + i\\phi),\n",
    "$$\n",
    "\n",
    "where the wave number $k_n$ is of course a function of energy. The relative phase shift $\\phi$ is necessary to satisfy the boundary condition at $x=0$, where $\\psi_L = r \\psi_R$, and so $\\exp(i \\phi) = r$. The energies of the levels are determined by requiring that the phases of $\\psi_L$ and $\\psi_R$ also match at $x = -L$. These boundary conditions lead to the relation \n",
    "\n",
    "$$\n",
    "2 k_n L = 2n \\pi +\\phi.\n",
    "$$\n",
    "\n",
    "Changing the phase continuously in time $t$ by $2\\pi$ evolves $k_n$ from $(2 L)^{-1}[2n\\pi+\\phi]$ to $(2L)^{-1}[2n\\pi+2\\pi+\\phi]=2k_{n+1}L$. This means that the change in phase $\\phi$ results in the state with index $n$ evolving \n",
    "into an index  $n+1$.\n",
    "Thus, the winding of phase $\\phi$ by $2\\pi$ also changes the wave-function $\\psi_n \\rightarrow \\psi_{n+1}$.\n",
    "\n",
    "As discussed in the previous paragraph, such a movement of energy level in the reservoir is associated with transfer of charge between the reservoir through the wire.\n",
    "\n",
    "> We conclude that if the reflection phase $\\phi$ from the wire advances by $2\\pi$, this corresponds to a unit charge pumped across the wire."
   ]
  },
  {
   "cell_type": "markdown",
   "metadata": {},
   "source": [
    "It's very easy to generalize our argument to many modes. For that we just need to sum all of the reflection phase shifts, which means we need to look at the phase of $\\det r$.\n",
    "\n",
    "We conclude that there's a very compact relation between charge $dq$ pumped by an infinitesimal change of an external parameter and the change in reflection matrix $dr$:\n",
    "\n",
    "$$\n",
    "dq = \\frac{d \\log \\det r}{2\\pi i} = \\operatorname{Tr}\\frac{r^\\dagger dr }{ 2 \\pi i}.\n",
    "$$\n",
    "\n",
    "While we derived this relation only for the case when all incoming particles reflect, and $r$ is unitary, written in form of trace it also has physical implications even if there is transmission.[¹](https://arxiv.org/abs/cond-mat/9808347)"
   ]
  },
  {
   "cell_type": "markdown",
   "metadata": {},
   "source": [
    "Let's check if this expression holds to our expectations. If $||r||=1$, this is just the number of times the phase of $\\det r$ winds around zero, and it is certainly an integer, as we expected.\n",
    "\n",
    "This provides an independent argument (in addition to the movement of energy levels from the last section ) for why the pumped charge is quantized as long as the gap is preserved."
   ]
  },
  {
   "cell_type": "markdown",
   "metadata": {},
   "source": [
    "# Applying the topological invariant"
   ]
  },
  {
   "cell_type": "markdown",
   "metadata": {},
   "source": [
    "We know now how to calculate the pumped charge during one cycle, so let's just see how it works in practice.\n",
    "\n",
    "The scattering problem in 1D can be solved quickly, so let's calculate the pumped charge as a function of time for different values of the chemical potential in the pump."
   ]
  },
  {
   "cell_type": "code",
   "execution_count": null,
   "metadata": {},
   "outputs": [],
   "source": [
    "%%opts Path.Q (color=Cycle(values=['r', 'g', 'b', 'y']))\n",
    "%%opts HLine (color=Cycle(values=['r', 'g', 'b', 'y']) linestyle='--')\n",
    "\n",
    "def plot_charge(mu):\n",
    "    energy = 0.0\n",
    "    phases = np.linspace(0, 2*np.pi, 100)\n",
    "    p = SimpleNamespace(t=1, mu=mu, mu_lead=mu, A=0.6, omega= .3)\n",
    "    syst = modulated_wire(L=100).finalized()\n",
    "    rs = [kwant.smatrix(syst, energy, args=[p]).submatrix(0, 0) for p.phase in phases]\n",
    "    wn = -total_charge(rs)\n",
    "    title = '$\\mu={:.2}$'.format(mu)\n",
    "    kdims = [r'$t/T$', r'$q/e$']\n",
    "    plot = holoviews.Path((phases / (2 * np.pi), wn), kdims=kdims, label=title, group='Q')\n",
    "    return plot[:, -0.5:3.5](plot={'xticks': [0, 1], 'yticks': [0, 1, 2, 3]})\n",
    "\n",
    "\n",
    "kwargs = {'ylims': [-0.2, 1.3],\n",
    "          'xticks': pi_ticks,\n",
    "          'yticks': [0, 0.5, 1.0],\n",
    "          'xdim': r'$k$',\n",
    "          'ydim': r'$E$',\n",
    "          'k_x': np.linspace(-np.pi, np.pi, 101),\n",
    "          'title': lambda p: \"Band structure, $A={:.2}$\".format(p.A)}\n",
    "\n",
    "p = SimpleNamespace(t=1, mu=0.0, phase=0.0, A=0.6)\n",
    "syst = ts_modulated_wire(L=17)\n",
    "mus = [0.1, 0.3, 0.6, 0.9]\n",
    "HLines = holoviews.Overlay([holoviews.HLine(mu) for mu in mus])\n",
    "spectrum(syst, p, **kwargs) * HLines + holoviews.Overlay([plot_charge(mu) for mu in mus]).relabel('Pumped charge')"
   ]
  },
  {
   "cell_type": "markdown",
   "metadata": {},
   "source": [
    "In the left plot, we show the band structure, where the different colors correspond to different chemical potentials. The right plot shows the corresponding pumped charge. During the pumping cycle the charge may change, and the relation between the offset $\\phi$ of the potential isn't always linear. However we see that after a full cycle, the pumped charge exactly matches the number of filled levels in a single potential well."
   ]
  },
  {
   "cell_type": "code",
   "execution_count": null,
   "metadata": {},
   "outputs": [],
   "source": [
    "question = (\"What happens to the dependence of the reflection phase shift on time if we \"\n",
    "            \"remove one of the reservoirs and leave the other one?\")\n",
    "answers = [\"It becomes constant.\",\n",
    "           \"For most of the cycle it stays the same, but there appear \"\n",
    "           \"sharp jumps such that the total winding becomes zero.\",\n",
    "           \"Nothing changes, since the two ends of the pump are \"\n",
    "           \"far apart from each other, and the pump is not conducting.\",\n",
    "           \"The reflection phase gets a new time dependence with zero winding, unrelated to the original one.\"]\n",
    "explanation = (\"The total pumped charge must become equal to zero since there's nowhere to place the charge, but \"\n",
    "               \"since the pump is insulating, the phase cannot change \"\n",
    "               \"for most of the cycle unless a sharp resonance appears\")\n",
    "\n",
    "MoocMultipleChoiceAssessment(question=question, answers=answers, correct_answer=1, explanation=explanation)"
   ]
  },
  {
   "cell_type": "markdown",
   "metadata": {},
   "source": [
    "# Quantized charge and scattering invariant"
   ]
  },
  {
   "cell_type": "code",
   "execution_count": null,
   "metadata": {},
   "outputs": [],
   "source": [
    "MoocVideo(\"6lXRAZ7hv7E\", src_location='3.1-summary', res='360')"
   ]
  },
  {
   "cell_type": "markdown",
   "metadata": {},
   "source": [
    "**Questions about what you learned? Ask them below**"
   ]
  },
  {
   "cell_type": "code",
   "execution_count": null,
   "metadata": {},
   "outputs": [],
   "source": [
    "MoocDiscussion('Questions', 'Quantum pumps')"
   ]
  }
 ],
 "metadata": {
  "kernelspec": {
   "display_name": "Python 3",
   "language": "python",
   "name": "python3"
  },
  "language_info": {
   "codemirror_mode": {
    "name": "ipython",
    "version": 3
   },
   "file_extension": ".py",
   "mimetype": "text/x-python",
   "name": "python",
   "nbconvert_exporter": "python",
   "pygments_lexer": "ipython3"
  }
 },
 "nbformat": 4,
 "nbformat_minor": 1
}
