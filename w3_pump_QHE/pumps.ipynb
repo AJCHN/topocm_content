{
 "metadata": {
  "name": ""
 },
 "nbformat": 3,
 "nbformat_minor": 0,
 "worksheets": [
  {
   "cells": [
    {
     "cell_type": "code",
     "collapsed": false,
     "input": [
      "%run ../code/init_mooc_nb.ipy"
     ],
     "language": "python",
     "metadata": {},
     "outputs": [
      {
       "output_type": "stream",
       "stream": "stdout",
       "text": [
        "Performing the necessary imports.\n",
        "\n",
        "from __future__ import division, print_function\n",
        "import numpy as np\n",
        "import matplotlib\n",
        "import kwant\n",
        "\n",
        "import ipywidgets\n",
        "from IPython.html.widgets import interact\n",
        "from ipywidgets import StaticInteract, RangeWidget, DropDownWidget\n",
        "from IPython.display import display_html\n",
        "from matplotlib import pyplot as plt\n",
        "\n",
        "import pfaffian as pf\n",
        "from edx_components import *\n",
        "\n"
       ]
      },
      {
       "html": [
        "\n",
        "<script type=text/javascript>\n",
        "/* Add a button for showing or hiding input */\n",
        "on = \"Show input\";\n",
        "off = \"Hide input\";\n",
        "function onoff(){\n",
        "  currentvalue = document.getElementById('onoff').value;\n",
        "  if(currentvalue == off){\n",
        "    document.getElementById(\"onoff\").value=on;\n",
        "      $('div.input').hide();\n",
        "  }else{\n",
        "    document.getElementById(\"onoff\").value=off;\n",
        "      $('div.input').show();\n",
        "  }\n",
        "}\n",
        "\n",
        "/* Launch first notebook cell on start */\n",
        "function launch_first_cell (evt) {\n",
        "  if (!launch_first_cell.executed\n",
        "      && IPython.notebook.kernel\n",
        "  ) {\n",
        "    IPython.notebook.get_cells()[0].execute();\n",
        "    launch_first_cell.executed = true;\n",
        "  }\n",
        "}\n",
        "\n",
        "$([IPython.events]).on('status_started.Kernel notebook_loaded.Notebook', launch_first_cell);\n",
        "</script>\n",
        "\n",
        "<p>Press this button to show/hide the code used in the notebook:\n",
        "<input type=\"button\" class=\"ui-button ui-widget ui-state-default ui-corner-all ui-button-text-only\" value=\"Hide input\" id=\"onoff\" onclick=\"onoff();\"></p>\n",
        "<script type=text/javascript>\n",
        "$(document).ready(function (){if(!(\"IPython\" in window)){onoff();}})\n",
        "</script>"
       ],
       "metadata": {},
       "output_type": "display_data"
      }
     ]
    },
    {
     "cell_type": "markdown",
     "metadata": {},
     "source": [
      "## Topology in presence of extra parameters.\n",
      "\n",
      "* \n",
      "\n",
      "**NO CONTENT ABOVE THIS LINE IS VISIBLE IN EDX**"
     ]
    },
    {
     "cell_type": "heading",
     "level": 1,
     "metadata": {},
     "source": [
      "Hamiltonians with parameters"
     ]
    },
    {
     "cell_type": "markdown",
     "metadata": {},
     "source": [
      "* We can make topology more interesting by adding more parameters to the Hamiltonian\n",
      "* We want to go beyond just studying the topological properties at a single value of parameter, but rather the properties of the complete path $H(\\alpha)$.\n",
      "* In fact, we did already encounter one example of when we studied properties of $H(\\alpha)$ and that was when we considered $H(k)$ for the Majorana system.\n",
      "* The special thing about $k$ is that it's a Fourier transform of the real space coordinate, and that's why there is bulk-edge correspondence (after all having an edge requires having space), but having $\\alpha$ as an external parameter varying periodically in time is nothing too bad."
     ]
    },
    {
     "cell_type": "heading",
     "level": 1,
     "metadata": {},
     "source": [
      "Pumps"
     ]
    },
    {
     "cell_type": "markdown",
     "metadata": {},
     "source": [
      "* We are going to see how topology appears as we build a quantum analog of this image:"
     ]
    },
    {
     "cell_type": "markdown",
     "metadata": {},
     "source": [
      "![](figures/Archimedes_screw.jpg)"
     ]
    },
    {
     "cell_type": "markdown",
     "metadata": {},
     "source": [
      "* Making it is very easy: we take a 1D system, add a confining potential, make it very deep, and make it gradually move.\n",
      "* The offset position of the potential is the external parameter $\\alpha$.\n",
      "* The levels in each potential well are quantized, and we can choose the chemical potential such that a certain number of these levels is filled.\n",
      "* How many elecrons will be moved from one end to the other if we slowly shift the potential by one period? Of course it is the number of electrons in a single potential well.\n",
      "* Can we have a non-integer number of electrons in a single well? Yes: when the wave functions from the neghboring wells overlap, they form bands, the bands may have a fractional filling.\n",
      "* But if a band it not fully filled or fully empty, it is conducting. So the number of charges is integer unless the bulk is conducting. Now you should recognize a familiar pattern ;-)"
     ]
    },
    {
     "cell_type": "heading",
     "level": 1,
     "metadata": {},
     "source": [
      "Counting electrons through reflection."
     ]
    },
    {
     "cell_type": "markdown",
     "metadata": {},
     "source": [
      "* Calculation of the bulk invariant in this case is hard, so we will leave it for the next week. Instead we will look at the system from the edge, and calculate the scattering invariant, similar to $\\det r$ for Majoranas.\n",
      "* To do this let us see if scattering can detect if a level coupled to a scattering region is emptied. So we take a single mod coupled to a level, and we vary the energy of this level. The reflection amplitude is always 1, but the reflection phase advanced by $2\\pi$ as the energy of this level goes from a positive to a negative value. If the reservoir is finite, by emptying the resonant level we would add an extra level to the reservoir, and that requires incrementing the phase of all the levels by $2\\pi$."
     ]
    },
    {
     "cell_type": "heading",
     "level": 1,
     "metadata": {},
     "source": [
      "Winding invariant"
     ]
    },
    {
     "cell_type": "markdown",
     "metadata": {},
     "source": [
      "* If there are many levels, the total increase of the scattering phases is $\\int\\textrm{arg}\\det r$.\n",
      "* It has an important property \n",
      "* Now we can just apply the winding invariant to characterize pumps, so let's simulate one."
     ]
    }
   ],
   "metadata": {}
  }
 ]
}