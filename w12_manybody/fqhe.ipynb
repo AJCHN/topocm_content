{
 "cells": [
  {
   "cell_type": "code",
   "execution_count": null,
   "metadata": {
    "collapsed": false
   },
   "outputs": [
    {
     "name": "stdout",
     "output_type": "stream",
     "text": [
      "Performing the necessary imports.\n",
      "\n",
      "from __future__ import division, print_function\n",
      "import numpy as np\n",
      "import matplotlib\n",
      "import kwant\n",
      "\n",
      "import ipywidgets\n",
      "from IPython.html.widgets import interact\n",
      "from ipywidgets import StaticInteract, RangeWidget, DropDownWidget\n",
      "from IPython.display import display_html\n",
      "from matplotlib import pyplot as plt\n",
      "\n",
      "import pfaffian as pf\n",
      "from edx_components import *\n",
      "\n"
     ]
    },
    {
     "data": {
      "text/html": [
       "\n",
       "<script type=text/javascript>\n",
       "/* Add a button for showing or hiding input */\n",
       "on = \"Show input\";\n",
       "off = \"Hide input\";\n",
       "function onoff(){\n",
       "  currentvalue = document.getElementById('onoff').value;\n",
       "  if(currentvalue == off){\n",
       "    document.getElementById(\"onoff\").value=on;\n",
       "      $('div.input').hide();\n",
       "  }else{\n",
       "    document.getElementById(\"onoff\").value=off;\n",
       "      $('div.input').show();\n",
       "  }\n",
       "}\n",
       "\n",
       "/* Launch first notebook cell on start */\n",
       "function launch_first_cell (evt) {\n",
       "  if (!launch_first_cell.executed\n",
       "      && IPython.notebook.kernel\n",
       "  ) {\n",
       "    IPython.notebook.get_cells()[0].execute();\n",
       "    launch_first_cell.executed = true;\n",
       "  }\n",
       "}\n",
       "\n",
       "$([IPython.events]).on('status_started.Kernel notebook_loaded.Notebook', launch_first_cell);\n",
       "</script>\n",
       "\n",
       "<p>Press this button to show/hide the code used in the notebook:\n",
       "<input type=\"button\" class=\"ui-button ui-widget ui-state-default ui-corner-all ui-button-text-only\" value=\"Hide input\" id=\"onoff\" onclick=\"onoff();\"></p>\n",
       "<script type=text/javascript>\n",
       "$(document).ready(function (){if(!(\"IPython\" in window)){onoff();}})\n",
       "</script>"
      ]
     },
     "metadata": {},
     "output_type": "display_data"
    },
    {
     "data": {
      "application/javascript": [
       "/**\n",
       " * Calico Jupyter Notebooks Extensions\n",
       " *\n",
       " * Copyright (c) The Calico Project\n",
       " * http://calicoproject.org/ICalico\n",
       " *\n",
       " * Released under the BSD Simplified License\n",
       " *\n",
       " **/\n",
       "\n",
       "function ip_version() {\n",
       "    if (IPython.version[0] === \"2\")\n",
       "\treturn 2;\n",
       "    else if (IPython.version[0] === \"3\")\n",
       "\treturn 3;\n",
       "    else\n",
       "\tthrow \"IPython version not supported\";\n",
       "}\n",
       "\n",
       "function break_into_sections(index) {\n",
       "    if (ip_version() === 2)\n",
       "\treturn 0;\n",
       "    var cells = IPython.notebook.get_cells();\n",
       "    var count = 0; // count below index, or -1\n",
       "    // go in reverse order to keep index accurate\n",
       "    for (var i = cells.length - 1; i > -1; i--) {\n",
       "\tvar cell = cells[i];\n",
       "\tvar rendered = cell.rendered;\n",
       "\t// consider it for breaking:\n",
       "\tif (cell.cell_type === \"markdown\") {\n",
       "\t    var text = cell.get_text();\n",
       "\t    if (text.match(/^#+Table of Contents/)) \n",
       "\t\tcontinue;\n",
       "\t    var lines = text.split(/\\n/g);\n",
       "\t    if (lines.length > 1) {\n",
       "\t\t// possibly break up\n",
       "\t\tvar state = \"ok\";\n",
       "\t\tvar current = \"\";\n",
       "\t\tvar cell_texts = [];\n",
       "\t\tfor (var line_no in lines) {\n",
       "\t\t    var line = lines[line_no];\n",
       "\t\t    if (state === \"ok\") {\n",
       "\t\t\tif (line.indexOf('```') === 0) {\n",
       "                            // set state to fence: allows for longer fences\n",
       "\t\t\t    state = line.substr(0, line.search(\"[^`]\"));\n",
       "\t\t\t    current += line + \"\\n\";\n",
       "\t\t\t} else if (line.indexOf('#') === 0) {\n",
       "\t\t\t    if (current !== \"\") {\n",
       "\t\t\t\tcell_texts.push(current.trim());\n",
       "\t\t\t    }\n",
       "\t\t\t    current = \"\";\n",
       "\t\t\t    cell_texts.push(line);\n",
       "\t\t\t} else {\n",
       "\t\t\t    current += line + \"\\n\";\n",
       "\t\t\t}\n",
       "\t\t    } else { // in block\n",
       "\t\t\tif (line.indexOf(state) === 0) {\n",
       "\t\t\t    state = \"ok\";\n",
       "\t\t\t    current += line + \"\\n\";\n",
       "\t\t\t    cell_texts.push(current.trim());\n",
       "\t\t\t    current = \"\";\n",
       "\t\t\t} else {\n",
       "\t\t\t    current += line + \"\\n\";\n",
       "\t\t\t}\n",
       "\t\t    }\n",
       "\t\t} // for\n",
       "\t\t// anything left over:\n",
       "\t\tif (current.trim() !== \"\") {\n",
       "\t\t    cell_texts.push(current.trim());\n",
       "\t\t}\n",
       "\t\tif (cell_texts.length > 1) {\n",
       "\t\t    var current_cell = IPython.notebook.get_cell(i);\n",
       "\t\t    var added = 0;\n",
       "\t\t    for (var j = 0; j < cell_texts.length; j++) {\n",
       "\t\t\tif (cell_texts[j].trim() !== \"\") {\n",
       "\t\t\t    if (added === 0) {\n",
       "\t\t\t\tcurrent_cell.set_text(cell_texts[j]);\n",
       "\t\t\t\tif (rendered) {\n",
       "\t\t\t\t    current_cell.render();\n",
       "\t\t\t\t}\t\t\t\t\t\n",
       "\t\t\t    } else {\n",
       "\t\t\t\tif (i === index) {\n",
       "\t\t\t\t    count = -1; // nope, can't do it\n",
       "\t\t\t\t} else if (i < index && count !== -1) {\n",
       "\t\t\t\t    count++;\n",
       "\t\t\t\t}\n",
       "\t\t\t\tvar new_cell = IPython.notebook.insert_cell_below(\"markdown\", i + added - 1);\n",
       "\t\t\t\tnew_cell.set_text(cell_texts[j]);\n",
       "                                if (rendered) {\n",
       "\t\t\t\t    new_cell.render();\n",
       "\t\t\t\t}\n",
       "\t\t\t    }\n",
       "\t\t\t    added++;\n",
       "\t\t\t}\n",
       "\t\t    }\n",
       "\t\t}\n",
       "\t    }\n",
       "\t}\n",
       "    }\n",
       "    return count;\n",
       "}\n",
       "\n",
       "function is_heading(cell) {\n",
       "    if (ip_version() === 2)\n",
       "\treturn (cell.cell_type === \"heading\");\n",
       "    else \n",
       "\treturn (cell.cell_type === \"markdown\" && cell.get_text().indexOf(\"#\") === 0)\n",
       "}\n",
       "\n",
       "function get_heading_text(cell) {\n",
       "    if (ip_version() === 2)\n",
       "\treturn cell.get_text();\n",
       "    else if (cell.get_text().indexOf(\"######\") === 0)\n",
       "\treturn cell.get_text().substring(6).trim();\n",
       "    else if (cell.get_text().indexOf(\"#####\") === 0)\n",
       "\treturn cell.get_text().substring(5).trim();\n",
       "    else if (cell.get_text().indexOf(\"####\") === 0)\n",
       "\treturn cell.get_text().substring(4).trim();\n",
       "    else if (cell.get_text().indexOf(\"###\") === 0)\n",
       "\treturn cell.get_text().substring(3).trim();\n",
       "    else if (cell.get_text().indexOf(\"##\") === 0)\n",
       "\treturn cell.get_text().substring(2).trim();\n",
       "    else if (cell.get_text().indexOf(\"#\") === 0)\n",
       "\treturn cell.get_text().substring(1).trim();\n",
       "    else return \"\";\n",
       "}\n",
       "\n",
       "function repeat(pattern, count) {\n",
       "    if (count < 1) return '';\n",
       "    var result = '';\n",
       "    while (count > 1) {\n",
       "        if (count & 1) result += pattern;\n",
       "        count >>= 1, pattern += pattern;\n",
       "    }\n",
       "    return result + pattern;\n",
       "}\n",
       "\n",
       "function set_heading_text(cell, text) {\n",
       "    var rendered = cell.rendered;\n",
       "    cell.unrender();\n",
       "    if (ip_version() === 2)\n",
       "\tcell.set_text(text);\n",
       "    else {\n",
       "\tvar level = get_level(cell);\n",
       "\tcell.set_text( repeat(\"#\", level) + \" \" + text)\n",
       "    }\n",
       "    if (rendered) {\n",
       "        cell.render();\n",
       "    }\n",
       "}\n",
       "\n",
       "function get_level(cell) {\n",
       "    if (ip_version() === 2)\n",
       "\treturn cell.level;\n",
       "    else if (cell.get_text().indexOf(\"######\") === 0)\n",
       "\treturn 6;\n",
       "    else if (cell.get_text().indexOf(\"#####\") === 0)\n",
       "\treturn 5;\n",
       "    else if (cell.get_text().indexOf(\"####\") === 0)\n",
       "\treturn 4;\n",
       "    else if (cell.get_text().indexOf(\"###\") === 0)\n",
       "\treturn 3;\n",
       "    else if (cell.get_text().indexOf(\"##\") === 0)\n",
       "\treturn 2;\n",
       "    else if (cell.get_text().indexOf(\"#\") === 0)\n",
       "\treturn 1;\n",
       "    else return 0;\n",
       "}\n",
       "\n",
       "function get_last_cell_index_in_section(level, index) {\n",
       "    var current = index;\n",
       "    while (IPython.notebook.is_valid_cell_index(current + 1)) {\n",
       "\tvar cell = IPython.notebook.get_cell(current + 1);\n",
       "\tif (is_heading(cell) && get_level(cell) <= level) {\n",
       "\t    return current;\n",
       "\t}\n",
       "\tcurrent++;\n",
       "    }\n",
       "    return current;\n",
       "}\n",
       "\n",
       "function get_index_level_above(level, index) {\n",
       "    var current = current = index - 1;\n",
       "    while (IPython.notebook.is_valid_cell_index(current)) {\n",
       "\tvar cell = IPython.notebook.get_cell(current);\n",
       "\tif (is_heading(cell) && get_level(cell) <= level) {\n",
       "\t    return current;\n",
       "\t}\n",
       "\tcurrent--;\n",
       "    }\n",
       "    return undefined;\n",
       "}\n",
       "\n",
       "function get_index_level_below(level, index) {\n",
       "    var current = current = index + 1;\n",
       "    while (IPython.notebook.is_valid_cell_index(current)) {\n",
       "\tvar cell = IPython.notebook.get_cell(current);\n",
       "\tif (is_heading(cell) && get_level(cell) <= level) {\n",
       "\t    return current;\n",
       "\t}\n",
       "\tcurrent++;\n",
       "    }\n",
       "    return undefined;\n",
       "}\n",
       "\n",
       "function section_label() {\n",
       "    // Label headings with numbers, or toggle them off\n",
       "    // If there is a table of contents, re-do it\n",
       "    break_into_sections();\n",
       "    var cells = IPython.notebook.get_cells();\n",
       "    var levels = [0,0,0,0,0,0];\n",
       "    var current_level = 1;\n",
       "    var flag = false;\n",
       "    var alert_text = \"\";\n",
       "    var alert_flag = false;\n",
       "    var remove_numbering = true;\n",
       "    \n",
       "    for (var i = 0; i < cells.length; i++) {\n",
       "\tvar cell = cells[i];\n",
       "\tif (is_heading(cell)) {\n",
       "\t    if (cell.get_text().match(/^#+Table of Contents/)) \n",
       "\t\tcontinue;\n",
       "\t    if (cell.get_text().match(/^#+References/)) \n",
       "\t\tcontinue;\n",
       "\t    var level = get_level(cell);\n",
       "\t    \n",
       "\t    if (level >= current_level) { //just keep incrementing\n",
       "\t\tcurrent_level = level;\n",
       "\t\tlevels[level-1]++;\n",
       "\t    } else {                    //went back a level\n",
       "\t\tlevels[current_level-1] = 0;\n",
       "\t\t\n",
       "\t\tif (current_level-level > 1) { //Skipped levels in between\n",
       "\t\t    for (var j = 1; j < current_level-level; j++) { //back-prop the zeros\n",
       "\t\t\tlevels[current_level - 1 - j] = 0;\n",
       "\t\t    }\n",
       "\t\t}\n",
       "\t\t\n",
       "\t\tlevels[level -1]++;\n",
       "\t\tcurrent_level = level;\n",
       "\t    }\n",
       "\t    \n",
       "\t    var error = false;\n",
       "\t    var error_no_begin = 0;\n",
       "\t    var error_no_end = 0;\n",
       "\t    var error_heading_label = \"\";\n",
       "\t    var heading_label = \"\"; //Generate the appropriate number for the heading\n",
       "\t    for (var k = 0; k < level; k++) {\n",
       "\t\tif (levels[k] == 0) {\n",
       "\t\t    if (!error) {\n",
       "\t\t\terror_heading_label = heading_label;\n",
       "\t\t\terror = true;\n",
       "\t\t\terror_no_begin = k;\n",
       "\t\t    } else {\n",
       "\t\t\terror_no_end = k + 2;\n",
       "\t\t    }\n",
       "\t\t}\n",
       "\t\theading_label += levels[k];\n",
       "\t\tif (level-k == 1 && level > 1) {\n",
       "\t\t    break;\n",
       "\t\t}\n",
       "\t\theading_label += \".\";\n",
       "\t    }\n",
       "\t    \n",
       "\t    if (error) {\n",
       "\t\tif (error_no_end == 0) {\n",
       "\t\t    error_no_end = error_no_begin + 2;\n",
       "\t\t}\n",
       "\t\tif (error_heading_label == \"\") {\n",
       "\t\t    if (!flag) {\n",
       "\t\t\tvar temp1 = \"Notebook begins with a Header \" + error_no_end + \" cell.\" + \"\\n\";\n",
       "\t\t\talert_text += temp1;\n",
       "\t\t\talert_flag = true;\n",
       "\t\t\tflag = true;\n",
       "\t\t    }\n",
       "\t\t} else{\n",
       "\t\t    var temp = \"You placed a Header \" + error_no_end + \" cell under a Header \" + error_no_begin + \" cell in section \" + error_heading_label +\"\\n\";\n",
       "\t\t    alert_text += temp;\n",
       "\t\t    alert_flag = true;\n",
       "\t\t}\n",
       "\t    }\n",
       "\t    \n",
       "\t    var heading_text = get_heading_text(cell);\n",
       "\t    var old_header = heading_text;\n",
       "\t    var re = /(?:\\d*\\.*)*\\s*(.*)/;\n",
       "\t    var match = heading_text.match(re);\n",
       "\t    \n",
       "\t    if (match) {\n",
       "\t\theading_text = heading_label + \" \" + match[1];\n",
       "\t    } else {\n",
       "\t\theading_text = heading_label;\n",
       "\t    }\n",
       "\t    \n",
       "\t    if (old_header != heading_text) {\n",
       "\t\tremove_numbering = false;\n",
       "\t\treplace_links(old_header, heading_text);\n",
       "\t    }\n",
       "\t    \n",
       "\t    heading_text = heading_text.trim();\n",
       "\t    set_heading_text(cell, heading_text);\n",
       "\t}\n",
       "    }\n",
       "    \n",
       "    if (alert_flag) {\n",
       "\talert(alert_text);\n",
       "    }\n",
       "    \n",
       "    if (remove_numbering) {\n",
       "\tfor (var i = 0; i < cells.length; i++) {\n",
       "\t    var cell = cells[i];\n",
       "\t    if (is_heading(cell)) {\n",
       "\t\tif (cell.get_text().match(/^#+Table of Contents/)) \n",
       "\t\t    continue;\n",
       "\t\tif (cell.get_text().match(/^#+References/)) \n",
       "\t\t    continue;\n",
       "\t\tvar heading_text = get_heading_text(cell);\n",
       "\t\told_header = heading_text;\n",
       "\t\tvar re = /(?:\\d*\\.*)*\\s*(.*)/;\n",
       "\t\tvar match = heading_text.match(re);\n",
       "\t\tif (match) {\n",
       "\t\t    heading_text = match[1];\n",
       "\t\t}\n",
       "\t\tset_heading_text(cell, heading_text);\n",
       "\t\treplace_links(old_header, heading_text);\n",
       "\t    }\n",
       "\t}\n",
       "    }\n",
       "    \n",
       "    // If there is a Table of Contents, replace it:\n",
       "    var cells = IPython.notebook.get_cells();\n",
       "    for (var i = 0; i < cells.length; i++) {\n",
       "        var cell = cells[i];\n",
       "        if (cell.cell_type == \"markdown\") {\n",
       "\t    var cell_text = cell.get_text();\n",
       "\t    var match = cell_text.match(/^#+Table of Contents/);\n",
       "\t    if (match) {\n",
       "\t\ttable_of_contents();\n",
       "\t\tbreak;\n",
       "\t    }\n",
       "\t}\n",
       "    }\n",
       "}\n",
       "\n",
       "function replace_links(old_header, new_header) {\n",
       "    // Replace an old internal link with new link\n",
       "    new_header = new_header.trim();\n",
       "    var cells = IPython.notebook.get_cells();\n",
       "    for (var i = 0; i < cells.length; i++) {\n",
       "        var cell = cells[i];\n",
       "        if (cell.cell_type == \"markdown\") {\n",
       "\t    var cell_text = cell.get_text();\n",
       "\t    // Skip over table of contents:\n",
       "\t    if (cell_text.match(/^#+Table of Contents/)) {\n",
       "\t\tcontinue;\n",
       "\t    }\n",
       "\t    var re_string = old_header;\n",
       "\t    re_string = re_string.replace(/\\\\/g, \"\\\\\\\\\");\n",
       "\t    re_string = re_string.replace(/\\//g, \"\\\\/\");\n",
       "\t    re_string = re_string.replace(/\\^/g, \"\\\\^\");\n",
       "\t    re_string = re_string.replace(/\\$/g, \"\\\\$\");\n",
       "\t    re_string = re_string.replace(/\\*/g, \"\\\\*\");\n",
       "\t    re_string = re_string.replace(/\\+/g, \"\\\\+\");\n",
       "\t    re_string = re_string.replace(/\\?/g, \"\\\\?\");\n",
       "\t    re_string = re_string.replace(/\\./g, \"\\\\.\");\n",
       "\t    re_string = re_string.replace(/\\)/g, \"%29\");\n",
       "\t    re_string = re_string.replace(/\\|/g, \"\\\\|\");\n",
       "\t    re_string = re_string.replace(/\\[/g, \"\\\\[\");\n",
       "\t    re_string = re_string.replace(/\\]/g, \"\\\\]\");\n",
       "\t    re_string = re_string.replace(/\\(/g, \"?:\\\\(|%28\");\n",
       "\t    re_string = re_string.replace(/\\s/g, \"-\");\n",
       "\t    re_string = \"(\\\\[.*\\\\](?::\\\\s*|\\\\()#)\" + re_string + \"(.*\\\\)|(.*)$)\";\n",
       "\t    \n",
       "\t    var re = new RegExp(re_string, \"gm\");\n",
       "\t    var link_text = new_header.replace(/\\s+$/g, \"\"); //Delete trailing spaces before they become \"-\"\n",
       "\t    link_text = link_text.replace(/\\(/g, \"%28\"); //Replace left parentheses with their encoding\n",
       "\t    link_text = link_text.replace(/\\)/g, \"%29\"); //Replace right parentheses with their encoding\n",
       "\t    link_text = link_text.replace(/ /g, \"-\"); //Replace all spaces with dashes to create links\n",
       "\t    \n",
       "\t    var match = cell_text.match(re);\n",
       "\t    if (match) {\n",
       "                var new_text = cell_text.replace(re, \"$1\" + link_text + \"$2\");\n",
       "                cell.unrender();\n",
       "                cell.set_text(new_text);\n",
       "                cell.render();\n",
       "\t    }\n",
       "        }\n",
       "    }\n",
       "}\n",
       "\n",
       "function find_cell(cell_type, text) {\n",
       "    // Finds first cell of cell_type that starts with text\n",
       "    // cell_type and text are interpreted as a regular expression\n",
       "    var cell = undefined;\n",
       "    var cells = IPython.notebook.get_cells();\n",
       "    for (var x = 0; x < cells.length; x++) {\n",
       "\tvar temp = cells[x];\n",
       "\tif (temp.cell_type.match(cell_type) != undefined) {\n",
       "\t    var temp_text = temp.get_text();\n",
       "\t    var re = new RegExp(\"^\" + text);\n",
       "\t    if (re.test(temp_text)) {\n",
       "\t\tcell = cells[x];\n",
       "\t\tbreak;\n",
       "\t    }\n",
       "\t}\n",
       "    }\n",
       "    return cell;\n",
       "}\n",
       "\n",
       "function table_of_contents() {\n",
       "    break_into_sections();\n",
       "    // Create and/or replace Table of Contents\n",
       "    var cells = IPython.notebook.get_cells();\n",
       "    var toc_cell = find_cell(\"markdown\", \"#+Table of Contents\");\n",
       "    // Default to top-level heading\n",
       "    var toc_text = \"#Table of Contents\\n\";\n",
       "    if (toc_cell == undefined) {\n",
       "\t//Create a new markdown cell at the top of the Notebook\n",
       "\ttoc_cell = IPython.notebook.select(0).insert_cell_below(\"markdown\"); \n",
       "    } else {\n",
       "\t// already exists:\n",
       "\ttoc_text = toc_cell.get_text().match(/^#+Table of Contents/)[0] + \"\\n\";\n",
       "    }\n",
       "    var prev_lev = 0;\n",
       "    for (var i = 0; i < cells.length; i++) {\n",
       "\tvar cell = cells[i];\n",
       "\tif (is_heading(cell)) {\n",
       "\t    if (cell.get_text().match(/^#+Table of Contents/)) \n",
       "\t\tcontinue;\n",
       "\t    if (cell.get_text().match(/^#+References/)) \n",
       "\t\tcontinue;\n",
       "\t    if (get_level(cell) - prev_lev > 1) { //Skipped levels. Enter Dummy levels\n",
       "\t\tfor (var x = 0; x < ((get_level(cell) - prev_lev) - 1); x++) {\n",
       "\t\t    for (var y = 0; y < (prev_lev + x); y++) {\n",
       "\t\t\ttoc_text += \"\\t\";\n",
       "\t\t    }\n",
       "\t\t    toc_text += \"* &nbsp;\\n\";\n",
       "\t\t}\n",
       "\t    }\n",
       "\t    var cell_text = get_heading_text(cell);\n",
       "\t    for (var j = 0; j < get_level(cell) -1; j++) { //Loop to add the proper amount of tabs based on header level\n",
       "\t\ttoc_text += \"\\t\";\n",
       "\t    }\n",
       "\t    toc_text += \"* [\";\n",
       "\t    toc_text += cell_text;\n",
       "\t    toc_text += \"](#\";\n",
       "\t    var link_text = cell_text.replace(/\\s+$/g, \"\"); //Delete trailing spaces before they become \"-\"\n",
       "\t    link_text = link_text.replace(/\\(/g, \"%28\"); //Replace left parentheses with their encoding\n",
       "\t    link_text = link_text.replace(/\\)/g, \"%29\"); //Replace right parentheses with their encoding\n",
       "\t    link_text = link_text.replace(/ /g, \"-\"); //Replace all spaces with dashes to create links\n",
       "\t    toc_text += link_text;\n",
       "\t    toc_text += \")\\n\";\n",
       "\t    prev_lev = get_level(cell);\n",
       "\t}\n",
       "    }\n",
       "    toc_cell.unrender();\n",
       "    toc_cell.set_text(toc_text);\n",
       "    toc_cell.render();\n",
       "}\n",
       "$([IPython.events]).on('status_started.Kernel notebook_loaded.Notebook', table_of_contents);"
      ]
     },
     "metadata": {},
     "output_type": "display_data"
    }
   ],
   "source": [
    "%run ../code/init_mooc_nb.ipy"
   ]
  },
  {
   "cell_type": "markdown",
   "metadata": {},
   "source": [
    "#Table of Contents\n",
    "* [Introduction](#Introduction)\n",
    "* [Interacting systems](#Interacting-systems)\n",
    "* [Fractional charge and statistics in the fractional quantized Hall effect](#Fractional-charge-and-statistics-in-the-fractional-quantized-Hall-effect)\n",
    "* [Topological degeneracy](#Topological-degeneracy)\n",
    "* [Creating an FQH state](#Creating-an-FQH-state)\n",
    "* [Classficiation and fractional topological insulators](#Classficiation-and-fractional-topological-insulators)\n",
    "* [Conclusions](#Conclusions)\n"
   ]
  },
  {
   "cell_type": "markdown",
   "metadata": {},
   "source": [
    "**No content above this line is visible in edX**"
   ]
  },
  {
   "cell_type": "markdown",
   "metadata": {},
   "source": [
    "# Introduction"
   ]
  },
  {
   "cell_type": "markdown",
   "metadata": {},
   "source": [
    "This topic is introduced by Sankar Das Sarma from the university of Maryland"
   ]
  },
  {
   "cell_type": "code",
   "execution_count": null,
   "metadata": {
    "collapsed": false
   },
   "outputs": [
    {
     "data": {
      "text/html": [
       "\n",
       "        <iframe\n",
       "            width=\"400\"\n",
       "            height=300\"\n",
       "            src=\"https://www.youtube.com/embed/4gSJSo3olfg\"\n",
       "            frameborder=\"0\"\n",
       "            allowfullscreen\n",
       "        ></iframe>\n",
       "        "
      ],
      "text/plain": [
       "MoocVideo(**{'download_video': 'true', 'display_name': '', 'sub': '4gSJSo3olfg', 'youtube': '1.00:4gSJSo3olfg', 'show_captions': 'true', 'youtube_id_1_0': '4gSJSo3olfg', 'source': 'http://delftxdownloads.tudelft.nl/TOPOCMx-QuantumKnots/TOPOCMx-12.1-intro-video.720.mp4', 'download_track': 'true'})"
      ]
     },
     "execution_count": null,
     "metadata": {},
     "output_type": "execute_result"
    }
   ],
   "source": [
    "MoocVideo(\"4gSJSo3olfg\", src_location=\"12.1-intro\")"
   ]
  },
  {
   "cell_type": "markdown",
   "metadata": {},
   "source": [
    "# Interacting systems"
   ]
  },
  {
   "cell_type": "markdown",
   "metadata": {},
   "source": [
    "One obvious thing that we completely ignored throughout the course is what happens to topology in presence of interactions. It is of course possible to generalize all the symmetry classes that we have studied to many-body Hamiltonians, but what happens to the classification of the topological phases?\n",
    "\n",
    "The first statement we should make here is that our work so far wasn't wasted: most of the usual topological insulators turn out to tolerate interactions as long as the interactions do not spontaneously break the symmetry, or close the bulk gap.\n",
    "There are interesting cases where the classification collapses, so for example the 1D BDI chain containing Majorana fermions on one of the two sublattice degrees of freedom, allows a $\\mathbb{Z}_8$ classification with interactions instead of $\\mathbb{Z}$. The reason for this is that the 8-Majorana interaction term doesn't break the symmetries anymore.\n",
    "\n",
    "However this is relatively small compared to the real can of worms that the interactions open: the amount of possibilities for the interacting phases is much larger, and as a beginning we'll discuss the oldest known example of a strongly interacting topological phase, the fractional quantum Hall effect. Note that it only covers a single dimension ($D=2$), and a single symmetry class (no symmetry at all). Yet, classifying all such states turns out to be a very hard task."
   ]
  },
  {
   "cell_type": "markdown",
   "metadata": {},
   "source": [
    "# Fractional charge and statistics in the fractional quantized Hall effect"
   ]
  },
  {
   "cell_type": "markdown",
   "metadata": {},
   "source": [
    "If you followed what we learned about the integer quantum Hall effect, you'll remember that we used the pumping argument in the Hall effect to establish that the Hall effect in an incompressible liquid would be quantized in integers. You might now wonder if the experimental evidence for the fractional quantum Hall effect completely invalidates this argument in some way. The key step in the argument was to realized that the pumped charge that resulted from the insertion of one flux quantum $\\Phi_0$ into a Corbino geometry is \n",
    "\n",
    "$$\n",
    "Q_{pump}=\\sigma_{xy}\\Phi_0\\equiv \\nu e,\n",
    "$$\n",
    "\n",
    "where $\\nu=\\sigma_{xy}/G_0$ is the Hall conductance in dimensionless units. For the non-interacting system that we studied in the quantum Hall effect, we assumed that only an integer number of electrons could be transferred between the edges - so $\\nu$ had to be an integer. "
   ]
  },
  {
   "cell_type": "markdown",
   "metadata": {},
   "source": [
    "The real reason that the charge transferred had to be an integer multiple of the electron was that the Hamiltonian for the electrons was identical between flux $\\Phi=0$ and flux $\\Phi=\\Phi_0$. Since the system is incompressible, it is reasonable to assume that all excitations in the system are local. Usually we expect different excited states to differ by rearranging electrons. Within this framework, such excitations can differ by integer multiples of electronic charge.\n",
    "\n",
    "The existence of a fractional values of $\\nu$ implies that the edge can have local excitations that differ by a fractional charge of an electron. In principle, the inner edge of the Corbino geometry can be shrunk to a point, and if we do this, we're forced to conclude that the system can now host excitations that have fractional charge."
   ]
  },
  {
   "cell_type": "markdown",
   "metadata": {},
   "source": [
    "The fractional charged excitations are local particles just like the electrons themselves. So we can ask about the statistics under exchange of two such particles. On performing such an exchange the total many-body wave-function of the system returns to itself, but\n",
    "the wave-function can pick up a Berry phase. For fermions this phase is $\\pi$ and for Bosons it is zero. Instead of computing the phase directly, let us consider doing a double exchange, which is topologically equivalent to taking a particle around another one and computing the phase for that. \n",
    "\n",
    "![](figures/exchange.png)\n",
    "\n",
    "Let us first consider one of the particles to be created by a flux quantum. Since the flux quantum created this particle adiabatically by a pumping process, locality dictates that the particle going around the flux quantum + particle cannot know about the existence of the particle. Thus the phase from going around a particle together with its flux quantum must vanish. On the other hand, the particle picks up a phase of $2\\pi \\nu$ from just going around the flux quantum. Thus double exchange of a pair of particles leads to a Berry phase of $-2\\pi\\nu$. This is a further strange property that we have concluded for the excitations in the FQH state! They must have statistics that is different from both fermions or bosons and are referred to as anyons. Therefore the exchange phase of the anyons in the simple FQH states are given by \n",
    "\n",
    "$$\n",
    "\\phi_{exch}=\\pi\\nu.\n",
    "$$"
   ]
  },
  {
   "cell_type": "code",
   "execution_count": null,
   "metadata": {
    "collapsed": false
   },
   "outputs": [
    {
     "data": {
      "text/html": [
       "<h4>The Laughlin argument was used to prove that the Hall effect must be quantized in integers. What is the key assumptionthat must be dropped in order to understand the fractional quantum Hall effect?</h4><form><input type=\"radio\" name=\"answer\" value=\"Allow electrons to have fractional statistics.\">Allow electrons to have fractional statistics.<br><input type=\"radio\" name=\"answer\" value=\"Allow quasiparticles with fractional charge.\">Allow quasiparticles with fractional charge.<br><input type=\"radio\" name=\"answer\" value=\"Require that the system forms an incompressible fluid.\">Require that the system forms an incompressible fluid.<br><input type=\"radio\" name=\"answer\" value=\"Allow electrons to have fractional charge.\">Allow electrons to have fractional charge.<br><input type=\"radio\" name=\"answer\" value=\"Allow quasiparticles to have fractional statistics.\">Allow quasiparticles to have fractional statistics.<br></form>\n",
       "        <button title=\"Click to show/hide content\" type=\"button\"\n",
       "        onclick=\"if(document.getElementById('b79f252077f621dbd360aa3abb8aa089')\n",
       "         .style.display=='none') {document.getElementById('b79f252077f621dbd360aa3abb8aa089')\n",
       "         .style.display=''}else{document.getElementById('b79f252077f621dbd360aa3abb8aa089')\n",
       "         .style.display='none'}\">Show answer</button>\n",
       "\n",
       "        <div id=\"b79f252077f621dbd360aa3abb8aa089\" style=\"display:none\">The correct answer is: <br>Allow quasiparticles with fractional charge.<br><i>The key assumption in the Laughlin argument for the integer case was that the charge that was added by pumping couldonly be an integer multiple of an electronic charge.</i></div>"
      ],
      "text/plain": [
       "MoocMultipleChoiceAssessment(**{'display_name': 'Question', 'correct_answer': 1, 'explanation': 'The key assumption in the Laughlin argument for the integer case was that the charge that was added by pumping couldonly be an integer multiple of an electronic charge.', 'question': 'The Laughlin argument was used to prove that the Hall effect must be quantized in integers. What is the key assumptionthat must be dropped in order to understand the fractional quantum Hall effect?', 'answers': ['Allow electrons to have fractional statistics.', 'Allow quasiparticles with fractional charge.', 'Require that the system forms an incompressible fluid.', 'Allow electrons to have fractional charge.', 'Allow quasiparticles to have fractional statistics.'], 'max_attempts': 2})"
      ]
     },
     "execution_count": null,
     "metadata": {},
     "output_type": "execute_result"
    }
   ],
   "source": [
    "question = (\"The Laughlin argument was used to prove that the Hall effect must be quantized in integers. What is the key assumption\"\n",
    "            \"that must be dropped in order to understand the fractional quantum Hall effect?\")\n",
    "\n",
    "answers = [\"Allow electrons to have fractional statistics.\",\n",
    "           \"Allow quasiparticles with fractional charge.\",\n",
    "           \"Require that the system forms an incompressible fluid.\",\n",
    "           \"Allow electrons to have fractional charge.\",\n",
    "           \"Allow quasiparticles to have fractional statistics.\"]\n",
    "\n",
    "explanation = (\"The key assumption in the Laughlin argument for the integer case was that the charge that was added by pumping could\"\n",
    "               \"only be an integer multiple of an electronic charge.\")\n",
    "\n",
    "MoocMultipleChoiceAssessment(question=question, answers=answers, correct_answer=1, explanation=explanation)"
   ]
  },
  {
   "cell_type": "markdown",
   "metadata": {},
   "source": [
    "# Topological degeneracy"
   ]
  },
  {
   "cell_type": "markdown",
   "metadata": {},
   "source": [
    "Knowing that the system supports particles with nontrivial braiding statistics, we can derive its next important property, the topological degeneracy of the ground state.\n",
    "\n",
    "To do this, we turn around the argument for computing the statistics of particles and consider the statistics of fluxes. A particle going around a flux acquires a phase of $2\\pi\\nu$. As noted in the last unit, the combination of a particle and flux does not have any non-trivial exchange statistics. So replacing the particle by another flux will lead to a phase of $-2\\pi \\nu$. Therefore the exchange phase of fluxes gives a phase of $\\pi\\nu$ just as the exchange of particles."
   ]
  },
  {
   "cell_type": "markdown",
   "metadata": {},
   "source": [
    "Let us now put the FQH system on a torus. A natural operation on the torus is to create a flux anti-flux pair and move them around a cycle of the torus and annihilate them at the end. This operation inserts a flux into one of the two nontrivial cycles of the torus. Let's label this operation $T_{1,2}$ for each of the cycles of the torus:\n",
    "\n",
    "![](figures/torus.png)\n",
    "\n",
    "The last physical step to deriving the degeneracy is to ask what is the commutator $T_1^{-1}T_2^{-1}T_1 T_2$. This operator describes moving a vortex around the red contour, moving the vortext around the blue contour, moving the vortex back around the red contour, and finally undoing the motion of the vortex along the blue contour.\n",
    "No matter which path we choose for this operation, we will need to take one vortex all the way around the other one, and according to the braiding rule we get:\n",
    "\n",
    "$$\n",
    "T_1^{-1}T_2^{-1}T_1 T_2 =e^{i2\\pi \\nu}.\n",
    "$$\n",
    "\n",
    "Now all we need to do is an exercise in elementary quantum mechanics. First of all, both $T_{1,2}$ commute with the Hamiltonian. Let's take $|\\Psi\\rangle$, a simultaneous ground state of the Hamiltonian and an eigenstate of $T_1$. If in addition $e^{i\\alpha}|\\Psi\\rangle=T_2|\\Psi\\rangle$, then $T_1$ and $T_2$ would commute. Since we know it isn't the case, $T_2|\\Psi\\rangle$ must be a ground state of the Hamiltonian which is not the same as $|\\Psi\\rangle$.\n",
    "\n",
    "> We conclude that fractional quantum Hall phases have ground state degeneracy on the torus.\n",
    "\n",
    "We have seen an example of ground state degeneracy in the Majorana wires, where the degeneracy of the zero modes could not be lifted by any local perturbation. The difference between the Majorana case and fractional quantum Hall is that we don't rely on presence of defects, and the degeneracy is a property of the surface on which we put the fractional quantum Hall state."
   ]
  },
  {
   "cell_type": "markdown",
   "metadata": {},
   "source": [
    "# Creating an FQH state"
   ]
  },
  {
   "cell_type": "markdown",
   "metadata": {},
   "source": [
    "How to describe a fractional quantum Hall state? Laughlin used a representation of the many-electron wave-function in complex coordinates to guess a wave-function of an incompressible state. We will instead follow the more intuitive \"Composite Fermion\" approach to understanding this state due to Jain. \n",
    "\n",
    "The starting point for the FQH state is of course the same as the integer quantum hall states i.e. electrons in a magnetic field that occupy Landau levels. As we noticed in week 3, every state in a single Landau level is at exactly the same energy. The simplest family of FQH states are ones where the lowest Landau level states are only partially filled. Since there is no kinetic energy, the state is determined entirely by optimizing the Coulomb repulsion by being as far away from each other."
   ]
  },
  {
   "cell_type": "markdown",
   "metadata": {},
   "source": [
    "The composite fermion theory postulates that electrons manage to space themselves out by associating themselves with \"vortex\"-like excitations. If you remember a vortex in a superconductor was a defect where the superconducting phase $\\varphi$ winds by $2\\pi$ when going around the vortex. An electron going around the vortex would pick up a $\\pi$-phase shift. On the other hand, an electron could go around a double vortex and pick up effectively no (i.e. $2\\pi$) phase shift. However, the electron does feel a phase gradient or a vector potential ${\\bf A}={\\bf\\nabla}\\varphi$ as it goes around the vortex. Such a vector potential is like a magnetic field and repels the electron. \n",
    "\n",
    "Of course we have no superconductivity at hand, but we can mimic the vortex properties using a mathematical trick involving complex numbers. First let us introduce complex coordinates for the electrons $z=x+iy$. Then we notice that we can insert a double vortex at $z_0$ in a gas of electrons with wave-function $\\Psi(z_1,\\dots)$ by the transformation\n",
    "\n",
    "$$\n",
    "\\Psi(z_1,\\dots)\\rightarrow \\prod(z_i-z_0)^2\\Psi(z_1,\\dots).\n",
    "$$\n",
    "\n",
    "> The basic trick of composite fermions in trying to keep electrons far apart is to say that each electron binds  an even number $(2m)$ vortices to form a composite fermion.\n",
    "\n",
    "This amounts to the transformation of the many-body wave-function $\\Psi_{CF}(z_1,z_2,\\dots)=\\prod_{i < j}(z_i-z_j)^2\\Psi(z_1,z_2,\\dots)$, where $z_j$ are the electron wave-functions.\n",
    "\n",
    "Pictorially the composite fermion transformation are represented as:\n",
    "\n",
    "<img src=\"figures/composite.png\" width=\"800\"></img>"
   ]
  },
  {
   "cell_type": "markdown",
   "metadata": {},
   "source": [
    "The next step in the composite fermion approach to the FQH state is to say that all the correlation effects of the Coulomb interaction is taken care of by the flux attachment. Beyond this, the composite fermions are weakly interacting particles. If we believe in this picture, then the only non-interacting incompressible states that we can get are integer quantum hall states. This means that the FQH states are integer quantum Hall states of the composite fermions.\n",
    "\n",
    "How does this explain a fractionally filled state? Well the original electron is $2m$ flux quanta together with a composite fermion. If we smear out the flux created by the electron density $\\nu$, we get a magnetic field of $2m\\nu$ flux quanta per unit area. This is in addition to the one flux quantum per unit area of the external magnetic field. Therefore the composite fermions, which are at a density of $\\nu$ per unit area see a magnetic field of $2m\\nu+1$ per unit area. We can make the composite fermions form an incompressible state with $p$-Landau levels filled if \n",
    "$\\nu=p(2m\\nu+1),$ so that we describe a state of filling \n",
    "\n",
    "$$\n",
    "\\nu=\\frac{p}{2 m p-1}.\n",
    "$$\n",
    "\n",
    "Thus the composite fermion theory provides an explanation for how electrons can form incompressible states at a fractional sequence of filling fractions that are known as the \"Jain sequence\". These states were all seen in experiments."
   ]
  },
  {
   "cell_type": "code",
   "execution_count": null,
   "metadata": {
    "collapsed": false
   },
   "outputs": [
    {
     "data": {
      "text/html": [
       "<h4>Composite fermions allow one to explain incompressible states at fractional filling of the Landau levels by postulating that:</h4><form><input type=\"radio\" name=\"answer\" value=\"The quantum Hall system forms an incompressible liquid.\">The quantum Hall system forms an incompressible liquid.<br><input type=\"radio\" name=\"answer\" value=\"The fractionally charged quasiparticles bind to fluxes to reduce the filling.\">The fractionally charged quasiparticles bind to fluxes to reduce the filling.<br><input type=\"radio\" name=\"answer\" value=\"The electrons become fractionally charged.\">The electrons become fractionally charged.<br><input type=\"radio\" name=\"answer\" value=\"The electrons bind to fluxes and reduce the effective magnetic field.\">The electrons bind to fluxes and reduce the effective magnetic field.<br></form>\n",
       "        <button title=\"Click to show/hide content\" type=\"button\"\n",
       "        onclick=\"if(document.getElementById('0600aeb033923dff98dc8c84e75dae91')\n",
       "         .style.display=='none') {document.getElementById('0600aeb033923dff98dc8c84e75dae91')\n",
       "         .style.display=''}else{document.getElementById('0600aeb033923dff98dc8c84e75dae91')\n",
       "         .style.display='none'}\">Show answer</button>\n",
       "\n",
       "        <div id=\"0600aeb033923dff98dc8c84e75dae91\" style=\"display:none\">The correct answer is: <br>The electrons bind to fluxes and reduce the effective magnetic field.<br><i>Composite fermions are electrons bound to fluxes. Electrons are the fundamental particles and they cannot change their charge. The fractional charged quasiparticles are invoked by composite fermions not explained by the theory.  The incompressible liquid is true for either integer or fractional quantum Hall.</i></div>"
      ],
      "text/plain": [
       "MoocMultipleChoiceAssessment(**{'display_name': 'Question', 'correct_answer': 3, 'explanation': 'Composite fermions are electrons bound to fluxes. Electrons are the fundamental particles and they cannot change their charge. The fractional charged quasiparticles are invoked by composite fermions not explained by the theory.  The incompressible liquid is true for either integer or fractional quantum Hall.', 'question': 'Composite fermions allow one to explain incompressible states at fractional filling of the Landau levels by postulating that:', 'answers': ['The quantum Hall system forms an incompressible liquid.', 'The fractionally charged quasiparticles bind to fluxes to reduce the filling.', 'The electrons become fractionally charged.', 'The electrons bind to fluxes and reduce the effective magnetic field.'], 'max_attempts': 2})"
      ]
     },
     "execution_count": null,
     "metadata": {},
     "output_type": "execute_result"
    }
   ],
   "source": [
    "question = (\"Composite fermions allow one to explain incompressible states at fractional filling of the Landau levels by \"\n",
    "            \"postulating that:\")\n",
    "\n",
    "answers = [\"The quantum Hall system forms an incompressible liquid.\",\n",
    "           \"The fractionally charged quasiparticles bind to fluxes to reduce the filling.\",\n",
    "           \"The electrons become fractionally charged.\",\n",
    "           \"The electrons bind to fluxes and reduce the effective magnetic field.\"]\n",
    "\n",
    "explanation = (\"Composite fermions are electrons bound to fluxes. Electrons are the fundamental particles and they cannot change \"\n",
    "               \"their charge. The fractional charged quasiparticles are invoked by composite fermions not explained by the theory. \"\n",
    "               \" The incompressible liquid is true for either integer or fractional quantum Hall.\")\n",
    "\n",
    "MoocMultipleChoiceAssessment(question=question, answers=answers, correct_answer=3, explanation=explanation)"
   ]
  },
  {
   "cell_type": "markdown",
   "metadata": {},
   "source": [
    "# Classficiation and fractional topological insulators"
   ]
  },
  {
   "cell_type": "markdown",
   "metadata": {},
   "source": [
    "Before we approach the classification of topological insulators in presence of symmetries, let's discuss the fractional quantum Hall effect. In fact, there are a whole bunch of fractional quantum Hall states, so there is clearly room for classification. However, at first glance it looks more challenging because we cannot really solve general two dimensional interacting Hamiltonians. The tool that is used to understand what phases might exist is braiding. Based on all the examples of two-dimensional topological states with no symmetry that we have so far, it is believed that distinct topological states are characterized by distinct particle-like anyonic excitations with distinct topological properties. It is certainly obvious that if two states have topologically distinct excitations in the bulk they cannot be adiabatically deformed into one another, since the braiding rules cannot change continuously.\n",
    "\n",
    "So the basic rule of the game is to ask what are all possible braiding rules for excitations in two dimensions. One would think that it would simply be arbitrary. Turns out that the situation is not quite as bad - locality and unitarity put rather strong constraints on the possible braids of particles. The answer is obtained through a branch of mathematics called modular tensor category theory and the theory tells us that valid sets of fractional excitations must obey the so-called pentagon and hexagon equations. All this being said, not all solutions of these equations are known - so basically the set of possible phases is not quite known. And this is all very abstract - and not even all the abstractly known phases that have acceptable braiding rules are known to be realized in nature. In fact, so far most of the known phases seem to be composite fermion ones that are well-understood."
   ]
  },
  {
   "cell_type": "markdown",
   "metadata": {},
   "source": [
    "## Symmetries\n",
    "\n",
    "To approach the classification of interacting topological insulators with symmetries, we can start by playing the same game as Kane and Mele, and combine two fractional quantum Hall states (instead of integer ones) to make a fractional topological insulator. If we choose a pair of FQH states which are related by time-reversal and stack them together for spin-up and spin-down electrons, that technically leads to a time-reversal invariant state. The key question that needs to be asked is whether one can gap out the edge states by adding time-reversal invariant perturbations. If one can do that then the state, unlike the Kane-Mele quantum spin Hall state, is not a phase that is protected by just time-reversal symmetry. This question is not too mathematically involved, though still beyond this course and can be answered by the bosonization technique as was done by [Stern and Levin](http://arxiv.org/abs/0906.2769).\n",
    "\n",
    "We can however explain the result. If one stacks the two FQH states one obtains a spin-Hall conductance $\\sigma_{sh}$, which is equal to the Hall conductance of each layer. Let the smallest charge of an excitation of our phase to be $e^*$, some fraction of electron charge. It turns out that the edge states are protected from gapping by time-reversal invariant perturbations if and only if $\\sigma_{sh}/e^*$ is an odd integer. This gives some idea as to what kind of interacting analogues of quantum spin Hall states one may get. But again as with the non-symmetric case, the general classification is still up in the air. More importantly, we don't really have realistic candidates for such states yet."
   ]
  },
  {
   "cell_type": "markdown",
   "metadata": {},
   "source": [
    "# Conclusions"
   ]
  },
  {
   "cell_type": "code",
   "execution_count": null,
   "metadata": {
    "collapsed": false
   },
   "outputs": [
    {
     "data": {
      "text/html": [
       "\n",
       "        <iframe\n",
       "            width=\"400\"\n",
       "            height=300\"\n",
       "            src=\"https://www.youtube.com/embed/zrL-qxjKfGw\"\n",
       "            frameborder=\"0\"\n",
       "            allowfullscreen\n",
       "        ></iframe>\n",
       "        "
      ],
      "text/plain": [
       "MoocVideo(**{'download_video': 'true', 'display_name': '', 'sub': 'zrL-qxjKfGw', 'youtube': '1.00:zrL-qxjKfGw', 'show_captions': 'true', 'youtube_id_1_0': 'zrL-qxjKfGw', 'source': 'http://delftxdownloads.tudelft.nl/TOPOCMx-QuantumKnots/TOPOCMx-12.1-summary-video.720.mp4', 'download_track': 'true'})"
      ]
     },
     "execution_count": null,
     "metadata": {},
     "output_type": "execute_result"
    }
   ],
   "source": [
    "MoocVideo(\"zrL-qxjKfGw\", src_location=\"12.1-summary\")"
   ]
  },
  {
   "cell_type": "markdown",
   "metadata": {},
   "source": [
    "Questions about what you just learned? Ask them below!"
   ]
  },
  {
   "cell_type": "code",
   "execution_count": null,
   "metadata": {
    "collapsed": false
   },
   "outputs": [
    {
     "data": {
      "text/html": [
       "<p><b>Discussion</b> entitled 'FQHE' is available in the online version of the course.</p>"
      ],
      "text/plain": [
       "MoocDiscussion(**{'discussion_category': 'Questions', 'discussion_target': 'FQHE', 'display_name': 'FQHE', 'discussion_id': 'd68a487d9666bc7532bdeec5eab2d00d'})"
      ]
     },
     "execution_count": null,
     "metadata": {},
     "output_type": "execute_result"
    }
   ],
   "source": [
    "MoocDiscussion(\"Questions\", \"FQHE\")"
   ]
  }
 ],
 "metadata": {},
 "nbformat": 4,
 "nbformat_minor": 0
}