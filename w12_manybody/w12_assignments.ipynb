{
 "metadata": {
  "name": ""
 },
 "nbformat": 3,
 "nbformat_minor": 0,
 "worksheets": [
  {
   "cells": [
    {
     "cell_type": "markdown",
     "metadata": {},
     "source": [
      "%run ../code/init_mooc_nb.ipy"
     ]
    },
    {
     "cell_type": "markdown",
     "metadata": {},
     "source": [
      "#Table of Contents\n",
      "* [Review assignment](#Review-assignment)\n"
     ]
    },
    {
     "cell_type": "heading",
     "level": 1,
     "metadata": {},
     "source": [
      "Review assignment"
     ]
    },
    {
     "cell_type": "code",
     "collapsed": false,
     "input": [
      "display_html(PreprintReference('0910.2763', description=\"Fractional quantum Hall effect in graphene\"))\n",
      "display_html(PreprintReference('1204.5497', description=\"Fractional Majoranas in fractional quantum Hall edges\"))\n",
      "display_html(PreprintReference('0803.02772', description=\"A scheme for quantum computation using the toric code\"))\n",
      "display_html(PreprintReference('1502.01665', description=\"Making a fractional quantum Hall effect by coupling wires\"))"
     ],
     "language": "python",
     "metadata": {},
     "outputs": [
      {
       "html": [
        "<h3 class=\"title mathjax\">Observation of the Fractional Quantum Hall Effect in Graphene</h3><p><a href=http://arxiv.org/abs/0910.2763>http://arxiv.org/abs/0910.2763</a><br><div class=\"authors\">Kirill I. Bolotin, Fereshte Ghahari, Michael D. Shulman, Horst L. Stormer, Philip Kim</div></p><p><blockquote class=\"abstract mathjax\">When electrons are confined in two dimensions and subjected to strong\n",
        "magnetic fields, the Coulomb interactions between them become dominant and can\n",
        "lead to novel states of matter such as fractional quantum Hall liquids. In\n",
        "these liquids electrons linked to magnetic flux quanta form complex composite\n",
        "quasipartices, which are manifested in the quantization of the Hall\n",
        "conductivity as rational fractions of the conductance quantum. The recent\n",
        "experimental discovery of an anomalous integer quantum Hall effect in graphene\n",
        "has opened up a new avenue in the study of correlated 2D electronic systems, in\n",
        "which the interacting electron wavefunctions are those of massless chiral\n",
        "fermions. However, due to the prevailing disorder, graphene has thus far\n",
        "exhibited only weak signatures of correlated electron phenomena, despite\n",
        "concerted experimental efforts and intense theoretical interest. Here, we\n",
        "report the observation of the fractional quantum Hall effect in ultraclean\n",
        "suspended graphene, supporting the existence of strongly correlated electron\n",
        "states in the presence of a magnetic field. In addition, at low carrier density\n",
        "graphene becomes an insulator with an energy gap tunable by magnetic field.\n",
        "These newly discovered quantum states offer the opportunity to study a new\n",
        "state of matter of strongly correlated Dirac fermions in the presence of large\n",
        "magnetic fields.</blockquote></p><p><b>Hint:</b> Fractional quantum Hall effect in graphene </p>"
       ],
       "metadata": {},
       "output_type": "display_data"
      },
      {
       "html": [
        "<h3 class=\"title mathjax\">Chiral random matrix theory for staggered fermions</h3><p><a href=http://arxiv.org/abs/1204.5497>http://arxiv.org/abs/1204.5497</a><br><div class=\"authors\">James C. Osborn</div></p><p><blockquote class=\"abstract mathjax\">We present a completed random matrix theory for staggered fermions which\n",
        "incorporates all taste symmetry breaking terms at their leading order from the\n",
        "staggered chiral Lagrangian. This is an extension of previous work which only\n",
        "included some of the taste breaking terms. We will also discuss the effects of\n",
        "taste symmetry breaking on the eigenvalues in the weak and strong taste\n",
        "breaking limits, and compare with some results from lattice simulations.</blockquote></p><p><b>Hint:</b> Fractional Majoranas in fractional quantum Hall edges </p>"
       ],
       "metadata": {},
       "output_type": "display_data"
      },
      {
       "html": [
        "<h3 class=\"title mathjax\">Testing chiral effective theory with quenched lattice QCD</h3><p><a href=http://arxiv.org/abs/0803.02772>http://arxiv.org/abs/0803.02772</a><br><div class=\"authors\">L. Giusti, P. Hernandez, S. Necco, C. Pena, J. Wennekers, H. Wittig</div></p><p><blockquote class=\"abstract mathjax\">We investigate two-point correlation functions of left-handed currents\n",
        "computed in quenched lattice QCD with the Neuberger-Dirac operator. We consider\n",
        "two lattice spacings a~0.09,0.12 fm and two different lattice extents L~ 1.5,\n",
        "2.0 fm; quark masses span both the p- and the epsilon-regimes. We compare the\n",
        "results with the predictions of quenched chiral perturbation theory, with the\n",
        "purpose of testing to what extent the effective theory reproduces quenched QCD\n",
        "at low energy. In the p-regime we test volume and quark mass dependence of the\n",
        "pseudoscalar decay constant and mass; in the epsilon-regime, we investigate\n",
        "volume and topology dependence of the correlators. While the leading order\n",
        "behaviour predicted by the effective theory is very well reproduced by the\n",
        "lattice data in the range of parameters that we explored, our numerical data\n",
        "are not precise enough to test next-to-leading order effects.</blockquote></p><p><b>Hint:</b> A scheme for quantum computation using the toric code </p>"
       ],
       "metadata": {},
       "output_type": "display_data"
      },
      {
       "html": [
        "<h3 class=\"title mathjax\">Imprint of topological degeneracy in quasi-one-dimensional fractional\n",
        "  quantum Hall states</h3><p><a href=http://arxiv.org/abs/1502.01665>http://arxiv.org/abs/1502.01665</a><br><div class=\"authors\">Eran Sagi, Yuval Oreg, Ady Stern, Bertrand I. Halperin</div></p><p><blockquote class=\"abstract mathjax\">We consider an annular superconductor-insulator-superconductor\n",
        "Josephson-junction, with the insulator being a double layer of electron and\n",
        "holes at Abelian fractional quantum Hall states of identical fillings. When the\n",
        "two superconductors gap out the edge modes, the system has a topological ground\n",
        "state degeneracy in the thermodynamic limit akin to the fractional quantum Hall\n",
        "degeneracy on a torus. In the quasi-one-dimensional limit, where the width of\n",
        "the insulator becomes small, the ground state energies are split. We discuss\n",
        "several implications of the topological degeneracy that survive the crossover\n",
        "to the quasi-one-dimensional limit. In particular, the Josephson effect shows a\n",
        "$2\\pi d$-periodicity, where $d$ is the ground state degeneracy in the 2\n",
        "dimensional limit. We find that at special values of the relative phase between\n",
        "the two superconductors there are protected crossing points in which the\n",
        "degeneracy is not completely lifted. These features occur also if the insulator\n",
        "is a time-reversal-invariant fractional topological insulator. We describe the\n",
        "latter using a construction based on coupled wires. Furthermore, when the\n",
        "superconductors are replaced by systems with an appropriate magnetic order that\n",
        "gap the edges via a spin-flipping backscattering, the Josephson effect is\n",
        "replaced by a spin Josephson effect.</blockquote></p><p><b>Hint:</b> Making a fractional quantum Hall effect by coupling wires </p>"
       ],
       "metadata": {},
       "output_type": "display_data"
      }
     ]
    },
    {
     "cell_type": "markdown",
     "metadata": {},
     "source": [
      "### Bonus: Find your own paper to review!\n",
      "\n",
      "Do you know of another paper that fits into the topics of this week, and you think is good?\n",
      "Then you can get bonus points by reviewing that paper instead!"
     ]
    },
    {
     "cell_type": "code",
     "collapsed": false,
     "input": [
      "MoocPeerAssessment(due=7, review_due=11)"
     ],
     "language": "python",
     "metadata": {},
     "outputs": [
      {
       "html": [
        "<p><b> Read one of the above papers and see how it is\n",
        "related to the current topic.</b></p>\n",
        "<p><b>In the live version of the course, you would need to write a summary which is then assessed by your peers.</b></p>"
       ],
       "metadata": {},
       "output_type": "pyout",
       "text": [
        "MoocPeerAssessment(**{'must_be_graded_by': 3, 'url_name': None, 'due': 7, 'review_due': 11, 'must_grade': 5, 'openassessment_peer': '<openassessment allow_file_upload=\"False\" allow_latex=\"True\" submission_due=\"2029-01-01T00:00:00+00:00\" submission_start=\"2001-01-01T00:00:00+00:00\">\\n  <title>Paper Review Assessment</title>\\n    <assessments>\\n      <assessment name=\"peer-assessment\" must_grade=\"5\" must_be_graded_by=\"3\" start=\"2015-02-05T12:00:00+00:00\" due=\"2015-02-19T12:00:00+00:00\"/>\\n    </assessments>\\n    <rubric>\\n      <prompt>Please pick one of the papers above, or if you know of a good paper that fits into this week\\'s topic, pick that one.\\n\\nLook through the paper you chose, and try to understand what is happening.\\n\\nOK, begin forming your report: start by copying the paper title and the URL.\\nTHIS IS IMPORTANT! (Your report will be read by your colleagues, and they will need this information.)\\n\\nFirst, try to tell: what is the main thing that happens in the paper. What do the authors do?\\n\\nNext, write in a single paragraph: which concepts that you learned this week appear in the paper?\\nWhere do they appear?\\n\\nNow in a new paragraph answer what new things you learned from the paper, compared to what you learned from our course?\\nIt\\'s OK if you don\\'t understand some (or even most) details, but try to find and formulate at least something new that you have learned.\\nPoint out to the places in text or to figures, which are the most valuable.\\n\\nFinally tell: What do you think are the strong sides of the paper?\\nWhat are the weak sides? Do you see something that you think could be improved?\\nDo you have some questions that the authors do not answer?\\nExplain why you think that way.</prompt>\\n      <criterion feedback=\"optional\">\\n        <name>Ideas</name>\\n        <label>Helpfulness</label>\\n        <prompt>Did reading the report help you to understand what the paper is about?\\n(Here and later if you were reviewing the same paper, try to imagine that you didn\\'t read it before)</prompt>\\n        <option points=\"1\">\\n          <name>0</name>\\n          <label>No</label>\\n          <explanation>I couldn\\'t relate the report and the paper.</explanation>\\n        </option>\\n        <option points=\"3\">\\n          <name>1</name>\\n          <label>Partially</label>\\n          <explanation>I could understand the overall direction of the paper, but not the main idea.</explanation>\\n        </option>\\n        <option points=\"5\">\\n          <name>2</name>\\n          <label>Yes</label>\\n          <explanation>After reading the report I fully knew what to expect from the paper.</explanation>\\n        </option>\\n      </criterion>\\n      <criterion feedback=\"optional\">\\n        <name>0</name>\\n        <label>Insight</label>\\n        <prompt>Did you learn something from the report itself (before you read the paper)</prompt>\\n        <option points=\"1\">\\n          <name>1</name>\\n          <label>Low</label>\\n          <explanation>The review has no additional information</explanation>\\n        </option>\\n        <option points=\"3\">\\n          <name>0</name>\\n          <label>Average</label>\\n          <explanation>The review nicely relates the paper to what we learned.</explanation>\\n        </option>\\n        <option points=\"5\">\\n          <name>2</name>\\n          <label>High</label>\\n          <explanation>I learned from the report something I didn\\'t see neither in the paper nor in the course.</explanation>\\n        </option>\\n      </criterion>\\n      <criterion feedback=\"optional\">\\n        <name>1</name>\\n        <label>Paper Evaluation</label>\\n        <prompt>Do you find the evaluation of the strengths and weaknesses of the paper shown in the report convincing?</prompt>\\n        <option points=\"1\">\\n          <name>0</name>\\n          <label>Weak</label>\\n          <explanation>I could not find the strengths and weaknesses of the paper that were pointed out in the report.\\n</explanation>\\n        </option>\\n        <option points=\"3\">\\n          <name>1</name>\\n          <label>Competent</label>\\n          <explanation>I agree with the evaluation of the strengths and weaknesses, but the argumentation presented was not completely clear.</explanation>\\n        </option>\\n        <option points=\"5\">\\n          <name>2</name>\\n          <label>Excellent</label>\\n          <explanation>I think the author of the report really understand the paper well, and knows its ins and outs.</explanation>\\n        </option>\\n      </criterion>\\n      <feedbackprompt>(Optional) What aspects of this report stood out to you? What did it do well? How could it improve?\\n</feedbackprompt>\\n      <feedback_default_text>This report was...\\n</feedback_default_text>\\n    </rubric>\\n  </openassessment>\\n'})"
       ]
      }
     ]
    },
    {
     "cell_type": "markdown",
     "metadata": {},
     "source": [
      "**Do you have questions about what you read? Would you like to suggest other papers? Tell us:**"
     ]
    },
    {
     "cell_type": "code",
     "collapsed": false,
     "input": [
      "MoocDiscussion(\"Reviews\", \"Many-body topology\")"
     ],
     "language": "python",
     "metadata": {},
     "outputs": [
      {
       "html": [
        "<p><b>Discussion</b> entitled 'Many-body topology' is available in the online version of the course.</p>"
       ],
       "metadata": {},
       "output_type": "pyout",
       "text": [
        "MoocDiscussion(**{'discussion_category': 'Reviews', 'discussion_target': 'Many-body topology', 'display_name': 'Many-body topology', 'discussion_id': 'd1a3d09c76f26553d464c42dc7aee296'})"
       ]
      }
     ]
    }
   ],
   "metadata": {}
  }
 ]
}