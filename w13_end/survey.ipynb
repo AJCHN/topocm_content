{
 "metadata": {
  "name": ""
 },
 "nbformat": 3,
 "nbformat_minor": 0,
 "worksheets": [
  {
   "cells": [
    {
     "cell_type": "code",
     "collapsed": false,
     "input": [
      "from IPython.display import IFrame"
     ],
     "language": "python",
     "metadata": {},
     "outputs": []
    },
    {
     "cell_type": "heading",
     "level": 1,
     "metadata": {},
     "source": [
      "Closing survey"
     ]
    },
    {
     "cell_type": "code",
     "collapsed": false,
     "input": [
      "IFrame(\"https://delftxtudelft.qualtrics.com/SE/?SID=SV_02ho3dQvCnfsShL&user_id=%%USER_ID%%\", 800, 1000)"
     ],
     "language": "python",
     "metadata": {},
     "outputs": [
      {
       "html": [
        "\n",
        "        <iframe\n",
        "            width=\"800\"\n",
        "            height=1000\"\n",
        "            src=\"https://delftxtudelft.qualtrics.com/SE/?SID=SV_02ho3dQvCnfsShL&user_id=%%USER_ID%%\"\n",
        "            frameborder=\"0\"\n",
        "            allowfullscreen\n",
        "        ></iframe>\n",
        "        "
       ],
       "metadata": {},
       "output_type": "pyout",
       "text": [
        "<IPython.lib.display.IFrame at 0x7ff38457a190>"
       ]
      }
     ]
    }
   ],
   "metadata": {}
  }
 ]
}