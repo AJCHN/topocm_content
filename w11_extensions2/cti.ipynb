{
 "cells": [
  {
   "cell_type": "code",
   "execution_count": null,
   "metadata": {
    "collapsed": false
   },
   "outputs": [],
   "source": [
    "%run ../code/init_mooc_nb.py\n",
    "\n",
    "from scipy import linalg as la\n",
    "import operator\n",
    "import scipy\n",
    "from matplotlib import cm\n",
    "\n",
    "sigma0 = np.array([[1., 0.], [0., 1.]])\n",
    "sigmax = np.array([[0., 1.], [1., 0.]])\n",
    "sigmay = np.array([[0., -1j], [1j, 0.]])\n",
    "sigmaz = np.array([[1., 0.], [0., -1.]])\n",
    "\n",
    "# dispersion functions\n",
    "def plot_2D(X,Y,Z, ax_in=None):\n",
    "    if ax_in==None:\n",
    "        fig = plt.figure(figsize=(7,5))\n",
    "        ax = fig.add_subplot(111, projection='3d')\n",
    "    else:\n",
    "        ax = ax_in\n",
    "\n",
    "    vmin = np.array(Z).min()\n",
    "    vmax = np.array(Z).max()\n",
    "    \n",
    "    if len(np.shape(Z)) > 2:\n",
    "        for z in Z:\n",
    "            ax.plot_surface(X, Y, z, rstride=1, cstride=1, cmap=cm.RdBu_r, linewidth=0.1, vmin=vmin, vmax=vmax)\n",
    "    else:\n",
    "        ax.plot_surface(X, Y, Z, rstride=1, cstride=1, cmap=cm.RdBu_r, linewidth=0.1, vmin=vmin, vmax=vmax)\n",
    "\n",
    "    if ax_in==None:\n",
    "        return fig, ax\n",
    "    else:\n",
    "        return ax \n",
    "    \n",
    "\n",
    "def evaluate_on_grid(X, Y, func):\n",
    "    \"\"\" X, Y should be in np.meshgrid form. It's enough for func to work on floats. \"\"\"\n",
    "    data = []\n",
    "    for xx, yy in zip(X, Y):\n",
    "        row = []\n",
    "        for i,j in zip(xx, yy):\n",
    "            row.append(func(i,j))\n",
    "        data.append(row)\n",
    "    data = np.array(data)\n",
    "    temp = np.shape(data)[2]\n",
    "    data = [np.array(data[:,:,i]) for i in [temp/2-1, temp/2]]#range(np.shape(data)[2])]#range(1)]# \n",
    "    return data\n",
    "\n",
    "\n",
    "def diagonalize(sys, par):\n",
    "    mat = sys.hamiltonian_submatrix(args=[par])\n",
    "    ev, evec = scipy.linalg.eigh(mat)  # Automatically sorted\n",
    "    return ev, evec\n",
    "\n",
    "\n",
    "def dispersion_func(sys, par):\n",
    "    def func(kx, ky):\n",
    "        par.kx = kx\n",
    "        par.ky = ky\n",
    "        return diagonalize(sys, par)[0]\n",
    "    return func"
   ]
  },
  {
   "cell_type": "markdown",
   "metadata": {},
   "source": [
    "#Table of Contents\n",
    "* [Introduction](#Introduction)\n",
    "* [The role of crystalline symmetries](#The-role-of-crystalline-symmetries)\n",
    "* [Reflection symmetry](#Reflection-symmetry)\n",
    "* [Examples](#Examples)\n",
    "* [Experimental realization of a 3D crystalline topological insulator](#Experimental-realization-of-a-3D-crystalline-topological-insulator)\n",
    "* [Conclusions](#Conclusions)\n"
   ]
  },
  {
   "cell_type": "markdown",
   "metadata": {},
   "source": [
    "**No content above this line is visible in edX**"
   ]
  },
  {
   "cell_type": "markdown",
   "metadata": {},
   "source": [
    "# Introduction"
   ]
  },
  {
   "cell_type": "markdown",
   "metadata": {},
   "source": [
    "Crystalline topological insulators are introduced by Liang Fu from MIT."
   ]
  },
  {
   "cell_type": "code",
   "execution_count": null,
   "metadata": {
    "collapsed": false
   },
   "outputs": [],
   "source": [
    "MoocVideo(\"N9-tUYjXC1s\", src_location=\"11.2-intro\")"
   ]
  },
  {
   "cell_type": "markdown",
   "metadata": {},
   "source": [
    "# The role of crystalline symmetries"
   ]
  },
  {
   "cell_type": "markdown",
   "metadata": {},
   "source": [
    "In the very beginning of the course, we told you that conservation laws - unitary symmetries of the Hamiltonian - do not lead to striking consequences on topology. They allow to reduce the problem by making the Hamiltonian block-diagonal, but not much else (see also Shinsei Ryu's introductory video to week eight).\n",
    "\n",
    "At first sight, it may seem that crystalline symmetries: mirror or reflection symmetries, rotation symmetries, and so on - are no exception to the above consideration. They are unitary symmetries whose operators commute with the Hamiltonian. \n",
    "\n",
    "Nevertheless, the role of crystalline symmetries can be quite subtle and it can have important . The reason is that crystalline symmetries are non-local. They relate one point in a crystal to another point, possibly a very distant point. This means that in terms of the Bloch Hamiltonian of the crystal, these symmetries mix different values of momentum.\n",
    "\n",
    "Consider for instance a 2D crystal with a reflection symmetry $\\mathcal{R}: (x, y) \\to (-x, y)$ around the $x=0$ axis. In momentum space, this symmetry will read $RH(k_x, k_y)R^\\dagger = H(-k_x, k_y)$, with a certain unitary operator $R$.\n",
    "\n",
    "Due to this type of constraint on the Brillouin zone, crystalline symmetries can have important consequences on the topological properties of Bloch Hamiltonians.\n",
    "\n",
    "Note however, that sometimes the mere presence of a surface can break a crystalline symmetry of the bulk, so that one should be careful when applying the bulk-boundary correspondence to properties based on crystalline symmetries."
   ]
  },
  {
   "cell_type": "code",
   "execution_count": null,
   "metadata": {
    "collapsed": false
   },
   "outputs": [],
   "source": [
    "question = (r\"In which case can inversion symmetry protect gapless surface states?\")\n",
    "\n",
    "answers = [\"Never.\",\n",
    "           \"In the case of 2D TIs with inversion symmetry.\",\n",
    "           \"Only in three dimensions.\",\n",
    "           \"Only in combination with particle-hole or time-reversal symmetry. \"]\n",
    "\n",
    "explanation = \"Any surface would break inversion symmetry of a crystal.\"\n",
    "\n",
    "MoocMultipleChoiceAssessment(question, answers, correct_answer=0, explanation=explanation)"
   ]
  },
  {
   "cell_type": "markdown",
   "metadata": {},
   "source": [
    "# Reflection symmetry"
   ]
  },
  {
   "cell_type": "markdown",
   "metadata": {},
   "source": [
    "The second-simplest crystalline symmetry (after translation symmetry of course) occurring in many materials is reflection (or mirror) symmetry around one spatial coordinate. For instance, in a 3D crystal, reflection symmetry around the $z$ axis transforms the wave-wector as\n",
    "\n",
    "$$\n",
    "(k_x, k_y, k_z)\\rightarrow (k_x, k_y, -k_z).\n",
    "$$\n",
    "\n",
    "Reflection symmetry also applies a 180 degree rotation about the $z$-axis to the electron spin, so $\\psi_{\\uparrow}\\rightarrow -i \\psi_{\\uparrow}$ and $\\psi_{\\downarrow}\\rightarrow i \\psi_{\\downarrow}$, so that the operator squares to $-1$ when acting on a spin.\n",
    "\n",
    "Next if we consider the application of reflection symmetry to either a two-dimensional material or plane in a three dimensional material, then we can choose $k_z=0$ and the reflection symmetry just becomes a regular unitary symmetry i.e. the $C_2$ rotation.\n",
    "\n",
    "In this case, the topological classification follows rather simply from our earlier discussion. $C_2$ is a unitary symmetry with eigenvalues $\\pm i$. We can split our Hamiltonian into the corresponding two sector $H_{\\pm}$ acting on the $C_2=\\pm i$ sectors respectively. Each of the Hamiltonians $H_{\\pm}$ are 2 dimensional Hamiltonians in class A (i.e. with no symmetry) and therefore we can associate a Chern number $N_{\\pm}$ with each of them. \n",
    "\n",
    ">If the Hamiltonian overall is trivial then the total Chern number $N_++N_-=0$ so we can classify the 2 dimensional mirror symmetric Hamiltonians by a **mirror Chern number** $N_M=N_+-N_-$.\n",
    "\n",
    "The mirror Chern number is a topological invariant in the sense that it cannot change without a closure of the bulk gap provided the reflection symmetry is held intact. Moreover the reflection symmetry, together with non-trivial values of the invariant will guarantee edge states.\n",
    "\n",
    "Naturally, the same recipe allows to construct a reflection symmetric topological insulator starting from any other topological invariant, not just a Chern number. We will now try to do this."
   ]
  },
  {
   "cell_type": "code",
   "execution_count": null,
   "metadata": {
    "collapsed": false
   },
   "outputs": [],
   "source": [
    "question = (\"How would you attempt to make a model of a topological\"\n",
    "            \" insulator with surface states protected by reflection symmetry?\")\n",
    "\n",
    "answers = [\"By using the interface of a material with reflection symmetry, and that of one without it.\",\n",
    "           \"By stacking many layers of a lower dimensional topological insulator, \"\n",
    "           \"and coupling them in a reflection-symmetric fashion.\",\n",
    "           \"Reflection symmetry alone cannot protect any gapless surface state.\",\n",
    "           \"By making a narrow ribbon of the material where only the momentum orthogonal to the reflection axis can be non-zero.\"]\n",
    "\n",
    "explanation = (\"Such a stack would have a reflection symmetry around any of the layers, \"\n",
    "               \"which is not broken by the presence of a surface parallel to the stacking direction.\")\n",
    "\n",
    "MoocMultipleChoiceAssessment(question, answers, correct_answer=1, explanation=explanation)"
   ]
  },
  {
   "cell_type": "markdown",
   "metadata": {},
   "source": [
    "# Examples"
   ]
  },
  {
   "cell_type": "markdown",
   "metadata": {},
   "source": [
    "Let's think, what could be the simplest topological system protected by reflection symmetry.\n",
    "\n",
    "We need $d=2$, since the only possible reflection symmetry is broken by the boundary in $d=1$, and we can once again consider coupled Majorana nanowires.\n",
    "\n",
    "We can put two nanowires in a unit cell of the lattice and make their parameters different. That way the weak topological invariant is trivial (there is an even number of Majoranas per unit cell).\n",
    "\n",
    "On the other hand, if the hopping between the nanowires is reflection invariant, there will be a reflection symmetry axis passing through each nanowire, like this:"
   ]
  },
  {
   "cell_type": "markdown",
   "metadata": {},
   "source": [
    "![](figures/reflection.png)"
   ]
  },
  {
   "cell_type": "markdown",
   "metadata": {},
   "source": [
    "If we do everything right (this does require some trial and error in searching for the hopping that actually can couple the two Majoranas from the edge), we get a painfully familiar dispersion:"
   ]
  },
  {
   "cell_type": "code",
   "execution_count": null,
   "metadata": {
    "collapsed": false
   },
   "outputs": [],
   "source": [
    "def nanowire_chains(length=20, n=2):\n",
    "    def onsite(site, par):\n",
    "        (x, y) = site.pos\n",
    "        return ((2*par.t - par.mu) * np.kron(sigmaz, sigma0) + par.delta * np.kron(sigmax, sigma0)\n",
    "                + (y%2==0) * par.B * np.kron(sigma0, sigmaz) + (y%2==1) * par.B * np.kron(sigma0, sigmay))\n",
    "\n",
    "    def hopy(site1, site2, par):\n",
    "        return -par.t * np.kron(sigmaz, sigma0) + 0.5 * 1j * par.alpha * np.kron(sigmaz, sigmax)\n",
    "    \n",
    "    def hopx(site1, site2, par):\n",
    "        (x1, y1) = site1.pos\n",
    "        (x2, y2) = site2.pos\n",
    "        return 1j * (-1)**((x1 + x2 - 1)%2==0) * par.tx * np.kron(sigmay, sigmax)\n",
    "    \n",
    "    def shape(pos):\n",
    "        (x, y) = pos\n",
    "        return (0 <= y < length) * (0 <= x < n)\n",
    "        \n",
    "    lat = kwant.lattice.square()\n",
    "    sym = kwant.TranslationalSymmetry((n, 0))\n",
    "    sys = kwant.Builder(sym)    \n",
    "    \n",
    "    sys[lat.shape(shape, (0, 0))] = onsite\n",
    "    sys[kwant.HoppingKind((0, 1), lat)] = hopy\n",
    "    sys[kwant.HoppingKind((1, 0), lat)] = hopx\n",
    "    \n",
    "    return sys.finalized()\n",
    "\n",
    "\n",
    "par = SimpleNamespace(t=1.0, tx=0.2, mu=0., B=0.4, delta=0.15, alpha=0.3, kx=0.0, ky=0.0)\n",
    "sys1 = nanowire_chains(length=40)\n",
    "\n",
    "fig = plt.figure()\n",
    "ax = fig.add_subplot(111)\n",
    "ax.set_color_cycle(['k'])\n",
    "kwant.plotter.bands(sys1, args=[par,], show=False, ax=ax)\n",
    "ax.set_ylim([-0.2, 0.2])\n",
    "ax.set_yticks([-0.2, 0, 0.2])\n",
    "ax.set_yticklabels(['$-0.2$', '$0$', '$0.2$'])\n",
    "ax.set_ylabel('$E$')\n",
    "ax.set_xlim([-1, 1])\n",
    "ax.set_xticks([-1, 0, 1])\n",
    "ax.set_xticklabels(['$-1$', '$0$', '$1$'])\n",
    "ax.set_xlabel('$k_x$')\n",
    "ax.set_title('Stacked Majorana wires')\n",
    "plt.show()"
   ]
  },
  {
   "cell_type": "markdown",
   "metadata": {},
   "source": [
    "The same way we can also construct a tight-binding model with a mirror Chern number. The only difference with the Majorana wires that we need to worry about is that Chern number is a $\\mathbb{Z}$ invariant instead of $\\mathbb{Z}_2$.\n",
    "\n",
    "This means that the Chern number of the alternating layers has to have opposite signs, or otherwise the surface would just have surface states going in a single direction.\n",
    "\n",
    "Once again, coupling the layers we get a familiar Dirac cone on the surface:"
   ]
  },
  {
   "cell_type": "code",
   "execution_count": null,
   "metadata": {
    "collapsed": false
   },
   "outputs": [],
   "source": [
    "def stacked_qwz(w=50):\n",
    "    #x is stacking direction\n",
    "    #y open\n",
    "    #z closed\n",
    "    def shape(pos):\n",
    "        (x, z) = pos\n",
    "        return (0 <= x < 2) * (0 <= z < w)\n",
    "               \n",
    "    def hopx(site1, site2, par):\n",
    "        return - 1j * par.tx * (1 - np.exp(1j * par.kx)) * sigmay\n",
    "    \n",
    "    def hopy(site1, site2, par):\n",
    "        (x, z) = site1.pos\n",
    "        A, B, D, M = par.A/2, par.B, par.D, par.M\n",
    "        return B * sigmaz + D * sigma0 + 1j * A * sigmax\n",
    "\n",
    "    def hopz(site1, site2, par):\n",
    "        (x, z) = site1.pos\n",
    "        A, B, D, M = par.A/2, par.B, par.D, par.M\n",
    "        return B * sigmaz + D * sigma0 - (-1)**z * 1j * A * sigmay\n",
    "    \n",
    "    def onsite(site, par):\n",
    "        (x, z) = site.pos\n",
    "        A, B, D, M = par.A/2, par.B, par.D, par.M\n",
    "        return ((M - 4 * B) * sigmaz - 4 * D * sigma0\n",
    "                + np.exp(1j * par.ky) * hopy(site, site, par) + np.exp(-1j * par.ky) * hopy(site, site, par).T.conjugate())\n",
    "    \n",
    "    lat = kwant.lattice.square()\n",
    "    sys = kwant.Builder()  \n",
    "    \n",
    "    sys[lat.shape(shape, (0, 0))] = onsite\n",
    "    sys[kwant.HoppingKind((1, 0), lat)] = hopx\n",
    "    sys[kwant.HoppingKind((0, 1), lat)] = hopz\n",
    "    \n",
    "    return sys.finalized()\n",
    "\n",
    "\n",
    "par = SimpleNamespace(A=1.0, B=1.0, D=0.0, M=0.3, tx=1.0)\n",
    "sys = stacked_qwz(30)\n",
    "\n",
    "kx = np.linspace(-np.pi, np.pi, 31)\n",
    "ky = np.linspace(-np.pi, np.pi, 31)\n",
    "mesh = np.meshgrid(kx, ky)\n",
    "energies = evaluate_on_grid(*mesh, func=dispersion_func(sys, par))\n",
    "\n",
    "fig, ax = plot_2D(*mesh, Z=energies)\n",
    "ax.set_xlabel('$k_x$')\n",
    "ax.set_ylabel('$k_y$')\n",
    "ax.set_zlabel('$E$')\n",
    "ax.set_xlim(-np.pi, np.pi)\n",
    "ax.set_ylim(-np.pi, np.pi)\n",
    "ax.set_zlim3d(-4, 4)\n",
    "ax.set_xticks([-np.pi, 0, np.pi])\n",
    "ax.set_yticks([-np.pi, 0, np.pi])\n",
    "ax.set_zticks([-3, 0, 3])\n",
    "ax.set_xticklabels([r'$-\\pi$', '$0$', r'$\\pi$'])\n",
    "ax.set_yticklabels([r'$-\\pi$', '$0$', r'$\\pi$'])\n",
    "ax.set_zticklabels(['$-3$', '$0$', '$3$'])\n",
    "ax.set_title('Stacked Chern insulators');"
   ]
  },
  {
   "cell_type": "markdown",
   "metadata": {},
   "source": [
    "Of course also now the dispersion of the edge states looks exactly like what we saw already because all the edge state dispersion in any topological insulator is just given by the Dirac equation."
   ]
  },
  {
   "cell_type": "markdown",
   "metadata": {},
   "source": [
    "# Experimental realization of a 3D crystalline topological insulator"
   ]
  },
  {
   "cell_type": "markdown",
   "metadata": {},
   "source": [
    "As mentioned by Liang Fu, three dimensional crystalline topological insulators have been both predicted and also found in nature. The magical material, which is topological turns out to be a material SnTe, which is actually a \"rock-salt\" structure. We won't bore you with the details of the rock-salt structure, which you can find for yourself on [Wikipedia](https://en.wikipedia.org/wiki/Cubic_crystal_system#Rock-salt_structure). \n",
    "\n",
    "We will just start with the key ingredients for the crystalline topological insulator, namely the symmetries of the crystal: the spatial inversion $P$, time-reversal symmetry $\\Theta$ and most importantly the three mirror planes in the cubic Brillouin zone. The three mirror planes $\\Gamma L_1 L_2$, $\\Gamma L_3 L_4$ and $\\Gamma L_3 L_1$ in the Brillouin zone are reflection-symmetric directions that are created out of four time-reversal invariant momenta $\\Gamma, L_1, L_2, L_3, L_4$. \n",
    "\n",
    "While the reflection symmetry acts non-trivially on general wave-vectors $\\bf k$, the symmetry preserves the mirror planes in the Brillouin zone. Following the idea of dimensional reduction that we used for three dimensional topological insulators (week 6) and also in subsequent weeks, we can define the topological invariant for the crystalline topological insulator in terms of the three mirror Chern numbers for the three mirror planes. For SnTe, all these mirror Chern numbers turn out to be $N_{M}(\\Gamma L_i L_j)=-2$. This topological invariant leads to surface Dirac cones on certain surfaces as seen below."
   ]
  },
  {
   "cell_type": "markdown",
   "metadata": {},
   "source": [
    "![](figures/SnTefig.png)\n",
    "\n",
    "Figure copyright of the Zahid Hasan lab, Princeton, 2015, available under CC-BY-NC-SA 4.0 International license."
   ]
  },
  {
   "cell_type": "markdown",
   "metadata": {},
   "source": [
    "This surface spectrum is very easy to interpret.\n",
    "\n",
    "The crystal curface you see here is perpendicular to two mirror planes projected on $\\bar{\\Gamma}\\bar{X}$ axes. Since the mirror Chern number with respect to each of these planes is $-2$, there is a pair of Dirac cones near each $X$-point protected by a respective mirror symmetry.\n",
    "\n",
    "The reflection symmetry pins the pairs Dirac cones to the mirror planes, while time reversal symmetry requires that their momenta are opposite. The 90 degree rotation symmetry interchanges the pairs of cones."
   ]
  },
  {
   "cell_type": "markdown",
   "metadata": {},
   "source": [
    "# Conclusion"
   ]
  },
  {
   "cell_type": "markdown",
   "metadata": {},
   "source": [
    "In short, crystalline topological insulators combine the variety of topological phases with the variety of the crystalline symmetry groups, leading to a multitude of new opportunities."
   ]
  },
  {
   "cell_type": "markdown",
   "metadata": {},
   "source": [
    "Questions about what you just learned? Ask them below!"
   ]
  },
  {
   "cell_type": "code",
   "execution_count": null,
   "metadata": {
    "collapsed": false
   },
   "outputs": [],
   "source": [
    "MoocDiscussion(\"Questions\", \"Crystalline TI\")"
   ]
  }
 ],
 "metadata": {},
 "nbformat": 4,
 "nbformat_minor": 0
}