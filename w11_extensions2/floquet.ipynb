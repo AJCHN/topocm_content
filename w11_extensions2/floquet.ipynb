{
 "cells": [
  {
   "cell_type": "code",
   "execution_count": null,
   "metadata": {
    "collapsed": false
   },
   "outputs": [],
   "source": [
    "%run ../code/init_mooc_nb.py\n",
    "\n",
    "# General things\n",
    "import warnings\n",
    "from matplotlib import cm\n",
    "from scipy import linalg as la\n",
    "from functools import reduce\n",
    "warnings.simplefilter(\"ignore\", UserWarning)\n",
    "\n",
    "\n",
    "\n",
    "# Defining systems\n",
    "sigma0 = np.array([[1., 0.], [0., 1.]])\n",
    "sigmax = np.array([[0., 1.], [1., 0.]])\n",
    "sigmay = np.array([[0., -1j], [1j, 0.]])\n",
    "sigmaz = np.array([[1., 0.], [0., -1.]])\n",
    "\n",
    "\n",
    "def onsite(site, par):\n",
    "    return ((2*par.t - par.mu) * np.kron(sigmaz, sigma0) + par.B * np.kron(sigma0, sigmaz) \n",
    "            + par.delta * np.kron(sigmax, sigma0))\n",
    "\n",
    "\n",
    "def hopping(site1, site2, par):\n",
    "    return -par.t * np.kron(sigmaz, sigma0) + 0.5 * 1j * par.alpha * np.kron(sigmaz, sigmax)\n",
    "\n",
    "\n",
    "def nanowire_chain(L=10):\n",
    "    lat = kwant.lattice.chain()\n",
    "    sys = kwant.Builder()    \n",
    "    \n",
    "    sys[(lat(x) for x in range(L))] = onsite\n",
    "    sys[kwant.HoppingKind((1,), lat)] = hopping\n",
    "    \n",
    "    lead = kwant.Builder(kwant.TranslationalSymmetry((-1,)))\n",
    "    lead[lat(0)] = onsite\n",
    "    lead[kwant.HoppingKind((1,), lat)] = hopping\n",
    "    \n",
    "    sys.attach_lead(lead)\n",
    "    sys.attach_lead(lead.reversed())\n",
    "    \n",
    "    return sys.finalized()\n",
    "\n",
    "\n",
    "checkerboard = kwant.lattice.general([[2, 0], [1, 1]], [(0, 0), (1, 0)])\n",
    "a, b = checkerboard.sublattices\n",
    "T1, T2 = checkerboard.vec((1, 0)), checkerboard.vec((0, 1))\n",
    "\n",
    "\n",
    "def get_infnite_2D_system():\n",
    "    lat = kwant.lattice.chain()\n",
    "    sys = kwant.Builder()\n",
    "    \n",
    "    def onsite(site, par):\n",
    "        cell_hamiltonian = -par.t1 * np.array([[0, 1], [1, 0]])\n",
    "\n",
    "        inter_cell_hoppings = {}\n",
    "        inter_cell_hoppings[1, 0] = -par.t3 * np.array([[0, 1], [0, 0]])\n",
    "        inter_cell_hoppings[0, 1] = -par.t4 * np.array([[0, 1], [0, 0]])\n",
    "        inter_cell_hoppings[-1, 1] = -par.t2 * np.array([[0, 0], [1, 0]])\n",
    "\n",
    "        result = np.array(cell_hamiltonian, dtype=complex)\n",
    "\n",
    "        for key, val in list(inter_cell_hoppings.items()):\n",
    "            vec = key[0] * T1 + key[1] * T2\n",
    "            exp = np.exp(-1j * np.dot([par.kx, par.ky], vec))\n",
    "            result += exp*val + exp.conj() * val.T.conj()\n",
    "        return result\n",
    "    \n",
    "    sys[lat(0)] = onsite\n",
    "    return sys.finalized()\n",
    "\n",
    "\n",
    "def make_ribbon_lead(W):\n",
    "    def lead_shape(pos):\n",
    "        (x, y) = pos\n",
    "        return (0 <= y < W and 0 <= x < W)\n",
    "\n",
    "\n",
    "    lead = kwant.Builder(kwant.TranslationalSymmetry((1, 1)))\n",
    "    lead[a.shape(lead_shape, (0,0))] = 0\n",
    "    lead[b.shape(lead_shape, (1,0))] = 0\n",
    "    \n",
    "\n",
    "    lead[kwant.HoppingKind((0,0), b, a)] = lambda s1, s2, par: -par.t1\n",
    "    lead[kwant.HoppingKind((-1,1), b, a)] = lambda s1, s2, par: -par.t2\n",
    "    lead[kwant.HoppingKind((1,0), a, b)] = lambda s1, s2, par: -par.t3\n",
    "    lead[kwant.HoppingKind((0,1), a, b)] = lambda s1, s2, par: -par.t4\n",
    "\n",
    "    return lead.finalized()\n",
    "\n",
    "\n",
    "# Helper functions\n",
    "def get_evolution_operator(hamiltonians, T):\n",
    "    n = float(len(hamiltonians))\n",
    "    exps = [la.expm(-1j * h * T / n) for h in hamiltonians]\n",
    "    return reduce(np.dot, exps)\n",
    "\n",
    "\n",
    "def get_h_k(lead, par):\n",
    "    bands = kwant.physics.Bands(lead, args=[par])\n",
    "    h, t = bands.ham, bands.hop\n",
    "    return lambda k: h + t * np.exp(-1j * k) + t.T.conj() * np.exp(1j * k)\n",
    "\n",
    "\n",
    "#3D plots\n",
    "def plot_2D(X,Y,Z, ax_in=None):\n",
    "    if ax_in==None:\n",
    "        fig = plt.figure(figsize=(7,5))\n",
    "        ax = fig.add_subplot(111, projection='3d')\n",
    "    else:\n",
    "        ax = ax_in\n",
    "\n",
    "    vmin = np.array(Z).min()\n",
    "    vmax = np.array(Z).max()\n",
    "    \n",
    "    if len(np.shape(Z)) > 2:\n",
    "        for z in Z:\n",
    "            ax.plot_surface(X, Y, z, rstride=1, cstride=1, cmap=cm.RdBu_r, linewidth=0.1, vmin=vmin, vmax=vmax)\n",
    "    else:\n",
    "        ax.plot_surface(X, Y, Z, rstride=1, cstride=1, cmap=cm.RdBu_r, linewidth=0.1, vmin=vmin, vmax=vmax)\n",
    "\n",
    "    if ax_in==None:\n",
    "        return fig, ax\n",
    "    else:\n",
    "        return ax \n",
    "    \n",
    "    \n",
    "def evaluate_on_grid(X, Y, func):\n",
    "    \"\"\" X, Y should be in np.meshgrid form. It's enough for func to work on floats. \"\"\"\n",
    "    data = []\n",
    "    for xx, yy in zip(X, Y):\n",
    "        row = []\n",
    "        for i,j in zip(xx, yy):\n",
    "            row.append(func(i,j))\n",
    "        data.append(row)\n",
    "    data = np.array(data)\n",
    "    data = [np.array(data[:,:,i]) for i in range(np.shape(data)[2])]\n",
    "    return data"
   ]
  },
  {
   "cell_type": "markdown",
   "metadata": {},
   "source": [
    "#Table of Contents\n",
    "* [Introduction](#Introduction)\n",
    "* [Periodically driven systems](#Periodically-driven-systems)\n",
    "\t* [Floquet theory](#Floquet-theory)\n",
    "* [Driven Majorana wire](#Driven-Majorana-wire)\n",
    "* [A Floquet Chern insulator](#A-Floquet-Chern-insulator)\n",
    "* [Bulk-edge correspondence in driven systems](#Bulk-edge-correspondence-in-driven-systems)\n",
    "* [Conclusions](#Conclusions)\n"
   ]
  },
  {
   "cell_type": "markdown",
   "metadata": {},
   "source": [
    "**No content above this line is visible in edX**"
   ]
  },
  {
   "cell_type": "markdown",
   "metadata": {},
   "source": [
    "# Introduction"
   ]
  },
  {
   "cell_type": "markdown",
   "metadata": {},
   "source": [
    "Today's topic, Floquet topological insulators, is introduced by Mark Rudner from the Niels Bohr Institute at Copenhagen."
   ]
  },
  {
   "cell_type": "code",
   "execution_count": null,
   "metadata": {
    "collapsed": false
   },
   "outputs": [],
   "source": [
    "MoocVideo(\"1peVp_IZ7Ts\", src_location=\"11.1-intro\")"
   ]
  },
  {
   "cell_type": "markdown",
   "metadata": {},
   "source": [
    "# Periodically driven systems"
   ]
  },
  {
   "cell_type": "markdown",
   "metadata": {},
   "source": [
    "The new generalization of the topology we will consider now is considering quantum evolution of systems with a time-dependent Hamiltonian. If you remember we've already encountered time dependence when we considered quantum pumps. However then we have assumed that the time evolution is very slow, and the system stays in the ground state at all times. But can we relax adiabaticity constraint? Can we find any analog of topology in systems driven so fast that the energy isn't conserved?\n",
    "\n",
    "For the same reasons as before, we'll consider periodic driving\n",
    "\n",
    "$$\n",
    "H(t + T) = H(t).\n",
    "$$\n",
    "\n",
    "This is once again necessary because otherwise any system can be continuously deformed into any other, and there is no way to define a gap."
   ]
  },
  {
   "cell_type": "markdown",
   "metadata": {},
   "source": [
    "Before we get to topology, let's refresh our knowledge of time-dependent systems.\n",
    "\n",
    "The Schrodinger equation gives us:\n",
    "\n",
    "$$\n",
    "i\\frac{d \\psi}{dt} = H(t) \\psi\n",
    "$$\n",
    "\n",
    "It's linear, so we can write its solution as\n",
    "\n",
    "$$\n",
    "\\psi(t_2) = U(t_2, t_1) \\psi(t_1),\n",
    "$$\n",
    "\n",
    "with $U$ being a unitary *time evolution operator*. It solves the same Schrodinger equation as the wave function and it is equal to identity matrix at the initial time. It is commonly written as\n",
    "\n",
    "$$\n",
    "U(t_2, t_1) = \\mathcal{T} \\exp\\,\\left[-i\\int_{t_1}^{t_2} H(t) dt\\right]\n",
    "$$\n",
    "\n",
    "where $\\mathcal{T}$ represents time-ordering (and not time-reversal symmetry). The time-ordering is just a short-hand notation for the need to solve the full differential equation, and it is necessary if Hamiltonians evaluated at different times in the integral do not commute.\n",
    "\n",
    "The evolution operator safisfies a very simple multiplication rule:\n",
    "\n",
    "$$\n",
    "U(t_3, t_1) = U(t_3, t_2) U(t_2, t_1),\n",
    "$$\n",
    "\n",
    "which just says that time evolution from $t_1$ to $t_3$ is a product of time evolutions from $t_1$ to $t_2$ and then from $t_2$ to $t_3$. Of course an immediate consequence of this is the equality $U(t_2, t_1)^\\dagger = U(t_1, t_2)$."
   ]
  },
  {
   "cell_type": "markdown",
   "metadata": {},
   "source": [
    "## Floquet theory"
   ]
  },
  {
   "cell_type": "markdown",
   "metadata": {},
   "source": [
    "The central object for the study of driven systems is the evolution operator over one period of the drive:\n",
    "\n",
    "$$\n",
    "U(t + T, t) \\equiv U.\n",
    "$$\n",
    "\n",
    "It is important because it allows us to find the wave functions that do not change if we wait for an arbitrary number of drive periods. These are the stationary states of a driven system, and they are given by the eigenvalues of the Floquet operator:\n",
    "\n",
    "$$\n",
    "U \\psi = e^{i \\alpha} \\psi\n",
    "$$\n",
    "\n",
    "the stationary states are extremely similar to the eigenstates of a stationary Hamiltonian, with the only difference that they are only stationary if we look at fixed times $t + nT$. That's why the Floquet time evolution operator is also called stroboscopic time evolution operator.\n",
    "\n",
    "We can very easily construct a Hermitian matrix from $U$, the **Floquet Hamiltonian**:\n",
    "\n",
    "$$\n",
    "H_\\textrm{eff} = i T^{-1} \\,\\log U.\n",
    "$$\n",
    "\n",
    "Its eigenvalues $\\varepsilon = \\alpha / T$ are called quasi-energies, and they are always belonging to the interval $-\\pi < \\alpha \\leq \\pi$.\n",
    "\n",
    "If the system is translationally invariant, we can study the effective band structure of $H_\\textrm{eff}(\\mathbf{k})$, find an energy in which the bulk Hamiltonian has no states, and study the topological properties of such a Hamiltonian: most of the things we already know still apply.\n",
    "\n",
    "Of course, selecting a single quasi-energy as the Fermi level is arbitrary, since the equilibrium state of driven systems doesn't correspond to a Fermi distribution of filling factors, but at least it seems close enough for us to try applying topological ideas."
   ]
  },
  {
   "cell_type": "code",
   "execution_count": null,
   "metadata": {
    "collapsed": false
   },
   "outputs": [],
   "source": [
    "question = (\"But wait, we arbirarily chose the starting point $t$ in time for calculating the \"\n",
    "            \"Floquet operator. What if we chose a different one?\")\n",
    "\n",
    "answers = [\"The starting time is just an extra parameter of our system, and topology depends on it.\",\n",
    "           \"It doesn't matter, the wave function evolution within one period \"\n",
    "           \"can be neglected, since we are interested in many periods.\",\n",
    "           \"There's only one correct starting point in time.\",\n",
    "           \"It doesn't matter since the quasienergies are independent on the choice of the starting point.\"]\n",
    "\n",
    "explanation = (\"Choosing a different starting point applies a unitary transformation \"\n",
    "               \"to the Floquet evolution operator, and so it keeps the quasienergies the same.\")\n",
    "\n",
    "MoocMultipleChoiceAssessment(question=question, answers=answers, correct_answer=3, explanation=explanation)"
   ]
  },
  {
   "cell_type": "markdown",
   "metadata": {},
   "source": [
    "# Driven Majorana wire"
   ]
  },
  {
   "cell_type": "markdown",
   "metadata": {},
   "source": [
    "Let us start from something we know very well: the superconducting Majorana nanowire model from week 2. This model has three important parameters which determine whether the wire is in the Majorana phase or not: the chemical potential $\\mu$, the superconducting gap $\\Delta$ and the magnetic field $B$. The topological phase with zero energy unpaired Majorana modes is realized for $B > \\sqrt{\\mu^2 + \\Delta^2}$.\n",
    "\n",
    "Let us now imagine that we can periodically drive some of these parameters. The easiest we can do is to take\n",
    "\n",
    "$$\n",
    "\\mu = \\left\\{\n",
    "\\begin{matrix}\n",
    "\\mu_1 \\quad \\text{for } 0 < t < T/2 \\\\\n",
    "\\mu_2 \\quad \\text{for } T/2 < t < T\n",
    "\\end{matrix}\\right.\n",
    "$$\n",
    "\n",
    "Then we don't need to take the integral, and we simply have\n",
    "\n",
    "$$\n",
    "U = \\exp(i T H_2 / 2) \\exp(i T H_1 / 2)\n",
    "$$\n",
    "\n",
    "with $H_1$ and $H_2$ the two nanowire Hamiltonians with chemical potential $\\mu_1$ and $\\mu_2$. A peculiar property of the driven systems is that as the period becomes large, the band structure 'folds': if the driving is very weak, and the original Hamiltonian had energy $E$, the Floquet Hamilotnian will have a much smaller quasienergy $(E\\bmod 2\\pi /T)$. This means that even whem $\\mu_1$ and $\\mu_2$ correspond to trivial systems, and just make the period large enough, we can still get nontrivial topology, take a look:"
   ]
  },
  {
   "cell_type": "code",
   "execution_count": null,
   "metadata": {
    "collapsed": false
   },
   "outputs": [],
   "source": [
    "def calculate_finite_spectrum(periods, hamiltonians):  \n",
    "    energies = []\n",
    "    for T in periods:\n",
    "        U = get_evolution_operator(hamiltonians, T)\n",
    "        \n",
    "        phases = np.angle(la.eigvals(U))\n",
    "        phases = np.sort(np.abs(phases))\n",
    "        ev = np.sort([(-1)**n * val for n, val in enumerate(phases)])\n",
    "        \n",
    "        energies.append(ev)\n",
    "    return np.array(energies).real\n",
    "\n",
    "\n",
    "def calculate_bands(momenta, hamiltonians_k, T):\n",
    "    energies = []\n",
    "    for k in momenta:\n",
    "        hamiltonians = [h_k(k) for h_k in hamiltonians_k]\n",
    "        U = get_evolution_operator(hamiltonians, T)\n",
    "        \n",
    "        phases = np.angle(la.eigvals(U))\n",
    "        phases = np.sort(np.abs(phases))\n",
    "        ev = np.sort([(-1)**n * val for n, val in enumerate(phases)])\n",
    "        \n",
    "        energies.append(ev)\n",
    "    return np.array(energies).real\n",
    "\n",
    "\n",
    "J = 2.\n",
    "par1 = SimpleNamespace(t=J/2, mu=-1*J, B=J, delta=2*J, alpha=J)\n",
    "par2 = SimpleNamespace(t=J/2, mu=-3*J, B=J, delta=2*J, alpha=J)\n",
    "\n",
    "sys = nanowire_chain(20)\n",
    "H1 = sys.hamiltonian_submatrix(args=[par1])\n",
    "H2 = sys.hamiltonian_submatrix(args=[par2])\n",
    "\n",
    "h1_k = get_h_k(sys.leads[0], par1)\n",
    "h2_k = get_h_k(sys.leads[0], par2)\n",
    "\n",
    "periods = np.linspace(0.2/J, 1.6/J, 100)\n",
    "momenta = np.linspace(-np.pi, np.pi)\n",
    "\n",
    "energies = calculate_finite_spectrum(periods, [H1, H2])\n",
    "spectrum = [calculate_bands(momenta, [h1_k, h2_k], T) for T in periods]\n",
    "\n",
    "\n",
    "def plot(n):\n",
    "    T = J * periods[n]\n",
    "    \n",
    "    fig, axes = plt.subplots(1,2, figsize=[9.5,4], tight_layout=True);\n",
    "    ax1, ax2 = axes\n",
    "    \n",
    "    \n",
    "    # Plotting data\n",
    "    ax1.plot(J*periods, energies, 'k-')  \n",
    "    ax1.plot([T,T],[-np.pi, np.pi], 'b--')\n",
    "    ax2.plot(momenta, spectrum[n], 'k-')\n",
    "    \n",
    "    # Setting labels and titles\n",
    "    ax1.set_xlabel(r'Driving period $(JT)$')\n",
    "    ax1.set_ylabel(r'Quasi-energy $(ET)$')\n",
    "\n",
    "    ax2.set_xlabel('$k$')\n",
    "    ax2.set_ylabel('$E_kT$')\n",
    "    \n",
    "    ax1.set_title('finite system')\n",
    "    ax2.set_title('Floquet bands')\n",
    "    \n",
    "    # Setting ticks\n",
    "    vals = np.arange(0.2, 1.6, 0.4)\n",
    "    ax1.set_xticks(vals)\n",
    "    ax1.set_xticklabels([\"${0}$\".format(i) for i in vals])\n",
    "\n",
    "    ax1.set_yticks([-np.pi, -np.pi/2, 0, np.pi/2, np.pi])\n",
    "    ax1.set_yticklabels([r\"$-\\pi$\", r\"$-\\frac{\\pi}{2}$\", r\"$0$\", r\"$\\frac{\\pi}{2}$\", r\"$\\pi$\"])\n",
    "\n",
    "    ax2.set_xticks([-np.pi, -np.pi/2, 0, np.pi/2, np.pi])\n",
    "    ax2.set_xticklabels([r\"$-\\pi$\", r\"$-\\frac{\\pi}{2}$\", r\"$0$\", r\"$\\frac{\\pi}{2}$\", r\"$\\pi$\"])\n",
    "\n",
    "    ax2.set_yticks([-np.pi, -np.pi/2, 0, np.pi/2, np.pi])\n",
    "    ax2.set_yticklabels([r\"$-\\pi$\", r\"$-\\frac{\\pi}{2}$\", r\"$0$\", r\"$\\frac{\\pi}{2}$\", r\"$\\pi$\"])\n",
    "    \n",
    "    # Setting limits\n",
    "    ax1.set_xlim(min(J*periods), max(J*periods))\n",
    "    ax1.set_ylim(-np.pi*1.1, np.pi*1.1)\n",
    "    \n",
    "    ax2.set_xlim(-np.pi,np.pi);\n",
    "    ax2.set_ylim(-np.pi*1.1, np.pi*1.1)\n",
    "\n",
    "    return fig\n",
    "    \n",
    "StaticInteract(lambda n: plot(n), n = RangeWidget(0, len(periods)-5, 5, default=20))"
   ]
  },
  {
   "cell_type": "markdown",
   "metadata": {},
   "source": [
    "On the left you see the Floquet spectrum of a finite system as a function of the driving period measured in the units of hopping strength, and on the right you see the Floquet dispersion in momentum space."
   ]
  },
  {
   "cell_type": "markdown",
   "metadata": {},
   "source": [
    "We now witness a cool phenomenon: just like in the undriven case, the particle-hole symmetry maps $E \\rightarrow -E$, but now this means that not only $E = 0$ is special, but also $E = \\pi$!\n",
    "\n",
    "In other words, this means that there are two relevant gaps in the effective Floquet BdG Hamiltonian $H_\\textrm{eff}$. Now, by using the same argument as the one which we used for the regular Majoranas, we learn that if we have an isolated Floquet state with a quasi-energy $\\epsilon=0$ or $\\epsilon=\\pi$, it cannot be removed unless the gap surrounding it closes.\n",
    "\n",
    "In other words:\n",
    "\n",
    "> A Floquet superconductor has two types of Majorana bound states: the usual ones with quasienergy $E=0$, and the $\\pi$-Majoranas that are as far from zero energy as possible."
   ]
  },
  {
   "cell_type": "markdown",
   "metadata": {},
   "source": [
    "So we learn two interesting features of driven systems revealed in the calculation shown above: the first is that the periodic driving can turn a trivial system into non-trivial system with topologically protected Floquet states. The second is that topology is richer than in the non-driven system: for instance, here the richness comes from the fact that the topologically protected states may occur at two different points in the spectrum."
   ]
  },
  {
   "cell_type": "markdown",
   "metadata": {},
   "source": [
    "Now try to answer the following question: what's the topological invariant of this system? How to tell when there is a $\\pi$-Majorana, and when there's a regular Majorana being present? (We'll return to this question in the end of the lecture.)"
   ]
  },
  {
   "cell_type": "markdown",
   "metadata": {},
   "source": [
    "# A Floquet Chern insulator"
   ]
  },
  {
   "cell_type": "markdown",
   "metadata": {},
   "source": [
    "As the second example of a driven system that shows something that a regular system doesn't, let's consider the following toy model.\n",
    "\n",
    "We take a square lattice with time-dependent nearest neighbor hopping $t$. Next, let's engineer a time-evolution of the hopping between sites such that during a period $T$ hoppings are turned on in an alternate fashion, as in the following figure:"
   ]
  },
  {
   "cell_type": "markdown",
   "metadata": {},
   "source": [
    "![](figures/time_steps.png)"
   ]
  },
  {
   "cell_type": "markdown",
   "metadata": {},
   "source": [
    "Each step lasts one quarter of a period.\n",
    "\n",
    "Now let's tune the period such that the probability for an electron to hop along a hopping is one at the end of each quarter period [$t = (\\pi / 2) / (T / 4)$]. Now over the complete period the trajectories of electrons will look like this:"
   ]
  },
  {
   "cell_type": "markdown",
   "metadata": {},
   "source": [
    "![](figures/floquet_bulk.png)"
   ]
  },
  {
   "cell_type": "markdown",
   "metadata": {},
   "source": [
    "Every electron makes a closed loop and ends up back at its origin. After every single period the system is back to its initial state. In other words, the Floquet operator $U=1$, and $H_\\textrm{eff}=0$.\n",
    "\n",
    "Let's check it (and also see what happens as we tune the driving period):"
   ]
  },
  {
   "cell_type": "code",
   "execution_count": null,
   "metadata": {
    "collapsed": false
   },
   "outputs": [],
   "source": [
    "def plot_dispersion_2D(T):\n",
    "    def get_2D_h(par):\n",
    "        sys = get_infnite_2D_system()\n",
    "\n",
    "        def f(kx, ky):\n",
    "            par.kx = kx\n",
    "            par.ky = ky\n",
    "            ham = sys.hamiltonian_submatrix(args=[par])\n",
    "            return ham\n",
    "\n",
    "        return f\n",
    "\n",
    "    h1 = get_2D_h(SimpleNamespace(t1=1, t2=0, t3=0, t4=0))    \n",
    "    h2 = get_2D_h(SimpleNamespace(t1=0, t2=1, t3=0, t4=0))    \n",
    "    h3 = get_2D_h(SimpleNamespace(t1=0, t2=0, t3=1, t4=0))    \n",
    "    h4 = get_2D_h(SimpleNamespace(t1=0, t2=0, t3=0, t4=1))\n",
    "\n",
    "    hamiltonians_k = [h1, h2, h3, h4]\n",
    "\n",
    "    def get_energies(kx, ky):\n",
    "        hamiltonians = [h_k(kx, ky) for h_k in hamiltonians_k]\n",
    "        U = get_evolution_operator(hamiltonians, T)\n",
    "        ev = np.sort(np.angle(la.eigvals(U)))\n",
    "        return ev\n",
    "\n",
    "    K = np.linspace(-np.pi, np.pi, 50)\n",
    "    mesh = np.meshgrid(K, K)\n",
    "    energies = evaluate_on_grid(*mesh, func=get_energies)\n",
    "    fig, ax = plot_2D(*mesh, Z=energies)\n",
    "\n",
    "    ax.set_xlabel('$k_x$')\n",
    "    ax.set_xticks([-np.pi, 0.0, np.pi])\n",
    "    ax.set_xticklabels(['$-\\pi$', '$0$', '$\\pi$'])\n",
    "    ax.set_ylabel('$k_y$')\n",
    "    ax.set_yticks([-np.pi, 0.0, np.pi])\n",
    "    ax.set_yticklabels(['$-\\pi$', '$0$', '$\\pi$'])\n",
    "    ax.set_zlabel('$E$')\n",
    "    ax.set_zticks([-3, 0.0, 3])\n",
    "    ax.set_zticklabels(['$-3$', '$0$', '$3$'])\n",
    "    \n",
    "    ax.set_title(r'$T= %3.2f \\pi$' % (T/np.pi))\n",
    "    \n",
    "    ax.view_init(8,20)\n",
    "    ax.set_zlim3d(-4,4)\n",
    "    \n",
    "    return fig\n",
    "\n",
    "N = 6\n",
    "StaticInteract(lambda T: plot_dispersion_2D(2*np.pi*T / N), T=RangeWidget(N/2,3*N/2, default=N))"
   ]
  },
  {
   "cell_type": "markdown",
   "metadata": {},
   "source": [
    "Now, there isn't a Hamiltonian which is more topologically trivial than the zero Hamiltonian. We may be tempted to conclude that our system is trivial and, by the bulk-boundary correspondence, has no edge states.\n",
    "\n",
    "That's something we can also very easily verify by computing the dispersion of a finite size ribbon:"
   ]
  },
  {
   "cell_type": "code",
   "execution_count": null,
   "metadata": {
    "collapsed": false
   },
   "outputs": [],
   "source": [
    "def calculate_bands(momenta, hamiltonians_k, T):\n",
    "    energies = []\n",
    "    for k in momenta:\n",
    "        hamiltonians = [h_k(k) for h_k in hamiltonians_k]\n",
    "        U = get_evolution_operator(hamiltonians, T)\n",
    "        energies.append(np.sort(np.angle(la.eigvals(U))))\n",
    "    return np.array(energies).real\n",
    "\n",
    "\n",
    "ribbon_lead = make_ribbon_lead(10)\n",
    "h1_k = get_h_k(ribbon_lead, SimpleNamespace(t1=1, t2=0, t3=0, t4=0))\n",
    "h2_k = get_h_k(ribbon_lead, SimpleNamespace(t1=0, t2=1, t3=0, t4=0)) \n",
    "h3_k = get_h_k(ribbon_lead, SimpleNamespace(t1=0, t2=0, t3=1, t4=0))    \n",
    "h4_k = get_h_k(ribbon_lead, SimpleNamespace(t1=0, t2=0, t3=0, t4=1))\n",
    "\n",
    "hamiltonians_k = [h1_k, h2_k, h3_k, h4_k]\n",
    "\n",
    "periods = np.linspace(0, 4*np.pi, 11)\n",
    "momenta = np.linspace(-np.pi, np.pi)\n",
    "spectrum = [calculate_bands(momenta, hamiltonians_k, T) for T in periods]\n",
    "\n",
    "\n",
    "def plot(n):\n",
    "    T = periods[n]\n",
    "    \n",
    "    fig, ax = plt.subplots(1,1, figsize=[9.5,4], tight_layout=True);\n",
    "    ax.set_color_cycle('k')\n",
    "        \n",
    "    ax.plot(momenta, spectrum[n])\n",
    "    ax.set_title(r'spectrum: $T= %3.2f \\pi$' % (T/np.pi))\n",
    "    ax.set_xlim(-np.pi*1.05, np.pi*1.1)\n",
    "    ax.set_ylim(-np.pi*1.05, np.pi*1.1)\n",
    "    \n",
    "    ax.set_xlabel('$k$')\n",
    "    ax.set_ylabel('$E_kT$')\n",
    "    \n",
    "    ax.set_xticks([-np.pi, -np.pi/2, 0, np.pi/2, np.pi])\n",
    "    ax.set_xticklabels([r\"$-\\pi$\", r\"$-\\frac{\\pi}{2}$\", r\"$0$\", r\"$\\frac{\\pi}{2}$\", r\"$\\pi$\"])\n",
    "\n",
    "    ax.set_yticks([-np.pi, -np.pi/2, 0, np.pi/2, np.pi])\n",
    "    ax.set_yticklabels([r\"$-\\pi$\", r\"$-\\frac{\\pi}{2}$\", r\"$0$\", r\"$\\frac{\\pi}{2}$\", r\"$\\pi$\"])\n",
    "    \n",
    "\n",
    "    \n",
    "    return fig\n",
    "\n",
    "StaticInteract(lambda n: plot(n), n = RangeWidget(0, len(periods)-1, default=int(len(periods)/2)))"
   ]
  },
  {
   "cell_type": "markdown",
   "metadata": {},
   "source": [
    "We see something very different from our expectations. All the bulk states are indeed at $E=0$, but there are two branches of dispersion, that are clearly propagating. These can only belong to the edges, and since the two edges look identical, these two modes have to belong to the opposite edges. We seem to conclude that even though the bulk Hamiltonian is trivial, the edges carry chiral edge states, as if there was a finite Chern number.\n",
    "\n",
    "When the driving period is tuned to ensure the absence of bulk dispersion, we can also understand why the edge states appear. If we select a state that starts on the edge, and follow it for one period, we'll find that there are modes that just never leave the edge, since one of the hoppings in the vertical direction is absent."
   ]
  },
  {
   "cell_type": "markdown",
   "metadata": {},
   "source": [
    "![](figures/trajectories.png)"
   ]
  },
  {
   "cell_type": "markdown",
   "metadata": {},
   "source": [
    "So what is happening with the bulk-edge correspondence?"
   ]
  },
  {
   "cell_type": "code",
   "execution_count": null,
   "metadata": {
    "collapsed": false
   },
   "outputs": [],
   "source": [
    "question = (\"How can you change the chirality of the edge states in the figure above?\")\n",
    "\n",
    "answers = [\"By changing the driving period.\",\n",
    "           \"By reversing the driving protocol sequence.\",\n",
    "           \"By changing the sign of the nearest neighbor hopping.\",\n",
    "           \"By making the electrons start from the black sublattice.\"]\n",
    "\n",
    "explanation = (\"Reversing the driving protocol is the same as applying time-reversal symmetry, \"\n",
    "               \"so it will reverse the direction of the chiral edge modes\")\n",
    "\n",
    "MoocMultipleChoiceAssessment(question=question, answers=answers, correct_answer=1, explanation=explanation)"
   ]
  },
  {
   "cell_type": "markdown",
   "metadata": {},
   "source": [
    "# Bulk-edge correspondence in driven systems"
   ]
  },
  {
   "cell_type": "markdown",
   "metadata": {},
   "source": [
    "The two examples we've studied reveal an imporant feature of topological Floquet insulators. It seems that knowing the bulk Floquet Hamiltonian is sufficient to calculate the topological invariant by just applying the known expression to the Floquet Hamiltonian, but that's not enough.\n",
    "\n",
    "In rough terms, the reason for this insufficiency is due to Floquet topological insulators missing a topologically trivial state which can be taken as a reference. With any regular 2D Hamiltonian, we know that if we take $E \\rightarrow -\\infty$, we will get a trivial system with the Chern number zero. In a Floquet system, the only thing lowering the energy tells is is that the Chern number is periodic in quasienergy like any other observable property.\n",
    "\n",
    "What do we need to know to derive the full topological invariant from the bulk properties? The answer is that we need the complete evolution operator for any moment in time, or in other words the full dependence $H(t)$. The actual calculation of the topological invariant is technically involved, and falls beyond what we can cover in this course. Moreover, to the best of our knowledge the full classification of Floquet topological insulators is not yet accomplished."
   ]
  },
  {
   "cell_type": "markdown",
   "metadata": {},
   "source": [
    "# Conclusions"
   ]
  },
  {
   "cell_type": "code",
   "execution_count": null,
   "metadata": {
    "collapsed": false
   },
   "outputs": [],
   "source": [
    "MoocVideo(\"DbyqIczcR9c\", src_location=\"11.1-summary\")"
   ]
  },
  {
   "cell_type": "markdown",
   "metadata": {},
   "source": [
    "Questions about what you just learned? Ask them below!"
   ]
  },
  {
   "cell_type": "code",
   "execution_count": null,
   "metadata": {
    "collapsed": false
   },
   "outputs": [],
   "source": [
    "MoocDiscussion(\"Questions\", \"Floquet\")"
   ]
  }
 ],
 "metadata": {
  "kernelspec": {
   "display_name": "Python 2",
   "language": "python",
   "name": "python2"
  },
  "language_info": {
   "codemirror_mode": {
    "name": "ipython",
    "version": 2
   },
   "file_extension": ".py",
   "mimetype": "text/x-python",
   "name": "python",
   "nbconvert_exporter": "python",
   "pygments_lexer": "ipython2",
   "version": "2.7.10"
  }
 },
 "nbformat": 4,
 "nbformat_minor": 0
}