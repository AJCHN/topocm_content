{
 "metadata": {
  "name": "",
  "signature": "sha256:23e608ef1bd1b081bc2659911b3fa308a1035102110cff744000df60230a2e76"
 },
 "nbformat": 3,
 "nbformat_minor": 0,
 "worksheets": [
  {
   "cells": [
    {
     "cell_type": "code",
     "collapsed": false,
     "input": [
      "from IPython.display import IFrame"
     ],
     "language": "python",
     "metadata": {},
     "outputs": []
    },
    {
     "cell_type": "heading",
     "level": 1,
     "metadata": {},
     "source": [
      "Starting survey"
     ]
    },
    {
     "cell_type": "code",
     "collapsed": false,
     "input": [
      "IFrame(\"https://delftxtudelft.qualtrics.com/SE/?SID=SV_eXutKOECAHSxAEd&user_id=%USER_ID%\", 800, 1000)"
     ],
     "language": "python",
     "metadata": {},
     "outputs": [
      {
       "html": [
        "\n",
        "        <iframe\n",
        "            width=\"800\"\n",
        "            height=1000\"\n",
        "            src=\"https://delftxtudelft.qualtrics.com/SE/?SID=SV_eXutKOECAHSxAEd&user_id=%USER_ID%\"\n",
        "            frameborder=\"0\"\n",
        "            allowfullscreen\n",
        "        ></iframe>\n",
        "        "
       ],
       "metadata": {},
       "output_type": "pyout",
       "text": [
        "<IPython.lib.display.IFrame at 0x7f97a912b610>"
       ]
      }
     ]
    },
    {
     "cell_type": "code",
     "collapsed": false,
     "input": [],
     "language": "python",
     "metadata": {},
     "outputs": []
    }
   ],
   "metadata": {}
  }
 ]
}