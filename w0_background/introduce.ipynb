{
 "cells": [
  {
   "cell_type": "code",
   "execution_count": null,
   "metadata": {
    "collapsed": false
   },
   "outputs": [
    {
     "name": "stdout",
     "output_type": "stream",
     "text": [
      "Performing the necessary imports.\n",
      "\n",
      "from __future__ import division, print_function\n",
      "import numpy as np\n",
      "import matplotlib\n",
      "import kwant\n",
      "\n",
      "import ipywidgets\n",
      "from IPython.html.widgets import interact\n",
      "from ipywidgets import StaticInteract, RangeWidget, DropDownWidget\n",
      "from IPython.display import display_html\n",
      "from matplotlib import pyplot as plt\n",
      "\n",
      "import pfaffian as pf\n",
      "from edx_components import *\n",
      "\n"
     ]
    },
    {
     "data": {
      "text/html": [
       "\n",
       "<script type=text/javascript>\n",
       "/* Add a button for showing or hiding input */\n",
       "on = \"Show input\";\n",
       "off = \"Hide input\";\n",
       "function onoff(){\n",
       "  currentvalue = document.getElementById('onoff').value;\n",
       "  if(currentvalue == off){\n",
       "    document.getElementById(\"onoff\").value=on;\n",
       "      $('div.input').hide();\n",
       "  }else{\n",
       "    document.getElementById(\"onoff\").value=off;\n",
       "      $('div.input').show();\n",
       "  }\n",
       "}\n",
       "\n",
       "/* Launch first notebook cell on start */\n",
       "function launch_first_cell (evt) {\n",
       "  if (!launch_first_cell.executed\n",
       "      && IPython.notebook.kernel\n",
       "  ) {\n",
       "    IPython.notebook.get_cells()[0].execute();\n",
       "    launch_first_cell.executed = true;\n",
       "  }\n",
       "}\n",
       "\n",
       "$([IPython.events]).on('status_started.Kernel notebook_loaded.Notebook', launch_first_cell);\n",
       "</script>\n",
       "\n",
       "<p>Press this button to show/hide the code used in the notebook:\n",
       "<input type=\"button\" class=\"ui-button ui-widget ui-state-default ui-corner-all ui-button-text-only\" value=\"Hide input\" id=\"onoff\" onclick=\"onoff();\"></p>\n",
       "<script type=text/javascript>\n",
       "$(document).ready(function (){if(!(\"IPython\" in window)){onoff();}})\n",
       "</script>"
      ]
     },
     "metadata": {},
     "output_type": "display_data"
    }
   ],
   "source": [
    "%run ../code/init_mooc_nb.ipy\n",
    "from IPython.display import display_html, HTML"
   ]
  },
  {
   "cell_type": "markdown",
   "metadata": {},
   "source": [
    "# Introduce yourself"
   ]
  },
  {
   "cell_type": "code",
   "execution_count": null,
   "metadata": {
    "collapsed": false
   },
   "outputs": [
    {
     "data": {
      "text/html": [
       "<iframe style=\"border: none;\"\n",
       "src=\"https://delftxtools.tudelft.nl/map/map.php?action=insert&amp;course_id\n",
       "=16&amp;map_id=35&amp;user_id=%%USER_ID%%\" height=\"550\"\n",
       "width=\"100%\"></iframe>"
      ]
     },
     "metadata": {},
     "output_type": "display_data"
    }
   ],
   "source": [
    "html = \"\"\"<iframe style=\"border: none;\"\n",
    "src=\"https://delftxtools.tudelft.nl/map/map.php?action=insert&amp;course_id\n",
    "=16&amp;map_id=35&amp;user_id=%%USER_ID%%\" height=\"550\"\n",
    "width=\"100%\"></iframe>\"\"\"\n",
    "display_html(html, raw=True)"
   ]
  }
 ],
 "metadata": {},
 "nbformat": 4,
 "nbformat_minor": 0
}