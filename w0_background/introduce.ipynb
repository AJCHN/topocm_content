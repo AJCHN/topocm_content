{
 "cells": [
  {
   "cell_type": "code",
   "execution_count": null,
   "metadata": {
    "collapsed": false
   },
   "outputs": [],
   "source": [
    "%run ../code/init_mooc_nb.ipy\n",
    "from IPython.display import display_html, HTML"
   ]
  },
  {
   "cell_type": "markdown",
   "metadata": {},
   "source": [
    "# Introduce yourself"
   ]
  },
  {
   "cell_type": "code",
   "execution_count": null,
   "metadata": {
    "collapsed": false
   },
   "outputs": [],
   "source": [
    "html = \"\"\"<iframe style=\"border: none;\"\n",
    "src=\"https://delftxtools.tudelft.nl/map/map.php?action=insert&amp;course_id\n",
    "=16&amp;map_id=35&amp;user_id=%%USER_ID%%\" height=\"550\"\n",
    "width=\"100%\"></iframe>\"\"\"\n",
    "display_html(html, raw=True)"
   ]
  }
 ],
 "metadata": {},
 "nbformat": 4,
 "nbformat_minor": 0
}