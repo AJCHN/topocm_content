{
 "metadata": {
  "name": ""
 },
 "nbformat": 3,
 "nbformat_minor": 0,
 "worksheets": [
  {
   "cells": [
    {
     "cell_type": "code",
     "collapsed": false,
     "input": [
      "%run ../code/init_mooc_nb.ipy"
     ],
     "language": "python",
     "metadata": {},
     "outputs": [
      {
       "output_type": "stream",
       "stream": "stdout",
       "text": [
        "Performing the necessary imports.\n",
        "\n",
        "from __future__ import division, print_function\n",
        "import numpy as np\n",
        "import matplotlib\n",
        "import kwant\n",
        "\n",
        "import ipywidgets\n",
        "from IPython.html.widgets import interact\n",
        "from ipywidgets import StaticInteract, RangeWidget, DropDownWidget\n",
        "from IPython.display import display_html\n",
        "from matplotlib import pyplot as plt\n",
        "\n",
        "import pfaffian as pf\n",
        "from edx_components import *\n",
        "\n"
       ]
      },
      {
       "html": [
        "\n",
        "<script type=text/javascript>\n",
        "/* Add a button for showing or hiding input */\n",
        "on = \"Show input\";\n",
        "off = \"Hide input\";\n",
        "function onoff(){\n",
        "  currentvalue = document.getElementById('onoff').value;\n",
        "  if(currentvalue == off){\n",
        "    document.getElementById(\"onoff\").value=on;\n",
        "      $('div.input').hide();\n",
        "  }else{\n",
        "    document.getElementById(\"onoff\").value=off;\n",
        "      $('div.input').show();\n",
        "  }\n",
        "}\n",
        "\n",
        "/* Launch first notebook cell on start */\n",
        "function launch_first_cell (evt) {\n",
        "  if (!launch_first_cell.executed\n",
        "      && IPython.notebook.kernel\n",
        "  ) {\n",
        "    IPython.notebook.get_cells()[0].execute();\n",
        "    launch_first_cell.executed = true;\n",
        "  }\n",
        "}\n",
        "\n",
        "$([IPython.events]).on('status_started.Kernel notebook_loaded.Notebook', launch_first_cell);\n",
        "</script>\n",
        "\n",
        "<p>Press this button to show/hide the code used in the notebook:\n",
        "<input type=\"button\" class=\"ui-button ui-widget ui-state-default ui-corner-all ui-button-text-only\" value=\"Hide input\" id=\"onoff\" onclick=\"onoff();\"></p>\n",
        "<script type=text/javascript>\n",
        "$(document).ready(function (){if(!(\"IPython\" in window)){onoff();}})\n",
        "</script>"
       ],
       "metadata": {},
       "output_type": "display_data"
      },
      {
       "javascript": [
        "/**\n",
        " * Calico Jupyter Notebooks Extensions\n",
        " *\n",
        " * Copyright (c) The Calico Project\n",
        " * http://calicoproject.org/ICalico\n",
        " *\n",
        " * Released under the BSD Simplified License\n",
        " *\n",
        " **/\n",
        "\n",
        "function ip_version() {\n",
        "    if (IPython.version[0] === \"2\")\n",
        "\treturn 2;\n",
        "    else if (IPython.version[0] === \"3\")\n",
        "\treturn 3;\n",
        "    else\n",
        "\tthrow \"IPython version not supported\";\n",
        "}\n",
        "\n",
        "function break_into_sections(index) {\n",
        "    if (ip_version() === 2)\n",
        "\treturn 0;\n",
        "    var cells = IPython.notebook.get_cells();\n",
        "    var count = 0; // count below index, or -1\n",
        "    // go in reverse order to keep index accurate\n",
        "    for (var i = cells.length - 1; i > -1; i--) {\n",
        "\tvar cell = cells[i];\n",
        "\tvar rendered = cell.rendered;\n",
        "\t// consider it for breaking:\n",
        "\tif (cell.cell_type === \"markdown\") {\n",
        "\t    var text = cell.get_text();\n",
        "\t    if (text.match(/^#+Table of Contents/)) \n",
        "\t\tcontinue;\n",
        "\t    var lines = text.split(/\\n/g);\n",
        "\t    if (lines.length > 1) {\n",
        "\t\t// possibly break up\n",
        "\t\tvar state = \"ok\";\n",
        "\t\tvar current = \"\";\n",
        "\t\tvar cell_texts = [];\n",
        "\t\tfor (var line_no in lines) {\n",
        "\t\t    var line = lines[line_no];\n",
        "\t\t    if (state === \"ok\") {\n",
        "\t\t\tif (line.indexOf('```') === 0) {\n",
        "                            // set state to fence: allows for longer fences\n",
        "\t\t\t    state = line.substr(0, line.search(\"[^`]\"));\n",
        "\t\t\t    current += line + \"\\n\";\n",
        "\t\t\t} else if (line.indexOf('#') === 0) {\n",
        "\t\t\t    if (current !== \"\") {\n",
        "\t\t\t\tcell_texts.push(current.trim());\n",
        "\t\t\t    }\n",
        "\t\t\t    current = \"\";\n",
        "\t\t\t    cell_texts.push(line);\n",
        "\t\t\t} else {\n",
        "\t\t\t    current += line + \"\\n\";\n",
        "\t\t\t}\n",
        "\t\t    } else { // in block\n",
        "\t\t\tif (line.indexOf(state) === 0) {\n",
        "\t\t\t    state = \"ok\";\n",
        "\t\t\t    current += line + \"\\n\";\n",
        "\t\t\t    cell_texts.push(current.trim());\n",
        "\t\t\t    current = \"\";\n",
        "\t\t\t} else {\n",
        "\t\t\t    current += line + \"\\n\";\n",
        "\t\t\t}\n",
        "\t\t    }\n",
        "\t\t} // for\n",
        "\t\t// anything left over:\n",
        "\t\tif (current.trim() !== \"\") {\n",
        "\t\t    cell_texts.push(current.trim());\n",
        "\t\t}\n",
        "\t\tif (cell_texts.length > 1) {\n",
        "\t\t    var current_cell = IPython.notebook.get_cell(i);\n",
        "\t\t    var added = 0;\n",
        "\t\t    for (var j = 0; j < cell_texts.length; j++) {\n",
        "\t\t\tif (cell_texts[j].trim() !== \"\") {\n",
        "\t\t\t    if (added === 0) {\n",
        "\t\t\t\tcurrent_cell.set_text(cell_texts[j]);\n",
        "\t\t\t\tif (rendered) {\n",
        "\t\t\t\t    current_cell.render();\n",
        "\t\t\t\t}\t\t\t\t\t\n",
        "\t\t\t    } else {\n",
        "\t\t\t\tif (i === index) {\n",
        "\t\t\t\t    count = -1; // nope, can't do it\n",
        "\t\t\t\t} else if (i < index && count !== -1) {\n",
        "\t\t\t\t    count++;\n",
        "\t\t\t\t}\n",
        "\t\t\t\tvar new_cell = IPython.notebook.insert_cell_below(\"markdown\", i + added - 1);\n",
        "\t\t\t\tnew_cell.set_text(cell_texts[j]);\n",
        "                                if (rendered) {\n",
        "\t\t\t\t    new_cell.render();\n",
        "\t\t\t\t}\n",
        "\t\t\t    }\n",
        "\t\t\t    added++;\n",
        "\t\t\t}\n",
        "\t\t    }\n",
        "\t\t}\n",
        "\t    }\n",
        "\t}\n",
        "    }\n",
        "    return count;\n",
        "}\n",
        "\n",
        "function is_heading(cell) {\n",
        "    if (ip_version() === 2)\n",
        "\treturn (cell.cell_type === \"heading\");\n",
        "    else \n",
        "\treturn (cell.cell_type === \"markdown\" && cell.get_text().indexOf(\"#\") === 0)\n",
        "}\n",
        "\n",
        "function get_heading_text(cell) {\n",
        "    if (ip_version() === 2)\n",
        "\treturn cell.get_text();\n",
        "    else if (cell.get_text().indexOf(\"######\") === 0)\n",
        "\treturn cell.get_text().substring(6).trim();\n",
        "    else if (cell.get_text().indexOf(\"#####\") === 0)\n",
        "\treturn cell.get_text().substring(5).trim();\n",
        "    else if (cell.get_text().indexOf(\"####\") === 0)\n",
        "\treturn cell.get_text().substring(4).trim();\n",
        "    else if (cell.get_text().indexOf(\"###\") === 0)\n",
        "\treturn cell.get_text().substring(3).trim();\n",
        "    else if (cell.get_text().indexOf(\"##\") === 0)\n",
        "\treturn cell.get_text().substring(2).trim();\n",
        "    else if (cell.get_text().indexOf(\"#\") === 0)\n",
        "\treturn cell.get_text().substring(1).trim();\n",
        "    else return \"\";\n",
        "}\n",
        "\n",
        "function repeat(pattern, count) {\n",
        "    if (count < 1) return '';\n",
        "    var result = '';\n",
        "    while (count > 1) {\n",
        "        if (count & 1) result += pattern;\n",
        "        count >>= 1, pattern += pattern;\n",
        "    }\n",
        "    return result + pattern;\n",
        "}\n",
        "\n",
        "function set_heading_text(cell, text) {\n",
        "    var rendered = cell.rendered;\n",
        "    cell.unrender();\n",
        "    if (ip_version() === 2)\n",
        "\tcell.set_text(text);\n",
        "    else {\n",
        "\tvar level = get_level(cell);\n",
        "\tcell.set_text( repeat(\"#\", level) + \" \" + text)\n",
        "    }\n",
        "    if (rendered) {\n",
        "        cell.render();\n",
        "    }\n",
        "}\n",
        "\n",
        "function get_level(cell) {\n",
        "    if (ip_version() === 2)\n",
        "\treturn cell.level;\n",
        "    else if (cell.get_text().indexOf(\"######\") === 0)\n",
        "\treturn 6;\n",
        "    else if (cell.get_text().indexOf(\"#####\") === 0)\n",
        "\treturn 5;\n",
        "    else if (cell.get_text().indexOf(\"####\") === 0)\n",
        "\treturn 4;\n",
        "    else if (cell.get_text().indexOf(\"###\") === 0)\n",
        "\treturn 3;\n",
        "    else if (cell.get_text().indexOf(\"##\") === 0)\n",
        "\treturn 2;\n",
        "    else if (cell.get_text().indexOf(\"#\") === 0)\n",
        "\treturn 1;\n",
        "    else return 0;\n",
        "}\n",
        "\n",
        "function get_last_cell_index_in_section(level, index) {\n",
        "    var current = index;\n",
        "    while (IPython.notebook.is_valid_cell_index(current + 1)) {\n",
        "\tvar cell = IPython.notebook.get_cell(current + 1);\n",
        "\tif (is_heading(cell) && get_level(cell) <= level) {\n",
        "\t    return current;\n",
        "\t}\n",
        "\tcurrent++;\n",
        "    }\n",
        "    return current;\n",
        "}\n",
        "\n",
        "function get_index_level_above(level, index) {\n",
        "    var current = current = index - 1;\n",
        "    while (IPython.notebook.is_valid_cell_index(current)) {\n",
        "\tvar cell = IPython.notebook.get_cell(current);\n",
        "\tif (is_heading(cell) && get_level(cell) <= level) {\n",
        "\t    return current;\n",
        "\t}\n",
        "\tcurrent--;\n",
        "    }\n",
        "    return undefined;\n",
        "}\n",
        "\n",
        "function get_index_level_below(level, index) {\n",
        "    var current = current = index + 1;\n",
        "    while (IPython.notebook.is_valid_cell_index(current)) {\n",
        "\tvar cell = IPython.notebook.get_cell(current);\n",
        "\tif (is_heading(cell) && get_level(cell) <= level) {\n",
        "\t    return current;\n",
        "\t}\n",
        "\tcurrent++;\n",
        "    }\n",
        "    return undefined;\n",
        "}\n",
        "\n",
        "function section_label() {\n",
        "    // Label headings with numbers, or toggle them off\n",
        "    // If there is a table of contents, re-do it\n",
        "    break_into_sections();\n",
        "    var cells = IPython.notebook.get_cells();\n",
        "    var levels = [0,0,0,0,0,0];\n",
        "    var current_level = 1;\n",
        "    var flag = false;\n",
        "    var alert_text = \"\";\n",
        "    var alert_flag = false;\n",
        "    var remove_numbering = true;\n",
        "    \n",
        "    for (var i = 0; i < cells.length; i++) {\n",
        "\tvar cell = cells[i];\n",
        "\tif (is_heading(cell)) {\n",
        "\t    if (cell.get_text().match(/^#+Table of Contents/)) \n",
        "\t\tcontinue;\n",
        "\t    if (cell.get_text().match(/^#+References/)) \n",
        "\t\tcontinue;\n",
        "\t    var level = get_level(cell);\n",
        "\t    \n",
        "\t    if (level >= current_level) { //just keep incrementing\n",
        "\t\tcurrent_level = level;\n",
        "\t\tlevels[level-1]++;\n",
        "\t    } else {                    //went back a level\n",
        "\t\tlevels[current_level-1] = 0;\n",
        "\t\t\n",
        "\t\tif (current_level-level > 1) { //Skipped levels in between\n",
        "\t\t    for (var j = 1; j < current_level-level; j++) { //back-prop the zeros\n",
        "\t\t\tlevels[current_level - 1 - j] = 0;\n",
        "\t\t    }\n",
        "\t\t}\n",
        "\t\t\n",
        "\t\tlevels[level -1]++;\n",
        "\t\tcurrent_level = level;\n",
        "\t    }\n",
        "\t    \n",
        "\t    var error = false;\n",
        "\t    var error_no_begin = 0;\n",
        "\t    var error_no_end = 0;\n",
        "\t    var error_heading_label = \"\";\n",
        "\t    var heading_label = \"\"; //Generate the appropriate number for the heading\n",
        "\t    for (var k = 0; k < level; k++) {\n",
        "\t\tif (levels[k] == 0) {\n",
        "\t\t    if (!error) {\n",
        "\t\t\terror_heading_label = heading_label;\n",
        "\t\t\terror = true;\n",
        "\t\t\terror_no_begin = k;\n",
        "\t\t    } else {\n",
        "\t\t\terror_no_end = k + 2;\n",
        "\t\t    }\n",
        "\t\t}\n",
        "\t\theading_label += levels[k];\n",
        "\t\tif (level-k == 1 && level > 1) {\n",
        "\t\t    break;\n",
        "\t\t}\n",
        "\t\theading_label += \".\";\n",
        "\t    }\n",
        "\t    \n",
        "\t    if (error) {\n",
        "\t\tif (error_no_end == 0) {\n",
        "\t\t    error_no_end = error_no_begin + 2;\n",
        "\t\t}\n",
        "\t\tif (error_heading_label == \"\") {\n",
        "\t\t    if (!flag) {\n",
        "\t\t\tvar temp1 = \"Notebook begins with a Header \" + error_no_end + \" cell.\" + \"\\n\";\n",
        "\t\t\talert_text += temp1;\n",
        "\t\t\talert_flag = true;\n",
        "\t\t\tflag = true;\n",
        "\t\t    }\n",
        "\t\t} else{\n",
        "\t\t    var temp = \"You placed a Header \" + error_no_end + \" cell under a Header \" + error_no_begin + \" cell in section \" + error_heading_label +\"\\n\";\n",
        "\t\t    alert_text += temp;\n",
        "\t\t    alert_flag = true;\n",
        "\t\t}\n",
        "\t    }\n",
        "\t    \n",
        "\t    var heading_text = get_heading_text(cell);\n",
        "\t    var old_header = heading_text;\n",
        "\t    var re = /(?:\\d*\\.*)*\\s*(.*)/;\n",
        "\t    var match = heading_text.match(re);\n",
        "\t    \n",
        "\t    if (match) {\n",
        "\t\theading_text = heading_label + \" \" + match[1];\n",
        "\t    } else {\n",
        "\t\theading_text = heading_label;\n",
        "\t    }\n",
        "\t    \n",
        "\t    if (old_header != heading_text) {\n",
        "\t\tremove_numbering = false;\n",
        "\t\treplace_links(old_header, heading_text);\n",
        "\t    }\n",
        "\t    \n",
        "\t    heading_text = heading_text.trim();\n",
        "\t    set_heading_text(cell, heading_text);\n",
        "\t}\n",
        "    }\n",
        "    \n",
        "    if (alert_flag) {\n",
        "\talert(alert_text);\n",
        "    }\n",
        "    \n",
        "    if (remove_numbering) {\n",
        "\tfor (var i = 0; i < cells.length; i++) {\n",
        "\t    var cell = cells[i];\n",
        "\t    if (is_heading(cell)) {\n",
        "\t\tif (cell.get_text().match(/^#+Table of Contents/)) \n",
        "\t\t    continue;\n",
        "\t\tif (cell.get_text().match(/^#+References/)) \n",
        "\t\t    continue;\n",
        "\t\tvar heading_text = get_heading_text(cell);\n",
        "\t\told_header = heading_text;\n",
        "\t\tvar re = /(?:\\d*\\.*)*\\s*(.*)/;\n",
        "\t\tvar match = heading_text.match(re);\n",
        "\t\tif (match) {\n",
        "\t\t    heading_text = match[1];\n",
        "\t\t}\n",
        "\t\tset_heading_text(cell, heading_text);\n",
        "\t\treplace_links(old_header, heading_text);\n",
        "\t    }\n",
        "\t}\n",
        "    }\n",
        "    \n",
        "    // If there is a Table of Contents, replace it:\n",
        "    var cells = IPython.notebook.get_cells();\n",
        "    for (var i = 0; i < cells.length; i++) {\n",
        "        var cell = cells[i];\n",
        "        if (cell.cell_type == \"markdown\") {\n",
        "\t    var cell_text = cell.get_text();\n",
        "\t    var match = cell_text.match(/^#+Table of Contents/);\n",
        "\t    if (match) {\n",
        "\t\ttable_of_contents();\n",
        "\t\tbreak;\n",
        "\t    }\n",
        "\t}\n",
        "    }\n",
        "}\n",
        "\n",
        "function replace_links(old_header, new_header) {\n",
        "    // Replace an old internal link with new link\n",
        "    new_header = new_header.trim();\n",
        "    var cells = IPython.notebook.get_cells();\n",
        "    for (var i = 0; i < cells.length; i++) {\n",
        "        var cell = cells[i];\n",
        "        if (cell.cell_type == \"markdown\") {\n",
        "\t    var cell_text = cell.get_text();\n",
        "\t    // Skip over table of contents:\n",
        "\t    if (cell_text.match(/^#+Table of Contents/)) {\n",
        "\t\tcontinue;\n",
        "\t    }\n",
        "\t    var re_string = old_header;\n",
        "\t    re_string = re_string.replace(/\\\\/g, \"\\\\\\\\\");\n",
        "\t    re_string = re_string.replace(/\\//g, \"\\\\/\");\n",
        "\t    re_string = re_string.replace(/\\^/g, \"\\\\^\");\n",
        "\t    re_string = re_string.replace(/\\$/g, \"\\\\$\");\n",
        "\t    re_string = re_string.replace(/\\*/g, \"\\\\*\");\n",
        "\t    re_string = re_string.replace(/\\+/g, \"\\\\+\");\n",
        "\t    re_string = re_string.replace(/\\?/g, \"\\\\?\");\n",
        "\t    re_string = re_string.replace(/\\./g, \"\\\\.\");\n",
        "\t    re_string = re_string.replace(/\\)/g, \"%29\");\n",
        "\t    re_string = re_string.replace(/\\|/g, \"\\\\|\");\n",
        "\t    re_string = re_string.replace(/\\[/g, \"\\\\[\");\n",
        "\t    re_string = re_string.replace(/\\]/g, \"\\\\]\");\n",
        "\t    re_string = re_string.replace(/\\(/g, \"?:\\\\(|%28\");\n",
        "\t    re_string = re_string.replace(/\\s/g, \"-\");\n",
        "\t    re_string = \"(\\\\[.*\\\\](?::\\\\s*|\\\\()#)\" + re_string + \"(.*\\\\)|(.*)$)\";\n",
        "\t    \n",
        "\t    var re = new RegExp(re_string, \"gm\");\n",
        "\t    var link_text = new_header.replace(/\\s+$/g, \"\"); //Delete trailing spaces before they become \"-\"\n",
        "\t    link_text = link_text.replace(/\\(/g, \"%28\"); //Replace left parentheses with their encoding\n",
        "\t    link_text = link_text.replace(/\\)/g, \"%29\"); //Replace right parentheses with their encoding\n",
        "\t    link_text = link_text.replace(/ /g, \"-\"); //Replace all spaces with dashes to create links\n",
        "\t    \n",
        "\t    var match = cell_text.match(re);\n",
        "\t    if (match) {\n",
        "                var new_text = cell_text.replace(re, \"$1\" + link_text + \"$2\");\n",
        "                cell.unrender();\n",
        "                cell.set_text(new_text);\n",
        "                cell.render();\n",
        "\t    }\n",
        "        }\n",
        "    }\n",
        "}\n",
        "\n",
        "function find_cell(cell_type, text) {\n",
        "    // Finds first cell of cell_type that starts with text\n",
        "    // cell_type and text are interpreted as a regular expression\n",
        "    var cell = undefined;\n",
        "    var cells = IPython.notebook.get_cells();\n",
        "    for (var x = 0; x < cells.length; x++) {\n",
        "\tvar temp = cells[x];\n",
        "\tif (temp.cell_type.match(cell_type) != undefined) {\n",
        "\t    var temp_text = temp.get_text();\n",
        "\t    var re = new RegExp(\"^\" + text);\n",
        "\t    if (re.test(temp_text)) {\n",
        "\t\tcell = cells[x];\n",
        "\t\tbreak;\n",
        "\t    }\n",
        "\t}\n",
        "    }\n",
        "    return cell;\n",
        "}\n",
        "\n",
        "function table_of_contents() {\n",
        "    break_into_sections();\n",
        "    // Create and/or replace Table of Contents\n",
        "    var cells = IPython.notebook.get_cells();\n",
        "    var toc_cell = find_cell(\"markdown\", \"#+Table of Contents\");\n",
        "    // Default to top-level heading\n",
        "    var toc_text = \"#Table of Contents\\n\";\n",
        "    if (toc_cell == undefined) {\n",
        "\t//Create a new markdown cell at the top of the Notebook\n",
        "\ttoc_cell = IPython.notebook.select(0).insert_cell_below(\"markdown\"); \n",
        "    } else {\n",
        "\t// already exists:\n",
        "\ttoc_text = toc_cell.get_text().match(/^#+Table of Contents/)[0] + \"\\n\";\n",
        "    }\n",
        "    var prev_lev = 0;\n",
        "    for (var i = 0; i < cells.length; i++) {\n",
        "\tvar cell = cells[i];\n",
        "\tif (is_heading(cell)) {\n",
        "\t    if (cell.get_text().match(/^#+Table of Contents/)) \n",
        "\t\tcontinue;\n",
        "\t    if (cell.get_text().match(/^#+References/)) \n",
        "\t\tcontinue;\n",
        "\t    if (get_level(cell) - prev_lev > 1) { //Skipped levels. Enter Dummy levels\n",
        "\t\tfor (var x = 0; x < ((get_level(cell) - prev_lev) - 1); x++) {\n",
        "\t\t    for (var y = 0; y < (prev_lev + x); y++) {\n",
        "\t\t\ttoc_text += \"\\t\";\n",
        "\t\t    }\n",
        "\t\t    toc_text += \"* &nbsp;\\n\";\n",
        "\t\t}\n",
        "\t    }\n",
        "\t    var cell_text = get_heading_text(cell);\n",
        "\t    for (var j = 0; j < get_level(cell) -1; j++) { //Loop to add the proper amount of tabs based on header level\n",
        "\t\ttoc_text += \"\\t\";\n",
        "\t    }\n",
        "\t    toc_text += \"* [\";\n",
        "\t    toc_text += cell_text;\n",
        "\t    toc_text += \"](#\";\n",
        "\t    var link_text = cell_text.replace(/\\s+$/g, \"\"); //Delete trailing spaces before they become \"-\"\n",
        "\t    link_text = link_text.replace(/\\(/g, \"%28\"); //Replace left parentheses with their encoding\n",
        "\t    link_text = link_text.replace(/\\)/g, \"%29\"); //Replace right parentheses with their encoding\n",
        "\t    link_text = link_text.replace(/ /g, \"-\"); //Replace all spaces with dashes to create links\n",
        "\t    toc_text += link_text;\n",
        "\t    toc_text += \")\\n\";\n",
        "\t    prev_lev = get_level(cell);\n",
        "\t}\n",
        "    }\n",
        "    toc_cell.unrender();\n",
        "    toc_cell.set_text(toc_text);\n",
        "    toc_cell.render();\n",
        "}\n",
        "$([IPython.events]).on('status_started.Kernel notebook_loaded.Notebook', table_of_contents);"
       ],
       "metadata": {},
       "output_type": "display_data"
      }
     ]
    },
    {
     "cell_type": "markdown",
     "metadata": {},
     "source": [
      "##Topics:\n",
      "\n",
      "* Doubling of Chern insulators to restore time reversal\n",
      "* Protection of $T=1$ transmission channel in presence of Kramers degeneracy\n",
      "* Fermion parity pump and the scattering topological invariant\n",
      "* Topological invariant for systems with inversion symmetry"
     ]
    },
    {
     "cell_type": "markdown",
     "metadata": {},
     "source": [
      "##Table of Contents\n",
      "* [Introduction](#Introduction)\n",
      "* [Adding symmetry to a topological insulator](#Adding-symmetry-to-a-topological-insulator)\n",
      "* [A perfectly transmitted channel and Kramers degeneracy](#A-perfectly-transmitted-channel-and-Kramers-degeneracy)\n",
      "* [Helical edge states are Kramers pairs](#Helical-edge-states-are-Kramers-pairs)\n",
      "* [The quantum spin Hall effect](#The-quantum-spin-Hall-effect)\n",
      "* [Alternative point of view: fermion parity pump](#Alternative-point-of-view:-fermion-parity-pump)\n",
      "* [Pumping expression for the topological invariant](#Pumping-expression-for-the-topological-invariant)\n",
      "* [A simplification: inversion symmetry](#A-simplification:-inversion-symmetry)\n",
      "* [Summary](#Summary)\n"
     ]
    },
    {
     "cell_type": "heading",
     "level": 1,
     "metadata": {},
     "source": [
      "Introduction"
     ]
    },
    {
     "cell_type": "markdown",
     "metadata": {},
     "source": [
      "Charles Kane from the University of Pennsylvania will introduce today's lecture on the two dimensional topological insulators with time-reversal symmetry."
     ]
    },
    {
     "cell_type": "code",
     "collapsed": false,
     "input": [
      "MoocVideo(\"n5oUQvvsYd0\", src_location='5.1-intro')"
     ],
     "language": "python",
     "metadata": {},
     "outputs": [
      {
       "html": [
        "\n",
        "        <iframe\n",
        "            width=\"400\"\n",
        "            height=300\"\n",
        "            src=\"https://www.youtube.com/embed/n5oUQvvsYd0\"\n",
        "            frameborder=\"0\"\n",
        "            allowfullscreen\n",
        "        ></iframe>\n",
        "        "
       ],
       "metadata": {},
       "output_type": "pyout",
       "text": [
        "MoocVideo(**{'download_video': 'true', 'display_name': '', 'sub': 'n5oUQvvsYd0', 'youtube': '1.00:n5oUQvvsYd0', 'show_captions': 'true', 'youtube_id_1_0': 'n5oUQvvsYd0', 'source': 'http://delftxdownloads.tudelft.nl/TOPOCMx-QuantumKnots/TOPOCMx-5.1-intro-video.720.mp4', 'download_track': 'true'})"
       ]
      }
     ]
    },
    {
     "cell_type": "heading",
     "level": 1,
     "metadata": {},
     "source": [
      "Adding symmetry to a topological insulator"
     ]
    },
    {
     "cell_type": "markdown",
     "metadata": {},
     "source": [
      "In general, there are different approaches to discovering new types of topological systems.\n",
      "\n",
      "We already used a very powerful method to make a Kitaev chain and the Chern insulator model. We started from guessing the kind of model to put on the edge such that it is impossible to obtain without the bulk. Then we tailored the coupling such between many copies of the edges (dots for the Kitaev chain and wires for the Chern insulator) to leave exactly the type of the model that we want on one edge."
     ]
    },
    {
     "cell_type": "markdown",
     "metadata": {},
     "source": [
      "A researcher with very high skill in topology (or more specifically [K-theory](https://en.wikipedia.org/wiki/K-theory)) may also just calculate the expected topological classification of a system starting only from its dimensionality and symmetries. This is also a powerful method, but often it's too hard and requires a very high math skill.\n",
      "\n",
      "Another approach that we can undertake is to start from knowing one topological Hamiltonian and see what happens if we force the Hamiltonian to get some extra symmetry. This is the approach we will use in this chapter."
     ]
    },
    {
     "cell_type": "markdown",
     "metadata": {},
     "source": [
      "Let's start from a simple example involving something which we already know, a quantum dot with the Hamiltonian $H_0$. We know that there is a topological invariant, the number of filled energy levels.\n",
      "\n",
      "Now we can ask what happens if we force the dot to have a particle-hole symmetry, so that at first the Hamiltonian becomes\n",
      "\n",
      "$$\n",
      "H_\\textrm{BdG} =\n",
      "\\begin{pmatrix}\n",
      "H_0 & 0\\\\\n",
      "0 & -H_0^*\n",
      "\\end{pmatrix}\n",
      "$$"
     ]
    },
    {
     "cell_type": "markdown",
     "metadata": {},
     "source": [
      "This model clearly became topologically trivial from the point of view of the old invariant, since the number of filled states is constant. However there are still level crossings that appear, and we may ask if these crossings stay protected if we also allow for a finite superconducting pairing $\\Delta$ to enter the Hamiltonian, coupling the two blocks $H_0$ and $-H_0^*$.\n",
      "\n",
      "Of course we know the answer, and it just tells us that the crossings stay protected due to the change in the Pfaffian invariant. So what we did was to construct a topologically non-trivial superconducting dot by trivially adding particle-hole symmetry to a topological Hamiltonian with a lower symmetry."
     ]
    },
    {
     "cell_type": "markdown",
     "metadata": {},
     "source": [
      "Let's now apply the same logic to a new system. Specifically, let's add time-reversal symmetry to a Chern insulator. The Chern insulator has chiral edge states whose direction of propagation is flipped by time-reversal symmetry $\\mathcal{T}$. So let's consider a Hamiltonian of the form\n",
      "\n",
      "$$\n",
      "H =\n",
      "\\begin{pmatrix}\n",
      "H_0 & 0\\\\\n",
      "0 & \\mathcal{T}H_0\\mathcal{T}^{-1}\n",
      "\\end{pmatrix}\\,.\n",
      "$$\n",
      "\n",
      "If $H_0$ is the Hamiltonian of a Chern insulator with $N$ edge states, then $H$ will have $N$ pairs of counter-propagating edge states that transform into each other by time-reversal symmetry. Moreover, the full $H$ obeys time-reversal symmetry, which merely exchanges the two blocks.\n",
      "\n",
      "The following sketch describes the situation in the case $N=1$:"
     ]
    },
    {
     "cell_type": "markdown",
     "metadata": {},
     "source": [
      "![](figures/qsh_insulator.png)"
     ]
    },
    {
     "cell_type": "markdown",
     "metadata": {},
     "source": [
      "The next task which we now face is to understand if such edges stay topologically protected once we add coupling between the two blocks."
     ]
    },
    {
     "cell_type": "heading",
     "level": 1,
     "metadata": {},
     "source": [
      "A perfectly transmitted channel and Kramers degeneracy"
     ]
    },
    {
     "cell_type": "markdown",
     "metadata": {},
     "source": [
      "We could try to study if the all the edge states can be removed by trying to add various terms to the Hamiltonian, but instead we can consider a closely related fact.\n",
      "\n",
      "Let's study transport through such edge states as a function of their total number and let's only use the fact that the time-reversal symmetry is present. Imagine there is a total of $N$ states going in each direction and there is a disordered region connecting two clean regions. Again, let's represent the situation for the case $N=1$.\n",
      "\n",
      "![](figures/qsh_scattering.png)"
     ]
    },
    {
     "cell_type": "markdown",
     "metadata": {},
     "source": [
      "## Scattering states\n",
      "\n",
      "We label incoming states on the left and right with $\\left|n,\\textrm{L}\\right\\rangle$ and $\\left|n,\\textrm{R}\\right\\rangle$. The index $n$ goes from $1$ to $N$. The outgoing states are the time-reversed partners of the incoming states, so they are given by $\\mathcal{T}\\left|n,\\textrm{L}\\right\\rangle$ and $\\mathcal{T}\\left|n,\\textrm{R}\\right\\rangle$. Scattering states in the left and right regions are superpositions of incoming and outgoing states,\n",
      "\n",
      "$$\n",
      "\\left|\\Psi,\\textrm{L}\\right\\rangle = \\sum_{n=1}^N \\alpha_{n,\\textrm{L}}\\,\\left|n,\\textrm{L}\\right\\rangle + \\beta_{n,\\textrm{L}}\\,\\mathcal{T}\\left|n,\\textrm{L}\\right\\rangle\\,,\n",
      "$$\n",
      "$$\n",
      "\\left|\\Psi,\\textrm{R}\\right\\rangle = \\sum_{n=1}^N \\alpha_{n,\\textrm{R}}\\,\\left|n,\\textrm{R}\\right\\rangle + \\beta_{n,\\textrm{R}}\\,\\mathcal{T}\\left|n,\\textrm{R}\\right\\rangle\\,.\n",
      "$$\n",
      "\n",
      "We can form vectors out of all the coefficients in the superposition, for instance $\\alpha_\\textrm{L} = (\\alpha_{1,\\textrm{L}},\\dots,\\alpha_{N,\\textrm{L}})^T$. Incoming and outgoing modes are then related by the scattering matrix $S$ of the disordered region,\n",
      "\n",
      "$$\n",
      "\\begin{pmatrix} \\beta_\\textrm{L} \\\\ \\beta_\\textrm{R} \\end{pmatrix} = S \\begin{pmatrix} \\alpha_\\textrm{L} \\\\ \\alpha_\\textrm{R} \\end{pmatrix}\n",
      "$$\n",
      "\n",
      "There are a total of $2N$ incoming and $2N$ outgoing modes, so $S$ is a $2N\\times 2N$ matrix. Since we are including all possible initial and final states, $S$ is also unitary, $S=S^\\dagger$. It can be split into reflection and transmission blocks of dimension $N\\times N$,\n",
      "\n",
      "$$\n",
      "S =\n",
      "\\begin{pmatrix}\n",
      "r & t\\\\\n",
      "t' & r'\n",
      "\\end{pmatrix}\\,.\n",
      "$$\n",
      "\n",
      "For instance, the blocks $r$ and $t$ give the reflected and transmitted part of an incoming mode from the clean region on the left.\n",
      "\n",
      "If we can gap out the edges by adding some extra terms to the Hamiltonian, or backscatter them by adding disorder, then we should be able to achieve the situation where there is no transmission at all, $t = t' = 0$. In this case, all modes must be reflected back, so the reflection blocks of the scattering matrix become unitary, $r^\\dagger r = r'^\\dagger r' = 1$.\n",
      "\n",
      "To see whether this is possible at all, we first have to understand what are the constraints that time-reversal symmetry imposes on $S$."
     ]
    },
    {
     "cell_type": "markdown",
     "metadata": {},
     "source": [
      "## Scattering matrices with time-reversal symmetry\n",
      "\n",
      "Let's recall some basic facts about time-reversal symmetry, which we already studied in the first week. Time-reversal symmetry has an antiunitary operator $\\mathcal{T}$ which commute with the Hamiltonian. Being antiunitary, $\\mathcal{T}$ may come in two flavors - either $\\mathcal{T}^2=1$ or $\\mathcal{T}^2=-1$. The first case applies to system with no or integer spin, and in the simplest case we have for instance $\\mathcal{T}=\\mathcal{K}$, the complex conjugation operator. The second case applies to systems with half-integer spin, and in the simplest case we have $\\mathcal{T}=i\\sigma_y\\mathcal{K}$.\n",
      "\n",
      "Let's apply the time-reversal operator to our scattering states. We get\n",
      "\n",
      "$$\n",
      "\\mathcal{T}\\left|\\Psi,\\textrm{L}\\right\\rangle = \\sum_{n=1}^N \\alpha^*_{n,\\textrm{L}}\\,\\mathcal{T}\\left|n,\\textrm{L}\\right\\rangle + \\beta^*_{n,\\textrm{L}}\\,\\mathcal{T}^2\\left|n,\\textrm{L}\\right\\rangle\\,,\n",
      "$$\n",
      "$$\n",
      "\\mathcal{T}\\left|\\Psi,\\textrm{R}\\right\\rangle = \\sum_{n=1}^N \\alpha^*_{n,\\textrm{R}}\\,\\mathcal{T}\\left|n,\\textrm{R}\\right\\rangle + \\beta^*_{n,\\textrm{R}}\\,\\mathcal{T}^2\\left|n,\\textrm{R}\\right\\rangle\\,.\n",
      "$$\n",
      "\n",
      "Now, since time-reversal symmetry does not change the energy of a state, $\\mathcal{T}\\left|\\Psi,\\textrm{R}\\right\\rangle$ are scattering states with the same energy. Hence, the coefficeints of incoming and outgoing modes are still related by the same scattering matrix $S$ as before. Note, however, that applying $\\mathcal{T}$ exchanged the role of the $\\alpha$'s and $\\beta$'s. So now we have that\n",
      "\n",
      "$$\n",
      " S\\mathcal{T}^2 \\begin{pmatrix}\\beta^*_\\textrm{L} \\\\ \\beta^*_\\textrm{R} \\end{pmatrix} = \\begin{pmatrix} \\alpha^*_\\textrm{L} \\\\ \\alpha^*_\\textrm{R} \\end{pmatrix}\\,.\n",
      "$$\n",
      "\n",
      "Multiplying both sides by $\\mathcal{T}^2S^\\dagger$, and taking the complex conjugation, we have that\n",
      "\n",
      "$$\n",
      "\\begin{pmatrix} \\beta_\\textrm{L} \\\\ \\beta_\\textrm{R} \\end{pmatrix} = \\mathcal{T}^2\\,S^T  \\begin{pmatrix} \\alpha_\\textrm{L} \\\\ \\alpha_\\textrm{R} \\end{pmatrix}\n",
      "$$\n",
      "\n",
      "By comparing this equation with the one a few lines above, we finally obtain that\n",
      "\n",
      "\\begin{equation}\n",
      "S = \\mathcal{T}^2 S^T\n",
      "\\end{equation}\n",
      "\n",
      "So if $\\mathcal{T}^2=1$ the scattering matrix is symmetric, $S=S^T$, while if $\\mathcal{T}^2=-1$ it is antisymmetric, $S=-S^T$. What does this imply if we try to set $t=t'=0$?"
     ]
    },
    {
     "cell_type": "markdown",
     "metadata": {},
     "source": [
      "If $S=S^T$, it turns out there is really nothing special we can tell. However, if $S=-S^T$ and $t=t'=0$, the $N\\times N$ reflection matrix must be at the same time unitary, $r^\\dagger r=1$ and antisymmetric, $r=-r^T$.\n",
      "\n",
      "If $N$ is odd, this isn't possible at all, since any odd-dimensional antisymmetric matrix [must have](https://en.wikipedia.org/wiki/Skew-symmetric_matrix#Spectral_theory) a single zero eigenvalue, while unitary matrices only have eigenvalues with unit norm!\n",
      "\n",
      "We are forced to conclude that it is impossible to have $r$ unitary, and thus that it is impossible to have $t=0$ in this case. Even more, this zero eigenvalue of $r$ also means that there is always a single mode that is transmitted with unit probability.\n",
      "\n",
      "This is the discovery that Charles Kane described in the introductory video. We can check it by randomly selecting an antisymmetric scattering matrix with $N$ odd, and looking at its reflection and transmission eigenvalues."
     ]
    },
    {
     "cell_type": "markdown",
     "metadata": {},
     "source": [
      "**TODO: Add a numerical illustration of the zero reflection eigenvalue and a unit transmission eigenvalue for a random AII scattering matrix**"
     ]
    },
    {
     "cell_type": "markdown",
     "metadata": {},
     "source": [
      "> We conclude that if $\\mathcal{T}^2=-1$ and the number of edge states going in one direction is odd, they cannot be gapped out, and the system is topological. On the other hand, if there is an even number of such edge states, they can be gapped out. Since these are the two only options, the integer invariant of a Chern insulator is reduced to a $\\pm 1$ invariant in presence of time reversal symmetry. These topologically protected, counterpropagating edge states are often referred to as **helical edge states**. "
     ]
    },
    {
     "cell_type": "heading",
     "level": 1,
     "metadata": {},
     "source": [
      "Helical edge states are Kramers pairs"
     ]
    },
    {
     "cell_type": "markdown",
     "metadata": {},
     "source": [
      "You might ask yourself what is it that makes $\\mathcal{T}^2=-1$ special, leading to the topological protection of the helical edge states.\n",
      "\n",
      "As it was mentioned the first week already, if $\\mathcal{T}^2=-1$ then Kramers' theorem applies. Kramers' theorem tells us that given an eigenstate $\\left|\\Psi\\right\\rangle$ of the Hamiltonian with energy $E$, its time-reversed partner $\\left|\\Psi_\\mathcal{T}\\right\\rangle\\equiv\\mathcal{T}\\left|\\Psi\\right\\rangle$ has the same energy, and the two states are orthogonal, $\\left\\langle \\Psi | \\Psi_\\mathcal{T}\\right\\rangle=0$. The two states form a so-called **Kramers pair**. As we already know, this leads to the fact that Hamiltonians with spinful time-reversal symmetry have two-fold degenerate energy levels - **Kramers degeneracy**.\n",
      "\n",
      "Now, the two counterpropagating helical modes are time-reversed partners of each other, so they form precisely such a Kramers pair. The condition $\\left\\langle \\Psi | \\Psi_\\mathcal{T}\\right\\rangle=0$ implies that it is impossible to introduce any backscattering between the two states, unless we break time-reversal symmetry. This is the origin of the unit transmission and of the topological protection of helical edge states."
     ]
    },
    {
     "cell_type": "markdown",
     "metadata": {},
     "source": [
      "At a more microscopic level, it is intuitive to understand this fact if we assume that the projection of the electrons' spin along a given axis is conserved, say the axis $z$ perpendicular to the plane. Then at the edge you have, say, a right-moving mode with spin up and a left-moving mode with spin down, and no other modes. Let's draw again the picture of a helical edge states entering a disorderd region:\n",
      "\n",
      "![](figures/spin_flip.png)\n",
      "\n",
      "An electron moving to the right must necessarily have spin up. In order to be reflected, its spin must also be flipped.  However, this spin-flip scattering process is forbidden, and again we conclude that the electron is transmitted with probability one."
     ]
    },
    {
     "cell_type": "markdown",
     "metadata": {},
     "source": [
      "In the case $\\mathcal{T}^2=1$, there is no Kramers' theorem. As a consequence, even though you can construct models which have counterpropagating edge states, you will find that they have no topological protection and can be gapped out without breaking the time-reversal symmetry."
     ]
    },
    {
     "cell_type": "heading",
     "level": 1,
     "metadata": {},
     "source": [
      "The quantum spin Hall effect"
     ]
    },
    {
     "cell_type": "markdown",
     "metadata": {},
     "source": [
      "There is no really precise name for the 2D topological insulator with time-reversal symmetry. It is often also called \"$\\mathbb{Z}_2$ topological insulator\", however this only indicates that there are only two values of the topological invariant, and so it isn't a very specific name.\n",
      "\n",
      "The most commonly used name for this system is \"quantum spin Hall insulator\". Let's understand why, and for that let's analyse a Hall bar made out of such a nontrivial insulator. In fact, we will only need a Hall bar with four terminals, as shown below:"
     ]
    },
    {
     "cell_type": "markdown",
     "metadata": {},
     "source": [
      "![](figures/qsh_hallbar.png)"
     ]
    },
    {
     "cell_type": "markdown",
     "metadata": {},
     "source": [
      "We have a finite voltage applied to terminal 1, so electron are injected into the system from there. You can see that because of the helical edge states, you can see that there are as many modes connecting terminal 1 to terminal 3 as there are to terminal 4. A moment of thought, or otherwise a quick calculation, should convince you that in this case there is no net current flowing orthogonally to the applied voltage. The Hall conductance is zero, which is the expected result if time-reversal symmetry is preserved, as it is in our system.\n",
      "\n",
      "However, counter-propagating edge states have to have exactly opposite spin due to Kramers degeneracy. This means that there may be a net spin current across the sample, orthogonally to the applied voltage.\n",
      "\n",
      "In particular, let's make the simplifying assumption we made just before, that the spin projection along some axis is conserved. Then, in the figure above, all modes colored in red carry up spin, and all modes colored in blue carry down spin. So terminal 1 distributes electrons coming out of it according to their spin: all electrons with spin up end up in terminal 4, all those with spin down in terminal 3. The system has a quantized spin current between terminals 3 and 4, hence the name \"quantum spin Hall effect\"."
     ]
    },
    {
     "cell_type": "markdown",
     "metadata": {},
     "source": [
      "Of course, we only want to assume the presence of time reversal symmetry, and not a spin conservation law boring from the topological point of view, and so the quantized spin Hall current is not a general property of a quantum spin Hall insulator."
     ]
    },
    {
     "cell_type": "heading",
     "level": 1,
     "metadata": {},
     "source": [
      "Alternative point of view: fermion parity pump"
     ]
    },
    {
     "cell_type": "markdown",
     "metadata": {},
     "source": [
      "In the previous cases of the Kitaev chain and the quantum Hall effect, the bulk topological invariant that we eventually arrived at was characterized by the response to some adiabatic experiment.\n",
      "\n",
      "Since the time-reversal invariant topological insulator is two dimensional like the quantum Hall system, it is reasonable to put the system in a Corbino geometry and change the flux through the system, creating an azimuthal electric field:\n",
      "\n",
      "![](figures/qsh_corbino.png)\n",
      "\n",
      "However, because of time-reversal symmetry, the system is forbidden from having a Hall conductance and therefore there cannot be any charge transfer between the two edges of the disk. For instance, if we consider two copies of the Haldane model with opposite spin, you will have two quantum Hall pumps working in opposite direction (one transferring charge from the inner edge to the outer edge, the other one from the outer edge to the inner one). So the net charge transferred is zero.\n",
      "\n",
      "Because the two pumps act on electrons with opposite spin, you might be tempted to define a spin current, which would flow in response to the electric field, orthogonally to it. However, as we just discussed, the spin along a given direction may not be conserved and so this is not a general way to defining a robust pumping effect."
     ]
    },
    {
     "cell_type": "markdown",
     "metadata": {},
     "source": [
      "To understand what exactly happens in the pumping process, we specifically plot the spectrum in the cylinder geometry. As you know from week 3, the cylinder geometry is really equvalent to the Corbino disk, except that it easier to study.\n",
      "\n",
      "In a cylinder of finite circumference $L$, the momenta of the allowed edge states energies are quantized at values determined by the flux, specifically $k_n = (2\\pi / L)\\,(n-\\Phi/\\Phi_0)$ with $\\Phi_0=h/e$ the flux quantum. Here we plot the energies $E_n$ corresponding to these momenta, as a function of $\\Phi$.\n",
      "\n",
      "**TODO: Plot levels of the levels of the helical edges as a function of discrete k with flux is varied (as a draggable bar).**"
     ]
    },
    {
     "cell_type": "markdown",
     "metadata": {},
     "source": [
      "What you notice is that the spin up edge states move up while the spin down states move down.\n",
      "\n",
      "Let us now imagine that the chemical potential is in between two sets of Kramers pair. When the flux reaches half a flux quantum, such that the corresponding Aharonov-Bohm phase shift of an electron going around the circumference is equal to $\\pi$, one of the occupied states has crossed zero energy. Note that at this point time-reversal symmetry, which in general is broken by the presence of a magnetic flux, is present. Indeed, time-reversal symmetry sends $\\Phi\\to-\\Phi$, but for $\\Phi= - \\Phi_0/2$ this corresponds to adding or subtracting a flux quantum, so for this point all the physical properties of the system do not change under the action of time-reversal.\n",
      "\n",
      ">Now we have an interesting structure for the edge states. Because of time-reversal symmetry, at $\\Phi/\\Phi_0 = 1/2$ all the occupied electron states are in Kramers pairs - except the top one. Therefore the changing flux by $\\pi$ is a fermion-parity pump in the topological state, i.e. it changes the fermion parity at the edge."
     ]
    },
    {
     "cell_type": "markdown",
     "metadata": {},
     "source": [
      "Strangely, this reminds us of the topological superconducting ring that we studied in the second week of the course. There we also had a fermion parity change in response to a flux. This will turn out to be not a coincidence when we discuss how to realize topological superconductors using topological insulators.\n",
      "\n",
      "You will also notice that our argument didn't really rely on conservation of spin. Moreover, if we imagine we added spin conservation breaking terms in the system near the edge, the fermion parity pump could not be affected since electrons are conserved in the system."
     ]
    },
    {
     "cell_type": "heading",
     "level": 1,
     "metadata": {},
     "source": [
      "Pumping expression for the topological invariant"
     ]
    },
    {
     "cell_type": "markdown",
     "metadata": {},
     "source": [
      "At this point, following the same path we followed for Chern insulator, we would like to find an expression for a topological bulk invariant which characterizes the quantum spin Hall effect.\n",
      "\n",
      "However, we now encounter a problem which is more and more pressing for complicated topological systems in higher dimensions: it is hard to evaluate the topological invariant. So we know when the system is topological, we know which kinds of topological invariant values exist (for now just two: trivial and non-trivial), but it becomes hard to find and evaluate the correct expression for it.\n",
      "\n",
      "We were able to calculate the Chern number using Berry curvature. The analogous computation for the topological invariant of the quantum spin Hall insulator becomes too involved, and so we will not present it in our course."
     ]
    },
    {
     "cell_type": "markdown",
     "metadata": {},
     "source": [
      "The scattering formulation of the topological invariant, however, is easy to implement and utilize. We can apply it by connecting the edges of our cylinder with a flux to leads, in the following geometry:\n",
      "\n",
      "![](figures/qsh_pumping.png)\n",
      "\n",
      "We may now study what happens when we try to inject electrons into the edges of the cylinder. Since we have \u201crolled-up\u201d our system along one direction, we now have a one-dimensional scattering problem. Similarly to a Thouless pump, we expect to be able to find a topological signature into the reflection matrix $r$ for electron coming in from the left.\n",
      "\n",
      "To make things more simply, you may imagine that the circumference of the cylinder is exactly equal to one lattice spacing. We then have only one allowed value of the momentum $k$ along the edge, which is exactly proportional to the flux threaded to the cylinder, $k = 2\\pi \\Phi/\\Phi_0$. The two points with time-reversal symmetry, $\\Phi=0$ and $\\Phi=\\Phi_0/2$, correspond to $k=0$ and $k=\\pi$ respectively.\n",
      "\n",
      "As we vary the flux, the reflection properties may change, leading to a $k$-dependent reflection matrix $r(k)$. Since we are assuming that the bulk is gapped, transmission is suppressed and we have that $r$ is unitary. Moreover, at $k=0$ and $k=\\pi$ it is also antisymmetric because of time-reversal symmetry.\n",
      "\n",
      "Under this condition, we have a topological invariant with a relatively simple form:\n",
      "\n",
      "$$\n",
      "Q = \\frac{\\textrm{Pf}[r(0)]}{\\textrm{Pf}[r(\\pi)]}\\sqrt{\\frac{\\det[r(\\pi)]}{\\det[r(0)]}}\n",
      "$$"
     ]
    },
    {
     "cell_type": "markdown",
     "metadata": {},
     "source": [
      "This expression relies on the antisymmetry of $r$ at $k=0$ and $k=\\pi$. The eigenvalues of $r$ come in pairs of opposite sign $e^{i\\alpha}$, $-e^{i\\alpha}$, which are corresponding to the Kramers pairs formed by the helical edge states. The above expression for $Q$ keeps track of how these pairs of eigenvalues reconnect as we advance the momentum by $\\pi$.\n",
      "\n",
      "$Q$ may take only two values, $Q=-1$ in the topological phase with odd number of helical edge states and $Q=1$ in the trivial phase with even number of helical edge states."
     ]
    },
    {
     "cell_type": "markdown",
     "metadata": {},
     "source": [
      "**TODO: add an evaluation of topological invariant for BHZ model plotted along with the dispersion.**"
     ]
    },
    {
     "cell_type": "heading",
     "level": 1,
     "metadata": {},
     "source": [
      "A simplification: inversion symmetry"
     ]
    },
    {
     "cell_type": "markdown",
     "metadata": {},
     "source": [
      "As already mentioned topological invariants in higher dimensions are often difficult to write down and evaluate in the general case. Luckily, in the presence of [inversion symmetry](http://en.wikipedia.org/wiki/Parity_%28physics%29#Effect_of_spatial_inversion_on_some_variables_of_classical_physics) - which reverses the lattice coordinates with respect to a symmetry center - the topological condition can be stated in rather simple terms.\n",
      "This turns out to be quite useful to describe most topological materials, which happen to have crystal structure with inversion symmetry. \n",
      "\n",
      "From our earlier discussion, we know that we can determine that a system is a time-reversal invariant topological insulator if it has an odd number of helical edge states. We will now see how using inversion symmetry and the bulk-boundary correspondence we can find an expression for the bulk topological invariant.\n",
      "\n",
      "So let's consider a two-dimensional Bloch Hamiltonian $H(\\mathbf{k})$ with both inversion and time-reversal symmetry. Inversion symmetry has a unitary operator $\\mathcal{P}$ which maps $\\mathbf{k}\\rightarrow -\\mathbf{k}$ and satisfies $\\mathcal{P}^2=1$. If we have both inversion symmetry $\\mathcal{P}$ and time-reversal $\\mathcal{T}$, we get an anti-unitary symmetry $\\mathcal{T}\\otimes\\mathcal{P}$, which preserves $\\mathbf{k}$ and squares to $-1$. \n",
      "\n",
      "> These are precisely the conditions needed for Kramers theorem to apply. So we can conclude that every eigenstate at any  $\\mathbf{k}$ is two-fold degenerate.  We may label these two eigenstates with an index $\\sigma = \\pm 1$. If spin is a good quantum number, $\\sigma$ labels two states with opposite spin. However, this may not be the case so we will just refer to it as a pseudospin associated with Kramers degeneracy.\n",
      "\n",
      "Note that the advantage given by adding the presence of inversion symmetry is that the spectrum is two-fold degenerate at all $\\mathbf{k}$ in the Brillouin zone. Time-reversal symmetry alone cannot guarantee that, because it maps $\\mathbf{k}$ to $-\\mathbf{k}$."
     ]
    },
    {
     "cell_type": "markdown",
     "metadata": {},
     "source": [
      "Next, we calculate the edge states at a domain wall between a topological phase and a non-topological phase where the gap closes at some point $k_y$ along the domain wall. Suppose that the gap which vanishes at the domain wall is denoted by $\\Delta(x)$. As in the case of the 1D Dirac equation we introduce a pair of states at the gap closing point namely $|b,\\sigma\\rangle$, where $b=\\pm $ and $\\sigma$ labels to pseudo-spin associated with the two fold degeneracy. To lowest order in $k_x$ the states at the transition point disperse linearly with momentum $k_x$ perpendicular to the domain and are two-fold degenerate. In fact, as we noted from Kramers degeneracy, the Hamiltonian must be chosen such that none of the terms break the two-fold degeneracy. This leads us to an effective Hamiltonian \n",
      "\n",
      "$$H=\\sum_{\\sigma,b}\\,k_x \\sigma |b,\\sigma\\rangle\\langle b,\\sigma|+\\Delta(x)(|+,\\sigma\\rangle\\langle -,\\sigma|+h.c.)].$$\n",
      "\n",
      "Since $\\Delta(x)$ changes sign at the domain wall, we are back to an old friend, which is the one dimensional Dirac Hamiltonian where the mass changes sign. We can therefore use the Jackiw-Rebbi argument from the first week to conclude that the domain-wall hosts a pair of zero modes at the interface.\n",
      "\n",
      "As interesting as this sounds, we must remember that this pair of zero modes is at a particular value of $k_y$ and because of inversion symmetry, we would get an identical pair at $-k_y$. Since we get a total of 4 degenerate domain wall states from this type of gap closure, they cannot affect the topological pumping parity that characterizes time-reversal invariant topological insulators.\n",
      "\n",
      "However, there are some special values of $k_y$ where $k_y\\equiv -k_y$ up to a reciprocal lattice vectors where the above counting of 4 states does not hold. People refer to these momenta as \"time-reversal invariant momenta\" or TRIMs. Based on the argument we give, it is still possible that gap closures at TRIMs might change the topology of the system. This argument summarizes the simplification that inversion symmetry brings to time-reversal invariant topological insulators.\n",
      "\n",
      "> Since gap closures at $k_y\\neq 0$ can only add domain wall states in multiples of 4, we can determine the topological invariant for the inversion symmetric topological insulators entirely from the bulk Hamiltonian at time-reversal invariant momenta $\\Gamma_j$.\n",
      "\n",
      "\n",
      "Let us now apply our domain wall calculation to momenta $k_y$, which are the projections of TRIMs. Clearly in this case our doubling in momentum space problem is solved and a gap closing at a TRIM should produce one pair of edge modes at the domain wall. If we move the momentum $k_y$ slightly away from the TRIM, the degenerate pair of modes splits linearly in $k_y$ to form a single helical mode that produces a non-trivial fermion parity pump.\n",
      "\n",
      "TO DO: Simulate two copies of the BHZ model, one with a mexican hat potential and another with a mass term. Flipping the sign of the mexican hat produces pairs of helical states, while the BHZ mass produces a single helical mode.\n",
      "\n",
      "\n",
      "Does this mean that any gap closure at a TRIM is a topological transition? Since the states $|b,\\sigma\\rangle$ are eigenstates at finite $k_x$, we can apply inversion symmetry to conclude that the states $|b=\\pm,\\sigma\\rangle$ \n",
      "transform into each other under inversion i.e. $\\mathcal{P}|\\pm,\\sigma\\rangle= |\\mp,\\sigma\\rangle$. By combining these states \n",
      "into symmetric and anti-symmetric superpositions\n",
      "\n",
      "$$|e,\\sigma\\rangle=\\sum_b|b,\\sigma\\rangle\\,\\quad |o,\\sigma\\rangle=\\sum_b b|b,\\sigma\\rangle,$$\n",
      "\n",
      "we obtain states that are even (i.e. $e$) and odd (i.e. $o$) under inversion. For real $\\Delta$, these states are the eigenstates at $k_x=0$, and we see that as expected these eigenstates are even and odd under inversion. Thus, the states at $k_x=0$\n",
      ", which are involved in the gap closing are of different spatial parities. Such a gap closure at $k_x=0$, which changes the topological invariant of the system between topologically trivial and non-trivial, leads to an even parity and an odd parity state changing their occupancy. We would get such a topological transition each time a gap closed at a TRIM.\n",
      "\n",
      "> Therefore, the topological invariant for a two-dimensional time-reversal invariant topological state with inversion symmetry is given by \n",
      "$$Q=\\prod_{j,n}P_n(\\Gamma_{j}),$$\n",
      "where $P_n$ is the parity of the $n^{th}$ orbital at the time-reversal invariant point $\\Gamma_j$.\n",
      "\n",
      "A central conclusion of this argument is that we can create  topological insulators by generating \"band-inversion\" between an even and an odd parity band at a TRIM. This is not difficult to acheive in semiconductors and will be the central idea of the Bernevig-Hughes-Zhang (BHZ) model for topological insulators, which we will elaborate on in the next unit. \n",
      "\n",
      "You might now worry whether this definition of the invariant relied on having a smooth domain wall. But from the previous discussion, it is clear that the fermion parity pump argument that the bulk-edge correspondence implies that the bulk must be topologically non-trivial once you have edge states for any termination. Reversing this argument, we know that once we have a topologically non-trivial bulk, we must have helical edge states for any termination.\n",
      "\n",
      "Thus, by looking at smooth domain walls we are able to establish a connection between the topological invariant with time-reversal and inversion symmetry and the existance of helical edge states and fermion-parity pumping that characterizes the two dimensional topological insulator. "
     ]
    },
    {
     "cell_type": "heading",
     "level": 1,
     "metadata": {},
     "source": [
      "Summary"
     ]
    },
    {
     "cell_type": "code",
     "collapsed": false,
     "input": [
      "MoocVideo(\"ft9ppqqLhH4\", src_location='5.1-summary')"
     ],
     "language": "python",
     "metadata": {},
     "outputs": [
      {
       "html": [
        "\n",
        "        <iframe\n",
        "            width=\"400\"\n",
        "            height=300\"\n",
        "            src=\"https://www.youtube.com/embed/ft9ppqqLhH4\"\n",
        "            frameborder=\"0\"\n",
        "            allowfullscreen\n",
        "        ></iframe>\n",
        "        "
       ],
       "metadata": {},
       "output_type": "pyout",
       "text": [
        "MoocVideo(**{'download_video': 'true', 'display_name': '', 'sub': 'ft9ppqqLhH4', 'youtube': '1.00:ft9ppqqLhH4', 'show_captions': 'true', 'youtube_id_1_0': 'ft9ppqqLhH4', 'source': 'http://delftxdownloads.tudelft.nl/TOPOCMx-QuantumKnots/TOPOCMx-5.1-summary-video.720.mp4', 'download_track': 'true'})"
       ]
      }
     ]
    },
    {
     "cell_type": "code",
     "collapsed": false,
     "input": [
      "MoocDiscussion(\"Questions\", \"Quantum spin Hall effect\")"
     ],
     "language": "python",
     "metadata": {},
     "outputs": [
      {
       "html": [
        "<p><b>Discussion</b> entitled 'Quantum spin Hall effect' is available in the online version of the course.</p>"
       ],
       "metadata": {},
       "output_type": "pyout",
       "text": [
        "MoocDiscussion(**{'discussion_category': 'Questions', 'discussion_target': 'Quantum spin Hall effect', 'display_name': 'Quantum spin Hall effect', 'discussion_id': 'e0982955fc31f3e4963036a4c0a38d90'})"
       ]
      }
     ]
    }
   ],
   "metadata": {}
  }
 ]
}