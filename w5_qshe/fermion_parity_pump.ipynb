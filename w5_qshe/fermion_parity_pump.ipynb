{
 "cells": [
  {
   "cell_type": "code",
   "execution_count": null,
   "metadata": {
    "collapsed": false
   },
   "outputs": [],
   "source": [
    "%run ../code/init_mooc_nb.py\n",
    "import scipy\n",
    "from matplotlib import cm\n",
    "\n",
    "\n",
    "sigma0 = np.array([[1, 0], [0, 1]])\n",
    "sigmax = np.array([[0, 1], [1, 0]])\n",
    "sigmay = np.array([[0, -1j], [1j, 0]])\n",
    "sigmaz = np.array([[1, 0], [0, -1]])\n",
    "\n",
    "\n",
    "bhz_parameters = {\n",
    "    'topo'     : { 'A': 1.0, 'B': 1.00, 'D': 0.0, 'M': 1.0,  'del_z': 0.0},\n",
    "    'triv'     : { 'A': 1.0, 'B': 1.00, 'D': 0.0, 'M': -1.0,  'del_z': 0.0},\n",
    "    'topo2'     : { 'A': 1.0, 'B': 1.00, 'D': 0.3, 'M': 1.0,  'del_z': 0.0},\n",
    "    'slowed'   : { 'A': 0.1, 'B': 0.08 , 'D': 0.15, 'M': -0.3,  'del_z': 0.5}\n",
    "}\n",
    "\n",
    "\n",
    "# Helper matrices for building hamiltonian\n",
    "mx = np.kron(sigmax,0.5*(sigma0+sigmaz))\n",
    "my = np.kron(sigmay,0.5*(sigma0+sigmaz))\n",
    "mz1 = np.kron(sigmaz, 0.5 * (sigma0 + sigmaz))\n",
    "mz2 = np.kron(sigmaz, 0.5 * (sigma0 - sigmaz))\n",
    "\n",
    "\n",
    "# Onsite and hoppings for bhz model\n",
    "def onsite(site, par):\n",
    "    A, B, D, M = par.A/2, par.B, par.D, par.M\n",
    "    return (M - 4 * B) * np.kron(sigma0, sigmaz) - 4 * D * np.kron(sigma0, sigma0) \\\n",
    "        + par.ez_x*mx + par.ez_y*my + par.eze_z*mz1 + par.ezh_z*mz2 \\\n",
    "        + par.del_z * np.kron(sigmay, sigmay)\n",
    "\n",
    "\n",
    "def hopx(site1, site2, par):\n",
    "    A, B, D, M = par.A/2, par.B, par.D, par.M\n",
    "    return B * np.kron(sigma0, sigmaz) + D * np.kron(sigma0, sigma0) + 1j * A * np.kron(sigmaz, sigmax)\n",
    "\n",
    "\n",
    "def hopy(site1, site2, par):\n",
    "    A, B, D, M = par.A/2, par.B, par.D, par.M\n",
    "    return B * np.kron(sigma0, sigmaz) + D * np.kron(sigma0, sigma0) - 1j * A * np.kron(sigma0, sigmay)\n",
    "    \n",
    "    \n",
    "def bhz_ribbon(w):\n",
    "    \"\"\" Make ribbon system with bhz model. \n",
    "    \n",
    "    slowed parameters are used on the edge.\n",
    "    \"\"\"\n",
    "    lat = kwant.lattice.square()\n",
    "    \n",
    "    sym = kwant.TranslationalSymmetry((1, 0))\n",
    "    sys = kwant.Builder(sym)\n",
    "\n",
    "    def hopping_x(site1, site2, par):\n",
    "        xt, yt = site1.pos\n",
    "        xs, ys = site2.pos\n",
    "        return hopx(site1,site2,par) * np.exp(-0.5j * par.Bz * (xt - xs) * (yt + ys))\n",
    "    \n",
    "    slowed_par = SimpleNamespace(ez_x=0.0, ez_y=0.0, eze_z=0.0, ezh_z=0.0, Bz=0,\n",
    "                      **bhz_parameters['slowed'])\n",
    "\n",
    "    sys[(lat(0,i) for i in range(w))] = onsite\n",
    "    sys[kwant.HoppingKind((1,0), lat)] = hopping_x\n",
    "    sys[kwant.HoppingKind((0,1), lat)] = hopy\n",
    "    \n",
    "    sys[lat(0,-1)] = lambda site, par: onsite(site, slowed_par)\n",
    "    sys[lat(1,-1), lat(0,-1)] = lambda site1, site2, par: hopping_x(site1, site2, slowed_par)\n",
    "    sys[lat(0,0), lat(0,-1)] = hopy\n",
    "    \n",
    "    sys[lat(0, w)] = lambda site, par: onsite(site, slowed_par)\n",
    "    sys[lat(1, w), lat(0, w)] = lambda site1, site2, par: hopping_x(site1, site2, slowed_par)\n",
    "    sys[lat(0, w), lat(0, w-1)] = hopy\n",
    "    \n",
    "    return sys\n",
    "\n",
    "\n",
    "def bhz_infinite(a=1):\n",
    "    \"\"\" Make infinite system with bhz model. \"\"\"\n",
    "    def func(site, par):\n",
    "        kx,ky = par.kx, par.ky\n",
    "        H0, H1, H2 = onsite(site, par), hopx(site, site, par), hopy(site, site, par)\n",
    "        \n",
    "        return H0  \\\n",
    "            + H1*np.exp(-1j*kx) + H1.transpose().conjugate()*np.exp(+1j*kx) \\\n",
    "            + H2*np.exp(-1j*ky) + H2.transpose().conjugate()*np.exp(+1j*ky)\n",
    "    \n",
    "    lat = kwant.lattice.square()\n",
    "    sys = kwant.Builder()\n",
    "    sys[lat(0, 0)] = func\n",
    "\n",
    "    return sys.finalized()\n",
    "\n",
    "\n",
    "def bhz_cylinder(w=3):\n",
    "    \"\"\" Make cylinder system with bhz model. \"\"\"\n",
    "    def ribbon_shape(pos):\n",
    "        (x, y) = pos\n",
    "        return (0 <= y < w)\n",
    "    \n",
    "    lat = kwant.lattice.square()\n",
    "    sym = kwant.TranslationalSymmetry((1, 0))\n",
    "    sys = kwant.Builder(sym)\n",
    "\n",
    "    def hopping_x(site1, site2, par):\n",
    "        xt, yt = site1.pos\n",
    "        xs, ys = site2.pos\n",
    "        return hopx(site1,site2,par) * np.exp(-0.5j * par.Bz * (xt - xs) * (yt + ys))\n",
    "    \n",
    "    def hopy_phase(site1, site2, par):\n",
    "        xt, yt = site1.pos\n",
    "        xs, ys = site2.pos\n",
    "        return hopy(site1,site2,par) * np.exp(1j * par.ky)\n",
    "    \n",
    "    sys[lat.shape(ribbon_shape, (0, 0))] = onsite\n",
    "    sys[kwant.HoppingKind((1,0), lat)] = hopping_x\n",
    "    sys[kwant.HoppingKind((0,1), lat)] = hopy\n",
    "    sys[kwant.HoppingKind((0, -w+1), lat)] = hopy_phase\n",
    "    \n",
    "    sys[lat(0,0)] = lambda site, par: onsite(site,par)\n",
    "    sys[lat(0,w-1)] = lambda site, par: onsite(site,par)\n",
    "    \n",
    "    return sys\n",
    "\n",
    "\n",
    "def make_lead(t):\n",
    "    def ribbon_shape(pos):\n",
    "        (x, y) = pos\n",
    "        return (0 <= y < 2)\n",
    "    \n",
    "    lat = kwant.lattice.square()\n",
    "    sym = kwant.TranslationalSymmetry((1, 0))\n",
    "    sys = kwant.Builder(sym)\n",
    "    \n",
    "    sys[lat.shape(ribbon_shape, (0, 0))] = 1.8 * t * np.kron(sigma0, sigmaz)\n",
    "    sys[kwant.HoppingKind((1,0), lat)] = -t * np.kron(sigma0, sigmaz)\n",
    "    return sys\n",
    "    \n",
    "    \n",
    "class TRIInfiniteSystem(kwant.builder.InfiniteSystem):\n",
    "    def __init__(self, lead, trs):\n",
    "        \"\"\"A lead with time reversal invariant modes.\"\"\"\n",
    "        self.__dict__ = lead.__dict__\n",
    "        self.trs = trs\n",
    "\n",
    "    def modes(self, energy=0, args=()):\n",
    "        prop_modes, stab_modes = \\\n",
    "            super(TRIInfiniteSystem, self).modes(energy=energy, args=args)\n",
    "        n = stab_modes.nmodes\n",
    "        stab_modes.vecs[:, n:(2*n)] = self.trs(stab_modes.vecs[:, :n])\n",
    "        stab_modes.vecslmbdainv[:, n:(2*n)] = \\\n",
    "            self.trs(stab_modes.vecslmbdainv[:, :n])\n",
    "        prop_modes.wave_functions[:, n:] = \\\n",
    "            self.trs(prop_modes.wave_functions[:, :n])\n",
    "        return prop_modes, stab_modes\n",
    "    \n",
    "    \n",
    "def trs(m):\n",
    "    \"\"\"Apply time reversal symmetry to a column vector or matrix m.\n",
    "\n",
    "    The time reversal symmetry is given by the operator i * sigma_y * K, with K\n",
    "    complex conjugation and sigma_y acting on the spin degree of freedom.\n",
    "\n",
    "    Parameters:\n",
    "    -----------\n",
    "    m : NumPy array\n",
    "        The vector or matrix to which TRS is applied.\n",
    "\n",
    "    Returns:\n",
    "    --------\n",
    "    m_reversed : NumPy array\n",
    "        The vector TRS * m as a NumPy array.\n",
    "\n",
    "    Notes:\n",
    "    ------\n",
    "    Implementation inspired by kwant.rmt.\n",
    "    \"\"\"\n",
    "    dim = m.shape[0]\n",
    "    U = 1j * np.kron(np.identity(dim / 4), np.kron(sigmay, sigma0))\n",
    "    \n",
    "    return U.T.conj().dot(m.conj())\n",
    "\n",
    "\n",
    "#Stuff for the dispersion plot:\n",
    "def evaluate_on_grid(X, Y, func):\n",
    "    \"\"\" X, Y should be in np.meshgrid form. It's enough for func to work on floats. \"\"\"\n",
    "    data = []\n",
    "    for xx, yy in zip(X, Y):\n",
    "        row = []\n",
    "        for i,j in zip(xx, yy):\n",
    "            row.append(func(i,j))\n",
    "        data.append(row)\n",
    "    data = np.array(data)\n",
    "    data = [np.array(data[:,:,i]) for i in range(np.shape(data)[2])]\n",
    "    return data\n",
    "\n",
    "\n",
    "def dispersion_func(sys, par):\n",
    "    def func(kx, ky):\n",
    "        par.kx = kx\n",
    "        par.ky = ky\n",
    "        return diagonalize(sys, par)[0]\n",
    "    return func\n",
    "\n",
    "\n",
    "def diagonalize(sys, par):\n",
    "    mat = sys.hamiltonian_submatrix(args=[par])\n",
    "    ev, evec = scipy.linalg.eigh(mat)  # Automatically sorted\n",
    "    return ev, evec\n",
    "\n",
    "\n",
    "def plot_2D(X,Y,Z, ax_in=None):\n",
    "    if ax_in==None:\n",
    "        fig = plt.figure(figsize=(7,5))\n",
    "        ax = fig.add_subplot(111, projection='3d')\n",
    "    else:\n",
    "        ax = ax_in\n",
    "\n",
    "    vmin = np.array(Z).min()\n",
    "    vmax = np.array(Z).max()\n",
    "    \n",
    "    if len(np.shape(Z)) > 2:\n",
    "        for z in Z:\n",
    "            ax.plot_surface(X, Y, z, rstride=1, cstride=1, cmap=cm.RdBu_r, linewidth=0.1, vmin=vmin, vmax=vmax)\n",
    "    else:\n",
    "        ax.plot_surface(X, Y, Z, rstride=1, cstride=1, cmap=cm.RdBu_r, linewidth=0.1, vmin=vmin, vmax=vmax)\n",
    "\n",
    "    if ax_in==None:\n",
    "        return fig, ax\n",
    "    else:\n",
    "        return ax \n",
    "\n",
    "def plot_2d_dispersion(sys, ax):\n",
    "    \n",
    "    K = np.linspace(-np.pi, np.pi, 100)\n",
    "    mesh = np.meshgrid(K, K)\n",
    "    energies = evaluate_on_grid(*mesh, func=dispersion_func(sys, par))\n",
    "\n",
    "    plot_2D(*mesh, Z=energies, ax_in=ax)\n",
    "\n",
    "    ax.set_xlabel('$k_x$')\n",
    "    ax.set_xlim3d(-np.pi, np.pi)\n",
    "    ax.set_xticks([-np.pi, 0.0, np.pi])\n",
    "    ax.set_xticklabels(['$-\\pi$', '$0$', '$\\pi$'])\n",
    "    ax.set_ylabel('$k_y$')\n",
    "    ax.set_yticks([-np.pi, 0.0, np.pi])\n",
    "    ax.set_yticklabels(['$-\\pi$', '$0$', '$\\pi$'])\n",
    "    ax.set_zlabel('$E$')\n",
    "    ax.set_zticks([-10, -5, 0, 5])\n",
    "    ax.set_zticklabels(['$-10$', '$-5$', '$0$', '$5$'])\n",
    "    ax.view_init(8,20)\n",
    "    ax.set_zlim3d(-13, 8)\n",
    "\n",
    "    \n",
    "def make_scatter_sys():\n",
    "    def shape(pos):\n",
    "        (x, y) = pos\n",
    "        return (x == 0) * (0 <= y < 3)\n",
    "\n",
    "    lat = kwant.lattice.square()\n",
    "    sys = kwant.Builder()\n",
    "    sys[lat.shape(shape, (0, 0))] = onsite\n",
    "    sys[kwant.HoppingKind((0,1), lat)] = hopy\n",
    "\n",
    "    lead_cylinder = bhz_cylinder()\n",
    "    lead = make_lead(1.0)\n",
    "    sys.attach_lead(lead.reversed())\n",
    "    sys.attach_lead(lead_cylinder)\n",
    "    fsys = sys.finalized()\n",
    "    fsys.leads[0] = TRIInfiniteSystem(fsys.leads[0], trs)\n",
    "    return fsys\n",
    "  \n",
    "    \n",
    "def scattering_det_pfaff(fsys, ax):\n",
    "    pfaff =[]\n",
    "    det = []\n",
    "    par.ky = 0.0\n",
    "    smat = kwant.smatrix(fsys, energy=0.0, args=[par]).data\n",
    "    #since we get relatively large numerical errors we project the matrix on the space of antisymmetric matrices\n",
    "    smat = 0.5 * (smat - smat.T)\n",
    "    pfaff.append(pf.pfaffian(smat))\n",
    "\n",
    "    ks = np.linspace(0.0, np.pi, 50)\n",
    "    for par.ky in ks:\n",
    "        smat = kwant.smatrix(fsys, energy=0.0, args=[par]).data\n",
    "        det.append(np.linalg.det(smat))\n",
    "    det = np.array(det)\n",
    "\n",
    "    par.ky = np.pi\n",
    "    smat = kwant.smatrix(fsys, energy=0.0, args=[par]).data\n",
    "    #since we get relatively large numerical errors we project the matrix on the space of antisymmetric matrices\n",
    "    smat = 0.5 * (smat - smat.T)\n",
    "    pfaff.append(pf.pfaffian(smat))\n",
    "        \n",
    "    ax.plot(ks[1:], np.angle(pfaff[0]) + 0.5 * np.cumsum(np.angle(det[1:]/det[:-1])))\n",
    "    ax.plot([0, np.pi], np.angle(pfaff), 'o')\n",
    "    ax.set_ylim(-np.pi-0.2, np.pi+0.2)    \n",
    "    ax.set_xlim(-0.2, np.pi+0.2)\n",
    "    ax.set_xticks([0, np.pi])\n",
    "    ax.set_xticklabels(['$0$', '$\\pi$'])\n",
    "    ax.set_yticks([-np.pi, 0, np.pi])\n",
    "    ax.set_yticklabels(['$-\\pi$', '$0$', '$\\pi$'])\n",
    "    ax.set_xlabel('$k_y$')\n",
    "    ax.set_ylabel('phase')\n"
   ]
  },
  {
   "cell_type": "markdown",
   "metadata": {},
   "source": [
    "##Topics:\n",
    "\n",
    "* Doubling of Chern insulators to restore time reversal\n",
    "* Protection of $T=1$ transmission channel in presence of Kramers degeneracy\n",
    "* Fermion parity pump and the scattering topological invariant\n",
    "* Topological invariant for systems with inversion symmetry"
   ]
  },
  {
   "cell_type": "markdown",
   "metadata": {},
   "source": [
    "##Table of Contents\n",
    "* [Introduction](#Introduction)\n",
    "* [Adding symmetry to a topological insulator](#Adding-symmetry-to-a-topological-insulator)\n",
    "* [A perfectly transmitted channel and Kramers degeneracy](#A-perfectly-transmitted-channel-and-Kramers-degeneracy)\n",
    "* [Helical edge states are Kramers pairs](#Helical-edge-states-are-Kramers-pairs)\n",
    "* [The quantum spin Hall effect](#The-quantum-spin-Hall-effect)\n",
    "* [A model for the quantum spin Hall insulator](#A-model-for-the-quantum-spin-Hall-insulator)\n",
    "* [Alternative point of view: fermion parity pump](#Alternative-point-of-view:-fermion-parity-pump)\n",
    "* [Pumping expression for the topological invariant](#Pumping-expression-for-the-topological-invariant)\n",
    "* [A simplification: inversion symmetry](#A-simplification:-inversion-symmetry)\n",
    "* [Summary](#Summary)\n"
   ]
  },
  {
   "cell_type": "markdown",
   "metadata": {},
   "source": [
    "# Introduction"
   ]
  },
  {
   "cell_type": "markdown",
   "metadata": {},
   "source": [
    "Charles Kane from the University of Pennsylvania will introduce today's lecture on the two dimensional topological insulators with time-reversal symmetry."
   ]
  },
  {
   "cell_type": "code",
   "execution_count": null,
   "metadata": {
    "collapsed": false
   },
   "outputs": [],
   "source": [
    "MoocVideo(\"n5oUQvvsYd0\", src_location='5.1-intro', res='360')"
   ]
  },
  {
   "cell_type": "markdown",
   "metadata": {},
   "source": [
    "# Adding symmetry to a topological insulator"
   ]
  },
  {
   "cell_type": "markdown",
   "metadata": {},
   "source": [
    "In general, there are different approaches to discovering new types of topological systems.\n",
    "\n",
    "We already used a very powerful method to make a Kitaev chain and the Chern insulator model. We started from guessing the kind of model to put on the edge such that it is impossible to obtain without the bulk. Then we tailored the coupling such between many copies of the edges (dots for the Kitaev chain and wires for the Chern insulator) to leave exactly the type of the model that we want on one edge."
   ]
  },
  {
   "cell_type": "markdown",
   "metadata": {},
   "source": [
    "A researcher with very high skill in topology (or more specifically [K-theory](https://en.wikipedia.org/wiki/K-theory)) may also just calculate the expected topological classification of a system starting only from its dimensionality and symmetries. This is also a powerful method, but often it's too hard and requires a very high math skill.\n",
    "\n",
    "Another approach that we can undertake is to start from knowing one topological Hamiltonian and see what happens if we force the Hamiltonian to get some extra symmetry. This is the approach we will use in this chapter."
   ]
  },
  {
   "cell_type": "markdown",
   "metadata": {},
   "source": [
    "Let's start from a simple example involving something which we already know, a quantum dot with the Hamiltonian $H_0$. We know that there is a topological invariant, the number of filled energy levels.\n",
    "\n",
    "Now we can ask what happens if we force the dot to have a particle-hole symmetry, so that at first the Hamiltonian becomes\n",
    "\n",
    "$$\n",
    "H_\\textrm{BdG} =\n",
    "\\begin{pmatrix}\n",
    "H_0 & 0\\\\\n",
    "0 & -H_0^*\n",
    "\\end{pmatrix}\n",
    "$$"
   ]
  },
  {
   "cell_type": "markdown",
   "metadata": {},
   "source": [
    "This model clearly became topologically trivial from the point of view of the old invariant, since the number of filled states is constant. However there are still level crossings that appear, and we may ask if these crossings stay protected if we also allow for a finite superconducting pairing $\\Delta$ to enter the Hamiltonian, coupling the two blocks $H_0$ and $-H_0^*$.\n",
    "\n",
    "Of course we know the answer, and it just tells us that the crossings stay protected due to the change in the Pfaffian invariant. So what we did was to construct a topologically non-trivial superconducting dot by trivially adding particle-hole symmetry to a topological Hamiltonian with a lower symmetry."
   ]
  },
  {
   "cell_type": "markdown",
   "metadata": {},
   "source": [
    "Let's now apply the same logic to a new system. Specifically, let's add time-reversal symmetry to a Chern insulator. The Chern insulator has chiral edge states whose direction of propagation is flipped by time-reversal symmetry $\\mathcal{T}$. So let's consider a Hamiltonian of the form\n",
    "\n",
    "$$\n",
    "H =\n",
    "\\begin{pmatrix}\n",
    "H_0 & 0\\\\\n",
    "0 & \\mathcal{T}H_0\\mathcal{T}^{-1}\n",
    "\\end{pmatrix}\\,.\n",
    "$$\n",
    "\n",
    "If $H_0$ is the Hamiltonian of a Chern insulator with $N$ edge states, then $H$ will have $N$ pairs of counterpropagating edge states that transform into each other by time-reversal symmetry. Moreover, the full $H$ obeys time-reversal symmetry, which merely exchanges the two blocks.\n",
    "\n",
    "The following sketch describes the situation in the case $N=1$:"
   ]
  },
  {
   "cell_type": "markdown",
   "metadata": {},
   "source": [
    "![](figures/qsh_insulator.svg)"
   ]
  },
  {
   "cell_type": "markdown",
   "metadata": {},
   "source": [
    "The next task which we now face is to understand if such edges stay topologically protected once we add coupling between the two blocks."
   ]
  },
  {
   "cell_type": "markdown",
   "metadata": {},
   "source": [
    "# A perfectly transmitted channel and Kramers degeneracy"
   ]
  },
  {
   "cell_type": "markdown",
   "metadata": {},
   "source": [
    "We could try to study if the all the edge states can be removed by trying to add various terms to the Hamiltonian, but instead we can consider a closely related fact.\n",
    "\n",
    "Let's study transport through such edge states as a function of their total number and let's only use the fact that the time-reversal symmetry is present. Imagine there is a total of $N$ states going in each direction and there is a disordered region connecting two clean regions. Again, let's represent the situation for the case $N=1$.\n",
    "\n",
    "![](figures/qsh_scattering.svg)"
   ]
  },
  {
   "cell_type": "markdown",
   "metadata": {},
   "source": [
    "## Scattering states\n",
    "\n",
    "We label incoming states on the left and right with $\\left|n,\\textrm{L}\\right\\rangle$ and $\\left|n,\\textrm{R}\\right\\rangle$. The index $n$ goes from $1$ to $N$. The outgoing states are the time-reversed partners of the incoming states, so they are given by $\\mathcal{T}\\left|n,\\textrm{L}\\right\\rangle$ and $\\mathcal{T}\\left|n,\\textrm{R}\\right\\rangle$. Scattering states in the left and right regions are superpositions of incoming and outgoing states,\n",
    "\n",
    "$$\n",
    "\\left|\\Psi,\\textrm{L}\\right\\rangle = \\sum_{n=1}^N \\alpha_{n,\\textrm{L}}\\,\\left|n,\\textrm{L}\\right\\rangle + \\beta_{n,\\textrm{L}}\\,\\mathcal{T}\\left|n,\\textrm{L}\\right\\rangle\\,,\n",
    "$$\n",
    "$$\n",
    "\\left|\\Psi,\\textrm{R}\\right\\rangle = \\sum_{n=1}^N \\alpha_{n,\\textrm{R}}\\,\\left|n,\\textrm{R}\\right\\rangle + \\beta_{n,\\textrm{R}}\\,\\mathcal{T}\\left|n,\\textrm{R}\\right\\rangle\\,.\n",
    "$$\n",
    "\n",
    "We can form vectors out of all the coefficients in the superposition, for instance $\\alpha_\\textrm{L} = (\\alpha_{1,\\textrm{L}},\\dots,\\alpha_{N,\\textrm{L}})^T$. Incoming and outgoing modes are then related by the scattering matrix $S$ of the disordered region,\n",
    "\n",
    "$$\n",
    "\\begin{pmatrix} \\beta_\\textrm{L} \\\\ \\beta_\\textrm{R} \\end{pmatrix} = S \\begin{pmatrix} \\alpha_\\textrm{L} \\\\ \\alpha_\\textrm{R} \\end{pmatrix}\n",
    "$$\n",
    "\n",
    "There are a total of $2N$ incoming and $2N$ outgoing modes, so $S$ is a $2N\\times 2N$ matrix. Since we are including all possible initial and final states, $S$ is also unitary, $S=S^\\dagger$. It can be split into reflection and transmission blocks of dimension $N\\times N$,\n",
    "\n",
    "$$\n",
    "S =\n",
    "\\begin{pmatrix}\n",
    "r & t\\\\\n",
    "t' & r'\n",
    "\\end{pmatrix}\\,.\n",
    "$$\n",
    "\n",
    "If we can gap out the edges by adding some extra terms to the Hamiltonian, or backscatter them by adding disorder, then we should be able to achieve the situation where there is no transmission at all, $t = t' = 0$. In this case, all modes must be reflected back, so the reflection blocks of the scattering matrix become unitary, $r^\\dagger r = r'^\\dagger r' = 1$.\n",
    "\n",
    "To see whether this is possible at all, we first have to understand what are the constraints that time-reversal symmetry imposes on $S$."
   ]
  },
  {
   "cell_type": "markdown",
   "metadata": {},
   "source": [
    "## Scattering matrices with time-reversal symmetry\n",
    "\n",
    "Let's recall some basic facts about time-reversal symmetry, which we already studied in the first week. Time-reversal symmetry has an antiunitary operator $\\mathcal{T}$ which commute with the Hamiltonian. Being antiunitary, $\\mathcal{T}$ may come in two flavors - either $\\mathcal{T}^2=1$ or $\\mathcal{T}^2=-1$. The first case applies to system with no or integer spin, and in the simplest case we have for instance $\\mathcal{T}=\\mathcal{K}$, the complex conjugation operator. The second case applies to systems with half-integer spin, and in the simplest case we have $\\mathcal{T}=i\\sigma_y\\mathcal{K}$.\n",
    "\n",
    "Let's apply the time-reversal operator to our scattering states. We get\n",
    "\n",
    "$$\n",
    "\\mathcal{T}\\left|\\Psi,\\textrm{L}\\right\\rangle = \\sum_{n=1}^N \\alpha^*_{n,\\textrm{L}}\\,\\mathcal{T}\\left|n,\\textrm{L}\\right\\rangle + \\beta^*_{n,\\textrm{L}}\\,\\mathcal{T}^2\\left|n,\\textrm{L}\\right\\rangle\\,,\n",
    "$$\n",
    "$$\n",
    "\\mathcal{T}\\left|\\Psi,\\textrm{R}\\right\\rangle = \\sum_{n=1}^N \\alpha^*_{n,\\textrm{R}}\\,\\mathcal{T}\\left|n,\\textrm{R}\\right\\rangle + \\beta^*_{n,\\textrm{R}}\\,\\mathcal{T}^2\\left|n,\\textrm{R}\\right\\rangle\\,.\n",
    "$$\n",
    "\n",
    "Now, since time-reversal symmetry does not change the energy of a state, $\\mathcal{T}\\left|\\Psi,\\textrm{R}\\right\\rangle$ and $\\mathcal{T}\\left|\\Psi,\\textrm{L}\\right\\rangle$ are scattering states with the same energy as $\\left|\\Psi,\\textrm{R}\\right\\rangle$ and $\\left|\\Psi,\\textrm{L}\\right\\rangle$. Hence, the coefficients of incoming and outgoing modes are still related by the same scattering matrix $S$ as before. Note, however, that applying $\\mathcal{T}$ exchanged the role of the $\\alpha$'s and $\\beta$'s. So now we have that\n",
    "\n",
    "$$\n",
    " S\\mathcal{T}^2 \\begin{pmatrix}\\beta^*_\\textrm{L} \\\\ \\beta^*_\\textrm{R} \\end{pmatrix} = \\begin{pmatrix} \\alpha^*_\\textrm{L} \\\\ \\alpha^*_\\textrm{R} \\end{pmatrix}\\,.\n",
    "$$\n",
    "\n",
    "Multiplying both sides by $\\mathcal{T}^2S^\\dagger$, and taking the complex conjugation, we have that\n",
    "\n",
    "$$\n",
    "\\begin{pmatrix} \\beta_\\textrm{L} \\\\ \\beta_\\textrm{R} \\end{pmatrix} = \\mathcal{T}^2\\,S^T  \\begin{pmatrix} \\alpha_\\textrm{L} \\\\ \\alpha_\\textrm{R} \\end{pmatrix}\n",
    "$$\n",
    "\n",
    "By comparing this equation with the one a few lines above, we finally obtain that\n",
    "\n",
    "$$\n",
    "S = \\mathcal{T}^2 S^T\n",
    "$$\n",
    "\n",
    "So if $\\mathcal{T}^2=1$ the scattering matrix is symmetric, $S=S^T$, while if $\\mathcal{T}^2=-1$ it is antisymmetric, $S=-S^T$. "
   ]
  },
  {
   "cell_type": "markdown",
   "metadata": {},
   "source": [
    "What does this imply if we try to set $t=t'=0$?\n",
    "\n",
    "If $S=S^T$, it turns out there is really nothing special we can tell. However, if $S=-S^T$ and $t=t'=0$, the $N\\times N$ reflection matrix must be at the same time unitary, $r^\\dagger r=1$ and antisymmetric, $r=-r^T$.\n",
    "\n",
    "If $N$ is odd, this isn't possible at all, since any odd-dimensional antisymmetric matrix [must have](https://en.wikipedia.org/wiki/Skew-symmetric_matrix#Spectral_theory) a single zero eigenvalue, while unitary matrices only have eigenvalues with unit norm!\n",
    "\n",
    "We are forced to conclude that it is impossible to have $r$ unitary, and thus that it is impossible to have $t=0$ in this case. Even more, this zero eigenvalue of $r$ also means that there is always a single mode that is transmitted with unit probability.\n",
    "\n",
    "This is the discovery that Charles Kane described in the introductory video. We can make a quick check it by randomly selecting an antisymmetric scattering matrix with $N$ odd, like the following one with $N=3$,"
   ]
  },
  {
   "cell_type": "code",
   "execution_count": null,
   "metadata": {
    "collapsed": false
   },
   "outputs": [],
   "source": [
    "N = 3\n",
    "np.random.seed(12)\n",
    "S = kwant.rmt.circular(N*2, sym='AII')\n",
    "\n",
    "pprint_matrix(S)"
   ]
  },
  {
   "cell_type": "markdown",
   "metadata": {},
   "source": [
    "and looking at the eigenvalues of $r^\\dagger r$ and $t^\\dagger t$,"
   ]
  },
  {
   "cell_type": "code",
   "execution_count": null,
   "metadata": {
    "collapsed": false
   },
   "outputs": [],
   "source": [
    "r = S[:N, :N]\n",
    "print('Reflection eigenvalues')\n",
    "pprint_matrix(np.linalg.eigvalsh(r.dot(r.T.conj())))\n",
    "\n",
    "t = S[:N, N:]\n",
    "print('Transmission eigenvalues')\n",
    "pprint_matrix(np.linalg.eigvalsh(t.dot(t.T.conj()))[::-1])"
   ]
  },
  {
   "cell_type": "markdown",
   "metadata": {},
   "source": [
    "> We conclude that if $\\mathcal{T}^2=-1$ and the number of edge states going in one direction is odd, they cannot be gapped out, and the system is topological. On the other hand, if there is an even number of such edge states, they can be gapped out. Since these are the two only options, the integer invariant of a Chern insulator is reduced to a $\\pm 1$ invariant in presence of time reversal symmetry. These topologically protected, counterpropagating edge states are often referred to as **helical edge states**. "
   ]
  },
  {
   "cell_type": "markdown",
   "metadata": {},
   "source": [
    "# Helical edge states are Kramers pairs"
   ]
  },
  {
   "cell_type": "markdown",
   "metadata": {},
   "source": [
    "You might ask yourself what is it that makes $\\mathcal{T}^2=-1$ special, leading to the topological protection of the helical edge states.\n",
    "\n",
    "As it was mentioned the first week already, if $\\mathcal{T}^2=-1$ then Kramers' theorem applies. Kramers' theorem tells us that given an eigenstate $\\left|\\Psi\\right\\rangle$ of the Hamiltonian with energy $E$, its time-reversed partner $\\left|\\Psi_\\mathcal{T}\\right\\rangle\\equiv\\mathcal{T}\\left|\\Psi\\right\\rangle$ has the same energy, and the two states are orthogonal, $\\left\\langle \\Psi | \\Psi_\\mathcal{T}\\right\\rangle=0$. The two states form a so-called **Kramers pair**. As we already know, this leads to the fact that Hamiltonians with spinful time-reversal symmetry have two-fold degenerate energy levels - **Kramers degeneracy**.\n",
    "\n",
    "Now, the two counterpropagating helical modes are time-reversed partners of each other, so they form precisely such a Kramers pair. The condition $\\left\\langle \\Psi | \\Psi_\\mathcal{T}\\right\\rangle=0$ implies that it is impossible to introduce any backscattering between the two states, unless we break time-reversal symmetry. This is the origin of the unit transmission and of the topological protection of helical edge states."
   ]
  },
  {
   "cell_type": "markdown",
   "metadata": {},
   "source": [
    "At a more microscopic level, it is intuitive to understand this fact if we assume that the projection of the electrons' spin along a given axis is conserved, say the axis $z$ perpendicular to the plane. Then at the edge you have, say, a right-moving mode with spin up and a left-moving mode with spin down, and no other modes. Let's draw again the picture of a helical edge states entering a disorderd region:\n",
    "\n",
    "![](figures/spin_flip.svg)\n",
    "\n",
    "An electron moving to the right must necessarily have spin up. In order to be reflected, its spin must also be flipped.  However, this spin-flip scattering process is forbidden, and again we conclude that the electron is transmitted with probability one."
   ]
  },
  {
   "cell_type": "markdown",
   "metadata": {},
   "source": [
    "In the case $\\mathcal{T}^2=1$, there is no Kramers' theorem. As a consequence, even though you can construct models which have counterpropagating edge states, you will find that they have no topological protection and can be gapped out without breaking the time-reversal symmetry."
   ]
  },
  {
   "cell_type": "markdown",
   "metadata": {},
   "source": [
    "# The quantum spin Hall effect"
   ]
  },
  {
   "cell_type": "markdown",
   "metadata": {},
   "source": [
    "There is no really precise name for the 2D topological insulator with time-reversal symmetry. It is often also called \"$\\mathbb{Z}_2$ topological insulator\", however this only indicates that there are only two values of the topological invariant, and so it isn't a very specific name.\n",
    "\n",
    "The most commonly used name for this system is \"quantum spin Hall insulator\". Let's understand why, and for that let's analyse a Hall bar made out of such a non-trivial insulator. In fact, we will only need a Hall bar with four terminals, as shown below:"
   ]
  },
  {
   "cell_type": "markdown",
   "metadata": {},
   "source": [
    "![](figures/qsh_hallbar.svg)"
   ]
  },
  {
   "cell_type": "markdown",
   "metadata": {},
   "source": [
    "We have a finite voltage applied to terminal 1, so electron are injected into the system from there. You can see that because of the helical edge states, you can see that there are as many modes connecting terminal 1 to terminal 3 as there are to terminal 4. A moment of thought, or otherwise a quick calculation, should convince you that in this case there is no net current flowing orthogonally to the applied voltage. The Hall conductance is zero, which is the expected result if time-reversal symmetry is preserved, as it is in our system.\n",
    "\n",
    "However, counterpropagating edge states have to have exactly opposite spin due to Kramers degeneracy. This means that there may be a net spin current across the sample, orthogonally to the applied voltage.\n",
    "\n",
    "In particular, let's make the simplifying assumption we made just before, that the spin projection along some axis is conserved. Then, in the figure above, all modes colored in red carry up spin, and all modes colored in blue carry down spin. So terminal 1 distributes electrons coming out of it according to their spin: all electrons with spin up end up in terminal 4, all those with spin down in terminal 3. The system has a quantized spin current between terminals 3 and 4, hence the name \"quantum spin Hall effect\"."
   ]
  },
  {
   "cell_type": "markdown",
   "metadata": {},
   "source": [
    "Of course, we only want to assume the presence of time reversal symmetry, and not a spin conservation law boring from the topological point of view, and so the quantized spin Hall current is not a general property of a quantum spin Hall insulator."
   ]
  },
  {
   "cell_type": "code",
   "execution_count": null,
   "metadata": {
    "collapsed": false
   },
   "outputs": [],
   "source": [
    "question = (\"Consider the simple case where spin is conserved. \"\n",
    "            \"In the quantum spin Hall bar system above, what happens if, instead of applying a voltage between terminals 1 and 2, \"\n",
    "            \"you manage to apply a *spin-polarized* current between terminals 1 and 2?\")\n",
    "\n",
    "answers = [\"The system will develop an opposite spin-polarized current to compensate the effect.\",\n",
    "           \"A spin-polarized current will develop between terminals 3 and 4.\",\n",
    "           \"A voltage difference will develop between terminals 3 and 4.\",\n",
    "           \"It is impossible to apply such a current unless the bulk gap closes.\"]\n",
    "\n",
    "explanation = (\"The spin-polarized current between will create an electron population imbalance between terminals 3 and 4. \"\n",
    "               \"Hence, similar to the Hall effect, a voltage will develop orthogonally to the current.\")\n",
    "\n",
    "MoocMultipleChoiceAssessment(question=question, answers=answers, correct_answer=2, explanation=explanation)"
   ]
  },
  {
   "cell_type": "markdown",
   "metadata": {},
   "source": [
    "# A model for the quantum spin Hall insulator"
   ]
  },
  {
   "cell_type": "markdown",
   "metadata": {},
   "source": [
    "There is an important model which can be used to describe quantum spin Hall insulators, known as the **Bernevig-Hughes-Zhang model** or, in short, BHZ model. In essence, this model is equivalent to two copies of the Chern insulator Hamiltonian on the square lattice that we studied in the fourth week.\n",
    "\n",
    "The BHZ Hamiltonian takes the form\n",
    "\n",
    "$$\n",
    "H_\\textrm{BHZ}(\\mathbf{k}) = \\begin{pmatrix} h(\\mathbf{k}) & 0 \\\\ 0 & h^*(-\\mathbf{k}) \\end{pmatrix}\\,,\n",
    "$$\n",
    "\n",
    "with\n",
    "\n",
    "$$\n",
    "h(\\mathbf{k}) = \\epsilon(\\mathbf{k}) + \\mathbf{d}(\\mathbf{k})\\cdot \\pmb{\\sigma}\\,.\n",
    "$$\n",
    "\n",
    "Here $\\pmb\\sigma = (\\sigma_x, \\sigma_y, \\sigma_z)$ is a vector of Pauli matrices acting on the electron/hole degree of freedom (the original two bands of the Chern insulator), $\\epsilon(\\mathbf{k}) = C - D(k_x^2+k_y^2)$, the vector $\\mathbf{d} = [A k_x, -A k_y, M(\\mathbf{k})]$, and\n",
    "$M(\\mathbf{k}) = M - B(k_x^2+k_y^2)$.\n",
    "\n",
    "You can see that you basically have two copies of the massive Dirac Hamiltonian we used to study Chern insulators. In particular, you have a coupling linear in momentum between the hole and the electrons. The gap in the Hamiltonian is given by the term $M(\\mathbf{k})$, a momentum-dependent effective mass.\n",
    "\n",
    "By changing the sign of $M$ from negative to positive, you get a gap closing at $\\mathbf{k}=\\pmb{0}$:"
   ]
  },
  {
   "cell_type": "code",
   "execution_count": null,
   "metadata": {
    "collapsed": false
   },
   "outputs": [],
   "source": [
    "par = SimpleNamespace(kx=0, ky=0, a=1.0, \n",
    "                      ez_x=0.0, ez_y=0.0, eze_z=0.0, ezh_z=0.0, Bz=0.0,\n",
    "                      **bhz_parameters['topo2'])\n",
    "\n",
    "sys = bhz_infinite()\n",
    "\n",
    "def plot_BHZ_dispersion(sys, M):\n",
    "\n",
    "    par.M = M\n",
    "    fig = plt.figure(figsize=(14, 6))\n",
    "    ax1 = fig.add_subplot(121, projection='3d')\n",
    "    plt.title('$A=%1.2f$, $B=%1.2f$, $D=%1.2f$, $M=%1.2f$' %(par.A, par.B, par.D, par.M))\n",
    "    plot_2d_dispersion(sys, ax=ax1)\n",
    "    return fig\n",
    "\n",
    "StaticInteract(lambda m: plot_BHZ_dispersion(sys, 0.2*m-1),\n",
    "               m=RangeWidget(0, 10))"
   ]
  },
  {
   "cell_type": "markdown",
   "metadata": {},
   "source": [
    "This gap closing turns your trivial insulator into a topologically non-trivial quantum spin Hall insulator.\n",
    "\n",
    "In the rest of this lecture we will use the BHZ model as a toy-model to illustrate the behavior of a quantum spin Hall insulator in the numerical examples. The BHZ model, however, is more than a toy-model, and it can be used to capture the behavior of some real semiconducting materials. For this reason, the BHZ model will be a main protagonist in the next chap, where we will discuss real materials and the experimental evidence for the quantum spin Hall effect."
   ]
  },
  {
   "cell_type": "markdown",
   "metadata": {},
   "source": [
    "# Alternative point of view: fermion parity pump"
   ]
  },
  {
   "cell_type": "markdown",
   "metadata": {},
   "source": [
    "In the previous cases of the Kitaev chain and the quantum Hall effect, the bulk topological invariant that we eventually arrived at was characterized by the response to some adiabatic experiment.\n",
    "\n",
    "Since the time-reversal invariant topological insulator is two dimensional like the quantum Hall system, it is reasonable to put the system in a Corbino geometry and change the flux through the system, creating an azimuthal electric field:\n",
    "\n",
    "![](figures/qsh_corbino.svg)\n",
    "\n",
    "However, because of time-reversal symmetry, the system is forbidden from having a Hall conductance and therefore there cannot be any charge transfer between the two edges of the disk. For instance, if we consider two copies of the Haldane model with opposite spin, you will have two quantum Hall pumps working in opposite direction (one transferring charge from the inner edge to the outer edge, the other one from the outer edge to the inner one). So the net charge transferred is zero.\n",
    "\n",
    "Because the two pumps act on electrons with opposite spin, you might be tempted to define a spin current, which would flow in response to the electric field, orthogonally to it. However, as we just discussed, the spin along a given direction may not be conserved and so this is not a general way to defining a robust pumping effect."
   ]
  },
  {
   "cell_type": "markdown",
   "metadata": {},
   "source": [
    "To understand what exactly happens in the pumping process, let's look at the energy spectrum of the edge states for the BHZ model in the cylinder geometry. As you might remember from the quantum Hall lectures, the cylinder geometry is really equivalent to the Corbino disk, except that it easier to study.\n",
    "\n",
    "You might also remember that in a cylinder of finite circumference $L$, the momenta of the allowed edge states energies are quantized at values determined by the flux.\n",
    "\n",
    "To make things more simple, you may actually imagine that the circumference of the cylinder is just a single unit cell long. We then have only one allowed value of the momentum $k$ along the edge, which is exactly proportional to the flux threaded to the cylinder, $k = 2\\pi \\Phi/\\Phi_0$.\n",
    "\n",
    "So let's look at the energy spectrum of a cylinder, as a function of $k$ or equivalently $\\Phi$, and contrasting a cylinder in the quantum spin Hall phase with a cylinder in the trivial insulating phase."
   ]
  },
  {
   "cell_type": "code",
   "execution_count": null,
   "metadata": {
    "collapsed": false
   },
   "outputs": [],
   "source": [
    "fig = plt.figure(figsize=[9.5, 4], tight_layout=True)\n",
    "ax1 = fig.add_subplot(1, 2, 1)\n",
    "ax2 = fig.add_subplot(1, 2, 2)\n",
    "\n",
    "ax1.set_color_cycle(['k'])\n",
    "ax2.set_color_cycle(['k'])\n",
    "\n",
    "sys = bhz_ribbon(w=20).finalized()\n",
    "\n",
    "par1 = SimpleNamespace(ez_x=0.0, ez_y=0.0, eze_z=0.0, ezh_z=0.0, Bz=0, **bhz_parameters['topo'])\n",
    "par2 = SimpleNamespace(ez_x=0.0, ez_y=0.0, eze_z=0.0, ezh_z=0.0, Bz=0, **bhz_parameters['triv'])\n",
    "\n",
    "kwant.plotter.bands(sys, args=[par1], momenta=np.linspace(0, np.pi, 200, endpoint=False), show=False, ax=ax1);\n",
    "kwant.plotter.bands(sys, args=[par2], momenta=np.linspace(0, np.pi, 200, endpoint=False), show=False, ax=ax2);\n",
    "\n",
    "ax1.set_ylim(-2,2)\n",
    "ax2.set_ylim(-2,2)\n",
    "\n",
    "ax1.set_xlabel('$k$')\n",
    "ax2.set_xlabel('$k$')\n",
    "\n",
    "ax1.set_ylabel('$E$')\n",
    "ax2.set_ylabel('$E$')\n",
    "\n",
    "ax1.set_title('topological')\n",
    "ax2.set_title('trivial')\n",
    "\n",
    "ax1.plot([-4, 4], [0, 0], 'k--')\n",
    "ax2.plot([-4, 4], [0, 0], 'k--')\n",
    "\n",
    "ax1.set_xticks(np.pi*np.array([0, 0.5, 1.0]))\n",
    "ax2.set_xticks(np.pi*np.array([0, 0.5, 1.0]))\n",
    "\n",
    "ax1.set_xticklabels([r'$0$', r'$\\pi/2$', r'$\\pi$'])\n",
    "ax2.set_xticklabels([r'$0$', r'$\\pi/2$', r'$\\pi$'])\n",
    "\n",
    "\n",
    "ax1.set_xlim(0,np.pi)\n",
    "ax2.set_xlim(0,np.pi);"
   ]
  },
  {
   "cell_type": "markdown",
   "metadata": {},
   "source": [
    "In both cases you see that at $k=0$ there are isolated pairs of states with degenerate energies, between a valence and a conduction band. The Fermi energy is set at $E=0$, in the middle of the gap between conduction and valence bands. These states are the Kramers pairs at the edges - one pair for the topological case, two for the trivial case.\n",
    "You also see the splitting of Kramers pairs as soon as $k$ goes away from zero. \n",
    "\n",
    "The plot ends at $k=\\pi$ (that is, $\\Phi=h/2e$), which is another time-reversal invariant point. Indeed, time-reversal symmetry sends $\\Phi\\to-\\Phi$, but for $\\Phi=h/2e$ this corresponds exactly to adding or subtracting a flux quantum. So for this value of the flux all the physical properties of the system do not change under the action of time-reversal. And indeed you can see that all levels meet again and form Kramers pairs.\n",
    "\n",
    "> We now see an interesting difference though. In the topological case, the Kramers pairs at $k=\\pi$ are not the same as those at $k=0$. In the trivial case, instead, the pairs are the same. As a consequence, in the topological case there is an odd number of levels crossing zero-energy, while in the trivial cases there is an even number of them. Therefore changing the flux by $h/2e$ in the topological case changes the fermion parity at the edge, while it does nothing in the trivial case. We have thus obtained a **fermion parity pump**."
   ]
  },
  {
   "cell_type": "markdown",
   "metadata": {},
   "source": [
    "Strangely, this reminds us of the topological superconducting ring that we studied in the second week of the course. There we also had a fermion parity change in response to a flux. This will turn out to be not a coincidence when we discuss how to realize topological superconductors using topological insulators.\n",
    "\n",
    "You may appreciate that our argument did not rely on spin being a good quantum number, or on any other detail of the system, but only on Kramers theorem. And in fact it holds very generally. You can try for instance to deform the dispersion of the Kramers pairs, but as long as you keep fixed the way the pairs join at $k=0$ and $k=\\pi$, you cannot break the fermion parity pump."
   ]
  },
  {
   "cell_type": "markdown",
   "metadata": {},
   "source": [
    "# Pumping expression for the topological invariant"
   ]
  },
  {
   "cell_type": "markdown",
   "metadata": {},
   "source": [
    "At this point, following the same path we followed for Chern insulator, we would like to find an expression for a topological bulk invariant which characterizes the quantum spin Hall effect.\n",
    "\n",
    "However, we now encounter a problem which is more and more pressing for complicated topological systems in higher dimensions: it is hard to evaluate the topological invariant. So we know when the system is topological, we know which kinds of topological invariant values exist (for now just two: trivial and non-trivial), but it becomes hard to find and evaluate the correct expression for it.\n",
    "\n",
    "We were able to calculate the Chern number using Berry curvature. The analogous computation for the topological invariant of the quantum spin Hall insulator becomes too involved, and so we will not present it in our course."
   ]
  },
  {
   "cell_type": "markdown",
   "metadata": {},
   "source": [
    "The scattering formulation of the topological invariant, however, is easy to implement and utilize. We can apply it by connecting the edges of our cylinder with a flux to leads, in the following geometry:\n",
    "\n",
    "![](figures/qsh_pumping.svg)\n",
    "\n",
    "We may now study what happens when we try to inject electrons into the edges of the cylinder. Since we have “rolled-up” our system along one direction, we now have a one-dimensional scattering problem. Similarly to a Thouless pump, we expect to be able to find a topological signature into the reflection matrix $r$ for electron coming in from the left.\n",
    "\n",
    "As we vary the flux, the reflection properties may change, leading to a $k$-dependent reflection matrix $r(k)$. Since we are assuming that the bulk is gapped, transmission is suppressed and we have that $r$ is unitary. Moreover, at $k=0$ and $k=\\pi$ it is also antisymmetric because of time-reversal symmetry.\n",
    "\n",
    "Under this condition, we have a topological invariant with a relatively simple form:\n",
    "\n",
    "$$\n",
    "Q = \\frac{\\textrm{Pf}[r(0)]}{\\textrm{Pf}[r(\\pi)]}\\sqrt{\\frac{\\det[r(\\pi)]}{\\det[r(0)]}}\n",
    "$$"
   ]
  },
  {
   "cell_type": "markdown",
   "metadata": {},
   "source": [
    "This expression relies on the antisymmetry of $r$ at $k=0$ and $k=\\pi$. For these values we can compute a Pfaffian. The eigenvalues of $r$ come in pairs of opposite sign $e^{i\\alpha}$, $-e^{i\\alpha}$, which are corresponding to the Kramers pairs formed by the helical edge states. This means we can calculate the Pfaffian at these momentum values, but its phase is arbitrary.\n",
    "\n",
    "What we can do, however, is compute $\\sqrt{\\det[r(k)]}$ for all the intermediate values of $k$. To get rid of the sign ambiguity of the square root, we can require that $\\sqrt{\\det[r(k)]}$ is continuous for all $k$, and that $\\sqrt{\\det[r(0)]} = \\textrm{Pf}[r(0)]$. This only gives a unique answer if $\\det r \\neq 0$ for all $k$.\n",
    "\n",
    "By computing this we find a trajectory which starts at $\\textrm{Pf}[r(0)]$ and ends up at either $\\textrm{Pf}[r(\\pi)]$ or $-\\textrm{Pf}[r(\\pi)]$. And these two cases distinguish the trivial from nontrivial systems.\n",
    "\n",
    "In the plot below, we show how this trajectory changes for our cylinder geometry as the BHZ model is driven through the topological phase transition. In the right panel, the green dots give you the phase of $\\textrm{Pf}[r(0)]$ and $\\textrm{Pf}[r(\\pi)]$, and the blue line the phase of $\\det[r(k)]$."
   ]
  },
  {
   "cell_type": "code",
   "execution_count": null,
   "metadata": {
    "collapsed": false
   },
   "outputs": [],
   "source": [
    "par = SimpleNamespace(kx=0, ky=0, a=1.0, \n",
    "                      ez_x=0.0, ez_y=0.0, eze_z=0.0, ezh_z=0.0, Bz=0.0,\n",
    "                      **bhz_parameters['topo2'])\n",
    "\n",
    "sys = bhz_infinite()\n",
    "fsys = make_scatter_sys()\n",
    "\n",
    "def plot_dispersion_topology(sys, fsys, M):\n",
    "\n",
    "    par.M = M\n",
    "    \n",
    "    fig = plt.figure(figsize=(12, 3.5))\n",
    "    ax1 = fig.add_subplot(121, projection='3d')\n",
    "    plt.title('$M=%1.2f$' % par.M)\n",
    "    ax2 = fig.add_subplot(122)\n",
    "    plt.title('Winding')\n",
    "    plot_2d_dispersion(sys, ax=ax1)\n",
    "    scattering_det_pfaff(fsys, ax2)\n",
    "    return fig\n",
    "\n",
    "\n",
    "StaticInteract(lambda m: plot_dispersion_topology(sys, fsys, 0.2*m-1),\n",
    "               m=RangeWidget(0, 10))"
   ]
  },
  {
   "cell_type": "markdown",
   "metadata": {},
   "source": [
    "We now have a quantity equal to $\\pm 1$, which cannot change continuously unless there's a gap closing (when there's a gap closing, $\\det r$ becomes equal to $0$). It is relatively hard to prove that this invariant counts the pumping of fermion parity, but if you're interested, check out this paper:"
   ]
  },
  {
   "cell_type": "code",
   "execution_count": null,
   "metadata": {
    "collapsed": false
   },
   "outputs": [],
   "source": [
    "PreprintReference('1107.2215', description=\"\", show_abstract=False)"
   ]
  },
  {
   "cell_type": "markdown",
   "metadata": {},
   "source": [
    "From reading the paper, or just from the above discussion, you can realize that it takes a lot of effort to derive an explicit expression for a topological invariant. Even though it is a hard task, sometimes one can guess the right result (one of us was indeed able to guess the above expression for $Q$ before it was known). Other times, one can invoke some simplification and obtain some important insight. This is what we will do in the next unit."
   ]
  },
  {
   "cell_type": "markdown",
   "metadata": {},
   "source": [
    "# A simplification: inversion symmetry"
   ]
  },
  {
   "cell_type": "markdown",
   "metadata": {},
   "source": [
    "As just mentioned, topological invariants in higher dimensions are often difficult to write down and evaluate in the general case. Luckily, in the presence of [inversion symmetry](http://en.wikipedia.org/wiki/Parity_%28physics%29#Effect_of_spatial_inversion_on_some_variables_of_classical_physics) - which reverses the lattice coordinates with respect to a symmetry center - the topological condition can be stated in rather simple terms.\n",
    "This turns out to be quite useful to describe most topological materials, which happen to have crystal structure with inversion symmetry. \n",
    "\n",
    "From our earlier discussion, we know that we can determine that a system is a time-reversal invariant topological insulator if it has an odd number of helical edge states. We will now see how using inversion symmetry and the bulk-boundary correspondence we can find an expression for the bulk topological invariant.\n",
    "\n",
    "So let's consider a two-dimensional Bloch Hamiltonian $H(\\mathbf{k})$ with both inversion and time-reversal symmetry. Inversion symmetry has a unitary operator $\\mathcal{P}$ which maps $\\mathbf{k}\\rightarrow -\\mathbf{k}$ and satisfies $\\mathcal{P}^2=1$. If we have both inversion symmetry $\\mathcal{P}$ and time-reversal $\\mathcal{T}$, we get an anti-unitary symmetry $\\mathcal{T}\\otimes\\mathcal{P}$, which preserves $\\mathbf{k}$ and squares to $-1$. \n",
    "\n",
    "> These are precisely the conditions needed for Kramers theorem to apply. So we can conclude that every eigenstate at any  $\\mathbf{k}$ is two-fold degenerate.  We may label these two eigenstates with an index $\\sigma=\\pm$. If spin is a good quantum number, $\\sigma$ labels two states with opposite spin. However, this may not be the case so we will just refer to it as a pseudospin associated with Kramers degeneracy.\n",
    "\n",
    "Note that the simplification obtained by adding inversion symmetry is that the spectrum is two-fold degenerate at all $\\mathbf{k}$ in the Brillouin zone. Time-reversal symmetry alone cannot guarantee that, because it maps $\\mathbf{k}$ to $-\\mathbf{k}$.\n",
    "\n",
    "Our next step is to calculate the effective description of helical edge states at a domain wall between a topological phase and a non-topological phase. This is something we already know how to do thanks to our experience with the domain walls in the Kitaev chain and in Chern insulators, and it will give us an insight on the topological transition and the bulk topological invariant."
   ]
  },
  {
   "cell_type": "markdown",
   "metadata": {},
   "source": [
    "## Study of a domain wall\n",
    "\n",
    "Let's imagine that the helical edge runs along the $y$ direction, and that the domain wall is described by a mass profile $M(x)$ along the $x$ direction, which is zero at the domain wall:\n",
    "\n",
    "![](figures/qsh_domain_wall.svg)\n",
    " \n",
    " \n",
    "In this configuration, $k_y$ is still a good quantum number, and we can study the energy dispersion of states bound to the domain wall as a function of $k_y$. If the edge is gapless there must be a momentum, say $\\bar{k}_y$, where counterpropagating modes cross at the Fermi level. Let's fix $k_y=\\bar{k}_y$, and write down an effective Hamiltonian for the motion transverse to the domain wall.\n",
    "\n",
    "We have in total four states, distinguished by two quantum numbers: their direction of propagation, which we indicate as $b=\\pm$, and their pseudospin $\\sigma$. Inversion symmetry $\\mathcal{P}$ flips the direction of propagation $b$, while the pseudo-spin degeneracy $\\sigma$ is related to the combination of inversion and time-reversal $\\mathcal{T}\\otimes\\mathcal{P}$. To lowest order in $k_x$ the states at the transition point disperse linearly with momentum $k_x$ perpendicular to the domain, and are two-fold degenerate. In fact, as we noted from Kramers degeneracy, the Hamiltonian must be chosen such that none of the terms break the two-fold degeneracy associated with the pseudospin $\\sigma$. This leads us to an effective Hamiltonian \n",
    "\n",
    "$$\n",
    "H(\\bar{k}_y)=\\sum_{\\sigma,b}\\,k_x b\\,|b,\\sigma\\rangle\\langle b,\\sigma|+M(x)(|+,\\sigma\\rangle\\langle -,\\sigma|+h.c.)]\\,,\n",
    "$$\n",
    "\n",
    "where the factor $b$ is odd under time-reversal symmetry so that $k_x b$ is even under time-reversal symmetry. \n",
    "\n",
    "We are back to an old friend, the one dimensional Dirac Hamiltonian with a position-dependent mass $M(x)$. Adapting our arguments from the first week, we can immediately say that the domain-wall hosts a pair of zero modes only if $M(x)$ changes sign."
   ]
  },
  {
   "cell_type": "markdown",
   "metadata": {},
   "source": [
    "As interesting as this sounds, we must remember that this pair of zero modes is present for $k_y=\\bar{k}_y$. Because of inversion symmetry, there is necessarily an identical pair at $-\\bar{k}_y$. So we get a total of 4 degenerate domain wall states from this type of gap closing - an even number of pairs. Such pairs of gap closings do not affect the value of the topological invariant on the two sides of the domain walls.\n",
    "\n",
    "However, there are points in momentum space which are mapped onto each other by time-reversal symmetry, up to a reciprocal lattice vector. For these values, the above counting does not hold. People refer to these momenta as \"time-reversal invariant momenta\" or TRIMs. In the simple case of a square Brillouin zone, they are the points $(k_x, k_y) = (0,0), (0,\\pi), (\\pi,0),(\\pi,\\pi)$.\n",
    "\n",
    "Since TRIMs are their own time-reversed partners, it is still possible for a gap closing at $\\bar{k}_y=0$ or $\\bar{k}_y=\\pi$ to change the topology of the system. In this case, our doubling problem in momentum space problem is solved, and we can produce just one pair of edge modes at the domain wall. If we move the momentum $k_y$ slightly away from $\\bar{k}_y$, the degenerate pair of modes splits linearly to form a single helical mode that produces a non-trivial fermion parity pump.\n",
    "\n",
    "To make the distinction clear between a gap closing at a finite $\\bar{k}_y$ or at a time-reversal invariant point, let's draw a sketch of the edge dispersion in the two cases.\n",
    "\n",
    "![](figures/qsh_edge_dispersions.svg)\n",
    "\n",
    "Kramers pairs are colored in red and blue and have the same linestyle. On the left, you have two pairs of Kramers partners, which however never meet at zero energy. On the right, there is a single Kramers pair meeting at zero energy. This argument summarizes the simplification that inversion symmetry brings to time-reversal invariant topological insulators.\n",
    "\n",
    "> With inversion symmetry, we can determine the topological invariant for the inversion symmetric topological insulators entirely from the bulk Hamiltonian at time-reversal invariant momenta, since gap closings at any other point can only add domain wall states in multiples of four.\n",
    "\n",
    "Does this mean that any gap closing at a TRIM is a topological transition? Since the states $|b,\\sigma\\rangle$ are eigenstates of a time-reversal invariant $k_y$, and since $b$ is flipped by inversion symmetry, we can apply inversion symmetry to conclude that the states $|b=\\pm,\\sigma\\rangle$ \n",
    "transform into each other under inversion i.e. $\\mathcal{P}|\\pm,\\sigma\\rangle= |\\mp,\\sigma\\rangle$. By combining these states \n",
    "into symmetric and anti-symmetric superpositions\n",
    "\n",
    "$$|e,\\sigma\\rangle=\\sum_b|b,\\sigma\\rangle\\,\\quad |o,\\sigma\\rangle=i\\sum_b b|b,\\sigma\\rangle,$$\n",
    "\n",
    "we obtain states that are even (i.e. $e$) and odd (i.e. $o$) under inversion - that is, eigenstates of $\\mathcal{P}$ with eigenvalue $+1$ or $-1$. For real $M$, these states are the eigenstates at the gap closing, and we see that as expected these eigenstates are even and odd under inversion. The factor of $i$ in $|o,\\sigma\\rangle$ ensures a consistency under the time-reversal transformation, such that $\\mathcal{T}|(e,o),\\sigma\\rangle=\\sigma|(e,o),\\sigma\\rangle$. \n",
    "\n",
    "Thus, the states at $k_y=0$ which are involved in the gap closing are of different spatial parities. Such a gap closing at $k_y=0$, which changes the topological invariant of the system between topologically trivial and non-trivial, leads to an even parity and an odd parity state changing their occupancy. We would get such a topological transition each time a gap closed at a TRIM.\n",
    "\n",
    "We can therefore go back to our 2D Bloch Hamiltonian $H(\\mathbf{k})$ and state the following:\n",
    "\n",
    "> To compute a bulk topological invariant for a two-dimensional time-reversal invariant topological state with inversion symmetry we need to keep track of the parity $P$ of all the occupied eigenstates of $H(\\mathbf{k})$ at the different time-reversal invariant momenta in the Brillouin zone. We may write such a bulk topological invariant as a product\n",
    "\n",
    ">$$Q=\\prod_{n,j}P_{n,j}\\,,$$\n",
    "\n",
    ">where $P_{n,j}$ is the parity, $n$ runs over the occupied bands of $H(\\mathbf{k})$ and $j$ over the time-reversal invariant momenta.\n",
    "\n",
    "You might now worry whether this definition of the invariant relied on having a smooth domain wall. But from the previous discussion, it is clear that the fermion parity pump argument that the bulk-edge correspondence implies that the bulk must be topologically non-trivial once you have edge states for any termination. Reversing this argument, we know that once we have a topologically non-trivial bulk, we must have helical edge states for any termination.\n",
    "\n",
    "Thus, by looking at smooth domain walls we are able to establish a connection between the topological invariant with time-reversal and inversion symmetry and the existence of helical edge states and fermion-parity pumping that characterizes the two dimensional topological insulator.\n",
    "\n",
    "As a bonus, thanks to the previous arguments we can begin to understand how to look for two-dimensional topological insulators among real materials, or how to create them. The main idea is to generate a \"band-inversion\" between an even and an odd parity band at a TRIM.\n",
    "\n",
    "Such a band inversion is not impossible to achieve in real materials, and can be captured using the BHZ model. But let's leave this to the next lecture."
   ]
  },
  {
   "cell_type": "code",
   "execution_count": null,
   "metadata": {
    "collapsed": false
   },
   "outputs": [],
   "source": [
    "question = (\"What is the value of the parity invariant $Q$ if you stack together two quantum spin Hall systems  \"\n",
    "            \"in the topological phase (i.e., both with $Q=-1$)?\")\n",
    "\n",
    "answers = [\"The system has edge states and is therefore topologically non-trivial.\",\n",
    "           \"The total number of odd parity occupied orbitals must be even, so you get $Q=1$.\",\n",
    "           \"It depends on whether the helical states in the two layers have same \"\n",
    "           \"or opposite spin for a given direction.\",\n",
    "           \"The invariant depends on the number of edge Dirac points at $k$ away from 0.\"]\n",
    "\n",
    "explanation = (\"Both layers have $Q=-1$ and hence an odd number of odd parity orbitals. Therefore, by combining the layers  \"\n",
    "               \"we get an even number of odd parity orbitals. Hence $Q$, which is the parity of odd parity orbitals must be \"\n",
    "               \"$Q=1$.\")\n",
    "\n",
    "MoocMultipleChoiceAssessment(question=question, answers=answers, correct_answer=1, explanation=explanation)"
   ]
  },
  {
   "cell_type": "markdown",
   "metadata": {},
   "source": [
    "# Summary"
   ]
  },
  {
   "cell_type": "code",
   "execution_count": null,
   "metadata": {
    "collapsed": false
   },
   "outputs": [],
   "source": [
    "MoocVideo(\"ft9ppqqLhH4\", src_location='5.1-summary', res='360')"
   ]
  },
  {
   "cell_type": "markdown",
   "metadata": {},
   "source": [
    "**Questions about what you just learned? Ask them below!**"
   ]
  },
  {
   "cell_type": "code",
   "execution_count": null,
   "metadata": {
    "collapsed": false
   },
   "outputs": [],
   "source": [
    "MoocDiscussion(\"Questions\", \"QSHE - theory\")"
   ]
  }
 ],
 "metadata": {
  "kernelspec": {
   "display_name": "Python 2",
   "language": "python",
   "name": "python2"
  },
  "language_info": {
   "codemirror_mode": {
    "name": "ipython",
    "version": 2
   },
   "file_extension": ".py",
   "mimetype": "text/x-python",
   "name": "python",
   "nbconvert_exporter": "python",
   "pygments_lexer": "ipython2",
   "version": "2.7.6"
  }
 },
 "nbformat": 4,
 "nbformat_minor": 0
}
