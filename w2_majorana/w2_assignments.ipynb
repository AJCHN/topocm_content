{
 "metadata": {
  "name": ""
 },
 "nbformat": 3,
 "nbformat_minor": 0,
 "worksheets": [
  {
   "cells": [
    {
     "cell_type": "code",
     "collapsed": false,
     "input": [
      "%run ../code/init_mooc_nb.ipy"
     ],
     "language": "python",
     "metadata": {},
     "outputs": [
      {
       "output_type": "stream",
       "stream": "stdout",
       "text": [
        "Performing the necessary imports.\n",
        "\n",
        "from __future__ import division, print_function\n",
        "import numpy as np\n",
        "import matplotlib\n",
        "import kwant\n",
        "\n",
        "import ipywidgets\n",
        "from IPython.html.widgets import interact\n",
        "from ipywidgets import StaticInteract, RangeWidget, DropDownWidget\n",
        "from IPython.display import display_html\n",
        "from matplotlib import pyplot as plt\n",
        "\n",
        "import pfaffian as pf\n",
        "from edx_components import *\n",
        "\n"
       ]
      },
      {
       "html": [
        "\n",
        "<script type=text/javascript>\n",
        "/* Add a button for showing or hiding input */\n",
        "on = \"Show input\";\n",
        "off = \"Hide input\";\n",
        "function onoff(){\n",
        "  currentvalue = document.getElementById('onoff').value;\n",
        "  if(currentvalue == off){\n",
        "    document.getElementById(\"onoff\").value=on;\n",
        "      $('div.input').hide();\n",
        "  }else{\n",
        "    document.getElementById(\"onoff\").value=off;\n",
        "      $('div.input').show();\n",
        "  }\n",
        "}\n",
        "\n",
        "/* Launch first notebook cell on start */\n",
        "function launch_first_cell (evt) {\n",
        "  if (!launch_first_cell.executed\n",
        "      && IPython.notebook.kernel\n",
        "  ) {\n",
        "    IPython.notebook.get_cells()[0].execute();\n",
        "    launch_first_cell.executed = true;\n",
        "  }\n",
        "}\n",
        "\n",
        "$([IPython.events]).on('status_started.Kernel notebook_loaded.Notebook', launch_first_cell);\n",
        "</script>\n",
        "\n",
        "<p>Press this button to show/hide the code used in the notebook:\n",
        "<input type=\"button\" class=\"ui-button ui-widget ui-state-default ui-corner-all ui-button-text-only\" value=\"Hide input\" id=\"onoff\" onclick=\"onoff();\"></p>\n",
        "<script type=text/javascript>\n",
        "$(document).ready(function (){if(!(\"IPython\" in window)){onoff();}})\n",
        "</script>"
       ],
       "metadata": {},
       "output_type": "display_data"
      }
     ]
    },
    {
     "cell_type": "heading",
     "level": 1,
     "metadata": {},
     "source": [
      "Simulation: tweaking the nanowire"
     ]
    },
    {
     "cell_type": "markdown",
     "metadata": {},
     "source": [
      "We have two choices for your coding assignments of this week. Consider the task complete when you finish one of the two.\n",
      "\n",
      "This is especially true since both of the assignments constitute a complete paper :)\n",
      "\n",
      "As usual, start by grabbing the notebooks of this week (`w2_majorana`). They are once again over [here](http://tiny.cc/topocm_smc).\n",
      "\n",
      "## Tilted magnetic field\n",
      "\n",
      "Explore what happens when we change one the important knobs of the nanowire model, the external magnetic field. We studied what happens when $B$ is pointing along the $z$ direction. However, what happens when the magnetic field is tilted?\n",
      "\n",
      "Generalize the Hamiltonian of the nanowire to the case of a magnetic field with three components $B_x, B_y, B_z$. How do the new terms look like?\n",
      "\n",
      "Go into the `nanowire` notebook. Modify the `nanowire_chain` function to include the magnetic field pointing in general direction.\n",
      "Plot the band structure for different field directions, and compare to the original case of having only $B_z$. What changes?\n",
      "\n",
      "Compare your results with what you find over here:"
     ]
    },
    {
     "cell_type": "code",
     "collapsed": false,
     "input": [
      "display_html(PreprintReference('1403.4464'))"
     ],
     "language": "python",
     "metadata": {},
     "outputs": [
      {
       "html": [
        "<h3 class=\"title mathjax\">Effects of tilting the magnetic field in 1D Majorana nanowires</h3><p><a href=http://arxiv.org/abs/1403.4464>http://arxiv.org/abs/1403.4464</a><br><div class=\"authors\">Javier Osca, Daniel Ruiz, Lloren\u00e7 Serra</div></p><p><blockquote class=\"abstract mathjax\">We investigate the effects that a tilting of the magnetic field from the\n",
        "parallel direction has on the states of a 1D Majorana nanowire. Particularly,\n",
        "we focus on the conditions for the existence of Majorana zero modes, uncovering\n",
        "an analytical relation (the sine rule) between the field orientation relative\n",
        "to the wire, its magnitude and the superconducting parameter of the material.\n",
        "The study is then extended to junctions of nanowires, treated as magnetically\n",
        "inhomogeneous straight nanowires composed of two homogeneous arms. It is shown\n",
        "that their spectrum can be explained in terms of the spectra of two independent\n",
        "arms. Finally, we investigate how the localization of the Majorana mode is\n",
        "transferred from the magnetic interface at the corner of the junction to the\n",
        "end of the nanowire when increasing the arm length.</blockquote></p>"
       ],
       "metadata": {},
       "output_type": "display_data"
      }
     ]
    },
    {
     "cell_type": "markdown",
     "metadata": {},
     "source": [
      "## Conductance with a long scattering region\n",
      "\n",
      "Now let's switch to the signatures of Majoranas. The code for these is in the `signatures` notebook.\n",
      "\n",
      "How does the $4\\pi$-periodic Josephson effect disapper? We argued that we cannot just remove a single crossing.\n",
      "\n",
      "Study the spectrum of a superconducting ring as a function of magnetic field, as you make a transition between the trivial and the topological regimes.\n",
      "\n",
      "What do you see? Compare your results with the paper below."
     ]
    },
    {
     "cell_type": "code",
     "collapsed": false,
     "input": [
      "PreprintReference(\"1210.3237\")"
     ],
     "language": "python",
     "metadata": {},
     "outputs": [
      {
       "html": [
        "<h3 class=\"title mathjax\">Signatures of topological phase transitions in mesoscopic\n",
        "  superconducting rings</h3><p><a href=http://arxiv.org/abs/1210.3237>http://arxiv.org/abs/1210.3237</a><br><div class=\"authors\">Falko Pientka, Alessandro Romito, Mathias Duckheim, Yuval Oreg, Felix von Oppen</div></p><p><blockquote class=\"abstract mathjax\">We investigate Josephson currents in mesoscopic rings with a weak link which\n",
        "are in or near a topological superconducting phase. As a paradigmatic example,\n",
        "we consider the Kitaev model of a spinless p-wave superconductor in one\n",
        "dimension, emphasizing how this model emerges from more realistic settings\n",
        "based on semiconductor nanowires. We show that the flux periodicity of the\n",
        "Josephson current provides signatures of the topological phase transition and\n",
        "the emergence of Majorana fermions situated on both sides of the weak link even\n",
        "when fermion parity is not a good quantum number. In large rings, the Majorana\n",
        "fermions hybridize only across the weak link. In this case, the Josephson\n",
        "current is h/e periodic in the flux threading the loop when fermion parity is a\n",
        "good quantum number but reverts to the more conventional h/2e periodicity in\n",
        "the presence of fermion-parity changing relaxation processes. In mesoscopic\n",
        "rings, the Majorana fermions also hybridize through their overlap in the\n",
        "interior of the superconducting ring. We find that in the topological\n",
        "superconducting phase, this gives rise to an h/e-periodic contribution even\n",
        "when fermion parity is not conserved and that this contribution exhibits a peak\n",
        "near the topological phase transition. This signature of the topological phase\n",
        "transition is robust to the effects of disorder. As a byproduct, we find that\n",
        "close to the topological phase transition, disorder drives the system deeper\n",
        "into the topological phase. This is in stark contrast to the known behavior far\n",
        "from the phase transition, where disorder tends to suppress the topological\n",
        "phase.</blockquote></p>"
       ],
       "metadata": {},
       "output_type": "pyout",
       "text": [
        "<edx_components.PreprintReference at 0x103b29890>"
       ]
      }
     ]
    },
    {
     "cell_type": "code",
     "collapsed": false,
     "input": [
      "MoocSelfAssessment()"
     ],
     "language": "python",
     "metadata": {},
     "outputs": [
      {
       "html": [
        "<p><b> MoocSelfAssessment description</b></p>\n",
        "<p><b>In the live version of the course, you would need to share your solution and grade yourself.</b></p>"
       ],
       "metadata": {},
       "output_type": "pyout",
       "text": [
        "MoocSelfAssessment(**{'openassessment_self': '<openassessment allow_file_upload=\"False\" allow_latex=\"True\" submission_due=\"2029-01-01T00:00:00+00:00\" submission_start=\"2001-01-01T00:00:00+00:00\">\\n    <title>Simulation results</title>\\n    <assessments>\\n      <assessment name=\"self-assessment\" start=\"2001-01-01T00:00:00+00:00\" due=\"2029-01-01T00:00:00+00:00\"/>\\n    </assessments>\\n    <rubric>\\n      <prompt>This is a self-assessment problem, and you should estimate how much you have done.\\n\\nPlease do not just give yourself points: the course grading policy does allow you to skip the simulations completely and still pass the course.\\n\\nConsider this grade also a way to providing information to us. Are we going too fast? Are the tasks too hard?\\n\\nIf you didn\\'t manage to get some part done, feel free to ask for advice in discussions.\\n\\nIn the text entry field just leave a link to your notebooks.\\n\\nBut there\\'s also a much better use for them: go to the discussion below and share the notebooks also with your colleagues.</prompt>\\n      <criterion>\\n        <name>0</name>\\n        <label>Completeness</label>\\n        <prompt>What is the fraction of the tasks that you were able to accomplish? </prompt>\\n        <option points=\"2\">\\n          <name>0</name>\\n          <label>I tried</label>\\n          <explanation>...but didn\\'t get anywhere</explanation>\\n        </option>\\n        <option points=\"5\">\\n          <name>1</name>\\n          <label>A couple of easy things</label>\\n          <explanation>I was able to run the code from the lectures and play around with the parameters, but I didn\\'t understand how to modify it to solve the problems.</explanation>\\n        </option>\\n        <option points=\"8\">\\n          <name>2</name>\\n          <label>Half-half</label>\\n          <explanation>I managed to get the more basic things to work, but the rest just don\\'t! Damn bugs!</explanation>\\n        </option>\\n        <option points=\"11\">\\n          <name>3</name>\\n          <label>Complete</label>\\n          <explanation>All the tasks are neatly done :-)</explanation>\\n        </option>\\n        <option points=\"14\">\\n          <name>4</name>\\n          <label>Look what I found!</label>\\n          <explanation>I just finished the tasks, but then i thought: I could implement something else. And hey, take a look!</explanation>\\n        </option>\\n      </criterion>\\n    </rubric>\\n </openassessment>\\n', 'review_due': 14, 'url_name': None, 'due': 7})"
       ]
      }
     ]
    },
    {
     "cell_type": "code",
     "collapsed": false,
     "input": [
      "MoocDiscussion('Labs', 'Majorana nanowire')"
     ],
     "language": "python",
     "metadata": {},
     "outputs": [
      {
       "html": [
        "<p><b>Discussion</b> entitled 'Majorana nanowire' is available in the online version of the course.</p>"
       ],
       "metadata": {},
       "output_type": "pyout",
       "text": [
        "MoocDiscussion(**{'discussion_category': 'Labs', 'discussion_target': 'Majorana nanowire', 'display_name': 'Majorana nanowire', 'discussion_id': '4ae3a567aa842e779823f6dee9f9c1c2'})"
       ]
      }
     ]
    },
    {
     "cell_type": "heading",
     "level": 1,
     "metadata": {},
     "source": [
      "Review assignment"
     ]
    },
    {
     "cell_type": "markdown",
     "metadata": {},
     "source": [
      "As we mentioned, there are really hundreds of papers that use the models and concepts that we used in the lecture.\n",
      "\n",
      "Here is a small selection of the ones that you may find interesting."
     ]
    },
    {
     "cell_type": "code",
     "collapsed": false,
     "input": [
      "display_html(PreprintReference('1204.2792',\n",
      "                               description=\"Welcome to the real world.\"))\n",
      "\n",
      "display_html(PreprintReference('1101.5795',\n",
      "                               description=\"Majorana conductance with many modes.\"))\n",
      "\n",
      "display_html(PreprintReference('1006.4395',\n",
      "                               description=\"To play a nice melody, you just need a keyboard. \"\n",
      "                                           \"This paper first showed how Majoranas in wire networks can be moved around\"))\n",
      "\n",
      "display_html(PreprintReference('1008.0629', description=\"Real nanowires are more complicated.\"))"
     ],
     "language": "python",
     "metadata": {},
     "outputs": [
      {
       "html": [
        "<h3 class=\"title mathjax\">Signatures of Majorana fermions in hybrid superconductor-semiconductor\n",
        "  nanowire devices</h3><p><a href=http://arxiv.org/abs/1204.2792>http://arxiv.org/abs/1204.2792</a><br><div class=\"authors\">V. Mourik, K. Zuo, S. M. Frolov, S. R. Plissard, E. P. A. M. Bakkers, L. P. Kouwenhoven</div></p><p><blockquote class=\"abstract mathjax\">Majorana fermions are particles identical to their own antiparticles. They\n",
        "have been theoretically predicted to exist in topological superconductors. We\n",
        "report electrical measurements on InSb nanowires contacted with one normal (Au)\n",
        "and one superconducting electrode (NbTiN). Gate voltages vary electron density\n",
        "and define a tunnel barrier between normal and superconducting contacts. In the\n",
        "presence of magnetic fields of order 100 mT we observe bound, mid-gap states at\n",
        "zero bias voltage. These bound states remain fixed to zero bias even when\n",
        "magnetic fields and gate voltages are changed over considerable ranges. Our\n",
        "observations support the hypothesis of Majorana fermions in nanowires coupled\n",
        "to superconductors.</blockquote></p><p><b>Hint:</b> Welcome to the real world. </p>"
       ],
       "metadata": {},
       "output_type": "display_data"
      },
      {
       "html": [
        "<h3 class=\"title mathjax\">Quantum point contact as a probe of a topological superconductor</h3><p><a href=http://arxiv.org/abs/1101.5795>http://arxiv.org/abs/1101.5795</a><br><div class=\"authors\">M. Wimmer, A. R. Akhmerov, J. P. Dahlhaus, C. W. J. Beenakker</div></p><p><blockquote class=\"abstract mathjax\">We calculate the conductance of a ballistic point contact to a\n",
        "superconducting wire, produced by the s-wave proximity effect in a\n",
        "semiconductor with spin-orbit coupling in a parallel magnetic field. The\n",
        "conductance G as a function of contact width or Fermi energy shows plateaus at\n",
        "half-integer multiples of 4e^2/h if the superconductor is in a topologically\n",
        "nontrivial phase. In contrast, the plateaus are at the usual integer multiples\n",
        "in the topologically trivial phase. Disorder destroys all plateaus except the\n",
        "first, which remains precisely quantized, consistent with previous results for\n",
        "a tunnel contact. The advantage of a ballistic contact over a tunnel contact as\n",
        "a probe of the topological phase is the strongly reduced sensitivity to finite\n",
        "voltage or temperature.</blockquote></p><p><b>Hint:</b> Majorana conductance with many modes. </p>"
       ],
       "metadata": {},
       "output_type": "display_data"
      },
      {
       "html": [
        "<h3 class=\"title mathjax\">Non-Abelian statistics and topological quantum information processing in\n",
        "  1D wire networks</h3><p><a href=http://arxiv.org/abs/1006.4395>http://arxiv.org/abs/1006.4395</a><br><div class=\"authors\">Jason Alicea, Yuval Oreg, Gil Refael, Felix von Oppen, Matthew P. A. Fisher</div></p><p><blockquote class=\"abstract mathjax\">Topological quantum computation provides an elegant way around decoherence,\n",
        "as one encodes quantum information in a non-local fashion that the environment\n",
        "finds difficult to corrupt. Here we establish that one of the key\n",
        "operations---braiding of non-Abelian anyons---can be implemented in\n",
        "one-dimensional semiconductor wire networks. Previous work [Lutchyn et al.,\n",
        "arXiv:1002.4033 and Oreg et al., arXiv:1003.1145] provided a recipe for driving\n",
        "semiconducting wires into a topological phase supporting long-sought particles\n",
        "known as Majorana fermions that can store topologically protected quantum\n",
        "information. Majorana fermions in this setting can be transported, created, and\n",
        "fused by applying locally tunable gates to the wire. More importantly, we show\n",
        "that networks of such wires allow braiding of Majorana fermions and that they\n",
        "exhibit non-Abelian statistics like vortices in a p+ip superconductor. We\n",
        "propose experimental setups that enable the Majorana fusion rules to be probed,\n",
        "along with networks that allow for efficient exchange of arbitrary numbers of\n",
        "Majorana fermions. This work paves a new path forward in topological quantum\n",
        "computation that benefits from physical transparency and experimental realism.</blockquote></p><p><b>Hint:</b> To play a nice melody, you just need a keyboard. This paper first showed how Majoranas in wire networks can be moved around </p>"
       ],
       "metadata": {},
       "output_type": "display_data"
      },
      {
       "html": [
        "<h3 class=\"title mathjax\">Search for Majorana fermions in multiband semiconducting nanowires</h3><p><a href=http://arxiv.org/abs/1008.0629>http://arxiv.org/abs/1008.0629</a><br><div class=\"authors\">Roman M. Lutchyn, Tudor Stanescu, S. Das Sarma</div></p><p><blockquote class=\"abstract mathjax\">We study multiband semiconducting nanowires proximity-coupled with an s-wave\n",
        "superconductor. We show that when odd number of subbands are occupied the\n",
        "system realizes non-trivial topological state supporting Majorana modes\n",
        "localized at the ends. We study the topological quantum phase transition in\n",
        "this system and analytically calculate the phase diagram as a function of the\n",
        "chemical potential and magnetic field. Our key finding is that multiband\n",
        "occupancy not only lifts the stringent constraint of one-dimensionality but\n",
        "also allows to have higher carrier density in the nanowire and as such\n",
        "multisubband nanowires are better-suited for observing the Majorana particle.\n",
        "We study the robustness of the topological phase by including the effects of\n",
        "the short- and long-range disorder. We show that in the limit of strong\n",
        "interband mixing there is an optimal regime in the phase diagram (\"sweet spot\")\n",
        "where the topological state is to a large extent insensitive to the presence of\n",
        "disorder.</blockquote></p><p><b>Hint:</b> Real nanowires are more complicated. </p>"
       ],
       "metadata": {},
       "output_type": "display_data"
      }
     ]
    },
    {
     "cell_type": "markdown",
     "metadata": {},
     "source": [
      "### Bonus: Find your own paper to review!\n",
      "\n",
      "Do you know of another paper that fits into the topics of this week, and you think is good?\n",
      "Then you can get bonus points by reviewing that paper instead!"
     ]
    },
    {
     "cell_type": "code",
     "collapsed": false,
     "input": [
      "MoocPeerAssessment()"
     ],
     "language": "python",
     "metadata": {},
     "outputs": [
      {
       "html": [
        "<p><b> Read one of the above papers and see how it is\n",
        "related to the current topic.</b></p>\n",
        "<p><b>In the live version of the course, you would need to write a summary which is then assessed by your peers.</b></p>"
       ],
       "metadata": {},
       "output_type": "pyout",
       "text": [
        "MoocPeerAssessment(**{'must_be_graded_by': 3, 'url_name': None, 'due': 7, 'review_due': 14, 'must_grade': 5, 'openassessment_peer': '<openassessment allow_file_upload=\"False\" allow_latex=\"True\" submission_due=\"2029-01-01T00:00:00+00:00\" submission_start=\"2001-01-01T00:00:00+00:00\">\\n  <title>Paper Review Assessment</title>\\n    <assessments>\\n      <assessment name=\"peer-assessment\" must_grade=\"5\" must_be_graded_by=\"3\" start=\"2015-02-05T12:00:00+00:00\" due=\"2015-02-19T12:00:00+00:00\"/>\\n    </assessments>\\n    <rubric>\\n      <prompt>Please pick one of the papers above, or if you know of a good paper that fits into this week\\'s topic, pick that one.\\n\\nLook through the paper you chose, and try to understand what is happening.\\n\\nOK, begin forming your report: start by copying the paper title and the URL.\\nTHIS IS IMPORTANT! (Your report will be read by your colleagues, and they will need this information.)\\n\\nFirst, try to tell: what is the main thing that happens in the paper. What do the authors do?\\n\\nNext, write in a single paragraph: which concepts that you learned this week appear in the paper?\\nWhere do they appear?\\n\\nNow in a new paragraph answer what new things you learned from the paper, compared to what you learned from our course?\\nIt\\'s OK if you don\\'t understand some (or even most) details, but try to find and formulate at least something new that you have learned.\\nPoint out to the places in text or to figures, which are the most valuable.\\n\\nFinally tell: What do you think are the strong sides of the paper?\\nWhat are the weak sides? Do you see something that you think could be improved?\\nDo you have some questions that the authors do not answer?\\nExplain why you think that way.</prompt>\\n      <criterion feedback=\"optional\">\\n        <name>Ideas</name>\\n        <label>Helpfulness</label>\\n        <prompt>Did reading the report help you to understand what the paper is about?\\n(Here and later if you were reviewing the same paper, try to imagine that you didn\\'t read it before)</prompt>\\n        <option points=\"1\">\\n          <name>0</name>\\n          <label>No</label>\\n          <explanation>I couldn\\'t relate the report and the paper.</explanation>\\n        </option>\\n        <option points=\"3\">\\n          <name>1</name>\\n          <label>Partially</label>\\n          <explanation>I could understand the overall direction of the paper, but not the main idea.</explanation>\\n        </option>\\n        <option points=\"5\">\\n          <name>2</name>\\n          <label>Yes</label>\\n          <explanation>After reading the report I fully knew what to expect from the paper.</explanation>\\n        </option>\\n      </criterion>\\n      <criterion feedback=\"optional\">\\n        <name>0</name>\\n        <label>Insight</label>\\n        <prompt>Did you learn something from the report itself (before you read the paper)</prompt>\\n        <option points=\"1\">\\n          <name>1</name>\\n          <label>Low</label>\\n          <explanation>The review has no additional information</explanation>\\n        </option>\\n        <option points=\"3\">\\n          <name>0</name>\\n          <label>Average</label>\\n          <explanation>The review nicely relates the paper to what we learned.</explanation>\\n        </option>\\n        <option points=\"5\">\\n          <name>2</name>\\n          <label>High</label>\\n          <explanation>I learned from the report something I didn\\'t see neither in the paper nor in the course.</explanation>\\n        </option>\\n      </criterion>\\n      <criterion feedback=\"optional\">\\n        <name>1</name>\\n        <label>Paper Evaluation</label>\\n        <prompt>Do you find the evaluation of the strengths and weaknesses of the paper shown in the report convincing?</prompt>\\n        <option points=\"1\">\\n          <name>0</name>\\n          <label>Weak</label>\\n          <explanation>I could not find the strengths and weaknesses of the paper that were pointed out in the report.\\n</explanation>\\n        </option>\\n        <option points=\"3\">\\n          <name>1</name>\\n          <label>Competent</label>\\n          <explanation>I agree with the evaluation of the strengths and weaknesses, but the argumentation presented was not completely clear.</explanation>\\n        </option>\\n        <option points=\"5\">\\n          <name>2</name>\\n          <label>Excellent</label>\\n          <explanation>I think the author of the report really understand the paper well, and knows its ins and outs.</explanation>\\n        </option>\\n      </criterion>\\n      <feedbackprompt>(Optional) What aspects of this report stood out to you? What did it do well? How could it improve?\\n</feedbackprompt>\\n      <feedback_default_text>This report was...\\n</feedback_default_text>\\n    </rubric>\\n  </openassessment>\\n'})"
       ]
      }
     ]
    },
    {
     "cell_type": "code",
     "collapsed": false,
     "input": [
      "MoocDiscussion(\"Reviews\", \"Majoranas\")"
     ],
     "language": "python",
     "metadata": {},
     "outputs": [
      {
       "html": [
        "<p><b>Discussion</b> entitled 'Majoranas' is available in the online version of the course.</p>"
       ],
       "metadata": {},
       "output_type": "pyout",
       "text": [
        "MoocDiscussion(**{'discussion_category': 'Reviews', 'discussion_target': 'Majoranas', 'display_name': 'Majoranas', 'discussion_id': '0d1554344f9467f655aa185a6b1c459a'})"
       ]
      }
     ]
    }
   ],
   "metadata": {}
  }
 ]
}