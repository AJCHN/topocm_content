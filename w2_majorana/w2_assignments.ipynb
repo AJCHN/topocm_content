{
 "metadata": {
  "name": ""
 },
 "nbformat": 3,
 "nbformat_minor": 0,
 "worksheets": [
  {
   "cells": [
    {
     "cell_type": "code",
     "collapsed": false,
     "input": [
      "%run ../code/init_mooc_nb.ipy"
     ],
     "language": "python",
     "metadata": {},
     "outputs": [
      {
       "output_type": "stream",
       "stream": "stdout",
       "text": [
        "Performing the necessary imports.\n",
        "\n",
        "from __future__ import division, print_function\n",
        "import numpy as np\n",
        "import matplotlib\n",
        "import kwant\n",
        "\n",
        "import ipywidgets\n",
        "from IPython.html.widgets import interact\n",
        "from ipywidgets import StaticInteract, RangeWidget, DropDownWidget\n",
        "from IPython.display import display_html\n",
        "from matplotlib import pyplot as plt\n",
        "\n",
        "import pfaffian as pf\n",
        "from edx_components import *\n",
        "\n"
       ]
      },
      {
       "html": [
        "\n",
        "<script type=text/javascript>\n",
        "/* Add a button for showing or hiding input */\n",
        "on = \"Show input\";\n",
        "off = \"Hide input\";\n",
        "function onoff(){\n",
        "  currentvalue = document.getElementById('onoff').value;\n",
        "  if(currentvalue == off){\n",
        "    document.getElementById(\"onoff\").value=on;\n",
        "      $('div.input').hide();\n",
        "  }else{\n",
        "    document.getElementById(\"onoff\").value=off;\n",
        "      $('div.input').show();\n",
        "  }\n",
        "}\n",
        "\n",
        "/* Launch first notebook cell on start */\n",
        "function launch_first_cell (evt) {\n",
        "  if (!launch_first_cell.executed\n",
        "      && IPython.notebook.kernel\n",
        "  ) {\n",
        "    IPython.notebook.get_cells()[0].execute();\n",
        "    launch_first_cell.executed = true;\n",
        "  }\n",
        "}\n",
        "\n",
        "$([IPython.events]).on('status_started.Kernel notebook_loaded.Notebook', launch_first_cell);\n",
        "</script>\n",
        "\n",
        "<p>Press this button to show/hide the code used in the notebook:\n",
        "<input type=\"button\" class=\"ui-button ui-widget ui-state-default ui-corner-all ui-button-text-only\" value=\"Hide input\" id=\"onoff\" onclick=\"onoff();\"></p>\n",
        "<script type=text/javascript>\n",
        "$(document).ready(function (){if(!(\"IPython\" in window)){onoff();}})\n",
        "</script>"
       ],
       "metadata": {},
       "output_type": "display_data"
      }
     ]
    },
    {
     "cell_type": "heading",
     "level": 1,
     "metadata": {},
     "source": [
      "Coding assignment"
     ]
    },
    {
     "cell_type": "markdown",
     "metadata": {},
     "source": [
      "We have two choices for your coding assignments of this week, each realtive to the first two sections of the material. You should consider the task complete when you finish one of the two.\n",
      "\n",
      "## First choice: tilted magnetic field in the nanowire model\n",
      "\n",
      "In this assignment we will explore what happens when we change of on the important knobs of the nanowire model, the external magnetic field. In the material, $B$ was aligned over the $z$ direction. However, what happens when the magnetic field is tilted?\n",
      "\n",
      "Rewrite the Hamiltonian of the nanowire model in the case of a magnetic field with three components $B_x, B_y, B_z$. How do the new terms look like? Then, grab the ```nanowire_chain``` function at the beginning of the first notebook of this week, which as usual you can find [here](http://tiny.cc/topocm_smc). Modify it to include the new terms in the Hamiltonian, and study the bandstructure. Try different field directions, and compare to the original case of having only $B_z$. What changes?\n",
      "\n",
      "Compare the results with those in this paper:"
     ]
    },
    {
     "cell_type": "code",
     "collapsed": false,
     "input": [
      "display_html(PreprintReference('1403.4464',\n",
      "                               description=\"This paper is related to the coding assignment.\"\n",
      "                                           \"What happens to the bandstrucure of the nanowire when .\"))"
     ],
     "language": "python",
     "metadata": {},
     "outputs": [
      {
       "html": [
        "<h3 class=\"title mathjax\">Effects of tilting the magnetic field in 1D Majorana nanowires</h3><p><a href=http://arxiv.org/abs/1403.4464>http://arxiv.org/abs/1403.4464</a><br><div class=\"authors\">Javier Osca, Daniel Ruiz, Lloren\u00e7 Serra</div></p><p><blockquote class=\"abstract mathjax\">We investigate the effects that a tilting of the magnetic field from the\n",
        "parallel direction has on the states of a 1D Majorana nanowire. Particularly,\n",
        "we focus on the conditions for the existence of Majorana zero modes, uncovering\n",
        "an analytical relation (the sine rule) between the field orientation relative\n",
        "to the wire, its magnitude and the superconducting parameter of the material.\n",
        "The study is then extended to junctions of nanowires, treated as magnetically\n",
        "inhomogeneous straight nanowires composed of two homogeneous arms. It is shown\n",
        "that their spectrum can be explained in terms of the spectra of two independent\n",
        "arms. Finally, we investigate how the localization of the Majorana mode is\n",
        "transferred from the magnetic interface at the corner of the junction to the\n",
        "end of the nanowire when increasing the arm length.</blockquote></p><p><b>Hint:</b> This paper is related to the coding assignment.What happens to the bandstrucure of the nanowire when . </p>"
       ],
       "metadata": {},
       "output_type": "display_data"
      }
     ]
    },
    {
     "cell_type": "markdown",
     "metadata": {},
     "source": [
      "## Second choice: Andreev states in a long nanowire junction\n",
      "\n",
      "Add a long normal region between the superconductor and the tunnel barrier."
     ]
    },
    {
     "cell_type": "heading",
     "level": 1,
     "metadata": {},
     "source": [
      "Review assignment"
     ]
    },
    {
     "cell_type": "code",
     "collapsed": false,
     "input": [
      "display_html(PreprintReference('1006.4395',\n",
      "                               description=\"To play a nice melody, you just need a keyboard. \"\n",
      "                                           \"This paper first showed how Majoranas in wire networks can be moved around\"))"
     ],
     "language": "python",
     "metadata": {},
     "outputs": [
      {
       "html": [
        "<h3 class=\"title mathjax\">Non-Abelian statistics and topological quantum information processing in\n",
        "  1D wire networks</h3><p><a href=http://arxiv.org/abs/1006.4395>http://arxiv.org/abs/1006.4395</a><br><div class=\"authors\">Jason Alicea, Yuval Oreg, Gil Refael, Felix von Oppen, Matthew P. A. Fisher</div></p><p><blockquote class=\"abstract mathjax\">Topological quantum computation provides an elegant way around decoherence,\n",
        "as one encodes quantum information in a non-local fashion that the environment\n",
        "finds difficult to corrupt. Here we establish that one of the key\n",
        "operations---braiding of non-Abelian anyons---can be implemented in\n",
        "one-dimensional semiconductor wire networks. Previous work [Lutchyn et al.,\n",
        "arXiv:1002.4033 and Oreg et al., arXiv:1003.1145] provided a recipe for driving\n",
        "semiconducting wires into a topological phase supporting long-sought particles\n",
        "known as Majorana fermions that can store topologically protected quantum\n",
        "information. Majorana fermions in this setting can be transported, created, and\n",
        "fused by applying locally tunable gates to the wire. More importantly, we show\n",
        "that networks of such wires allow braiding of Majorana fermions and that they\n",
        "exhibit non-Abelian statistics like vortices in a p+ip superconductor. We\n",
        "propose experimental setups that enable the Majorana fusion rules to be probed,\n",
        "along with networks that allow for efficient exchange of arbitrary numbers of\n",
        "Majorana fermions. This work paves a new path forward in topological quantum\n",
        "computation that benefits from physical transparency and experimental realism.</blockquote></p><p><b>Hint:</b> To play a nice melody, you just need a keyboard. This paper first showed how Majoranas in wire networks can be moved around </p>"
       ],
       "metadata": {},
       "output_type": "display_data"
      }
     ]
    }
   ],
   "metadata": {}
  }
 ]
}