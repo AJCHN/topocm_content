{
 "metadata": {
  "name": ""
 },
 "nbformat": 3,
 "nbformat_minor": 0,
 "worksheets": [
  {
   "cells": [
    {
     "cell_type": "markdown",
     "metadata": {},
     "source": [
      "# Teach them to use the general properties of Majoranas to predict exchange and other adiabatic evolution outcomes\n",
      "* defining the quantum state-space of a set of Majorana modes\n",
      "* using adiabatic evolution to transport and exchange Majorana modes\n",
      "* using the quantum states to determine Non-Abelian exchange properties of Majorana modes"
     ]
    },
    {
     "cell_type": "heading",
     "level": 1,
     "metadata": {},
     "source": [
      "Majorana zero modes in nanowire networks"
     ]
    },
    {
     "cell_type": "markdown",
     "metadata": {},
     "source": [
      "As you just heard in the video, the goal of this lecture is to compute the quantum statistics of Majorana zero modes. In order to do this, we will have in mind a nanowire network where Majorana modes can be exchanged in space, like this one:\n",
      "\n",
      "![](figures/nanowire_network.png)\n",
      "\n",
      "In the drawing, you can see a nanowire with many T-shaped junctions in between several Majorana zero modes (which is why we call it a network). We will not worry about the microscopic description of the nanowire network. In fact, such a network could be realized in several ways, for instance it could be done by arranging magnetic atoms on the surface of a superconductor. Just to fix the ideas, you can imagine that the system can be effectively described by the Kitaev chain toy-model, and that Majoranas at the positions of domain walls where the gap changes sign, as you have seen in the first week of the course.\n",
      "\n",
      "The only thing that distinguishes Majorana zero modes is their position in the network. They have no other \u201cflavour\u201d that would allow us to characterize them. They are identical to each other, just like all electrons are identical to each other. If we exchanged two Majoranas in space, the system after the exchange would look exactly the same as it looked before the exchange.\n",
      "\n",
      "It is very interesting to ask what is the behaviour of the quantum state $\\left|\\Psi\\right\\rangle$ of a system of identical particles under the exchange of two of the particles. You already know that for bosons and fermions $\\left|\\Psi\\right\\rangle\\,\\to\\,\\pm\\left|\\Psi\\right\\rangle$. To see what happens in the case of Majoranas, we first have to learn how to write down the quantum state $\\left|\\Psi\\right\\rangle$ corresponding to a set of Majoranas like the one sketched above.\n",
      "\n",
      "From now on, it is important to keep in mind that by considering only the states corresponding to the Majorana zero modes, we are neglecting the existence of the states that live in the bulk. As mentioned in the video, we assume that the energy spectrum looks like this:\n",
      "\n",
      "![](figures/gs_manifold.png)\n",
      "\n",
      "Based on your knowledge of the Kitaev chain, this assumption should sound reasonable to you. Because you have several Majoranas, there will be several states all at zero energy, forming a \u201cground state manifold\u201d.\n",
      "\n",
      "Now, this description is not completely exact. Because the domain walls are only separated by a finite distance $L$, the wavefunctions corresponding to the Majorana modes overlap, leading to a finite splitting $\\delta$ of the states from zero. However, this energy $\\delta$ goes to zero exponentially fast as a function of $L$, $\\delta\\propto \\exp(-L/\\xi)$. Here $\\xi$ is a length scale that depends on the microscopic details of the system. On the other hand, the energy gap $\\Delta$ is independent of (or depends very very weakly on) the separation $L$ between domain walls. Therefore, it is always possible (at least conceptually!) to imagine a situation where $\\delta$ is completely negligible with respect to $\\Delta$. That is, it is physically well motivated to consider the limit $\\delta\\to 0$ and $\\Delta\\to\\infty$. We imagine we are precisely in this situation, and that all the states corresponding to the Majoranas are precisely at zero energy, in other words that they are *degenerate*.\n",
      "\n",
      "Let's now explore more in detail the ground state manifold defined by this degenerate sets of states.\n",
      "\n",
      "\n",
      "## The Hilbert space of a set of Majoranas\n",
      "\n",
      "In the drawing you see six Majoranas, that is three pairs, but let's consider here the more general case of $N$ pairs. As we are used to, we can pair the Majoranas and form fermionic modes,\n",
      "\n",
      "$$\n",
      "c^\\dagger_n = \\tfrac{1}{2}(\\gamma_{2n-1}+i\\gamma_{2n})\\\\\n",
      "c_n =\\tfrac{1}{2}(\\gamma_{2n-1}-i\\gamma_{2n})\n",
      "$$\n",
      "\n",
      "for $n=1,\\dots, N$. Using this notation, we have chosen to pair neighboring Majoranas into a fermionic mode. We have now a set of $N$ fermionic modes with corresponding creation and annihilation operators. Every mode can be empty or it can be occupied by a fermion, giving us two possible quantum states $\\left|0\\right\\rangle$ and $\\left|1\\right\\rangle$. Going back to our sketch, we can represent the situation as follows:\n",
      "\n",
      "![](figures/majoranas_pairing.png)\n",
      "\n",
      "The coloring of the Majorana modes now makes explicit our choice on how to pair them into fermionic modes. In total, the system above has 8 possible states, corresponding to all the possible combinations of the occupation numbers of the 3 fermionic modes. Generalizing, we will have $2^N$ possible quantum states for $N$ pairs of Majoranas. We can represent every such state with a ket\n",
      "\n",
      "$$\\left| s_1, s_2, \\dots, s_N\\right\\rangle\\,,$$\n",
      "\n",
      "where the number $s_n$ is equal to $-1$ if the $n$-th fermionic mode is occupied, and equal to $1$ if it is not occupied. In other words, $s_n$ is the eigenvalue of the operator $P_n \\equiv 1-2c^\\dagger_n c_n \\equiv -i\\gamma_{2n}\\gamma_{2n-1}$,\n",
      "\n",
      "$$ P_n \\left| \\dots, s_n, \\dots\\right\\rangle = s_n  \\left| \\dots, s_n, \\dots\\right\\rangle\\,.$$\n",
      "\n",
      "The operator $P_n$ is the *fermion parity operator* for the pair of Majoranas $\\gamma_{2n-1}$ and $\\gamma_{2n}$. You can check that parity operators corresponding to different pairs of Majoranas commute. By multiplying all the operators $P_n$ we obtain the *total fermion parity*,\n",
      "\n",
      "$$ P_\\textrm{tot}=P_1\\cdot P_2\\cdot\\, \\dots\\, \\cdot P_N = (-i)^N\\,\\gamma_1\\gamma_2\\dots\\gamma_{2N}$$\n",
      "\n",
      "The operator $P_\\textrm{tot}$ has eigenvalues $s_1 s_2\\dots s_N=\\pm 1$, depending on whether the total number of occupied fermionic modes is even or odd. At this point we know how to write down a general quantum state of a set of Majorana modes. This can be written as a superposition of all the possible states,\n",
      "\n",
      "$$\\left|\\Psi\\right\\rangle= \\sum \\alpha_{s_1s_2\\dots s_N}\\,\\left| s_1, s_2, \\dots, s_N\\right\\rangle\\ $$\n",
      "\n",
      "with complex coefficients $\\alpha_{s_1s_2\\dots s_N}$. At this point an important consideration is in order. You will remember learning during your first week that, while a superconducting Hamiltonian may not conserve the total number of electrons due to creation and annihilation of Cooper pairs, the parity of the number of electrons is always conserved. Applied to our case, this means that it is only meaningful to consider states $\\left|\\Psi\\right\\rangle$ which are *eigenstates* of the operator $P_\\textrm{tot}$, that is\n",
      "\n",
      "$$P_\\textrm{tot}\\left|\\Psi\\right\\rangle=\\pm\\left|\\Psi\\right\\rangle\\,.$$\n",
      "\n",
      "In particular, linear combinations of states with different total parity are forbidden. You can see this condition as a constraint on the allowed values of the coefficients $\\alpha_{s_1s_2\\dots s_N}$.\n",
      "\n",
      "This consideration only applies to closed systems. It does not apply if we are considering a system which is contact with a reservoir of electron, such as a metallic lead, in which case electrons may tunnel in and out of the lead, changing the total parity of the system. Equivalently, it does not apply if we are considering only a part of the total system. You could for instance imagine that, in our sketch, there are more Majorana zero modes in the part of the network which is not drawn explictly (represented by the dots which \u201ccontinue\u201d the nanowire). In such a case it is perfectly possible that the *total* network is in, say, a state of even parity, but that the subsystem under consideration is in a superposition of even and odd parity states."
     ]
    },
    {
     "cell_type": "heading",
     "level": 1,
     "metadata": {},
     "source": [
      "Non-Abelian statistics of Majoranas"
     ]
    },
    {
     "cell_type": "markdown",
     "metadata": {},
     "source": [
      "Let's now imagine that experimentalists are not only able to build such a network, but also to move the position of the domain walls and swap the positions of two Majoranas, for instance by performing the following trajectory:\n",
      "\n",
      "![](figures/nanowire_network_exchange.png)\n",
      "\n",
      "Let us suppose that the trajectory takes a time $T$. During the trajectory, the system is described by a time-dependent Hamiltonian $H(t)$, $0\\leq t \\leq T$. This Hamiltonian contains all the details of the system, such as the positions of the domain walls where the Majoranas are located. Because the final configuration of the system is identical to the initial one, for instance all the domain walls are in the same positions as in the beginning, we have that $H(0)=H(T)$. In other words, we are considering a *closed trajectory* which brings the Hamiltonian back into itself.\n",
      "\n",
      "To compute what happens to the wave function $\\left|\\Psi\\right\\rangle$, we can follow a safe but long and tedious path."
     ]
    },
    {
     "cell_type": "heading",
     "level": 1,
     "metadata": {},
     "source": [
      "Majoranas and quantum computation: basic ideas"
     ]
    },
    {
     "cell_type": "heading",
     "level": 1,
     "metadata": {},
     "source": [
      "calculating the quantum state-space $|\\Psi\\rangle$ of a set of Majorana modes"
     ]
    },
    {
     "cell_type": "markdown",
     "metadata": {},
     "source": [
      "* Properties of particles under exchange refer to statistics of the particles. For example a two fermion wave-function at $(r_1,r_2)$ satisfy $\\Psi(r_1,r_2)=-\\Psi(r_2,r_1)$. Exchange properties of Majorana modes can similarly be described in terms of what happens to an initial wave-function $|\\Psi\\rangle$ under exchange of Majorana coordinates in a plane.\n",
      "* Defining the exchange properties fo Majorana modes requires the defintion of the state $|\\Psi\\rangle$ of Majorana modes.\n",
      "* For a system containing one fermionic operator $c^\\dagger$, the quantum state space is composed of the two eigenstates $\\hat{n}=c^\\dagger c$, corresponding to whether this state is empty or filled\n",
      "* To define an analogous Hilbert space for a system with a pair of Majorana modes $\\gamma_{1,2}$ satisfying $\\gamma_j^\\dagger=\\gamma_j$,$\\gamma_j^2=1$, $\\{\\gamma_1,\\gamma_2\\}=0$, we define $c^\\dagger=\\frac{\\gamma_1+i \\gamma_2}{2}$ and proceed as in the fermionic case. For superconducting systems number is not a good quantum number to characterize states so the states are eigenstates of $F_P=(-1)^n = i\\gamma_1\\gamma_2$. Figure/code: As an example of using the Hilbert space, consider the Hamiltonian $H=i\\epsilon \\gamma_1\\gamma_2$. Plot eigenstates and $\\langle F_P\\rangle$ in each of the eigenstates.\n",
      "* Systems with multiple decoupled Majorana modes $\\gamma_{1,2}$ and $\\gamma_{3,4}$ then we can associate a pair of Fermion parities $F_{P,12}=i\\gamma_1\\gamma_2$ and $F_{P,34}=i\\gamma_3\\gamma_4$. These fermion parities commute $[F_{P,12},F_{P,34}]=0$ and the Hilbert space consists of simulataneous eigenstates of $F_{P,12}$ and $F_{P,34}$.In particular $$F_{P,12}|s_1,s_2\\rangle_{12,34}=s_1|s_1,s_2\\rangle_{12,34}\\,\\quad F_{P,34}|s_1,s_2\\rangle_{12,34}=s_2|s_1,s_2\\rangle_{12,34}.$$ \n",
      "* Systems of Majorana modes are also associated with a total fermion parity $$F_{P,tot}=F_{P,12}F_{P,34}=-\\prod_{j=1}^4\\gamma_j.$$"
     ]
    },
    {
     "cell_type": "heading",
     "level": 1,
     "metadata": {},
     "source": [
      "using adiabatic evolution to transport and exchange Majorana modes"
     ]
    },
    {
     "cell_type": "markdown",
     "metadata": {},
     "source": [
      "* Evolution under an adiabatically slowly varying Hamiltonian $H(t)$ that allows us to restrict our attention to the zero-energy Majorana space. To perform an exchange we choose the time-dependence to be periodic so that $H(t=T)=H(t=0)$ so that we have Majoranas at the same point we started. The result is that for a collection of Majorana modes $\\gamma_j$, under the unitary time-evolution $U(T)=Te^{i\\int H(t')dt'}$ we can write $$U(T)\\gamma_j U(T)^\\dagger = s_j \\gamma_{\\pi(j)},$$\n",
      "where $\\pi(j)$ is the position the Majorana mode gets transported to. The symbol $\\pi$ represents a permutation that can be achieved by a combination of exchanges (and includes the exchange as a special case). The sign $s_j=\\pm 1$ cannot be determined by this general argument and typically involves details of the process. We will denote this relation by the more physical notation $\\gamma_j\\rightarrow s_j\\gamma_{\\pi(j)}$.\n",
      "* Physically we do not expect Fermion parity $F_{P,tot}$ to change from adiabatically moving around the Majoranas. This constrains the sign $s_j$. For example if we do an exchange involving only 2 Majoranas $\\gamma_1$ and $\\gamma_2$ and $\\gamma_1\\rightarrow s_1\\gamma_2$ and $\\gamma_2\\rightarrow s_2\\gamma_1$. Then since the fermion parity is conserved $$F_{P,tot}=i\\gamma_1\\gamma_2\\rightarrow i s_1 s_2\\gamma_2 \\gamma_1=-s_1 s_2 F_{P,tot}=F_{P,tot},$$ This means, while the signs $s_j$ are determined by microscopics,  the fermion parity constrains the sign so that $s_1 s_2=-1$.\n",
      "* More precisely, the Fermion parity is conserved i.e. $[H(t),F_{P,tot}]=0$, so we expect $$U(T)F_{P,tot} U(T)^\\dagger=U(T)\\prod_j \\gamma_j U(T)^\\dagger = \\prod_j s_j \\gamma_{\\pi(j)}=\\textrm{sgn}(\\pi)\\prod_j s_j F_{P,tot} =F_{P,tot},$$ where $\\textrm{sgn}(\\pi)$ is the sign of the permutation. Thus, in the general case the signs $s_j$ for a particular permutation of the Majoranas $\\pi$ are constrained by $\\prod_j s_j=\\textrm{sgn}(\\pi).$\n",
      "* [OPTIONAL]To compute Majorana exchange in a precise model, we must first model transport of Majorana modes from one position to another. For this purpose, we consider three sites $\\gamma_1,\\gamma_2,\\gamma_3$ for Majorana modes with initially $\\gamma_{2,3}$ paired into a conventional fermionic ground state with Hamiltonian $H_{initial}=i\\gamma_2\\gamma_3\\epsilon$. We then consider a process of turning on tunneling between $\\gamma_{1,2}$ by the Hamiltonian $$H=i\\epsilon[t\\gamma_1\\gamma_2+(1-t)\\gamma_2\\gamma_3].$$ Expanding $\\gamma(t)=\\sum_j a_j(t)\\gamma_j$ and solving Heisenberg equation of motion $\\gamma(t=0)=\\gamma_1$ and $\\gamma(t=1)=\\gamma_3$. Fig/code: show solution of vector $a_j(t)$ on a Bloch sphere and also dimerization as a function of time. Analytically, one can check that $$\\gamma_3(t=t_f)=\\langle i\\gamma_1\\gamma_2\\rangle_{t=t_f}\\langle i\\gamma_2\\gamma_3\\rangle_{t=t_i}\\gamma_1(t=t_i).$$\n",
      "* Majorana modes in nanowires can be exchanged through repeated use of these identity in 3 wires [follow arxiv:1012.0561 + Jason-type figures]. Final result for pair of Majoranas $\\gamma_{a,b}$ is $$\\gamma_a\\rightarrow s\\gamma_b\\quad \\gamma_b\\rightarrow -s \\gamma_a\\quad s=\\pm 1.$$"
     ]
    },
    {
     "cell_type": "heading",
     "level": 1,
     "metadata": {},
     "source": [
      "describing Non-Abelian exchange statistics of Majorana modes"
     ]
    },
    {
     "cell_type": "markdown",
     "metadata": {},
     "source": [
      "* For  2 Majoranas there is only one Fermion parity variable $F_P=i\\gamma_1\\gamma_2$. From conservation of fermion parity we can say that under braiding $$U|F_P=+1\\rangle\\propto |F_P=+1\\rangle.$$ We will not bother about the proportionality constant because for the exchanges where the Hamiltonian varies in time, and where the Majorana modes are bound to classical defects it is difficult to separate the topological contribution to this phase from dynamical phases. In any case, the calculation of the topological part of the phase is more involved. \n",
      "* Exchange of 2 Majoranas is mostly trivial on the state, though it does exchange the Majorana operators $\\gamma_1\\rightarrow s\\gamma_2$ and $\\gamma_2\\rightarrow -s\\gamma_1$. Since more complicated exchanges in multi-Majorana systems are composed of exchanges of pairs of Majoranas it is helpful to note that the unitary operator that does the elementary exchange of a pair of Majoranas is $$U_{12}=e^{s \\pi \\gamma_1\\gamma_2/4}=\\frac{1+\\gamma_1\\gamma_2}{\\sqrt{2}},$$ where we have ignored an overall phase factor as discussed earlier. Simple commutations can be used to check that $U_{12}$ is the right unitary operator.\n",
      "* Applying this formula to thee exchange of $2,3$ transforms $\\gamma_2\\rightarrow \\gamma_3$ and $\\gamma_3\\rightarrow -\\gamma_2$ on an initial state $|\\Psi\\rangle=|0,0\\rangle_{12,34}$\n",
      "$$U_{23}|0,0\\rangle_{12,34}=\\frac{|0,0\\rangle_{12,34}+|1,1\\rangle_{12,34}}{\\sqrt{2}}.$$\n",
      "* The matrix $U_{23}=e^{s \\pi \\gamma_2\\gamma_3/4}$ in the fermion parity basis is a non-diagonal matrix. Performing exchanges $U_{12}U_{23}$ and $U_{23}U_{12}$, \n",
      "we get to different states [details to be filled in] showing that the exchange process for Majorana modes (unlike electrons) do not commute. This is what allows us to refer to Majorana exchange as \"non-Abelian\". Purely Abelian exchanges would not change any internal degeneracy space. Fig. Might be nice to show schematic of two braids."
     ]
    },
    {
     "cell_type": "markdown",
     "metadata": {},
     "source": [
      "## Non-Abelian statistics of Majorana modes\n",
      "\n",
      "Majorana zero modes are mid-gap (zero-energy) quasiparticles which can appear in superconducting systems with broken time-reversal and spin-rotation symmetry.\n",
      "Since a clean superconductor does not allow for bulk excitations with energy smaller than the pairing gap, a Majorana mode can be found either bound to a vortex in a superconducting film or localised at the end of a superconducting nanowire.\n",
      "In virtue of particle-hole symmetry of the superconductor and in the absence of degeneracies, the creation and annihilation operators of a zero energy mode coincide: $\\gamma=\\gamma^\\dagger$.\n",
      "Operators corresponding to different modes anti-commute, as normal fermionic operators, leading to the unusual set of  relations\n",
      "\n",
      "$$\n",
      "\\gamma_n\\gamma_m + \\gamma_m\\gamma_n = 2\\delta_{nm}\\,.\n",
      "$$\n",
      "\n",
      "Note in particular that $\\gamma_n^2=1$, so that we cannot speak of the Majorana mode being 'empty' or 'occupied'. \n",
      "Out of two Majorana modes, say $\\gamma_1$ and $\\gamma_2$, we can however construct an ordinary fermionic annihilation operator $c=\\tfrac{1}{2}(\\gamma_1+i\\gamma_2)$ satisfying $cc^\\dagger+c^\\dagger c = 1$.\n",
      "Hence, the two Majorana modes can be thought as the real and imaginary part of a conventional fermion mode.\n",
      "Their peculiarity is that they are well separated in space.\n",
      "This argument reveals that Majorana modes can only occur in pairs: if the number of vortices is odd, an additional mode must lie somewhere along the boundary of the superconductor.\n",
      "It also reveals that the two Majorana modes form a two-level system, with the two states differing by the presence or absence of a fermion.\n",
      "As long as the Majorana modes are kept at a distance much longer than the coherence length, the two levels are degenerate in energy, so that it is not costly to remove or add a fermion to the system.\n",
      "\n",
      "Let us now consider a two-dimensional superconductor with $2N$ vortices hosting Majorana modes $\\gamma_1, \\dots, \\gamma_{2N}$.\n",
      "We can group the Majorana modes in pairs to form $N$ fermionic creation operators $c_1, \\dots, c_N$.\n",
      "These operators span a degenerate manifold with $2^N$ states $\\left|p_1\\dots p_N\\right\\rangle$ labeled by the occupation numbers $p_n=0,1$ of the $N$ fermionic modes.\n",
      "In an isolated superconductor fermion parity is a conserved quantity, so the manifold is divided in two subspaces containing all the states of even and odd parity.\n",
      "They are distinguished by the eigenvalue $\\pm 1$ of the fermion parity operator\n",
      "\n",
      "$$\n",
      "\\mathcal{P}=i^N\\,\\gamma_1\\dots\\gamma_{2N},\\;\\mathcal{P}^2=1\\,.\n",
      "$$\n",
      "\n",
      "Within the even or odd subspace, which have dimension $2^{N-1}$, superpositions of states are allowed.\n",
      "\n",
      "Let us see what happens when two vortices are adiabatically exchanged in space.\n",
      "We might of course do so by computing the Berry matrix.\n",
      "However, there is a more direct way which allows to arrive at the result without much effort.\n",
      "It is convenient to adopt the Heisenberg picture, where the Majorana operators depend explicitly on time.\n",
      "In particular, the two Majorana modes bound to the vortices being moved are related to the Berry matrix by the equation\n",
      "\n",
      "$$\n",
      "\\gamma_{n,m}(T) = U_{nm}\\,\\gamma_{n,m}(0)\\,U_{nm}^\\dagger\\,\n",
      "$$\n",
      "\n",
      "up to a phase factor. We have denoted the Berry matrix as $U_{nm}$ since it is natural to assume that it will only depend on the Majorana modes $\\gamma_n, \\gamma_m$ involved in the exchange. (Note that it need not be the same for all the pairs.) Furthermore, $U_{nm}$ has to preserve fermion parity, $[U_{nm}, \\mathcal{P}]=0$. This means that it can only depend on the product $\\gamma_n\\gamma_m$. Finally, unitarity imposes that the Berry matrix is of the form $U=\\exp\\, (\\alpha\\,\\gamma_n\\gamma_m)$, with $\\alpha$ a real coefficient to be determined. Direct calculation yields\n",
      "\n",
      "$$\n",
      "\\gamma_n(T) =  \\cos (2\\alpha)\\,\\gamma_n(0)  - \\sin(2\\alpha)\\,\\gamma_m(0)\\,,\\\\\n",
      "\\gamma_m(T) =  \\cos (2\\alpha)\\,\\gamma_m(0)  + \\sin(2\\alpha)\\,\\gamma_n(0)\\,.\n",
      "$$\n",
      "\n",
      "We want the two operators to be interchanged by $U$, leading to the choice $\\alpha = \\pm \\pi/4$. The sign of $\\alpha$ distinguishes clockwise and counterclockwise exchanges of the vortices, the precise assignment being arbitrary. The final result is therefore\n",
      "\n",
      "$$\n",
      "U = \\exp \\left(\\frac{\\pi}{4}\\gamma_n \\gamma_m\\right)\\,.\n",
      "$$\n",
      "\n",
      "We see that the Berry matrix resulting from the exchange is not simply on overall phase, but a non-trivial rotation in the ground state manifold.\n",
      "\n",
      "**TO DO: WORKED-OUT EXAMPLE FOR 4 VORTICES, WITH EXPLICIT MATRICES**\n",
      "\n",
      "## Topological quantum computation\n",
      "\n",
      "The discussion of the previous section is a good starting point to understand topological quantum computation more in detail, using Majorana modes as a practical example of non-Abelian anyons. The main ideas are the following:\n",
      "\n",
      "* The ground state manifold of $2N$ Majorana zero modes is taken as the computational space. At a fixed fermion parity, it forms a register of $N-1$ qubits. It is essential that the ground state manifold is protected by an energy gap from the excited states. This ensures that the adiabatic limit can be reached when operating on the register.\n",
      "* Operations on the register are performed by exchanging Majorana modes in space.\n",
      "* Initalization and measurement of the register entries are carried out by bringing two Majorana modes very close to each other, an operation called \\emph{fusion}. When this happens, the ground state degeneracy splits, allowing for a readout of the fermion parity of the two joint Majorana modes.\n",
      "\n",
      "\n",
      "The advantages of this approach are:\n",
      "\n",
      "* The quantum gates which can be executed via braiding are extremely accurate and do not depend on the exact trajectory followed during the exchange. In this sense, they are extremely resilient to implementation inaccuracies.\n",
      "* The quantum state of the register is encoded in the fermion parity degrees of freedom, which are shared non-locally by the Majorana modes. This means that no local perturbation can change the state of the register and cause decoherence. The only exception is a change in fermion parity due to the tunnelling of a stray quasiparticle into the system (quasiparticle poisoning).\n",
      "\n",
      "\n",
      "A crucial question in topological quantum computation is whether braiding operations are universal, in the sense that any unitary operation on the register can be approximated with arbitrary accuracy by a finite sequence of braiding operations. Unfortunately, this is not the case for Majorana modes. In this case, braiding operation have to be supplemented by non-topological ones.\n"
     ]
    },
    {
     "cell_type": "code",
     "collapsed": false,
     "input": [],
     "language": "python",
     "metadata": {},
     "outputs": []
    }
   ],
   "metadata": {}
  }
 ]
}