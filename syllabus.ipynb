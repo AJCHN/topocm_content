{
 "metadata": {
  "name": ""
 },
 "nbformat": 3,
 "nbformat_minor": 0,
 "worksheets": [
  {
   "cells": [
    {
     "cell_type": "markdown",
     "metadata": {},
     "source": [
      "**This is general information about the EdX course on [topology in condensed matter](http://tiny.cc/topocm)**\n",
      "\n",
      "The IPython notebooks contains some auxiliary information, like code, that is hidden on EdX."
     ]
    },
    {
     "cell_type": "heading",
     "level": 1,
     "metadata": {},
     "source": [
      "Syllabus"
     ]
    },
    {
     "cell_type": "markdown",
     "metadata": {},
     "source": [
      "* Preface (air date: 5 Feb 2015): **Before you begin**\n",
      "    \n",
      "    * [About this course](w0_background/intro.ipynb)\n",
      "    * [Starting survey](w0_background/survey.ipynb)\n",
      "    * [Introduce yourself](w0_background/introduce.ipynb)\n",
      "\n",
      "* Week 1 (air date: 5 Feb 2015): **Topology in toy models**\n",
      "\n",
      "    * [Hamiltonians, topology, and symmetry](w1_topointro/0d.ipynb)  \n",
      "        *Expert: Anton Akhmerov*\n",
      "    * [Bulk-edge correspondence in the Kitaev chain](w1_topointro/1D.ipynb)  \n",
      "        *Expert: Jay Sau*\n",
      "    * [Assignments](w1_topointro/w1_assignments.ipynb)\n",
      "\n",
      "* Week 2 (air date: 12 Feb 2015): **Majoranas I**\n",
      "\n",
      "    * [From Kitaev chain to a nanowire](w2_majorana/nanowire.ipynb)  \n",
      "        *Expert: Yuval Oreg*\n",
      "    * [Majorana signatures: 4\u03c0-periodic Josephson effect, Andreev conductance quantization](w2_majorana/signatures.ipynb)  \n",
      "        *Expert: Carlo Beenakker*\n",
      "    * [Why Majoranas are cool: braiding and quantum computation](w2_majorana/braiding.ipynb)  \n",
      "        *Expert: Bernard van Heck*\n",
      "    * [Assignments](w2_majorana/w2_assignments.ipynb)\n",
      "\n",
      "* Week 3 (air date: 19 Feb 2015): **More parameters: charge pumping**\n",
      "\n",
      "    * [Thouless pumps and winding invariant](w3_pump_QHE/pumps.ipynb)  \n",
      "        *Expert: Dganit Meidan*\n",
      "    * [Laughlin argument: pumping electrons in Landau levels on a cylinder](w3_pump_QHE/Laughlinargument.ipynb)  \n",
      "        *Expert: Ady Stern*\n",
      "    * [Quantum Hall effect: edge states and quantized Hall conductance](w3_pump_QHE/QHEedgestates.ipynb)  \n",
      "        *Expert: Bertrand Halperin*\n",
      "    * Assignments\n",
      "\n",
      "* Week 4 (air date: 26 Feb 2015): **Chern insulators**\n",
      "\n",
      "    * [Quantum Hall Effect on the lattice and Dirac Hamiltonian](w4_haldane/QHE_lattice.ipynb)  \n",
      "        *Expert: Xiaoliang Qi*\n",
      "    * [Haldane model, Berry curvature, and Chern number](w4_haldane/haldane_model.ipynb)\n",
      "    * Assignments\n",
      "\n",
      "* Week 5 (air date: 5 Mar 2015): **Quantum spin Hall effect**\n",
      "\n",
      "    * Combining quantum Hall effect with time-reversal symmetry\n",
      "    * Kane-Mele and BHZ models\n",
      "    * Experiments and materials for QSHE  \n",
      "        *Expert: Michael Wimmer*\n",
      "    * Assignments\n",
      "\n",
      "* Week 6 (air date: 19 Mar 2015): **Three-dimensional topological insulators**\n",
      "\n",
      "    * Dirac equation of the surface states, magneto-electric effect\n",
      "    * BHZ model of 3D TI\n",
      "    * Materials and experiments\n",
      "    * Assignments\n",
      "\n",
      "* Week 7 (air date: 26 Mar 2015): **Alternative realizations of Majorana fermions**\n",
      "\n",
      "    * Proximity effect in QSHE and 3D TI\n",
      "    * Atomic chains\n",
      "    * Review of experimental progress\n",
      "    * Assignments\n",
      "\n",
      "* Week 8 (air date: 2 Apr 2015): **General approach to topological classification**\n",
      "\n",
      "    * 10 symmetry classes and the periodic table of topological insulators\n",
      "    * Topological defects and Dirac-like equations\n",
      "    * Alternative approaches to topological invariants\n",
      "    * Assignments\n",
      "\n",
      "* Week 9 (air date: 9 Apr 2015): **Anderson localization and topology**\n",
      "\n",
      "    * Disorder and the scaling theory of localization\n",
      "    * Flow diagram of topological insulators\n",
      "    * Assignments\n",
      "\n",
      "* Week 10 (air date: 16 Apr 2015): **Extensions of classification I**\n",
      "\n",
      "    * Topology in gapless systems\n",
      "    * The role of crystalline symmetries  \n",
      "        *Expert: Liang Fu*\n",
      "    * Mechanical systems  \n",
      "        *Expert: Vincenzo Vitelli*\n",
      "    * Assignments\n",
      "\n",
      "* Week 11 (air date: 23 Apr 2015): **Extensions of classification II**\n",
      "    * Floquet topological insulators  \n",
      "        *Expert: Mark Rudner*\n",
      "    * Quantum Walks\n",
      "    * Josephson junctions\n",
      "    * Assignments\n",
      "    \n",
      "* Week 12 (air date: 30 Apr 2015): **Beyond single-particle physics**\n",
      "\n",
      "    * Topological order and the toric code\n",
      "    * Fractional quantum Hall effect and topological particles  \n",
      "        *Expert: Sankar Das Sarma*\n",
      "    * Assignments"
     ]
    },
    {
     "cell_type": "markdown",
     "metadata": {},
     "source": [
      "## Course structure\n",
      "\n",
      "* Each week consists of several relatively self-contained topics, each introduced and summarized by an expert.\n",
      "* If you have questions about the material, ask them using the discussion right after the final video of each topic.\n",
      "* The assignments are a combination numerical simulations, where the you evaluate your success on your own (but do share your results), and a review of a paper out of a selection of papers. The reviews are then cross-evaluated by other participants.\n",
      "* In order to keep everyone on the same page, we set a one week deadline for the assignments (plus an extra week for cross-evaluation of the paper reviews). The questions in the course materials have no deadline."
     ]
    },
    {
     "cell_type": "markdown",
     "metadata": {},
     "source": [
      "##Grading\n",
      "\n",
      "* The grading is formed out of multiple choice questions, numerical simulations, and review assignments with 10%/45%/45% proportion.\n",
      "\n",
      "* Some participants may only be interested in a part of the materials, or could skip the numerical simulations. To accommodate that we only require 35% of the points for passing the course."
     ]
    },
    {
     "cell_type": "markdown",
     "metadata": {},
     "source": [
      "<h2>Course team</h2>\n",
      "\n",
      "<p><img src=\"https://www.edx.org/sites/default/files/person/image/anton-akhmerov_110x110.jpg\" width=\"150\" height=\"152\" />\n",
      "</p>\n",
      "<p><strong>Anton Akhmerov</strong> is an assistant professor in Kavli Institute of Nanoscience of Delft University of Technology and QuTech.</p>\n",
      "\n",
      "<hr background=\"none\" border=\"0\" clear=\"both\" display=\"block\" float=\"none\" font-size=\"0\" margin=\"0\" padding=\"0\" overflow=\"hidden\" visibility=\"hidden\" width=\"0\" height=\"0\">\n",
      "\n",
      "<p><img src=\"https://www.edx.org/sites/default/files/person/image/jay_sau_110x110.jpg\" width=\"150\" height=\"152\" /></p>\n",
      "<p><strong>Jay Sau</strong> is an assistant professor in the area of theoretical Condensed matter physics at the University of Maryland, College Park, USA.</p>\n",
      "\n",
      "<hr background=\"none\" border=\"0\" clear=\"both\" display=\"block\" float=\"none\" font-size=\"0\" margin=\"0\" padding=\"0\" overflow=\"hidden\" visibility=\"hidden\" width=\"0\" height=\"0\">\n",
      "\n",
      "<p><img src=\"https://www.edx.org/sites/default/files/person/image/bernard_van_heck_110x110.jpg\" width=\"150\" height=\"152\" /></p>\n",
      "<p><strong>Bernard van Heck</strong> is a PhD student in the theoretical nanoscience group of Carlo Beenakker at the University of Leiden.</p>\n",
      "\n",
      "<hr background=\"none\" border=\"0\" clear=\"both\" display=\"block\" float=\"none\" font-size=\"0\" margin=\"0\" padding=\"0\" overflow=\"hidden\" visibility=\"hidden\" width=\"0\" height=\"0\">\n",
      "\n",
      "<p>\n",
      "<img src=\"https://www.edx.org/sites/default/files/person/image/rafal-skolasinski_110x110_0.jpg\" width=\"150\" height=\"152\" /></p>\n",
      "<p><strong>Rafal Skolasi\u0144ski</strong> is a PhD candidate at the Kavli Institute in Delft supervised by Michael Wimmer.</p>\n",
      "\n",
      "<hr background=\"none\" border=\"0\" clear=\"both\" display=\"block\" float=\"none\" font-size=\"0\" margin=\"0\" padding=\"0\" overflow=\"hidden\" visibility=\"hidden\" width=\"0\" height=\"0\">\n",
      "\n",
      "<p>\n",
      "<img src=\"https://www.edx.org/sites/default/files/person/image/sebastian-rubbert_110x110.jpg\" width=\"150\" height=\"152\" /></p>\n",
      "<p><strong>Sebastian Rubbert</strong> is a PhD student working in Kavli Institute for Nanoscience at TU Delft supervised by Anton Akhmerov.</p>\n"
     ]
    },
    {
     "cell_type": "markdown",
     "metadata": {},
     "source": [
      "## Acknowledgements\n",
      "\n",
      "When working on the course, we greatly benefitted from support of\n",
      "* [Delft University of Technology](http://tudelft.nl) and its Extension School\n",
      "* [QuTech](http://qutech.nl)\n",
      "* [Casimir Research School](http://casimir.researchschool.nl) and the [NanoFront](http://casimir.researchschool.nl/nanofront) program\n",
      "* [University of Maryland](http://umd.edu) and its Physics Department\n",
      "* [Joint Quantum Institute](http://jqi.umd.edu)\n",
      "\n",
      "We thank [M. Wimmer](http://wwwhome.lorentz.leidenuniv.nl/~wimmer/) for letting us use his code in some of the course materials.\n",
      "\n",
      "For the support with implementing the technical aspects of the course we thank\n",
      "* The [IPython](http://ipython.org) and its developer team\n",
      "* [SageMathCloud](http://cloud.sagemath.org) and its creator W. Stein.\n",
      "\n",
      "Finally, we thank all the external speakers for contributing the videos for the course."
     ]
    },
    {
     "cell_type": "markdown",
     "metadata": {},
     "source": [
      "## License\n",
      "\n",
      "Unless otherwise specified the <strong>Course Materials</strong> of TU\n",
      "Delft TOPOCMx are Copyright <a href=\"http://www.tudelft.nl/en/\"\n",
      "target=\"_blank\" >Delft University of Technology</a> and are licensed under\n",
      "a <a rel=\"license\"\n",
      "href=\"http://creativecommons.org/licenses/by-nc-sa/4.0/\"\n",
      "target=\"_blank\">Creative Commons Attribution-NonCommercial-ShareAlike 4.0\n",
      "International License</a>\n",
      "<a rel=\"license\"\n",
      "href=\"http://creativecommons.org/licenses/by-nc-sa/4.0/\"><img\n",
      "alt=\"Creative Commons License\" style=\"border-width:0\"\n",
      "src=\"https://i.creativecommons.org/l/by-nc-sa/4.0/88x31.png\" /></a>"
     ]
    },
    {
     "cell_type": "markdown",
     "metadata": {},
     "source": [
      "The **source code** can also be used under conditions of the 3-clause BSD licence: \n",
      "\n",
      " Redistribution and use in source and binary forms, with or without modification, are permitted provided that the following conditions are met:\n",
      "\n",
      "1. Redistributions of source code must retain the above copyright notice, this list of conditions and the following disclaimer.\n",
      "\n",
      "2. Redistributions in binary form must reproduce the above copyright notice, this list of conditions and the following disclaimer in the documentation and/or other materials provided with the distribution.\n",
      "\n",
      "3. Neither the name of the copyright holder nor the names of its contributors may be used to endorse or promote products derived from this software without specific prior written permission.\n",
      "\n",
      "THIS SOFTWARE IS PROVIDED BY THE COPYRIGHT HOLDERS AND CONTRIBUTORS \"AS IS\" AND ANY EXPRESS OR IMPLIED WARRANTIES, INCLUDING, BUT NOT LIMITED TO, THE IMPLIED WARRANTIES OF MERCHANTABILITY AND FITNESS FOR A PARTICULAR PURPOSE ARE DISCLAIMED. IN NO EVENT SHALL THE COPYRIGHT HOLDER OR CONTRIBUTORS BE LIABLE FOR ANY DIRECT, INDIRECT, INCIDENTAL, SPECIAL, EXEMPLARY, OR CONSEQUENTIAL DAMAGES (INCLUDING, BUT NOT LIMITED TO, PROCUREMENT OF SUBSTITUTE GOODS OR SERVICES; LOSS OF USE, DATA, OR PROFITS; OR BUSINESS INTERRUPTION) HOWEVER CAUSED AND ON ANY THEORY OF LIABILITY, WHETHER IN CONTRACT, STRICT LIABILITY, OR TORT (INCLUDING NEGLIGENCE OR OTHERWISE) ARISING IN ANY WAY OUT OF THE USE OF THIS SOFTWARE, EVEN IF ADVISED OF THE POSSIBILITY OF SUCH DAMAGE."
     ]
    },
    {
     "cell_type": "markdown",
     "metadata": {},
     "source": [
      "**Videos contributed by external experts** are copyright of their creators, and are also available under Creative Commons Attribution-NonCommercial-ShareAlike 4.0 International License."
     ]
    }
   ],
   "metadata": {}
  }
 ]
}